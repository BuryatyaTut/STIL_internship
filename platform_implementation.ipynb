{
 "cells": [
  {
   "cell_type": "code",
   "execution_count": null,
   "metadata": {
    "collapsed": true,
    "pycharm": {
     "name": "#%%\n"
    }
   },
   "outputs": [],
   "source": []
  },
  {
   "cell_type": "code",
   "execution_count": null,
   "outputs": [],
   "source": [],
   "metadata": {
    "collapsed": false,
    "pycharm": {
     "name": "#%%\n"
    }
   }
  },
  {
   "cell_type": "code",
   "execution_count": 35,
   "outputs": [],
   "source": [],
   "metadata": {
    "collapsed": false,
    "ExecuteTime": {
     "start_time": "2023-07-04T11:19:20.339512Z",
     "end_time": "2023-07-04T11:19:20.523405Z"
    },
    "pycharm": {
     "name": "#%%\n"
    }
   }
  },
  {
   "cell_type": "code",
   "execution_count": 38,
   "outputs": [
    {
     "name": "stdout",
     "output_type": "stream",
     "text": [
      "0.025934934616088867\n"
     ]
    }
   ],
   "source": [],
   "metadata": {
    "collapsed": false,
    "ExecuteTime": {
     "start_time": "2023-07-04T11:19:37.670754Z",
     "end_time": "2023-07-04T11:19:37.809504Z"
    },
    "pycharm": {
     "name": "#%%\n"
    }
   }
  },
  {
   "cell_type": "code",
   "execution_count": null,
   "outputs": [],
   "source": [],
   "metadata": {
    "collapsed": false,
    "pycharm": {
     "name": "#%%\n"
    }
   }
  },
  {
   "cell_type": "code",
   "execution_count": null,
   "outputs": [],
   "source": [],
   "metadata": {
    "collapsed": false,
    "pycharm": {
     "name": "#%%\n"
    }
   }
  },
  {
   "cell_type": "code",
   "execution_count": 43,
   "outputs": [],
   "source": [
    "def timeit(f):\n",
    "    def inner(*args, **kwargs):\n",
    "        start_time = time.time()\n",
    "        result = f(*args, **kwargs)\n",
    "        end_time = time.time()\n",
    "        #print(end_time - start_time)\n",
    "        return result, end_time - start_time\n",
    "    return inner"
   ],
   "metadata": {
    "collapsed": false,
    "ExecuteTime": {
     "start_time": "2023-07-04T12:19:07.184336Z",
     "end_time": "2023-07-04T12:19:07.354419Z"
    },
    "pycharm": {
     "name": "#%%\n"
    }
   }
  },
  {
   "cell_type": "code",
   "outputs": [],
   "source": [
    "import time\n",
    "\n",
    "class Platform:\n",
    "    def __init__(self, algos, tables):\n",
    "        self.algos = algos\n",
    "        self.tables = tables\n",
    "        self.results = []\n",
    "\n",
    "    def compress_table(self):\n",
    "        for algo in self.algos:\n",
    "            for table in self.tables:\n",
    "                self.run(algo, table)\n",
    "\n",
    "    def run(self, algo, table):\n",
    "\n",
    "        compressed_data, compression_time = algo.compression(table)\n",
    "        #start_time, compressed_data = algo.compression(table) # start_time in .compression()? why?\n",
    "\n",
    "        compression_rate = len(compressed_data) / len(table) # TODO: replace len(table) with a proper binary size\n",
    "\n",
    "        decompressed_data, decompression_time = algo.decompression(compressed_data)\n",
    "        loss_rate = (table - decompressed_data) / table # TODO: replace with a separate method\n",
    "        result = {\n",
    "            \"algorithm\": algo.__name__,\n",
    "            \"table\": table,\n",
    "            \"compression_rate\": compression_rate,\n",
    "            \"compression_time\": compression_time,\n",
    "            \"decompression_time\": decompression_time,\n",
    "            \"loss_rate\": loss_rate\n",
    "        }\n",
    "        self.results.append(result)"
   ],
   "metadata": {
    "collapsed": false,
    "ExecuteTime": {
     "start_time": "2023-07-04T12:19:56.956987Z",
     "end_time": "2023-07-04T12:19:57.113523Z"
    },
    "pycharm": {
     "name": "#%%\n"
    }
   }
  },
  {
   "cell_type": "code",
   "execution_count": 49,
   "outputs": [],
   "source": [
    "import abc\n",
    "\n",
    "class AbstractCompressionAlgorithm(abc.ABC):\n",
    "    def __init__(self):\n",
    "        ...\n",
    "    @property\n",
    "    @abc.abstractmethod\n",
    "    def __name__(self):\n",
    "        ...\n",
    "    @timeit\n",
    "    @abc.abstractmethod\n",
    "    def compression(self, table):\n",
    "        ...\n",
    "    @timeit\n",
    "    @abc.abstractmethod\n",
    "    def decompression(self, compressed_data):\n",
    "        ...\n"
   ],
   "metadata": {
    "collapsed": false,
    "ExecuteTime": {
     "start_time": "2023-07-04T12:19:59.085150Z",
     "end_time": "2023-07-04T12:19:59.239349Z"
    },
    "pycharm": {
     "name": "#%%\n"
    }
   }
  },
  {
   "cell_type": "code",
   "execution_count": 52,
   "outputs": [],
   "source": [
    "class DummyCompressionAlgorithm(AbstractCompressionAlgorithm):\n",
    "    __name__ = 'Dummy Compression Algorithm'\n",
    "    @timeit\n",
    "    def compression(self, table):\n",
    "        time.sleep(2)\n",
    "        return table\n",
    "    @timeit\n",
    "    def decompression(self, compressed_data):\n",
    "        time.sleep(1)\n",
    "        return compressed_data"
   ],
   "metadata": {
    "collapsed": false,
    "ExecuteTime": {
     "start_time": "2023-07-04T12:20:35.415519Z",
     "end_time": "2023-07-04T12:20:35.602820Z"
    },
    "pycharm": {
     "name": "#%%\n"
    }
   }
  },
  {
   "cell_type": "code",
   "execution_count": 53,
   "outputs": [
    {
     "data": {
      "text/plain": "[{'algorithm': 'Dummy Algorithm',\n  'table': array([1, 2, 3]),\n  'compression_rate': 1.0,\n  'compression_time': 2.010042190551758,\n  'decompression_time': 1.0072739124298096,\n  'loss_rate': array([0., 0., 0.])}]"
     },
     "execution_count": 53,
     "metadata": {},
     "output_type": "execute_result"
    }
   ],
   "source": [
    "import numpy as np\n",
    "platform = Platform([DummyCompressionAlgorithm()], [np.array([1,2,3])])\n",
    "platform.compress_table()\n",
    "platform.results\n"
   ],
   "metadata": {
    "collapsed": false,
    "ExecuteTime": {
     "start_time": "2023-07-04T12:20:35.804583Z",
     "end_time": "2023-07-04T12:20:39.014225Z"
    },
    "pycharm": {
     "name": "#%%\n"
    }
   }
  },
  {
   "cell_type": "code",
   "execution_count": null,
   "outputs": [],
   "source": [],
   "metadata": {
    "collapsed": false,
    "pycharm": {
     "name": "#%%\n"
    }
   }
  }
 ],
 "metadata": {
  "kernelspec": {
   "display_name": "Python 3",
   "language": "python",
   "name": "python3"
  },
  "language_info": {
   "codemirror_mode": {
    "name": "ipython",
    "version": 2
   },
   "file_extension": ".py",
   "mimetype": "text/x-python",
   "name": "python",
   "nbconvert_exporter": "python",
   "pygments_lexer": "ipython2",
   "version": "2.7.6"
  }
 },
 "nbformat": 4,
 "nbformat_minor": 0
}