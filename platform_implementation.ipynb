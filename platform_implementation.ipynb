{
 "cells": [
  {
   "cell_type": "code",
   "execution_count": null,
   "metadata": {
    "collapsed": true
   },
   "outputs": [],
   "source": []
  },
  {
   "cell_type": "code",
   "execution_count": null,
   "outputs": [],
   "source": [],
   "metadata": {
    "collapsed": false
   }
  },
  {
   "cell_type": "code",
   "execution_count": 35,
   "outputs": [],
   "source": [],
   "metadata": {
    "collapsed": false,
    "ExecuteTime": {
     "start_time": "2023-07-04T11:19:20.339512Z",
     "end_time": "2023-07-04T11:19:20.523405Z"
    }
   }
  },
  {
   "cell_type": "code",
   "execution_count": 38,
   "outputs": [
    {
     "name": "stdout",
     "output_type": "stream",
     "text": [
      "0.025934934616088867\n"
     ]
    }
   ],
   "source": [],
   "metadata": {
    "collapsed": false,
    "ExecuteTime": {
     "start_time": "2023-07-04T11:19:37.670754Z",
     "end_time": "2023-07-04T11:19:37.809504Z"
    }
   }
  },
  {
   "cell_type": "code",
   "execution_count": null,
   "outputs": [],
   "source": [],
   "metadata": {
    "collapsed": false
   }
  },
  {
   "cell_type": "code",
   "execution_count": null,
   "outputs": [],
   "source": [],
   "metadata": {
    "collapsed": false
   }
  },
  {
   "cell_type": "code",
   "execution_count": 31,
   "outputs": [],
   "source": [
    "def timeit(f):\n",
    "    def inner(*args, **kwargs):\n",
    "        start_time = time.time()\n",
    "        for i in range(10000):\n",
    "            result = f(*args, **kwargs)\n",
    "        end_time = time.time()\n",
    "        print(end_time - start_time)\n",
    "        return result\n",
    "    return inner"
   ],
   "metadata": {
    "collapsed": false,
    "ExecuteTime": {
     "start_time": "2023-07-04T11:10:18.061851Z",
     "end_time": "2023-07-04T11:10:18.214970Z"
    }
   }
  },
  {
   "cell_type": "code",
   "execution_count": 37,
   "outputs": [],
   "source": [],
   "metadata": {
    "collapsed": false,
    "ExecuteTime": {
     "start_time": "2023-07-04T11:19:34.864021Z",
     "end_time": "2023-07-04T11:19:34.990218Z"
    }
   }
  },
  {
   "cell_type": "code",
   "execution_count": 33,
   "outputs": [
    {
     "name": "stdout",
     "output_type": "stream",
     "text": [
      "0.03196406364440918\n"
     ]
    },
    {
     "data": {
      "text/plain": "[0, 1, 2, 3, 4]"
     },
     "execution_count": 33,
     "metadata": {},
     "output_type": "execute_result"
    }
   ],
   "source": [],
   "metadata": {
    "collapsed": false,
    "ExecuteTime": {
     "start_time": "2023-07-04T11:10:20.746273Z",
     "end_time": "2023-07-04T11:10:20.950386Z"
    }
   }
  },
  {
   "cell_type": "code",
   "execution_count": 4,
   "outputs": [],
   "source": [
    "import time\n",
    "\n",
    "class Platform:\n",
    "    def __init__(self, algos, tables):\n",
    "        self.algos = algos\n",
    "        self.tables = tables\n",
    "        self.results = []\n",
    "\n",
    "    def compress_table(self):\n",
    "        for algo in self.algos:\n",
    "            for table in self.tables:\n",
    "                self.run(algo, table)\n",
    "\n",
    "    def run(self, algo, table):\n",
    "\n",
    "        compression_start_time = time.time()\n",
    "        compressed_data = algo.compression(table)\n",
    "        #start_time, compressed_data = algo.compression(table) # start_time in .compression()? why?\n",
    "        compression_end_time = time.time()\n",
    "\n",
    "        compression_rate = len(compressed_data) / len(table) # TODO: replace len(table) with a proper binary size\n",
    "\n",
    "        decompression_start_time = time.time()\n",
    "        decompressed_data = algo.decompression(compressed_data)\n",
    "        decompression_end_time = time.time()\n",
    "        loss_rate = (table - decompressed_data) / table # TODO: replace with a separate method\n",
    "        result = {\n",
    "            \"algorithm\": algo.__name__,\n",
    "            \"table\": table,\n",
    "            \"compression_rate\": compression_rate,\n",
    "            \"compression_time\": compression_end_time - compression_start_time,\n",
    "            \"decompression_time\": decompression_end_time - decompression_start_time,\n",
    "            \"loss_rate\": loss_rate\n",
    "        }\n",
    "        self.results.append(result)"
   ],
   "metadata": {
    "collapsed": false,
    "ExecuteTime": {
     "start_time": "2023-07-04T10:52:18.127868Z",
     "end_time": "2023-07-04T10:52:18.297547Z"
    }
   }
  },
  {
   "cell_type": "code",
   "execution_count": 9,
   "outputs": [],
   "source": [
    "import abc\n",
    "\n",
    "class AbstractCompressionAlgorithm(abc.ABC):\n",
    "    def __init__(self):\n",
    "        ...\n",
    "    @property\n",
    "    @abc.abstractmethod\n",
    "    def __name__(self):\n",
    "        ...\n",
    "    @abc.abstractmethod\n",
    "    def compression(self, table):\n",
    "        ...\n",
    "    @abc.abstractmethod\n",
    "    def decompression(self, compressed_data):\n",
    "        ...\n"
   ],
   "metadata": {
    "collapsed": false,
    "ExecuteTime": {
     "start_time": "2023-07-04T10:57:33.917879Z",
     "end_time": "2023-07-04T10:57:34.039753Z"
    }
   }
  },
  {
   "cell_type": "code",
   "execution_count": 41,
   "outputs": [],
   "source": [

    "class DummyCompressionAlgorithm(AbstractCompressionAlgorithm):\n",
    "    __name__ = 'Dummy Compression Algorithm'\n",
    "    @timeit\n",
    "    def compression(self, table):\n",
    "        return table\n",
    "    def decompression(self, compressed_data):\n",
    "        return compressed_data"
   ],
   "metadata": {
    "collapsed": false,
    "ExecuteTime": {
     "start_time": "2023-07-04T12:16:44.709858Z",
     "end_time": "2023-07-04T12:16:44.878150Z"
    }
   }
  },
  {
   "cell_type": "code",
   "execution_count": 42,
   "outputs": [
    {
     "data": {
      "text/plain": "[{'algorithm': 'Dummy Algorithm',\n  'table': array([1, 2, 3]),\n  'compression_rate': 1.0,\n  'compression_time': 0.0,\n  'decompression_time': 0.0,\n  'loss_rate': array([0., 0., 0.])}]"
     },
     "execution_count": 42,
     "metadata": {},
     "output_type": "execute_result"
    }
   ],
   "source": [
    "import numpy as np\n",
    "platform = Platform([DummyCompressionAlgorithm()], [np.array([1,2,3])])\n",
    "platform.compress_table()\n",
    "platform.results\n"
   ],
   "metadata": {
    "collapsed": false,
    "ExecuteTime": {
     "start_time": "2023-07-04T12:16:46.619495Z",
     "end_time": "2023-07-04T12:16:46.805882Z"
    }
   }
  },
  {
   "cell_type": "code",
   "execution_count": null,
   "outputs": [],
   "source": [],
   "metadata": {
    "collapsed": false
   }
  }
 ],
 "metadata": {
  "kernelspec": {
   "display_name": "Python 3",
   "language": "python",
   "name": "python3"
  },
  "language_info": {
   "codemirror_mode": {
    "name": "ipython",
    "version": 2
   },
   "file_extension": ".py",
   "mimetype": "text/x-python",
   "name": "python",
   "nbconvert_exporter": "python",
   "pygments_lexer": "ipython2",
   "version": "2.7.6"
  }
 },
 "nbformat": 4,
 "nbformat_minor": 0
}
