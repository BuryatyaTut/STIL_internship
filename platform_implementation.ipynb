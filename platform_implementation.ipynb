{
 "cells": [
  {
   "cell_type": "code",
   "execution_count": null,
   "metadata": {
    "collapsed": true
   },
   "outputs": [],
   "source": []
  },
  {
   "cell_type": "code",
   "execution_count": null,
   "outputs": [],
   "source": [
    "import time\n",
    "\n",
    "class Platform:\n",
    "    def __init__(self, algos, tables):\n",
    "        self.algos = algos\n",
    "        self.tables = tables\n",
    "        self.results = []\n",
    "\n",
    "    def compress_table(self): # do we really need another method in Platform for this\n",
    "        for algo in self.algos:\n",
    "            for table in self.tables:\n",
    "                self.run(algo, table)\n",
    "\n",
    "    def run(self, algo, table):\n",
    "        compression_start_time = time.time()\n",
    "        compressed_data = algo.compression(table)\n",
    "        #start_time, compressed_data = algo.compression(table) # start_time in .compression()? why?\n",
    "        compression_end_time = time.time()\n",
    "        compression_rate = len(compressed_data) / len(table) # TODO: replace len(table) with a proper binary size\n",
    "        decompression_start_time = time.time()\n",
    "        decompressed_data, loss_rate = algo.decompression(compressed_data) # Only .decompression() truly knows what the loss rate is\n",
    "                                                                           # If this grows too complicated, we should make a separate Result class\n",
    "        decompression_end_time = time.time()\n",
    "        #loss_rate = (table - decompressed_data) / table\n",
    "        result = {\n",
    "            \"algorithm\": algo.__name__,\n",
    "            \"table\": table,\n",
    "            \"compression_rate\": compression_rate,\n",
    "            \"compression_time\": compression_end_time - compression_start_time,\n",
    "            \"decompression_time\": decompression_end_time - decompression_start_time,\n",
    "            \"loss_rate\": loss_rate\n",
    "        }\n",
    "        self.results.append(result)"
   ],
   "metadata": {
    "collapsed": false,
    "pycharm": {
     "is_executing": true
    }
   }
  },
  {
   "cell_type": "code",
   "execution_count": null,
   "outputs": [],
   "source": [
    "import abc\n",
    "\n",
    "class Algorithm(abc.ABC):\n",
    "    @abc.abstractmethod\n",
    "    def compression(self, table):\n",
    "        ...\n",
    "    @abc.abstractmethod\n",
    "    def decompression(self, compressed_data):\n",
    "        ..."
   ],
   "metadata": {
    "collapsed": false
   }
  }
 ],
 "metadata": {
  "kernelspec": {
   "display_name": "Python 3",
   "language": "python",
   "name": "python3"
  },
  "language_info": {
   "codemirror_mode": {
    "name": "ipython",
    "version": 2
   },
   "file_extension": ".py",
   "mimetype": "text/x-python",
   "name": "python",
   "nbconvert_exporter": "python",
   "pygments_lexer": "ipython2",
   "version": "2.7.6"
  }
 },
 "nbformat": 4,
 "nbformat_minor": 0
}
