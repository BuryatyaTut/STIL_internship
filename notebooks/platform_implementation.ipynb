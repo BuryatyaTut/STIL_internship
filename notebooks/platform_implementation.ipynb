{
 "cells": [
  {
   "cell_type": "code",
   "execution_count": 2,
   "metadata": {
    "ExecuteTime": {
     "start_time": "2023-07-04T14:01:09.650159Z",
     "end_time": "2023-07-04T14:01:09.788625Z"
    },
    "pycharm": {
     "name": "#%%\n"
    }
   },
   "outputs": [],
   "source": [
    "from abc import ABC"
   ]
  },
  {
   "cell_type": "code",
   "execution_count": 27,
   "metadata": {
    "ExecuteTime": {
     "start_time": "2023-07-04T16:42:25.228690Z",
     "end_time": "2023-07-04T16:42:25.368320Z"
    },
    "pycharm": {
     "name": "#%%\n"
    }
   },
   "outputs": [],
   "source": [
    "import time\n",
    "\n",
    "class Platform:\n",
    "    def __init__(self, algos, tables):\n",
    "        self.algos = algos\n",
    "        self.tables = tables\n",
    "        self.results = []\n",
    "\n",
    "    def compress_table(self):\n",
    "        for algo in self.algos:\n",
    "            for table in self.tables:\n",
    "                self.run(algo, table)\n",
    "\n",
    "    def run(self, algo, table):\n",
    "\n",
    "        compressed_data = algo.compression(table)\n",
    "        #start_time, compressed_data = algo.compression(table) # start_time in .compression()? why?\n",
    "\n",
    "        compression_rate = len(compressed_data) / len(table) # TODO: replace len(table) with a proper binary size\n",
    "\n",
    "        decompressed_data = algo.decompression(compressed_data)\n",
    "        loss_rate = (table - decompressed_data) / table # TODO: replace with a separate method\n",
    "        result = {\n",
    "            \"algorithm\": algo.name,\n",
    "            \"table\": table,\n",
    "            \"compression_rate\": compression_rate,\n",
    "            \"compression_time\": 0,#compression_time,\n",
    "            \"decompression_time\": 0,#decompression_time,\n",
    "            \"loss_rate\": loss_rate\n",
    "        }\n",
    "        self.results.append(result)"
   ]
  },
  {
   "cell_type": "code",
   "execution_count": 27,
   "metadata": {
    "ExecuteTime": {
     "start_time": "2023-07-04T16:42:27.070641Z",
     "end_time": "2023-07-04T16:42:27.178577Z"
    },
    "pycharm": {
     "name": "#%%\n"
    }
   },
   "outputs": [],
   "source": []
  },
  {
   "cell_type": "code",
   "execution_count": 28,
   "outputs": [],
   "source": [
    "import abc\n",
    "\n",
    "class CompressionAlgorithm(abc.ABC):\n",
    "    def __init__(self):\n",
    "        ...\n",
    "    @property\n",
    "    @abc.abstractmethod\n",
    "    def name(self):\n",
    "        ...\n",
    "\n",
    "    @abc.abstractmethod\n",
    "    def compression(self, table):\n",
    "        ...\n",
    "\n",
    "    @abc.abstractmethod\n",
    "    def decompression(self, compressed_data):\n",
    "        ...\n",
    "\n",
    "class LearningCompressionAlgorithm(CompressionAlgorithm):\n",
    "\n",
    "    @abc.abstractmethod\n",
    "    def fit(self, training_data):\n",
    "        ...\n",
    "\n",
    "class NonLearningCompressionAlgorithm(CompressionAlgorithm):\n",
    "    ...\n",
    "\n",
    "class LosslessCompressionAlgorithm(CompressionAlgorithm):\n",
    "    ...\n",
    "\n",
    "class LossyCompressionAlgorithm(CompressionAlgorithm):\n",
    "    ..."
   ],
   "metadata": {
    "collapsed": false,
    "ExecuteTime": {
     "start_time": "2023-07-04T16:42:27.380817Z",
     "end_time": "2023-07-04T16:42:27.519561Z"
    },
    "pycharm": {
     "name": "#%%\n"
    }
   }
  },
  {
   "cell_type": "code",
   "execution_count": 29,
   "metadata": {
    "ExecuteTime": {
     "start_time": "2023-07-04T16:42:28.002798Z",
     "end_time": "2023-07-04T16:42:28.140799Z"
    },
    "pycharm": {
     "name": "#%%\n"
    }
   },
   "outputs": [],
   "source": [
    "class DummyCompressionAlgorithm(LosslessCompressionAlgorithm):\n",
    "    name = 'Dummy Compression Algorithm'\n",
    "    def compression(self, table):\n",
    "        time.sleep(2)\n",
    "        return table\n",
    "    def decompression(self, compressed_data):\n",
    "        time.sleep(1)\n",
    "        return compressed_data"
   ]
  },
  {
   "cell_type": "code",
   "execution_count": 30,
   "outputs": [],
   "source": [
    "class Processing(abc.ABC):\n",
    "    def __init__(self):\n",
    "        ...\n",
    "    @property\n",
    "    @abc.abstractmethod\n",
    "    def __name__(self):\n",
    "        ...\n",
    "\n",
    "    @abc.abstractmethod\n",
    "    def preprocess(self, raw_table):\n",
    "        ...\n",
    "\n",
    "    @abc.abstractmethod\n",
    "    def postprocess(self, processed_table):\n",
    "        ..."
   ],
   "metadata": {
    "collapsed": false,
    "ExecuteTime": {
     "start_time": "2023-07-04T16:42:28.455945Z",
     "end_time": "2023-07-04T16:42:28.610684Z"
    },
    "pycharm": {
     "name": "#%%\n"
    }
   }
  },
  {
   "cell_type": "code",
   "execution_count": 31,
   "outputs": [],
   "source": [
    "class DummyProcessing(Processing):\n",
    "    name = \"Dummy Pre/Post-Processing\"\n",
    "    def preprocess(self, raw_table):\n",
    "        return raw_table\n",
    "    def postprocess(self, processed_table):\n",
    "        return processed_table\n"
   ],
   "metadata": {
    "collapsed": false,
    "ExecuteTime": {
     "start_time": "2023-07-04T16:42:28.956522Z",
     "end_time": "2023-07-04T16:42:29.093594Z"
    },
    "pycharm": {
     "name": "#%%\n"
    }
   }
  },
  {
   "cell_type": "code",
   "execution_count": 32,
   "metadata": {
    "ExecuteTime": {
     "start_time": "2023-07-04T14:03:13.892396Z",
     "end_time": "2023-07-04T14:03:17.068622Z"
    },
    "pycharm": {
     "name": "#%%\n"
    }
   },
   "outputs": [
    {
     "ename": "ValueError",
     "evalue": "too many values to unpack (expected 2)",
     "output_type": "error",
     "traceback": [
      "\u001B[1;31m---------------------------------------------------------------------------\u001B[0m",
      "\u001B[1;31mValueError\u001B[0m                                Traceback (most recent call last)",
      "Cell \u001B[1;32mIn[32], line 3\u001B[0m\n\u001B[0;32m      1\u001B[0m \u001B[38;5;28;01mimport\u001B[39;00m \u001B[38;5;21;01mnumpy\u001B[39;00m \u001B[38;5;28;01mas\u001B[39;00m \u001B[38;5;21;01mnp\u001B[39;00m\n\u001B[0;32m      2\u001B[0m platform \u001B[38;5;241m=\u001B[39m Platform([DummyCompressionAlgorithm()], [np\u001B[38;5;241m.\u001B[39marray([\u001B[38;5;241m1\u001B[39m,\u001B[38;5;241m2\u001B[39m,\u001B[38;5;241m3\u001B[39m])])\n\u001B[1;32m----> 3\u001B[0m \u001B[43mplatform\u001B[49m\u001B[38;5;241;43m.\u001B[39;49m\u001B[43mcompress_table\u001B[49m\u001B[43m(\u001B[49m\u001B[43m)\u001B[49m\n\u001B[0;32m      4\u001B[0m platform\u001B[38;5;241m.\u001B[39mresults\n",
      "Cell \u001B[1;32mIn[27], line 12\u001B[0m, in \u001B[0;36mPlatform.compress_table\u001B[1;34m(self)\u001B[0m\n\u001B[0;32m     10\u001B[0m \u001B[38;5;28;01mfor\u001B[39;00m algo \u001B[38;5;129;01min\u001B[39;00m \u001B[38;5;28mself\u001B[39m\u001B[38;5;241m.\u001B[39malgos:\n\u001B[0;32m     11\u001B[0m     \u001B[38;5;28;01mfor\u001B[39;00m table \u001B[38;5;129;01min\u001B[39;00m \u001B[38;5;28mself\u001B[39m\u001B[38;5;241m.\u001B[39mtables:\n\u001B[1;32m---> 12\u001B[0m         \u001B[38;5;28;43mself\u001B[39;49m\u001B[38;5;241;43m.\u001B[39;49m\u001B[43mrun\u001B[49m\u001B[43m(\u001B[49m\u001B[43malgo\u001B[49m\u001B[43m,\u001B[49m\u001B[43m \u001B[49m\u001B[43mtable\u001B[49m\u001B[43m)\u001B[49m\n",
      "Cell \u001B[1;32mIn[27], line 16\u001B[0m, in \u001B[0;36mPlatform.run\u001B[1;34m(self, algo, table)\u001B[0m\n\u001B[0;32m     14\u001B[0m \u001B[38;5;28;01mdef\u001B[39;00m \u001B[38;5;21mrun\u001B[39m(\u001B[38;5;28mself\u001B[39m, algo, table):\n\u001B[1;32m---> 16\u001B[0m     compressed_data, compression_time \u001B[38;5;241m=\u001B[39m algo\u001B[38;5;241m.\u001B[39mcompression(table)\n\u001B[0;32m     17\u001B[0m     \u001B[38;5;66;03m#start_time, compressed_data = algo.compression(table) # start_time in .compression()? why?\u001B[39;00m\n\u001B[0;32m     19\u001B[0m     compression_rate \u001B[38;5;241m=\u001B[39m \u001B[38;5;28mlen\u001B[39m(compressed_data) \u001B[38;5;241m/\u001B[39m \u001B[38;5;28mlen\u001B[39m(table) \u001B[38;5;66;03m# TODO: replace len(table) with a proper binary size\u001B[39;00m\n",
      "\u001B[1;31mValueError\u001B[0m: too many values to unpack (expected 2)"
     ]
    }
   ],
   "source": [
    "import numpy as np\n",
    "    platform = Platform([DummyCompressionAlgorithm()], [np.array([1,2,3])])\n",
    "    platform.compress_table()\n",
    "    platform.results"
   ]
  },
  {
   "cell_type": "code",
   "execution_count": null,
   "outputs": [],
   "source": [],
   "metadata": {
    "collapsed": false,
    "pycharm": {
     "name": "#%%\n"
    }
   }
  }
 ],
 "metadata": {
  "language_info": {
   "name": "python"
  },
  "orig_nbformat": 4,
  "kernelspec": {
   "name": "python3",
   "language": "python",
   "display_name": "Python 3 (ipykernel)"
  }
 },
 "nbformat": 4,
 "nbformat_minor": 2
}