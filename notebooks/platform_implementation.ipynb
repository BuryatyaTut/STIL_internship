{
 "cells": [
  {
   "cell_type": "code",
   "execution_count": 2,
   "metadata": {
    "ExecuteTime": {
     "start_time": "2023-07-04T14:01:09.650159Z",
     "end_time": "2023-07-04T14:01:09.788625Z"
    }
   },
   "outputs": [],
   "source": [
    "from abc import ABC\n",
    "\n",
    "\n",
    "def timeit(f):\n",
    "    def inner(*args, **kwargs):\n",
    "        start_time = time.time()\n",
    "        result = f(*args, **kwargs)\n",
    "        end_time = time.time()\n",
    "        #print(end_time - start_time)\n",
    "        return result, end_time - start_time\n",
    "    return inner"
   ]
  },
  {
   "cell_type": "code",
   "execution_count": 3,
   "metadata": {
    "ExecuteTime": {
     "start_time": "2023-07-04T14:01:10.760039Z",
     "end_time": "2023-07-04T14:01:10.960858Z"
    }
   },
   "outputs": [],
   "source": [
    "import time\n",
    "\n",
    "class Platform:\n",
    "    def __init__(self, algos, tables):\n",
    "        self.algos = algos\n",
    "        self.tables = tables\n",
    "        self.results = []\n",
    "\n",
    "    def compress_table(self):\n",
    "        for algo in self.algos:\n",
    "            for table in self.tables:\n",
    "                self.run(algo, table)\n",
    "\n",
    "    def run(self, algo, table):\n",
    "\n",
    "        compressed_data, compression_time = algo.compression(table)\n",
    "        #start_time, compressed_data = algo.compression(table) # start_time in .compression()? why?\n",
    "\n",
    "        compression_rate = len(compressed_data) / len(table) # TODO: replace len(table) with a proper binary size\n",
    "\n",
    "        decompressed_data, decompression_time = algo.decompression(compressed_data)\n",
    "        loss_rate = (table - decompressed_data) / table # TODO: replace with a separate method\n",
    "        result = {\n",
    "            \"algorithm\": algo.__name__,\n",
    "            \"table\": table,\n",
    "            \"compression_rate\": compression_rate,\n",
    "            \"compression_time\": compression_time,\n",
    "            \"decompression_time\": decompression_time,\n",
    "            \"loss_rate\": loss_rate\n",
    "        }\n",
    "        self.results.append(result)"
   ]
  },
  {
   "cell_type": "code",
   "execution_count": 3,
   "metadata": {
    "ExecuteTime": {
     "start_time": "2023-07-04T14:01:11.771606Z",
     "end_time": "2023-07-04T14:01:11.877578Z"
    }
   },
   "outputs": [],
   "source": []
  },
  {
   "cell_type": "code",
   "execution_count": 19,
   "outputs": [],
   "source": [
    "import abc\n",
    "\n",
    "class CompressionAlgorithm(abc.ABC):\n",
    "    def __init__(self):\n",
    "        ...\n",
    "    @property\n",
    "    @abc.abstractmethod\n",
    "    def __name__(self):\n",
    "        ...\n",
    "\n",
    "    @abc.abstractmethod\n",
    "    @timeit\n",
    "    def compression(self, table):\n",
    "        ...\n",
    "\n",
    "    @abc.abstractmethod\n",
    "    @timeit\n",
    "    def decompression(self, compressed_data):\n",
    "        ...\n",
    "\n",
    "class LearningCompressionAlgorithm(CompressionAlgorithm):\n",
    "\n",
    "    @abc.abstractmethod\n",
    "    @timeit\n",
    "    def fit(self, training_data):\n",
    "        ...\n",
    "\n",
    "class NonLearningCompressionAlgorithm(CompressionAlgorithm):\n",
    "    ...\n",
    "\n",
    "class LosslessCompressionAlgorithm(CompressionAlgorithm):\n",
    "    ...\n",
    "\n",
    "class LossyCompressionAlgorithm(CompressionAlgorithm):\n",
    "    ..."
   ],
   "metadata": {
    "collapsed": false,
    "ExecuteTime": {
     "start_time": "2023-07-04T14:03:01.438374Z",
     "end_time": "2023-07-04T14:03:01.591659Z"
    }
   }
  },
  {
   "cell_type": "code",
   "execution_count": 24,
   "metadata": {
    "ExecuteTime": {
     "start_time": "2023-07-04T14:03:13.242405Z",
     "end_time": "2023-07-04T14:03:13.394781Z"
    }
   },
   "outputs": [],
   "source": [
    "class DummyCompressionAlgorithm(LosslessCompressionAlgorithm):\n",
    "    __name__ = 'Dummy Compression Algorithm'\n",
    "    @timeit\n",
    "    def compression(self, table):\n",
    "        time.sleep(2)\n",
    "        return table\n",
    "    @timeit\n",
    "    def decompression(self, compressed_data):\n",
    "        time.sleep(1)\n",
    "        return compressed_data"
   ]
  },
  {
   "cell_type": "code",
   "execution_count": 26,
   "outputs": [],
   "source": [
    "class Process(abc.ABC):\n",
    "    def __init__(self):\n",
    "        ...\n",
    "    @property\n",
    "    @abc.abstractmethod\n",
    "    def __name__(self):\n",
    "        ...\n",
    "\n",
    "    @abc.abstractmethod\n",
    "    @timeit\n",
    "    def preprocess(self, raw_table):\n",
    "        ...\n",
    "\n",
    "    @abc.abstractmethod\n",
    "    @timeit\n",
    "    def postprocess(self, processed_table):\n",
    "        ..."
   ],
   "metadata": {
    "collapsed": false,
    "ExecuteTime": {
     "start_time": "2023-07-04T14:13:26.576147Z",
     "end_time": "2023-07-04T14:13:26.727979Z"
    }
   }
  },
  {
   "cell_type": "code",
   "execution_count": 25,
   "metadata": {
    "ExecuteTime": {
     "start_time": "2023-07-04T14:03:13.892396Z",
     "end_time": "2023-07-04T14:03:17.068622Z"
    }
   },
   "outputs": [
    {
     "data": {
      "text/plain": "[{'algorithm': 'Dummy Compression Algorithm',\n  'table': array([1, 2, 3]),\n  'compression_rate': 1.0,\n  'compression_time': 2.013608932495117,\n  'decompression_time': 1.0040090084075928,\n  'loss_rate': array([0., 0., 0.])}]"
     },
     "execution_count": 25,
     "metadata": {},
     "output_type": "execute_result"
    }
   ],
   "source": [
    "import numpy as np\n",
    "platform = Platform([DummyCompressionAlgorithm()], [np.array([1,2,3])])\n",
    "platform.compress_table()\n",
    "platform.results"
   ]
  },
  {
   "cell_type": "code",
   "execution_count": null,
   "outputs": [],
   "source": [],
   "metadata": {
    "collapsed": false
   }
  }
 ],
 "metadata": {
  "language_info": {
   "name": "python"
  },
  "orig_nbformat": 4,
  "kernelspec": {
   "name": "python3",
   "language": "python",
   "display_name": "Python 3 (ipykernel)"
  }
 },
 "nbformat": 4,
 "nbformat_minor": 2
}
