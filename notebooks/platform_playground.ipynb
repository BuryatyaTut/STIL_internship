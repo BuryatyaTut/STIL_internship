{
 "cells": [
  {
   "cell_type": "code",
   "execution_count": 1,
   "outputs": [],
   "source": [
    "%load_ext autoreload\n",
    "%autoreload 2"
   ],
   "metadata": {
    "collapsed": false,
    "ExecuteTime": {
     "start_time": "2023-08-03T14:02:50.674010Z",
     "end_time": "2023-08-03T14:02:50.751958Z"
    }
   }
  },
  {
   "cell_type": "code",
   "execution_count": null,
   "outputs": [
    {
     "name": "stdout",
     "output_type": "stream",
     "text": [
      "       end_epoch  start_epoch   value_1   value_2   value_3   value_4  \\\n",
      "0      -1.093613    -1.093613 -0.148909 -0.045718  0.405035  0.739331   \n",
      "1      -1.093613    -1.093613  0.036448  0.180207  0.476041  0.442334   \n",
      "2      -1.093613    -1.093613  0.221805  0.072797  0.250056  0.337667   \n",
      "3      -1.093613    -1.093613 -0.043766 -0.034602  0.331034  0.418943   \n",
      "4      -1.093613    -1.093613 -0.327570 -0.142001  0.412012  0.399642   \n",
      "...          ...          ...       ...       ...       ...       ...   \n",
      "29995   1.368312     1.368312  1.119352  0.926096 -0.171305 -0.018718   \n",
      "29996   1.368312     1.368312  0.654209  0.545036  0.164505  0.187604   \n",
      "29997   1.368312     1.368312 -0.315080 -0.050339  0.083778  0.257397   \n",
      "29998   1.368312     1.368312 -0.740307 -0.835399  0.247991  0.473119   \n",
      "29999   1.368312     1.368312 -0.599457 -0.510052  0.026275  0.244954   \n",
      "\n",
      "        value_5   value_6   value_7   value_8  ...  value_17  value_18  \\\n",
      "0      0.374292  0.393161  1.178961  1.176022  ...  0.890055  0.872235   \n",
      "1      0.374727  0.396080  1.179552  1.173793  ...  0.889592  0.872252   \n",
      "2      0.375160  0.398998  1.180143  1.171564  ...  0.889134  0.872268   \n",
      "3      0.375595  0.401920  1.180735  1.169334  ...  0.888675  0.872276   \n",
      "4      0.376027  0.404838  1.181325  1.167106  ...  0.888212  0.872293   \n",
      "...         ...       ...       ...       ...  ...       ...       ...   \n",
      "29995  0.237712  0.231573 -1.257246 -1.577724  ... -0.801946 -1.234886   \n",
      "29996  0.183797  0.176610 -1.257256 -1.577929  ... -0.802168 -1.234991   \n",
      "29997  0.129882  0.138075 -1.257266 -1.578135  ... -0.802390 -1.235089   \n",
      "29998  0.133043  0.144674 -1.257276 -1.578341  ... -0.802612 -1.235187   \n",
      "29999  0.144984  0.151274 -1.257285 -1.578546  ... -0.802833 -1.235293   \n",
      "\n",
      "       value_19  value_20  value_21  value_22  value_23  value_24  value_25  \\\n",
      "0      0.450429 -2.404967  0.430294  0.151448 -0.457697 -0.592428  1.214723   \n",
      "1      0.450429 -2.405775  0.397412  0.198701 -0.460018 -0.593758  1.215082   \n",
      "2      0.450429 -2.406584  0.709392  0.245960 -0.462339 -0.595088  1.215442   \n",
      "3      0.450429 -2.407393  0.460743  0.293213 -0.464660 -0.596444  1.215801   \n",
      "4      0.450429 -2.408201  0.672677  0.340466 -0.466981 -0.597774  1.216162   \n",
      "...         ...       ...       ...       ...       ...       ...       ...   \n",
      "29995 -0.614189  1.633016 -0.374348 -0.344256 -0.063378  1.005384 -1.327289   \n",
      "29996 -0.629447  1.633016 -0.554630 -0.403804 -0.097373  1.005802 -1.327510   \n",
      "29997 -0.644705  1.633016 -0.642443 -0.463351 -0.131367  1.006245 -1.327733   \n",
      "29998  0.822509  1.633016 -0.906085 -0.522892 -0.165362  1.006688 -1.327954   \n",
      "29999  0.990415  1.633016 -0.938916 -0.582439 -0.199356  1.007106 -1.328176   \n",
      "\n",
      "       value_26  \n",
      "0      1.258074  \n",
      "1      1.257726  \n",
      "2      1.257380  \n",
      "3      1.257034  \n",
      "4      1.256688  \n",
      "...         ...  \n",
      "29995 -1.393105  \n",
      "29996 -1.393955  \n",
      "29997 -1.394805  \n",
      "29998 -1.395655  \n",
      "29999 -1.396504  \n",
      "\n",
      "[30000 rows x 26 columns]\n",
      "filled 1\n",
      "filled 2\n",
      "filled 3\n",
      "filled 4\n",
      "4 is good enough, se = 65.0281798076503\n",
      "filled 1\n"
     ]
    }
   ],
   "source": [
    "\n",
    "from algo.codec.kmeans_1d import KMeansLinearCompression\n",
    "from algo.process.normalize import NormalizeProcessing\n",
    "from scaffold import Scaffold\n",
    "import numpy as np\n",
    "np.seterr(all='warn')\n",
    "#np.seterr(all='raise') # something breaks on the large dataset\n",
    "benchmarks = []\n",
    "Algos = [KMeansLinearCompression(max_rmse=0.1)]\n",
    "Processes = [NormalizeProcessing()]\n",
    "for algo in Algos:\n",
    "    for proc in Processes:\n",
    "        a = Scaffold(algo, proc, \"../data/sample_dataset.csv\")\n",
    "        a.start(\"test\", logs=True)\n",
    "        print(a.benchmark)\n",
    "        benchmarks.append(a.benchmark)\n",
    "        print(\"---------------------\")"
   ],
   "metadata": {
    "collapsed": false,
    "ExecuteTime": {
     "start_time": "2023-08-03T14:07:03.070597Z",
     "end_time": "2023-08-03T14:07:40.253754Z"
    },
    "pycharm": {
     "is_executing": true
    }
   }
  },
  {
   "cell_type": "code",
   "execution_count": null,
   "outputs": [],
   "source": [
    "from scaffold.json import json_scaffold\n",
    "json_scaffold(\"plug_config.json\")"
   ],
   "metadata": {
    "collapsed": false
   }
  },
  {
   "cell_type": "code",
   "execution_count": null,
   "outputs": [],
   "source": [],
   "metadata": {
    "collapsed": false
   }
  },
  {
   "cell_type": "code",
   "execution_count": 6,
   "outputs": [
    {
     "name": "stdout",
     "output_type": "stream",
     "text": [
      "0.999983333194442\n",
      "[{'name': 'KMeansLinearCompression', 'table_path': '../data/sample_dataset.csv', 'isLossLess': False, 'isLearning': False, 'compression_rate': 0.004992769206891262, 'preprocess_and_compress_time': 35.02392387390137, 'loss_rate': 0.999983333194442, 'decompress_and_postprocess_time': 2.0120608806610107, 'test_time': 37.03598475456238}]\n"
     ]
    },
    {
     "data": {
      "text/plain": "<Figure size 640x480 with 1 Axes>",
      "image/png": "[encoded data removed]"
     },
     "metadata": {},
     "output_type": "display_data"
    }
   ],
   "source": [
    "from plot import plot_benchmarks\n",
    "\n",
    "plot_benchmarks(benchmarks, \"loss_rate\")\n",
    "for i in benchmarks:\n",
    "    print(i[\"loss_rate\"])\n",
    "print(benchmarks)"
   ],
   "metadata": {
    "collapsed": false,
    "ExecuteTime": {
     "start_time": "2023-08-03T14:08:47.151813Z",
     "end_time": "2023-08-03T14:08:49.357693Z"
    }
   }
  },
  {
   "cell_type": "code",
   "execution_count": null,
   "outputs": [],
   "source": [
    "plot_benchmarks(benchmarks, \"compression_rate\")"
   ],
   "metadata": {
    "collapsed": false,
    "ExecuteTime": {
     "start_time": "2023-07-20T18:28:16.070506Z",
     "end_time": "2023-07-20T18:28:16.444401Z"
    }
   }
  },
  {
   "cell_type": "code",
   "execution_count": null,
   "outputs": [],
   "source": [
    "from plot import plot_scatter\n",
    "\n",
    "plot_scatter(benchmarks, \"test_time\")"
   ],
   "metadata": {
    "collapsed": false,
    "ExecuteTime": {
     "start_time": "2023-07-10T12:33:19.323900Z",
     "end_time": "2023-07-10T12:33:19.581559Z"
    }
   }
  },
  {
   "cell_type": "code",
   "execution_count": null,
   "outputs": [],
   "source": [
    "from plot import plot_hist\n",
    "\n",
    "plot_hist(benchmarks, \"test_time\")"
   ],
   "metadata": {
    "collapsed": false,
    "ExecuteTime": {
     "start_time": "2023-07-10T12:36:06.058621Z",
     "end_time": "2023-07-10T12:36:06.291234Z"
    }
   }
  },
  {
   "cell_type": "code",
   "execution_count": null,
   "outputs": [],
   "source": [
    "from generator.normal_multivariate import NormalMultivariateDistributionGenerator\n",
    "gen = NormalMultivariateDistributionGenerator()\n",
    "gen.gen([0,0], [[1, 0], [0, 1]], (2,))"
   ],
   "metadata": {
    "collapsed": false,
    "ExecuteTime": {
     "start_time": "2023-07-10T15:21:50.758561Z",
     "end_time": "2023-07-10T15:21:50.845954Z"
    }
   }
  },
  {
   "cell_type": "code",
   "execution_count": 123,
   "outputs": [],
   "source": [
    "import numpy as np\n",
    "import pandas as pd\n",
    "df = pd.read_csv(\"../data/smoke_detection_iot.csv\").iloc[:5, [0, 2, 3, 6, 7, 8, 14]]\n",
    "np_table = df.to_numpy()"
   ],
   "metadata": {
    "collapsed": false,
    "ExecuteTime": {
     "start_time": "2023-07-25T11:14:11.402469Z",
     "end_time": "2023-07-25T11:14:11.425330Z"
    }
   }
  },
  {
   "cell_type": "code",
   "execution_count": 123,
   "outputs": [],
   "source": [
    "df"
   ],
   "metadata": {
    "collapsed": false,
    "ExecuteTime": {
     "start_time": "2023-07-25T11:14:11.719815Z",
     "end_time": "2023-07-25T11:14:11.721813Z"
    }
   }
  },
  {
   "cell_type": "code",
   "execution_count": 130,
   "outputs": [
    {
     "data": {
      "text/plain": "array([[-1.4, -0.5, -1. ],\n       [-0.7, -1.3, -0.9],\n       [ 0. , -0.6, -0.4],\n       [ 0.7,  1.1,  0.9],\n       [ 1.4,  1.3,  1.5]])"
     },
     "execution_count": 130,
     "metadata": {},
     "output_type": "execute_result"
    }
   ],
   "source": [
    "np_table = (np_table - vecT(np.mean(np_table, axis=0)).T) / vecT(np.std(np_table, axis=0)).T"
   ],
   "metadata": {
    "collapsed": false,
    "ExecuteTime": {
     "start_time": "2023-07-25T11:14:39.924822Z",
     "end_time": "2023-07-25T11:14:39.940466Z"
    }
   }
  },
  {
   "cell_type": "code",
   "execution_count": 125,
   "outputs": [],
   "source": [
    "def vecT(vec):\n",
    "    return np.array(vec)[np.newaxis].T"
   ],
   "metadata": {
    "collapsed": false,
    "ExecuteTime": {
     "start_time": "2023-07-25T11:14:12.596517Z",
     "end_time": "2023-07-25T11:14:12.598515Z"
    }
   }
  },
  {
   "cell_type": "code",
   "execution_count": 126,
   "outputs": [],
   "source": [
    "np_table = np_table.T"
   ],
   "metadata": {
    "collapsed": false,
    "ExecuteTime": {
     "start_time": "2023-07-25T11:14:13.015463Z",
     "end_time": "2023-07-25T11:14:13.045895Z"
    }
   }
  },
  {
   "cell_type": "code",
   "execution_count": 126,
   "outputs": [],
   "source": [
    "np_table"
   ],
   "metadata": {
    "collapsed": false,
    "ExecuteTime": {
     "start_time": "2023-07-25T11:14:13.391277Z",
     "end_time": "2023-07-25T11:14:13.393275Z"
    }
   }
  },
  {
   "cell_type": "code",
   "execution_count": 127,
   "outputs": [
    {
     "data": {
      "text/plain": "array([[-1.4, -0.7,  0. ,  0.7,  1.4],\n       [-0.5, -1.3, -0.6,  1.1,  1.3],\n       [-1. , -0.9, -0.4,  0.9,  1.5]])"
     },
     "execution_count": 127,
     "metadata": {},
     "output_type": "execute_result"
    }
   ],
   "source": [
    "covy = np_table.T @ np_table / np_table.shape[0]"
   ],
   "metadata": {
    "collapsed": false,
    "ExecuteTime": {
     "start_time": "2023-07-25T11:14:13.622659Z",
     "end_time": "2023-07-25T11:14:13.636634Z"
    }
   }
  },
  {
   "cell_type": "code",
   "execution_count": 202,
   "outputs": [],
   "source": [
    "covy"
   ],
   "metadata": {
    "collapsed": false,
    "ExecuteTime": {
     "start_time": "2023-07-25T14:14:47.621305Z",
     "end_time": "2023-07-25T14:14:47.636334Z"
    }
   }
  },
  {
   "cell_type": "code",
   "execution_count": 203,
   "outputs": [
    {
     "data": {
      "text/plain": "array([[1. , 0.8, 1. ],\n       [0.8, 1. , 1. ],\n       [1. , 1. , 1. ]])"
     },
     "execution_count": 203,
     "metadata": {},
     "output_type": "execute_result"
    }
   ],
   "source": [
    "eigvals, eigvecs = np.linalg.eig(covy)"
   ],
   "metadata": {
    "collapsed": false,
    "ExecuteTime": {
     "start_time": "2023-07-25T14:14:47.986727Z",
     "end_time": "2023-07-25T14:14:48.011456Z"
    }
   }
  },
  {
   "cell_type": "code",
   "execution_count": 201,
   "outputs": [],
   "source": [
    "eigvecs = eigvecs[:, :3]"
   ],
   "metadata": {
    "collapsed": false,
    "ExecuteTime": {
     "start_time": "2023-07-25T14:14:27.532197Z",
     "end_time": "2023-07-25T14:14:27.551150Z"
    }
   }
  },
  {
   "cell_type": "code",
   "execution_count": 191,
   "outputs": [
    {
     "data": {
      "text/plain": "array([[ 0.70137266, -0.56980625],\n       [-0.71272483, -0.56903704],\n       [ 0.00998552, -0.59288927]])"
     },
     "execution_count": 191,
     "metadata": {},
     "output_type": "execute_result"
    }
   ],
   "source": [
    "eigvals = eigvals[:3]"
   ],
   "metadata": {
    "collapsed": false,
    "ExecuteTime": {
     "start_time": "2023-07-25T14:10:58.669355Z",
     "end_time": "2023-07-25T14:10:58.699389Z"
    }
   }
  },
  {
   "cell_type": "code",
   "execution_count": 188,
   "outputs": [],
   "source": [
    "eigvecs"
   ],
   "metadata": {
    "collapsed": false,
    "ExecuteTime": {
     "start_time": "2023-07-25T14:10:50.723771Z",
     "end_time": "2023-07-25T14:10:50.736798Z"
    }
   }
  },
  {
   "cell_type": "code",
   "execution_count": 189,
   "outputs": [],
   "source": [
    "vecT(eigvals).T"
   ],
   "metadata": {
    "collapsed": false,
    "ExecuteTime": {
     "start_time": "2023-07-25T14:10:51.214909Z",
     "end_time": "2023-07-25T14:10:51.228874Z"
    }
   }
  },
  {
   "cell_type": "code",
   "execution_count": 190,
   "outputs": [
    {
     "data": {
      "text/plain": "array([[ 0.7, -0.6],\n       [-0.7, -0.6],\n       [ 0. , -0.6]])"
     },
     "execution_count": 190,
     "metadata": {},
     "output_type": "execute_result"
    }
   ],
   "source": [
    "np_table"
   ],
   "metadata": {
    "collapsed": false,
    "ExecuteTime": {
     "start_time": "2023-07-25T14:10:51.960067Z",
     "end_time": "2023-07-25T14:10:51.973681Z"
    }
   }
  },
  {
   "cell_type": "code",
   "execution_count": 192,
   "outputs": [
    {
     "data": {
      "text/plain": "array([[0.2, 2.8]])"
     },
     "execution_count": 192,
     "metadata": {},
     "output_type": "execute_result"
    }
   ],
   "source": [
    "compressed = np_table @ eigvecs"
   ],
   "metadata": {
    "collapsed": false,
    "ExecuteTime": {
     "start_time": "2023-07-25T14:11:15.915579Z",
     "end_time": "2023-07-25T14:11:15.933941Z"
    }
   }
  },
  {
   "cell_type": "code",
   "execution_count": 153,
   "outputs": [],
   "source": [
    "compressed"
   ],
   "metadata": {
    "collapsed": false,
    "ExecuteTime": {
     "start_time": "2023-07-25T11:38:19.313400Z",
     "end_time": "2023-07-25T11:38:19.315398Z"
    }
   }
  },
  {
   "cell_type": "code",
   "execution_count": 197,
   "outputs": [],
   "source": [
    "eigvecs.T"
   ],
   "metadata": {
    "collapsed": false,
    "ExecuteTime": {
     "start_time": "2023-07-25T14:14:05.284191Z",
     "end_time": "2023-07-25T14:14:05.305245Z"
    }
   }
  },
  {
   "cell_type": "code",
   "execution_count": 198,
   "outputs": [
    {
     "data": {
      "text/plain": "array([[-0.6283503 ,  0.40632888,  0.38897577, -0.27750802,  0.11055367],\n       [ 1.69893069,  1.67759817,  0.56927194, -1.54783845, -2.39796236]])"
     },
     "execution_count": 198,
     "metadata": {},
     "output_type": "execute_result"
    }
   ],
   "source": [
    "compressed.T @ compressed"
   ],
   "metadata": {
    "collapsed": false,
    "ExecuteTime": {
     "start_time": "2023-07-25T14:14:06.372294Z",
     "end_time": "2023-07-25T14:14:06.374463Z"
    }
   }
  },
  {
   "cell_type": "code",
   "execution_count": 169,
   "outputs": [
    {
     "data": {
      "text/plain": "array([[ 3.54269976e+00, -6.17412708e-18,  2.18893506e-16],\n       [-6.17412708e-18,  2.00115553e-01,  3.80474967e-17],\n       [ 2.18893506e-16,  3.80474967e-17,  7.18468923e-03]])"
     },
     "execution_count": 169,
     "metadata": {},
     "output_type": "execute_result"
    }
   ],
   "source": [
    "decompressed = compressed @ eigvecs.T"
   ],
   "metadata": {
    "collapsed": false,
    "ExecuteTime": {
     "start_time": "2023-07-25T13:52:25.277587Z",
     "end_time": "2023-07-25T13:52:25.291596Z"
    }
   }
  },
  {
   "cell_type": "code",
   "execution_count": 155,
   "outputs": [],
   "source": [
    "eigvecs.T"
   ],
   "metadata": {
    "collapsed": false,
    "ExecuteTime": {
     "start_time": "2023-07-25T11:38:50.646013Z",
     "end_time": "2023-07-25T11:38:50.648012Z"
    }
   }
  },
  {
   "cell_type": "code",
   "execution_count": 144,
   "outputs": [
    {
     "data": {
      "text/plain": "array([[-0.56980625, -0.56903704, -0.59288927]])"
     },
     "execution_count": 144,
     "metadata": {},
     "output_type": "execute_result"
    }
   ],
   "source": [
    "np_table"
   ],
   "metadata": {
    "collapsed": false,
    "ExecuteTime": {
     "start_time": "2023-07-25T11:33:55.546004Z",
     "end_time": "2023-07-25T11:33:55.548002Z"
    }
   }
  },
  {
   "cell_type": "code",
   "execution_count": 145,
   "outputs": [
    {
     "data": {
      "text/plain": "array([[-1.41421356, -0.52412801, -1.00331504],\n       [-0.70710678, -1.27887526, -0.92252794],\n       [ 0.        , -0.55179117, -0.43057336],\n       [ 0.70710678,  1.09750364,  0.87774292],\n       [ 1.41421356,  1.2572908 ,  1.47867342]])"
     },
     "execution_count": 145,
     "metadata": {},
     "output_type": "execute_result"
    }
   ],
   "source": [
    "np.linalg.pinv(eigvecs)"
   ],
   "metadata": {
    "collapsed": false,
    "ExecuteTime": {
     "start_time": "2023-07-25T11:33:59.165943Z",
     "end_time": "2023-07-25T11:33:59.182668Z"
    }
   }
  },
  {
   "cell_type": "code",
   "execution_count": 70,
   "outputs": [
    {
     "data": {
      "text/plain": "array([[-0.57451639,  0.58177401,  0.57573425]])"
     },
     "execution_count": 70,
     "metadata": {},
     "output_type": "execute_result"
    }
   ],
   "source": [
    "denormalized = decompressed * vecT(np.std(np_table, axis=0)).T + vecT(np.mean(np_table, axis=0)).T"
   ],
   "metadata": {
    "collapsed": false,
    "ExecuteTime": {
     "start_time": "2023-07-25T10:58:01.537689Z",
     "end_time": "2023-07-25T10:58:01.597492Z"
    }
   }
  },
  {
   "cell_type": "code",
   "execution_count": 71,
   "outputs": [],
   "source": [
    "denormalized"
   ],
   "metadata": {
    "collapsed": false,
    "ExecuteTime": {
     "start_time": "2023-07-25T10:58:02.386640Z",
     "end_time": "2023-07-25T10:58:02.388637Z"
    }
   }
  },
  {
   "cell_type": "code",
   "execution_count": 156,
   "outputs": [
    {
     "data": {
      "text/plain": "array([[-1.4, -0.5, -1. ],\n       [-0.7, -1.2, -1. ],\n       [-0.1, -0.6, -0.3],\n       [ 0.7,  1.1,  0.9],\n       [ 1.4,  1.3,  1.4]])"
     },
     "execution_count": 156,
     "metadata": {},
     "output_type": "execute_result"
    }
   ],
   "source": [],
   "metadata": {
    "collapsed": false,
    "ExecuteTime": {
     "start_time": "2023-07-25T11:38:54.367528Z",
     "end_time": "2023-07-25T11:38:54.379354Z"
    }
   }
  }
 ],
 "metadata": {
  "kernelspec": {
   "display_name": "Python 3",
   "language": "python",
   "name": "python3"
  },
  "language_info": {
   "codemirror_mode": {
    "name": "ipython",
    "version": 2
   },
   "file_extension": ".py",
   "mimetype": "text/x-python",
   "name": "python",
   "nbconvert_exporter": "python",
   "pygments_lexer": "ipython2",
   "version": "2.7.6"
  }
 },
 "nbformat": 4,
 "nbformat_minor": 0
}
