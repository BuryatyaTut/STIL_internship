{
 "cells": [
  {
   "cell_type": "code",
   "execution_count": 1,
   "metadata": {
    "ExecuteTime": {
     "end_time": "2023-08-03T18:59:02.831118Z",
     "start_time": "2023-08-03T18:59:02.753479Z"
    }
   },
   "outputs": [],
   "source": [
    "%load_ext autoreload\n",
    "%autoreload 2"
   ]
  },
  {
   "cell_type": "code",
   "execution_count": null,
   "outputs": [],
   "source": [
    "%reset"
   ],
   "metadata": {
    "collapsed": false
   }
  },
  {
   "cell_type": "code",
   "execution_count": 1,
   "metadata": {
    "ExecuteTime": {
     "start_time": "2023-08-07T11:38:09.664657Z",
     "end_time": "2023-08-07T11:38:09.669647Z"
    }
   },
   "outputs": [],
   "source": []
  },
  {
   "cell_type": "code",
   "execution_count": 1,
   "metadata": {
    "ExecuteTime": {
     "start_time": "2023-08-07T13:03:11.310104Z",
     "end_time": "2023-08-07T13:03:11.715976Z"
    }
   },
   "outputs": [],
   "source": [
    "import numpy as np\n",
    "import pandas as pd"
   ]
  },
  {
   "cell_type": "code",
   "execution_count": 8,
   "metadata": {
    "ExecuteTime": {
     "end_time": "2023-08-04T12:05:03.156590Z",
     "start_time": "2023-08-04T12:05:01.937742Z"
    }
   },
   "outputs": [],
   "source": [
    "array = pd.Series(np.random.default_rng().uniform(-10000, 10000, (500000,)))\n",
    "array.to_csv(\"../data/uniform_distribution.csv\")"
   ]
  },
  {
   "cell_type": "code",
   "execution_count": 1,
   "outputs": [],
   "source": [
    "cutoff_list = [1000, 5000, 10000, 20000, 50000, 100000]"
   ],
   "metadata": {
    "collapsed": false,
    "ExecuteTime": {
     "start_time": "2023-08-07T13:31:15.012627Z",
     "end_time": "2023-08-07T13:31:15.014729Z"
    }
   }
  },
  {
   "cell_type": "code",
   "execution_count": 11,
   "outputs": [
    {
     "data": {
      "text/plain": "False"
     },
     "execution_count": 11,
     "metadata": {},
     "output_type": "execute_result"
    }
   ],
   "source": [
    "df = pd.read_csv('../data/sample_dataset_big.csv')\n",
    "for cutoff in cutoff_list:\n",
    "    df.iloc[:cutoff].to_csv(f'../data/sample_dataset_{cutoff}.csv')"
   ],
   "metadata": {
    "collapsed": false,
    "ExecuteTime": {
     "start_time": "2023-08-03T14:02:50.674010Z",
     "end_time": "2023-08-03T14:02:50.751958Z"
    }
   }
  },
  {
   "cell_type": "code",
   "execution_count": 2,
   "metadata": {
    "ExecuteTime": {
     "end_time": "2023-08-04T12:36:52.944427Z",
     "start_time": "2023-08-04T12:07:40.009446Z"
    }
   },
   "outputs": [
    {
     "name": "stdout",
     "output_type": "stream",
     "text": [

      "     Unnamed: 0  end_epoch  start_epoch   value_1   value_2   value_3  \\\n",
      "0     -1.729454        0.0          0.0 -0.153040 -0.011557  0.770365   \n",
      "1     -1.725992        0.0          0.0  0.071861  0.266374  0.978824   \n",
      "2     -1.722530        0.0          0.0  0.296762  0.134240  0.315383   \n",
      "3     -1.719067        0.0          0.0 -0.025465  0.002118  0.553116   \n",
      "4     -1.715605        0.0          0.0 -0.369816 -0.130004  0.790849   \n",
      "..          ...        ...          ...       ...       ...       ...   \n",
      "995    1.715605        0.0          0.0  0.085118 -0.015165 -0.769284   \n",
      "996    1.719067        0.0          0.0  0.203182  0.054739 -1.037361   \n",
      "997    1.722530        0.0          0.0 -0.812186 -0.343020 -1.176113   \n",
      "998    1.725992        0.0          0.0 -0.993082 -0.977510 -0.024313   \n",
      "999    1.729454        0.0          0.0 -0.707647 -0.748857 -0.093358   \n",
      "\n",
      "      value_4   value_5   value_6   value_7  ...  value_17  value_18  \\\n",
      "0    1.932744 -0.571688 -0.526256  0.329461  ...  1.605266 -1.730368   \n",
      "1    1.088102 -0.569597 -0.512196  0.332790  ...  1.602259 -1.725958   \n",
      "2    0.790437 -0.567520 -0.498136  0.336120  ...  1.599284 -1.721562   \n",
      "3    1.021581 -0.565429 -0.484061  0.339455  ...  1.596308 -1.719372   \n",
      "4    0.966688 -0.563353 -0.470001  0.342784  ...  1.593301 -1.714962   \n",
      "..        ...       ...       ...       ...  ...       ...       ...   \n",
      "995 -1.120294  0.824907  0.849341 -2.156089  ... -1.846499  1.715551   \n",
      "996 -1.087080  0.833499  0.843981 -2.159742  ... -1.850539  1.719946   \n",
      "997 -1.689878  0.842091  0.838621 -2.163402  ... -1.854548  1.722137   \n",
      "998 -0.386218  0.850682  0.833262 -2.167055  ... -1.858588  1.726547   \n",
      "999 -0.787037  0.859274  0.827902 -2.170709  ... -1.862629  1.728737   \n",
      "\n",
      "     value_19  value_20  value_21  value_22  value_23  value_24  value_25  \\\n",
      "0    0.203938  1.728731  0.229427 -0.066655  0.132380 -0.691506  0.720046   \n",
      "1    0.203938  1.725519  0.155881  0.040520  0.120483 -0.713725  0.722007   \n",
      "2    0.203938  1.722300  0.853678  0.147709  0.108586 -0.735944  0.723968   \n",
      "3    0.203938  1.719088  0.297532  0.254883  0.096689 -0.758596  0.725929   \n",
      "4    0.203938  1.715875  0.771559  0.362057  0.084792 -0.780815  0.727899   \n",
      "..        ...       ...       ...       ...       ...       ...       ...   \n",
      "995  0.471801 -1.715144 -0.087054 -0.096603 -0.897378  2.880067 -2.459413   \n",
      "996  0.443113 -1.718356 -0.058115 -0.092116 -0.901976  2.891830 -2.467002   \n",
      "997  0.414420 -1.723174 -0.029189 -0.087614 -0.906576  2.903591 -2.474592   \n",
      "998  0.385732 -1.726393 -0.000251 -0.083127 -0.913137  2.914920 -2.482189   \n",
      "999  0.357039 -1.729605  0.028688 -0.078625 -0.925153  2.926683 -2.489779   \n",
      "\n",
      "     value_26  \n",
      "0    1.141413  \n",
      "1    1.139350  \n",
      "2    1.137294  \n",
      "3    1.135238  \n",
      "4    1.133183  \n",
      "..        ...  \n",
      "995 -2.312457  \n",
      "996 -2.320634  \n",
      "997 -2.328811  \n",
      "998 -2.336989  \n",
      "999 -2.345166  \n",
      "\n",
      "[1000 rows x 27 columns]\n",
      "1000\n",

      "filled 1\n",
      "filled 2\n",
      "filled 3\n",
      "filled 4\n",
      "filled 5\n",
      "filled 6\n",
      "filled 7\n",
      "filled 8\n",
      "filled 9\n",
      "filled 10\n",
      "filled 11\n",
      "filled 12\n",
      "filled 13\n",
      "filled 14\n",
      "filled 15\n",
      "filled 16\n",
      "filled 17\n",
      "filled 18\n",
      "filled 19\n",
      "filled 20\n",
      "filled 21\n",
      "filled 22\n",
      "filled 23\n",
      "filled 24\n",
      "filled 25\n",
      "filled 26\n",
      "filled 27\n",
      "filled 28\n",
      "filled 29\n",
      "filled 30\n",
      "filled 31\n",
      "filled 32\n",
      "filled 33\n",
      "filled 34\n",
      "filled 35\n",
      "filled 36\n",
      "filled 37\n",
      "filled 38\n",
      "filled 39\n",
      "filled 40\n",
      "filled 41\n",
      "filled 42\n",
      "filled 43\n",
      "filled 44\n",
      "filled 45\n",
      "filled 46\n",
      "filled 47\n",
      "filled 48\n",
      "filled 49\n",
      "filled 50\n",
      "filled 51\n",
      "filled 52\n",
      "filled 53\n",
      "filled 54\n",
      "filled 55\n",
      "filled 56\n",
      "filled 57\n",
      "filled 58\n",
      "filled 59\n",
      "filled 60\n",
      "filled 61\n",
      "filled 62\n",
      "filled 63\n",
      "filled 64\n",
      "filled 65\n",
      "filled 66\n",
      "filled 67\n",
      "filled 68\n",
      "filled 69\n",
      "filled 70\n",
      "filled 71\n",
      "filled 72\n",
      "filled 73\n",
      "filled 74\n",
      "filled 75\n",
      "filled 76\n",
      "filled 77\n",
      "filled 78\n",
      "filled 79\n",
      "filled 80\n",
      "filled 81\n",
      "filled 82\n",
      "filled 83\n",
      "filled 84\n",
      "filled 85\n",
      "filled 86\n",
      "filled 87\n",
      "filled 88\n",
      "filled 89\n",
      "filled 90\n",
      "filled 91\n",
      "filled 92\n",
      "filled 93\n",
      "filled 94\n",
      "filled 95\n",
      "filled 96\n",
      "filled 97\n",
      "filled 98\n",
      "filled 99\n",
      "filled 100\n",
      "filled 101\n",
      "filled 102\n",
      "filled 103\n",
      "filled 104\n",
      "filled 105\n",
      "filled 106\n",
      "filled 107\n",
      "filled 108\n",
      "filled 109\n",
      "filled 110\n",
      "filled 111\n",
      "filled 112\n",
      "filled 113\n",
      "filled 114\n",
      "filled 115\n",
      "filled 116\n",
      "filled 117\n",
      "filled 118\n",
      "filled 119\n",
      "filled 120\n",
      "filled 121\n",
      "filled 122\n",
      "filled 123\n",
      "filled 124\n",
      "filled 125\n",
      "filled 126\n",
      "filled 127\n",
      "filled 128\n",
      "filled 129\n",
      "filled 130\n",
      "filled 131\n",
      "filled 132\n",
      "filled 133\n",
      "filled 134\n",
      "filled 135\n",
      "filled 136\n",
      "filled 137\n",
      "filled 138\n",
      "filled 139\n",
      "filled 140\n",
      "filled 141\n",
      "filled 142\n",
      "filled 143\n",
      "filled 144\n",
      "filled 145\n",
      "filled 146\n",
      "filled 147\n",
      "filled 148\n",
      "filled 149\n",
      "filled 150\n",
      "filled 151\n",
      "filled 152\n",
      "filled 153\n",
      "filled 154\n",
      "filled 155\n",
      "filled 156\n",
      "filled 157\n",
      "filled 158\n",
      "filled 159\n",
      "filled 160\n",
      "filled 161\n",
      "filled 162\n",
      "filled 163\n",
      "filled 164\n",
      "filled 165\n",
      "filled 166\n",
      "filled 167\n",
      "filled 168\n",
      "filled 169\n",
      "filled 170\n",
      "filled 171\n",
      "filled 172\n",
      "filled 173\n",
      "filled 174\n",
      "filled 175\n",
      "filled 176\n",
      "filled 177\n",
      "filled 178\n",
      "filled 179\n",
      "filled 180\n",
      "filled 181\n",
      "filled 182\n",
      "filled 183\n",
      "filled 184\n",
      "filled 185\n",
      "filled 186\n",
      "filled 187\n",
      "filled 188\n",
      "filled 189\n",
      "filled 190\n",
      "filled 191\n",
      "filled 192\n",
      "filled 193\n",
      "filled 194\n",
      "filled 195\n",
      "filled 196\n",
      "filled 197\n",
      "filled 198\n",
      "filled 199\n",
      "filled 200\n",
      "filled 201\n",
      "filled 202\n",
      "filled 203\n",
      "filled 204\n",
      "filled 205\n",
      "filled 206\n",
      "filled 207\n",
      "filled 208\n",
      "filled 209\n",
      "filled 210\n",
      "filled 211\n",
      "filled 212\n",
      "filled 213\n",
      "filled 214\n",
      "filled 215\n",
      "filled 216\n",
      "filled 217\n",
      "filled 218\n",
      "filled 219\n",
      "filled 220\n"
     ]
    },
    {
     "ename": "KeyboardInterrupt",
     "evalue": "",
     "output_type": "error",
     "traceback": [
      "\u001B[1;31m---------------------------------------------------------------------------\u001B[0m",
      "\u001B[1;31mKeyboardInterrupt\u001B[0m                         Traceback (most recent call last)",
      "Cell \u001B[1;32mIn[2], line 13\u001B[0m\n\u001B[0;32m     11\u001B[0m \u001B[38;5;28;01mfor\u001B[39;00m proc \u001B[38;5;129;01min\u001B[39;00m Processes:\n\u001B[0;32m     12\u001B[0m     a \u001B[38;5;241m=\u001B[39m Scaffold(algo, proc, \u001B[38;5;124m\"\u001B[39m\u001B[38;5;124m../data/sample_dataset_1000.csv\u001B[39m\u001B[38;5;124m\"\u001B[39m)\n\u001B[1;32m---> 13\u001B[0m     \u001B[43ma\u001B[49m\u001B[38;5;241;43m.\u001B[39;49m\u001B[43mstart\u001B[49m\u001B[43m(\u001B[49m\u001B[38;5;124;43m\"\u001B[39;49m\u001B[38;5;124;43mtest\u001B[39;49m\u001B[38;5;124;43m\"\u001B[39;49m\u001B[43m,\u001B[49m\u001B[43m \u001B[49m\u001B[43mlogs\u001B[49m\u001B[38;5;241;43m=\u001B[39;49m\u001B[38;5;28;43;01mTrue\u001B[39;49;00m\u001B[43m)\u001B[49m\n\u001B[0;32m     14\u001B[0m     \u001B[38;5;28mprint\u001B[39m(a\u001B[38;5;241m.\u001B[39mbenchmark)\n\u001B[0;32m     15\u001B[0m     benchmarks\u001B[38;5;241m.\u001B[39mappend(a\u001B[38;5;241m.\u001B[39mbenchmark)\n",
      "File \u001B[1;32m~\\STIL_internship\\src\\scaffold\\__init__.py:50\u001B[0m, in \u001B[0;36mScaffold.start\u001B[1;34m(self, run_type, logs)\u001B[0m\n\u001B[0;32m     47\u001B[0m         \u001B[38;5;28mself\u001B[39m\u001B[38;5;241m.\u001B[39mbenchmark[\u001B[38;5;124m\"\u001B[39m\u001B[38;5;124misLearning\u001B[39m\u001B[38;5;124m\"\u001B[39m] \u001B[38;5;241m=\u001B[39m \u001B[38;5;28;01mFalse\u001B[39;00m\n\u001B[0;32m     49\u001B[0m \u001B[38;5;28;01mif\u001B[39;00m run_type \u001B[38;5;241m==\u001B[39m \u001B[38;5;124m'\u001B[39m\u001B[38;5;124mtest\u001B[39m\u001B[38;5;124m'\u001B[39m:\n\u001B[1;32m---> 50\u001B[0m     \u001B[38;5;28;43mself\u001B[39;49m\u001B[38;5;241;43m.\u001B[39;49m\u001B[43mtest\u001B[49m\u001B[43m(\u001B[49m\u001B[43m)\u001B[49m\n\u001B[0;32m     51\u001B[0m \u001B[38;5;28;01melif\u001B[39;00m run_type \u001B[38;5;241m==\u001B[39m \u001B[38;5;124m'\u001B[39m\u001B[38;5;124mcompress\u001B[39m\u001B[38;5;124m'\u001B[39m:\n\u001B[0;32m     52\u001B[0m     \u001B[38;5;28mself\u001B[39m\u001B[38;5;241m.\u001B[39mpreprocess_and_compress()\n",
      "File \u001B[1;32m~\\STIL_internship\\src\\scaffold\\__init__.py:60\u001B[0m, in \u001B[0;36mScaffold.measure_time.<locals>.decorator.<locals>.wrapper\u001B[1;34m(self, *args, **kwargs)\u001B[0m\n\u001B[0;32m     58\u001B[0m \u001B[38;5;28;01mdef\u001B[39;00m \u001B[38;5;21mwrapper\u001B[39m(\u001B[38;5;28mself\u001B[39m, \u001B[38;5;241m*\u001B[39margs, \u001B[38;5;241m*\u001B[39m\u001B[38;5;241m*\u001B[39mkwargs):\n\u001B[0;32m     59\u001B[0m     start_time \u001B[38;5;241m=\u001B[39m time\u001B[38;5;241m.\u001B[39mtime()\n\u001B[1;32m---> 60\u001B[0m     result \u001B[38;5;241m=\u001B[39m \u001B[43mfunc\u001B[49m\u001B[43m(\u001B[49m\u001B[38;5;28;43mself\u001B[39;49m\u001B[43m,\u001B[49m\u001B[43m \u001B[49m\u001B[38;5;241;43m*\u001B[39;49m\u001B[43margs\u001B[49m\u001B[43m,\u001B[49m\u001B[43m \u001B[49m\u001B[38;5;241;43m*\u001B[39;49m\u001B[38;5;241;43m*\u001B[39;49m\u001B[43mkwargs\u001B[49m\u001B[43m)\u001B[49m\n\u001B[0;32m     61\u001B[0m     end_time \u001B[38;5;241m=\u001B[39m time\u001B[38;5;241m.\u001B[39mtime()\n\u001B[0;32m     63\u001B[0m     \u001B[38;5;28;01mif\u001B[39;00m \u001B[38;5;28mgetattr\u001B[39m(\u001B[38;5;28mself\u001B[39m, flag):\n",
      "File \u001B[1;32m~\\STIL_internship\\src\\scaffold\\__init__.py:108\u001B[0m, in \u001B[0;36mScaffold.test\u001B[1;34m(self)\u001B[0m\n\u001B[0;32m    106\u001B[0m \u001B[38;5;129m@measure_time\u001B[39m(\u001B[38;5;124m\"\u001B[39m\u001B[38;5;124mlogs\u001B[39m\u001B[38;5;124m\"\u001B[39m)\n\u001B[0;32m    107\u001B[0m \u001B[38;5;28;01mdef\u001B[39;00m \u001B[38;5;21mtest\u001B[39m(\u001B[38;5;28mself\u001B[39m):\n\u001B[1;32m--> 108\u001B[0m     \u001B[38;5;28;43mself\u001B[39;49m\u001B[38;5;241;43m.\u001B[39;49m\u001B[43mpreprocess_and_compress\u001B[49m\u001B[43m(\u001B[49m\u001B[43m)\u001B[49m\n\u001B[0;32m    109\u001B[0m     \u001B[38;5;28mself\u001B[39m\u001B[38;5;241m.\u001B[39mdecompress_and_postprocess()\n\u001B[0;32m    110\u001B[0m     \u001B[38;5;28;01mreturn\u001B[39;00m \u001B[38;5;241m0\u001B[39m\n",
      "File \u001B[1;32m~\\STIL_internship\\src\\scaffold\\__init__.py:60\u001B[0m, in \u001B[0;36mScaffold.measure_time.<locals>.decorator.<locals>.wrapper\u001B[1;34m(self, *args, **kwargs)\u001B[0m\n\u001B[0;32m     58\u001B[0m \u001B[38;5;28;01mdef\u001B[39;00m \u001B[38;5;21mwrapper\u001B[39m(\u001B[38;5;28mself\u001B[39m, \u001B[38;5;241m*\u001B[39margs, \u001B[38;5;241m*\u001B[39m\u001B[38;5;241m*\u001B[39mkwargs):\n\u001B[0;32m     59\u001B[0m     start_time \u001B[38;5;241m=\u001B[39m time\u001B[38;5;241m.\u001B[39mtime()\n\u001B[1;32m---> 60\u001B[0m     result \u001B[38;5;241m=\u001B[39m \u001B[43mfunc\u001B[49m\u001B[43m(\u001B[49m\u001B[38;5;28;43mself\u001B[39;49m\u001B[43m,\u001B[49m\u001B[43m \u001B[49m\u001B[38;5;241;43m*\u001B[39;49m\u001B[43margs\u001B[49m\u001B[43m,\u001B[49m\u001B[43m \u001B[49m\u001B[38;5;241;43m*\u001B[39;49m\u001B[38;5;241;43m*\u001B[39;49m\u001B[43mkwargs\u001B[49m\u001B[43m)\u001B[49m\n\u001B[0;32m     61\u001B[0m     end_time \u001B[38;5;241m=\u001B[39m time\u001B[38;5;241m.\u001B[39mtime()\n\u001B[0;32m     63\u001B[0m     \u001B[38;5;28;01mif\u001B[39;00m \u001B[38;5;28mgetattr\u001B[39m(\u001B[38;5;28mself\u001B[39m, flag):\n",
      "File \u001B[1;32m~\\STIL_internship\\src\\scaffold\\__init__.py:84\u001B[0m, in \u001B[0;36mScaffold.preprocess_and_compress\u001B[1;34m(self)\u001B[0m\n\u001B[0;32m     81\u001B[0m filenames \u001B[38;5;241m=\u001B[39m \u001B[38;5;28mself\u001B[39m\u001B[38;5;241m.\u001B[39mget_file_names()\n\u001B[0;32m     83\u001B[0m \u001B[38;5;28mself\u001B[39m\u001B[38;5;241m.\u001B[39mprocessing\u001B[38;5;241m.\u001B[39mdo_preprocess(\u001B[38;5;28mself\u001B[39m\u001B[38;5;241m.\u001B[39mtable_path, filenames[\u001B[38;5;124m'\u001B[39m\u001B[38;5;124mpreprocessed\u001B[39m\u001B[38;5;124m'\u001B[39m])\n\u001B[1;32m---> 84\u001B[0m \u001B[38;5;28;43mself\u001B[39;49m\u001B[38;5;241;43m.\u001B[39;49m\u001B[43malgorithm\u001B[49m\u001B[38;5;241;43m.\u001B[39;49m\u001B[43mcompress\u001B[49m\u001B[43m(\u001B[49m\u001B[43mfilenames\u001B[49m\u001B[43m[\u001B[49m\u001B[38;5;124;43m\"\u001B[39;49m\u001B[38;5;124;43mpreprocessed\u001B[39;49m\u001B[38;5;124;43m\"\u001B[39;49m\u001B[43m]\u001B[49m\u001B[43m,\u001B[49m\u001B[43m \u001B[49m\u001B[43mfilenames\u001B[49m\u001B[43m[\u001B[49m\u001B[38;5;124;43m\"\u001B[39;49m\u001B[38;5;124;43mcompressed\u001B[39;49m\u001B[38;5;124;43m\"\u001B[39;49m\u001B[43m]\u001B[49m\u001B[43m)\u001B[49m\n\u001B[0;32m     86\u001B[0m \u001B[38;5;28;01mif\u001B[39;00m \u001B[38;5;28mself\u001B[39m\u001B[38;5;241m.\u001B[39mlogs:\n\u001B[0;32m     87\u001B[0m     compression_rate \u001B[38;5;241m=\u001B[39m get_compression_rate_2(\u001B[38;5;28mself\u001B[39m\u001B[38;5;241m.\u001B[39mtable_path, filenames[\u001B[38;5;124m\"\u001B[39m\u001B[38;5;124mcompressed\u001B[39m\u001B[38;5;124m\"\u001B[39m])\n",
      "File \u001B[1;32m~\\STIL_internship\\src\\algo\\codec\\kmeans_1d.py:407\u001B[0m, in \u001B[0;36mKMeansLinearCompression.compress\u001B[1;34m(self, table_file_path, compressed_file_path)\u001B[0m\n\u001B[0;32m    404\u001B[0m \u001B[38;5;28;01melse\u001B[39;00m:\n\u001B[0;32m    405\u001B[0m     kmeans \u001B[38;5;241m=\u001B[39m KMeansLinear(column, np\u001B[38;5;241m.\u001B[39mint64(np\u001B[38;5;241m.\u001B[39mceil(column\u001B[38;5;241m.\u001B[39msize \u001B[38;5;241m*\u001B[39m \u001B[38;5;28mself\u001B[39m\u001B[38;5;241m.\u001B[39mmax_compression_ratio)),\n\u001B[0;32m    406\u001B[0m                           \u001B[38;5;28mself\u001B[39m\u001B[38;5;241m.\u001B[39mmax_rmse)\n\u001B[1;32m--> 407\u001B[0m result \u001B[38;5;241m=\u001B[39m \u001B[43mkmeans\u001B[49m\u001B[38;5;241;43m.\u001B[39;49m\u001B[43mrun\u001B[49m\u001B[43m(\u001B[49m\u001B[43m)\u001B[49m\n\u001B[0;32m    409\u001B[0m \u001B[38;5;28;01mdel\u001B[39;00m kmeans\u001B[38;5;241m.\u001B[39mS\n\u001B[0;32m    410\u001B[0m \u001B[38;5;28;01mdel\u001B[39;00m kmeans\u001B[38;5;241m.\u001B[39mJ\n",
      "File \u001B[1;32m~\\STIL_internship\\src\\algo\\codec\\kmeans_1d.py:352\u001B[0m, in \u001B[0;36mKMeansLinear.run\u001B[1;34m(self)\u001B[0m\n\u001B[0;32m    349\u001B[0m \u001B[38;5;28;01mdef\u001B[39;00m \u001B[38;5;21mrun\u001B[39m(\u001B[38;5;28mself\u001B[39m) \u001B[38;5;241m-\u001B[39m\u001B[38;5;241m>\u001B[39m \u001B[38;5;28mdict\u001B[39m:\n\u001B[0;32m    351\u001B[0m     \u001B[38;5;28;01mif\u001B[39;00m \u001B[38;5;28mself\u001B[39m\u001B[38;5;241m.\u001B[39mnUnique \u001B[38;5;241m>\u001B[39m \u001B[38;5;241m1\u001B[39m:\n\u001B[1;32m--> 352\u001B[0m         \u001B[38;5;28;43mself\u001B[39;49m\u001B[38;5;241;43m.\u001B[39;49m\u001B[43mfill_dp_matrix\u001B[49m\u001B[43m(\u001B[49m\u001B[43m)\u001B[49m\n\u001B[0;32m    353\u001B[0m         result \u001B[38;5;241m=\u001B[39m \u001B[38;5;28mself\u001B[39m\u001B[38;5;241m.\u001B[39mbacktrack()\n\u001B[0;32m    354\u001B[0m         \u001B[38;5;66;03m# result[\"centers\"] += self.median\u001B[39;00m\n\u001B[0;32m    355\u001B[0m     \u001B[38;5;28;01melse\u001B[39;00m:\n",
      "File \u001B[1;32m~\\STIL_internship\\src\\algo\\codec\\kmeans_1d.py:318\u001B[0m, in \u001B[0;36mKMeansLinear.fill_dp_matrix\u001B[1;34m(self)\u001B[0m\n\u001B[0;32m    315\u001B[0m \u001B[38;5;28;01melse\u001B[39;00m:\n\u001B[0;32m    316\u001B[0m     imin \u001B[38;5;241m=\u001B[39m N \u001B[38;5;241m-\u001B[39m \u001B[38;5;241m1\u001B[39m  \u001B[38;5;66;03m# OG: No need to compute S[K-1][0] ... S[K-1][N-2]\u001B[39;00m\n\u001B[1;32m--> 318\u001B[0m \u001B[38;5;28;43mself\u001B[39;49m\u001B[38;5;241;43m.\u001B[39;49m\u001B[43mfill_row_q\u001B[49m\u001B[43m(\u001B[49m\u001B[43mimin\u001B[49m\u001B[43m,\u001B[49m\u001B[43m \u001B[49m\u001B[43mN\u001B[49m\u001B[43m \u001B[49m\u001B[38;5;241;43m-\u001B[39;49m\u001B[43m \u001B[49m\u001B[38;5;241;43m1\u001B[39;49m\u001B[43m,\u001B[49m\u001B[43m \u001B[49m\u001B[43mq\u001B[49m\u001B[43m)\u001B[49m\n\u001B[0;32m    319\u001B[0m \u001B[38;5;28mprint\u001B[39m(\u001B[38;5;124m\"\u001B[39m\u001B[38;5;124mfilled\u001B[39m\u001B[38;5;124m\"\u001B[39m, q)\n\u001B[0;32m    320\u001B[0m \u001B[38;5;66;03m#if max_se >= self.S[q - 1, -1]:  # early exit for when we found out q clusters is enough\u001B[39;00m\n\u001B[0;32m    321\u001B[0m \u001B[38;5;66;03m#    print(q, \"is good enough, se =\", self.S[q - 1, -1])\u001B[39;00m\n\u001B[0;32m    322\u001B[0m \u001B[38;5;66;03m#    self.S = self.S[:q]\u001B[39;00m\n\u001B[1;32m   (...)\u001B[0m\n\u001B[0;32m    325\u001B[0m \u001B[38;5;66;03m# print(\"S: \",S)\u001B[39;00m\n\u001B[0;32m    326\u001B[0m \u001B[38;5;66;03m# print(\"J: \",J)\u001B[39;00m\n",
      "File \u001B[1;32m~\\STIL_internship\\src\\algo\\codec\\kmeans_1d.py:284\u001B[0m, in \u001B[0;36mKMeansLinear.fill_row_q\u001B[1;34m(self, imin, imax, q)\u001B[0m\n\u001B[0;32m    282\u001B[0m \u001B[38;5;28;01mdef\u001B[39;00m \u001B[38;5;21mfill_row_q\u001B[39m(\u001B[38;5;28mself\u001B[39m, imin: \u001B[38;5;28mint\u001B[39m, imax: \u001B[38;5;28mint\u001B[39m, q: \u001B[38;5;28mint\u001B[39m):\n\u001B[0;32m    283\u001B[0m     js \u001B[38;5;241m=\u001B[39m np\u001B[38;5;241m.\u001B[39marange(q, imax \u001B[38;5;241m+\u001B[39m \u001B[38;5;241m1\u001B[39m)\n\u001B[1;32m--> 284\u001B[0m     \u001B[38;5;28;43mself\u001B[39;49m\u001B[38;5;241;43m.\u001B[39;49m\u001B[43mSMAWK\u001B[49m\u001B[43m(\u001B[49m\u001B[43mimin\u001B[49m\u001B[43m,\u001B[49m\u001B[43m \u001B[49m\u001B[43mimax\u001B[49m\u001B[43m,\u001B[49m\u001B[43m \u001B[49m\u001B[38;5;241;43m1\u001B[39;49m\u001B[43m,\u001B[49m\u001B[43m \u001B[49m\u001B[43mq\u001B[49m\u001B[43m,\u001B[49m\u001B[43m \u001B[49m\u001B[43mjs\u001B[49m\u001B[43m)\u001B[49m\n",
      "File \u001B[1;32m~\\STIL_internship\\src\\algo\\codec\\kmeans_1d.py:279\u001B[0m, in \u001B[0;36mKMeansLinear.SMAWK\u001B[1;34m(self, imin, imax, istep, q, js)\u001B[0m\n\u001B[0;32m    277\u001B[0m imin_odd \u001B[38;5;241m=\u001B[39m imin \u001B[38;5;241m+\u001B[39m istep\n\u001B[0;32m    278\u001B[0m imax_odd \u001B[38;5;241m=\u001B[39m imin_odd \u001B[38;5;241m+\u001B[39m ((imax \u001B[38;5;241m-\u001B[39m imin_odd) \u001B[38;5;241m/\u001B[39m\u001B[38;5;241m/\u001B[39m istepx2) \u001B[38;5;241m*\u001B[39m istepx2\n\u001B[1;32m--> 279\u001B[0m \u001B[38;5;28;43mself\u001B[39;49m\u001B[38;5;241;43m.\u001B[39;49m\u001B[43mSMAWK\u001B[49m\u001B[43m(\u001B[49m\u001B[43mimin_odd\u001B[49m\u001B[43m,\u001B[49m\u001B[43m \u001B[49m\u001B[43mimax_odd\u001B[49m\u001B[43m,\u001B[49m\u001B[43m \u001B[49m\u001B[43mistepx2\u001B[49m\u001B[43m,\u001B[49m\u001B[43m \u001B[49m\u001B[43mq\u001B[49m\u001B[43m,\u001B[49m\u001B[43m \u001B[49m\u001B[43mjs_odd\u001B[49m\u001B[43m)\u001B[49m\n\u001B[0;32m    280\u001B[0m \u001B[38;5;28mself\u001B[39m\u001B[38;5;241m.\u001B[39mfill_even_positions(imin, imax, istep, q, js)\n",
      "File \u001B[1;32m~\\STIL_internship\\src\\algo\\codec\\kmeans_1d.py:275\u001B[0m, in \u001B[0;36mKMeansLinear.SMAWK\u001B[1;34m(self, imin, imax, istep, q, js)\u001B[0m\n\u001B[0;32m    273\u001B[0m     \u001B[38;5;28mself\u001B[39m\u001B[38;5;241m.\u001B[39mfind_min_from_candidates(imin, imax, istep, q, js)\n\u001B[0;32m    274\u001B[0m \u001B[38;5;28;01melse\u001B[39;00m:  \u001B[38;5;66;03m# OG: REDUCE\u001B[39;00m\n\u001B[1;32m--> 275\u001B[0m     js_odd \u001B[38;5;241m=\u001B[39m \u001B[38;5;28;43mself\u001B[39;49m\u001B[38;5;241;43m.\u001B[39;49m\u001B[43mreduce_in_place\u001B[49m\u001B[43m(\u001B[49m\u001B[43mimin\u001B[49m\u001B[43m,\u001B[49m\u001B[43m \u001B[49m\u001B[43mimax\u001B[49m\u001B[43m,\u001B[49m\u001B[43m \u001B[49m\u001B[43mistep\u001B[49m\u001B[43m,\u001B[49m\u001B[43m \u001B[49m\u001B[43mq\u001B[49m\u001B[43m,\u001B[49m\u001B[43m \u001B[49m\u001B[43mjs\u001B[49m\u001B[43m)\u001B[49m\n\u001B[0;32m    276\u001B[0m     istepx2 \u001B[38;5;241m=\u001B[39m istep \u001B[38;5;241m*\u001B[39m \u001B[38;5;241m2\u001B[39m\n\u001B[0;32m    277\u001B[0m     imin_odd \u001B[38;5;241m=\u001B[39m imin \u001B[38;5;241m+\u001B[39m istep\n",
      "File \u001B[1;32m~\\STIL_internship\\src\\algo\\codec\\kmeans_1d.py:120\u001B[0m, in \u001B[0;36mKMeansLinear.reduce_in_place\u001B[1;34m(self, imin, imax, istep, q, js)\u001B[0m\n\u001B[0;32m    116\u001B[0m right \u001B[38;5;241m=\u001B[39m \u001B[38;5;241m0\u001B[39m  \u001B[38;5;66;03m# OG: points to current position / column\u001B[39;00m\n\u001B[0;32m    118\u001B[0m m \u001B[38;5;241m=\u001B[39m js_red\u001B[38;5;241m.\u001B[39msize\n\u001B[1;32m--> 120\u001B[0m \u001B[38;5;28;01mwhile\u001B[39;00m m \u001B[38;5;241m>\u001B[39m N:  \u001B[38;5;66;03m# OG: js_reduced has more than N positions / columns\u001B[39;00m\n\u001B[0;32m    122\u001B[0m     p \u001B[38;5;241m=\u001B[39m left \u001B[38;5;241m+\u001B[39m \u001B[38;5;241m1\u001B[39m\n\u001B[0;32m    124\u001B[0m     i \u001B[38;5;241m=\u001B[39m imin \u001B[38;5;241m+\u001B[39m p \u001B[38;5;241m*\u001B[39m istep\n",
      "\u001B[1;31mKeyboardInterrupt\u001B[0m: "
      "4 is good enough, se = 65.0281798076503\n",
      "filled 1\n"
     ]
    }
   ],
   "source": [
    "\n",
    "\n",
    "\n",
    "from algo.codec.kmeans_1d import KMeansLinearCompression\n",
    "from algo.process.normalize import NormalizeProcessing\n",
    "from scaffold import Scaffold\n",
    "import numpy as np\n",
    "np.seterr(all='warn')\n",
    "#np.seterr(all='raise') # something breaks on the large dataset\n",
    "benchmarks = []\n",
    "Algos = [KMeansLinearCompression(max_rmse=0.8)]\n",
    "Processes = [NormalizeProcessing()]\n",
    "for algo in Algos:\n",
    "    for proc in Processes:\n",
    "        a = Scaffold(algo, proc, \"../data/sample_dataset_1000.csv\")\n",

    "        a.start(\"test\", logs=True)\n",
    "        print(a.benchmark)\n",
    "        benchmarks.append(a.benchmark)\n",
    "        print(\"---------------------\")"

   ]
  },
  {
   "cell_type": "code",
   "execution_count": null,
   "metadata": {},
   "outputs": [],
   "source": [
    "from scaffold.json import json_scaffold\n",
    "json_scaffold(\"plug_config.json\")"
   ]
  },
  {
   "cell_type": "code",
   "execution_count": 1,
   "metadata": {
    "ExecuteTime": {
     "start_time": "2023-08-08T17:29:24.276852Z",
     "end_time": "2023-08-08T17:40:38.154566Z"
    }
   },
   "outputs": [
    {
     "name": "stdout",
     "output_type": "stream",
     "text": [
      "transformed head: [1.43980873 1.49922801 1.42627531 ... 1.94982552 1.97672832 1.98861026]\n",
      "pca loadings:  [[ 1.09606490e-02  5.12976651e-03  8.88033023e-02 -6.93971987e-01\n",
      "   4.95685168e-03  7.80360035e-02 -2.09719340e-02 -4.41425536e-02\n",
      "   3.16208120e-03 -2.98440235e-03 -7.22219940e-03 -3.11302224e-02\n",
      "   1.93870661e-02 -7.39445591e-03  5.57494929e-03 -1.39180143e-02\n",
      "   8.38348702e-03  8.79969507e-04]\n",
      " [ 1.09606490e-02  5.12976651e-03  8.88033023e-02 -6.93971987e-01\n",
      "   4.95685168e-03  7.80360035e-02 -2.09719340e-02 -4.41425536e-02\n",
      "   3.16208120e-03 -2.98440235e-03 -7.22219940e-03 -3.11302224e-02\n",
      "   1.93870661e-02 -7.39445591e-03  5.57494929e-03 -1.39180143e-02\n",
      "   8.38348702e-03  8.79969507e-04]\n",
      " [ 2.15256627e-01 -2.80114002e-01 -2.12247489e-02  9.51863353e-03\n",
      "   8.48971779e-05 -3.81233404e-03  9.89622177e-02 -1.46978347e-01\n",
      "   8.78525018e-02 -2.14886236e-01 -2.23897371e-01  2.47337108e-02\n",
      "  -5.77533474e-03 -2.28332751e-02  4.85669560e-01  4.92254739e-02\n",
      "  -6.15300112e-03 -2.69314754e-02]\n",
      " [ 2.15253457e-01 -2.80166446e-01 -2.12114824e-02  9.45677453e-03\n",
      "   8.45357865e-05 -3.85689238e-03  9.90708136e-02 -1.46848125e-01\n",
      "   8.77489087e-02 -2.14583173e-01 -2.23500106e-01  2.46566488e-02\n",
      "  -5.58619428e-03 -2.28370433e-02  4.79968756e-01  4.79913150e-02\n",
      "  -6.01125926e-03 -2.60375451e-02]\n",
      " [ 1.92233384e-01 -2.55803763e-01 -3.02959566e-02 -1.82211062e-02\n",
      "  -9.90892029e-04 -1.31225388e-01 -4.93456285e-01  1.23039591e-01\n",
      "  -3.98242407e-02 -5.05643997e-01  5.98212174e-01  5.04216216e-02\n",
      "  -1.60943520e-02  2.19919227e-02 -4.19958600e-02  1.25221415e-02\n",
      "  -1.40683983e-03 -1.10832119e-02]\n",
      " [ 1.78356802e-01 -2.24928435e-01 -9.18850931e-02 -8.57603041e-03\n",
      "  -3.97887506e-04 -9.72652593e-02 -6.99573558e-01  1.89444000e-01\n",
      "  -2.08838530e-02  4.40094062e-01 -4.23343642e-01 -1.37111004e-02\n",
      "   1.37258532e-02 -1.88786208e-02 -8.65276724e-03 -7.52261425e-03\n",
      "   7.91348940e-03 -4.72932866e-04]\n",
      " [ 2.11732832e-01 -2.84746876e-01 -2.35740327e-02 -1.13750545e-02\n",
      "  -6.71686688e-04 -3.22540337e-02  1.94495233e-01  3.63889763e-02\n",
      "   7.82122054e-02 -1.76332208e-01 -2.26548404e-01  2.62321450e-02\n",
      "   5.00978492e-02 -8.75944185e-03 -4.79611446e-01 -2.19901447e-02\n",
      "   9.47371843e-02 -2.33467367e-03]\n",
      " [ 2.11769578e-01 -2.84861887e-01 -2.34669198e-02 -1.16827032e-02\n",
      "  -6.69789452e-04 -3.26832691e-02  1.92479651e-01  3.64306838e-02\n",
      "   7.77888617e-02 -1.78879114e-01 -2.22365946e-01  2.65846447e-02\n",
      "   4.95772695e-02 -8.63570110e-03 -4.78629896e-01 -2.06642419e-02\n",
      "   9.43257397e-02 -2.52521538e-03]\n",
      " [ 5.95516375e-02  9.10576847e-02 -5.29807596e-01 -8.45416796e-02\n",
      "  -1.61803600e-03 -7.79253022e-02  3.39921425e-02 -1.26579533e-01\n",
      "  -3.49584551e-01 -4.41581216e-02 -6.08020510e-02 -5.85174480e-02\n",
      "  -1.23812543e-01  4.42106115e-01 -5.75974419e-02  4.31620028e-01\n",
      "  -2.14712003e-02 -7.71334319e-02]\n",
      " [ 4.79017185e-03  1.94792473e-01 -4.89023655e-01 -8.24094299e-02\n",
      "  -1.49560811e-03 -8.47812939e-02 -3.06380869e-02 -2.56506275e-02\n",
      "   7.16049696e-01  5.60798493e-02  8.11133322e-02  4.01204468e-01\n",
      "   4.91287725e-02 -1.18433913e-01 -1.06141777e-02  4.53119697e-02\n",
      "   3.73270777e-03 -2.39784294e-02]\n",
      " [ 2.46482213e-01  1.73363393e-01  1.21655195e-01  2.15062650e-02\n",
      "  -3.67781269e-03  2.72210093e-02 -6.55347780e-03  1.49067225e-02\n",
      "  -2.21618664e-02  8.73621910e-03  1.11742341e-03  1.51325723e-01\n",
      "   2.40159697e-01  1.93171909e-01  3.29317797e-02  2.68208614e-02\n",
      "   6.46024638e-02  3.14420165e-01]\n",
      " [ 2.46496226e-01  1.73474690e-01  1.21203450e-01  2.21427347e-02\n",
      "  -3.67744057e-03  2.69810656e-02 -5.89617740e-03  1.54253581e-02\n",
      "  -2.18274111e-02  9.04341029e-03  5.90617862e-04  1.49197730e-01\n",
      "   2.44147564e-01  1.89947874e-01  3.24180355e-02  2.55267456e-02\n",
      "   5.84551785e-02  3.18222779e-01]\n",
      " [ 2.46513872e-01  1.73571740e-01  1.20752040e-01  2.21950522e-02\n",
      "  -3.68100694e-03  2.74877491e-02 -6.00665453e-03  1.41228427e-02\n",
      "  -2.13351895e-02  9.39475681e-03  1.05856489e-04  1.51301783e-01\n",
      "   2.43025931e-01  1.97789828e-01  3.33596786e-02  3.24861108e-02\n",
      "   6.35724104e-02  3.13614420e-01]\n",
      " [-1.27661356e-01  4.70602248e-02  2.08236613e-01 -6.53071339e-02\n",
      "   1.39545905e-02 -9.33846295e-01  3.44185101e-02 -2.23516510e-01\n",
      "  -2.11069215e-03  1.23399938e-02 -5.11538416e-02  1.84450073e-02\n",
      "   8.17471892e-02  2.30447545e-02 -5.45707358e-03  7.47414069e-03\n",
      "   6.80260780e-04  4.42203781e-03]\n",
      " [ 2.46794383e-01  1.59682875e-01  1.13786963e-01 -8.27819424e-03\n",
      "  -4.51824235e-03 -2.83701986e-02  7.87514004e-02  2.49671214e-01\n",
      "  -3.38819851e-02  2.60251979e-02 -2.26922606e-04  1.13928482e-01\n",
      "   2.63012901e-01  1.20676058e-01 -1.43562145e-02 -8.05319398e-02\n",
      "  -1.14834429e-01 -5.57072297e-01]\n",
      " [ 2.34505429e-01  2.02183788e-01  1.28645111e-01  5.24547034e-02\n",
      "  -1.98266839e-03  5.81375038e-02 -8.09125480e-02 -2.01423201e-01\n",
      "   4.35158605e-02  1.01205394e-02  1.32503287e-02 -3.86342188e-02\n",
      "   1.59900543e-01  9.08611176e-02  1.47549474e-03  1.14660655e-01\n",
      "  -4.86019584e-02 -5.77611618e-01]\n",
      " [ 2.51005106e-01  1.73083423e-01 -1.76698737e-02 -9.98986746e-03\n",
      "   7.36887994e-03 -6.30261438e-02  5.10752733e-02  1.04582825e-01\n",
      "  -4.49140056e-02  1.16981944e-02  2.73582881e-02 -2.18691157e-01\n",
      "   2.01713061e-02 -5.42288527e-01 -4.57232935e-02  6.35649679e-01\n",
      "  -1.15450990e-01  1.29077754e-01]\n",
      " [ 2.52969752e-01  1.66244036e-01  1.39436269e-02 -2.09322649e-03\n",
      "   6.77828411e-03 -6.70376764e-02  5.76385927e-02  1.34263719e-01\n",
      "  -1.17525948e-01 -5.98186015e-03  2.08481615e-02 -9.28783223e-02\n",
      "   1.38767268e-02 -4.43142000e-01  5.07327110e-02 -1.84770738e-01\n",
      "   3.58456126e-03 -2.63798623e-02]\n",
      " [ 2.33413679e-01  1.41137528e-01  2.03057698e-01 -3.52569062e-02\n",
      "   7.27434266e-03 -7.64994285e-02  7.89116020e-02  2.07392971e-01\n",
      "  -1.05549288e-01  3.10603125e-02 -4.25061150e-02  4.79042869e-01\n",
      "  -7.51044637e-01  3.86457688e-02  1.85954296e-02  2.67912670e-02\n",
      "   4.31969733e-02 -3.92218151e-02]\n",
      " [ 1.35987677e-03  3.24943147e-03  5.82739161e-03 -7.86131236e-03\n",
      "  -9.99712939e-01 -1.42272615e-02  1.93855915e-03 -2.96095898e-04\n",
      "   2.45113840e-03  5.34159109e-04 -7.80757190e-04 -8.11265568e-03\n",
      "  -1.11974352e-02 -6.94556926e-03  7.04443110e-04  1.25657266e-03\n",
      "  -6.82739925e-04  1.72184846e-03]\n",
      " [ 1.91077245e-01 -3.12238950e-01 -2.97087480e-02 -4.13712031e-03\n",
      "  -7.17405778e-04 -2.58730404e-02  1.96775256e-01 -1.24280197e-01\n",
      "  -3.43624392e-02  5.05891847e-01  4.15289734e-01 -6.75417682e-03\n",
      "   1.83913686e-02 -2.51781352e-02  6.70623076e-02  8.08919227e-02\n",
      "   5.97994231e-01 -9.37203749e-02]\n",
      " [ 1.91527582e-01 -3.18655121e-01 -3.80960364e-02 -2.26818780e-02\n",
      "  -7.30014052e-04 -2.49296385e-02  1.91962119e-01 -9.76025669e-02\n",
      "  -3.89190827e-02  3.57624274e-01  2.61656255e-01  1.01536419e-01\n",
      "   1.09488976e-02  4.65350928e-02 -4.47004425e-02 -8.17473466e-02\n",
      "  -7.58930152e-01  1.05196912e-01]\n",
      " [ 2.09642364e-01  1.61394266e-01  1.08158453e-01  8.62589711e-02\n",
      "   1.05677526e-03  1.56641937e-01 -2.42412423e-01 -7.77985779e-01\n",
      "   2.25021302e-02 -6.85583972e-03 -1.47685881e-02 -1.28397758e-02\n",
      "  -2.01467526e-01 -1.21182002e-01 -2.20799770e-01 -1.13763063e-01\n",
      "  -1.32462415e-02  2.80659998e-02]\n",
      " [ 2.50748498e-01  1.11445351e-01  1.05984110e-01  1.74151190e-02\n",
      "   9.90097785e-03 -7.69860364e-02  3.98263956e-02  1.56008677e-01\n",
      "   4.73397728e-01  5.00768139e-02  6.85098043e-02 -6.51431987e-01\n",
      "  -3.02758715e-01  3.43956025e-01  1.53302552e-02 -5.94896152e-02\n",
      "  -3.11625648e-02  7.84989365e-02]\n",
      " [ 2.08102153e-01  1.59022407e-01 -3.04583476e-01 -2.60263580e-02\n",
      "   1.99394589e-03 -1.03883606e-01  6.72282091e-02  3.86316348e-02\n",
      "  -1.90249794e-01 -2.58405058e-02  3.07907063e-03 -1.03170213e-01\n",
      "   5.04177445e-03 -1.56439685e-01  6.64382493e-02 -4.92230968e-01\n",
      "   6.26019353e-02  3.31422539e-02]\n",
      " [ 1.60601014e-01  1.38983137e-01 -4.19857579e-01 -5.58866333e-02\n",
      "  -9.91445188e-04 -1.00977874e-01  5.46838031e-02 -3.17662282e-02\n",
      "  -2.01215919e-01 -2.92524418e-02 -7.31149403e-03 -1.18048577e-01\n",
      "  -2.69092444e-02  1.57802429e-02  3.02720443e-02 -2.69053954e-01\n",
      "   1.86022631e-02  5.17237054e-02]]\n",
      "pca scores:  8.437746406025573 [17.36698248 17.23253301 16.87122844 ... 13.04952914 12.56998278\n",
      " 11.82054847]\n",
      "src  end_epoch     -1.668231\n",
      "start_epoch   -1.668231\n",
      "value_1        0.221853\n",
      "value_2        0.226327\n",
      "value_3        0.135179\n",
      "value_4        0.168081\n",
      "value_5        0.301402\n",
      "value_6        0.301708\n",
      "value_7        0.221587\n",
      "value_8        0.374209\n",
      "value_9        0.409362\n",
      "value_10       0.407548\n",
      "value_11       0.398889\n",
      "value_14       0.016893\n",
      "value_15       0.504818\n",
      "value_16       0.290351\n",
      "value_17       0.408936\n",
      "value_18       0.440691\n",
      "value_19       0.484811\n",
      "value_20      -0.076335\n",
      "value_21       0.280210\n",
      "value_22       0.173931\n",
      "value_23       0.019886\n",
      "value_24       0.435119\n",
      "value_25       0.482652\n",
      "value_26       0.394021\n",
      "Name: 0, dtype: float64\n",
      "../data/sample_dataset_big.csv_compressed 178773868 8359839\n",
      "Function preprocess_and_compress took 289.7838044166565 seconds to execute.\n",
      "[[ 1.43226599  0.31162561 -0.57155249 ...  0.02313513  0.06144284\n",
      "  -0.02408922]\n",
      " [ 1.4951413   0.2786991  -0.67063008 ...  0.01890168  0.05614174\n",
      "  -0.02773523]\n",
      " [ 1.43226599  0.2786991  -0.59712456 ...  0.02313513  0.06510639\n",
      "  -0.04486205]\n",
      " ...\n",
      " [ 1.94577278  0.95943898 -2.07944781 ...  0.00721798 -0.00539755\n",
      "   0.00892326]\n",
      " [ 1.98117846  0.9140102  -2.07944781 ...  0.01321773 -0.01266643\n",
      "   0.00892326]\n",
      " [ 1.98117846  0.89107558 -2.10819878 ...  0.01321773  0.00400029\n",
      "   0.01557368]]\n",
      "Index(['end_epoch', 'start_epoch', 'value_1', 'value_2', 'value_3', 'value_4',\n",
      "       'value_5', 'value_6', 'value_7', 'value_8', 'value_9', 'value_10',\n",
      "       'value_11', 'value_14', 'value_15', 'value_16', 'value_17', 'value_18',\n",
      "       'value_19', 'value_20', 'value_21', 'value_22', 'value_23', 'value_24',\n",
      "       'value_25', 'value_26', 'time'],\n",
      "      dtype='object')\n",
      "Function decompress_and_postprocess took 19.239156484603882 seconds to execute.\n",
      "Function test took 309.0229609012604 seconds to execute.\n",
      "{'name': 'PCAToKMeansCompression', 'table_path': '../data/sample_dataset_big.csv', 'isLossLess': False, 'isLearning': False, 'compression_rate': 0.04676208605611196, 'preprocess_and_compress_time': 289.7838044166565, 'loss_rate': 0.015215600469558726, 'decompress_and_postprocess_time': 19.239156484603882, 'test_time': 309.0229609012604}\n",
      "---------------------\n",
      "        end_epoch  start_epoch   value_1   value_2   value_3   value_4  \\\n",
      "0       -1.668231    -1.668231  0.221853  0.226327  0.135179  0.168081   \n",
      "1       -1.668231    -1.668231  0.229970  0.235964  0.138377  0.149947   \n",
      "2       -1.668231    -1.668231  0.238087  0.231383  0.128198  0.143556   \n",
      "3       -1.668231    -1.668231  0.226457  0.226802  0.131846  0.148518   \n",
      "4       -1.668231    -1.668231  0.214029  0.222220  0.135493  0.147340   \n",
      "...           ...          ...       ...       ...       ...       ...   \n",
      "541435   1.568889     1.568889  0.150915  0.160902  0.276000  0.351526   \n",
      "541436   1.568889     1.568889  0.168641  0.158285  0.277735  0.345402   \n",
      "541437   1.568889     1.568889  0.200741  0.200571  0.284347  0.344528   \n",
      "541438   1.568889     1.568889  0.271199  0.269054  0.294781  0.344756   \n",
      "541439   1.568889     1.568889  0.287305  0.276815  0.276586  0.339584   \n",
      "\n",
      "         value_5   value_6   value_7   value_8  ...  value_17  value_18  \\\n",
      "0       0.301402  0.301708  0.221587  0.374209  ...  0.408936  0.440691   \n",
      "1       0.301447  0.302012  0.221931  0.372755  ...  0.408882  0.440692   \n",
      "2       0.301492  0.302316  0.222274  0.371300  ...  0.408829  0.440693   \n",
      "3       0.301538  0.302621  0.222618  0.369846  ...  0.408775  0.440693   \n",
      "4       0.301583  0.302925  0.222962  0.368391  ...  0.408721  0.440694   \n",
      "...          ...       ...       ...       ...  ...       ...       ...   \n",
      "541435  0.318734  0.319044  1.517693  1.659739  ...  0.806219  0.660743   \n",
      "541436  0.317863  0.318125  1.517501  1.659477  ...  0.806117  0.660688   \n",
      "541437  0.316992  0.317205  1.517311  1.659215  ...  0.806014  0.660634   \n",
      "541438  0.317106  0.317287  1.517120  1.658953  ...  0.805913  0.660579   \n",
      "541439  0.318736  0.318911  1.516928  1.658690  ...  0.805811  0.660525   \n",
      "\n",
      "        value_19  value_20  value_21  value_22  value_23  value_24  value_25  \\\n",
      "0       0.484811 -0.076335  0.280210  0.173931  0.019886  0.435119  0.482652   \n",
      "1       0.484811 -0.076362  0.277716  0.177970  0.018712  0.435104  0.482772   \n",
      "2       0.484811 -0.076388  0.301374  0.182010  0.017539  0.435090  0.482893   \n",
      "3       0.484811 -0.076415  0.282519  0.186049  0.016366  0.435075  0.483013   \n",
      "4       0.484811 -0.076441  0.298590  0.190089  0.015193  0.435061  0.483135   \n",
      "...          ...       ...       ...       ...       ...       ...       ...   \n",
      "541435 -0.027484  0.023280  0.238288  0.276004 -0.011825  0.433934  1.359095   \n",
      "541436 -0.032580  0.023306  0.219245  0.276017 -0.011374  0.433933  1.358920   \n",
      "541437 -0.037676  0.023333  0.229519  0.276030 -0.010924  0.433932  1.358746   \n",
      "541438 -0.042772  0.023360  0.219982  0.276044 -0.010473  0.433930  1.358571   \n",
      "541439 -0.047869  0.023386  0.246728  0.276057 -0.010023  0.433929  1.358397   \n",
      "\n",
      "        value_26  \n",
      "0       0.394021  \n",
      "1       0.393865  \n",
      "2       0.393709  \n",
      "3       0.393554  \n",
      "4       0.393398  \n",
      "...          ...  \n",
      "541435  1.497015  \n",
      "541436  1.496284  \n",
      "541437  1.495554  \n",
      "541438  1.494823  \n",
      "541439  1.494092  \n",
      "\n",
      "[541440 rows x 26 columns]\n",
      "../data/sample_dataset_big.csv_compressed 178773868 5552097\n",
      "Function preprocess_and_compress took 344.98079013824463 seconds to execute.\n",
      "   end_epoch  start_epoch   value_1   value_2   value_3   value_4   value_5  \\\n",
      "0  -1.668231    -1.668231  0.222454  0.225950  0.134263  0.167585  0.301664   \n",
      "1  -1.668231    -1.668231  0.230246  0.236493  0.139359  0.149844  0.301664   \n",
      "2  -1.668231    -1.668231  0.238206  0.231106  0.129028  0.143510  0.301664   \n",
      "3  -1.668231    -1.668231  0.226391  0.227220  0.131717  0.149844  0.301664   \n",
      "4  -1.668231    -1.668231  0.214455  0.222110  0.134263  0.146704  0.301664   \n",
      "\n",
      "    value_6   value_7   value_8  ...  value_18  value_19  value_20  value_21  \\\n",
      "0  0.302366  0.223617  0.377969  ...  0.441428  0.484559 -0.077208  0.280165   \n",
      "1  0.302366  0.223617  0.377969  ...  0.441428  0.484559 -0.077208  0.276370   \n",
      "2  0.302366  0.223617  0.365938  ...  0.441428  0.484559 -0.077208  0.301203   \n",
      "3  0.302366  0.223617  0.365938  ...  0.441428  0.484559 -0.077208  0.284048   \n",
      "4  0.302366  0.223617  0.365938  ...  0.441428  0.484559 -0.077208  0.296546   \n",
      "\n",
      "   value_22  value_23  value_24  value_25  value_26      time  \n",
      "0  0.172674  0.023297  0.434884  0.481696  0.394277  00:00:15  \n",
      "1  0.179023  0.015914  0.434884  0.481696  0.394277  00:00:30  \n",
      "2  0.182226  0.015914  0.434884  0.481696  0.394277  00:00:45  \n",
      "3  0.185320  0.015914  0.434884  0.481696  0.394277  00:01:00  \n",
      "4  0.191301  0.015914  0.434884  0.481696  0.394277  00:01:15  \n",
      "\n",
      "[5 rows x 27 columns]\n",
      "Index(['end_epoch', 'start_epoch', 'value_1', 'value_2', 'value_3', 'value_4',\n",
      "       'value_5', 'value_6', 'value_7', 'value_8', 'value_9', 'value_10',\n",
      "       'value_11', 'value_14', 'value_15', 'value_16', 'value_17', 'value_18',\n",
      "       'value_19', 'value_20', 'value_21', 'value_22', 'value_23', 'value_24',\n",
      "       'value_25', 'value_26', 'time'],\n",
      "      dtype='object')\n",
      "Function decompress_and_postprocess took 18.13789391517639 seconds to execute.\n",
      "Function test took 363.118684053421 seconds to execute.\n",
      "{'name': 'KMeansLinearCCompression', 'table_path': '../data/sample_dataset_big.csv', 'isLossLess': False, 'isLearning': False, 'compression_rate': 0.031056535622980424, 'preprocess_and_compress_time': 344.98079013824463, 'loss_rate': 0.002594490853473138, 'decompress_and_postprocess_time': 18.13789391517639, 'test_time': 363.118684053421}\n",
      "---------------------\n"
     ]
    }
   ],

   "source": [
    "from algo.codec.pca_to_kmeans_1d_c import PCAToKMeansCompression\n",
    "from algo.codec.zstd import ZstdLibraryCompressionAlgorithm\n",
    "from algo.codec.kmeans_1d_c import KMeansLinearCCompression\n",
    "from algo.process.normalize import NormalizeProcessing\n",
    "from scaffold import Scaffold\n",
    "import numpy as np\n",
    "np.seterr(all='warn')\n",
    "benchmarks = []\n",
    "#np.seterr(all='raise') # something breaks on the large dataset\n",
    "#datasets = [f'../data/sample_dataset_{cutoff}.csv' for cutoff in cutoff_list]\n",
    "Algos = [PCAToKMeansCompression(n_pca_components=18, kmeans_component_ratio=2000), KMeansLinearCCompression(raw_compression_ratio=2000, max_rmse=0)]\n",
    "Processes = [NormalizeProcessing()]\n",
    "for algo in Algos:\n",
    "    for proc in Processes:\n",
    "        a = Scaffold(algo, proc, \"../data/sample_dataset_big.csv\")\n",
    "        a.start(\"test\", logs=True)\n",
    "        print(a.benchmark)\n",
    "        benchmarks.append(a.benchmark)\n",
    "        print(\"---------------------\")"
   ]
  },
  {
   "cell_type": "code",
   "execution_count": 16,
   "metadata": {
    "ExecuteTime": {
     "end_time": "2023-08-04T12:40:10.464484Z",
     "start_time": "2023-08-04T12:40:10.459494Z"
    }
   },
   "outputs": [],
   "source": [
    "benchmarks_all = benchmarks.copy()"
   ]
  },
  {
   "cell_type": "code",
   "execution_count": 1,
   "outputs": [],
   "source": [
    "import pickle"
   ],
   "metadata": {
    "collapsed": false,
    "ExecuteTime": {
     "start_time": "2023-08-07T11:21:41.310523Z",
     "end_time": "2023-08-07T11:21:41.315502Z"
    }
   }
  },
  {
   "cell_type": "code",
   "execution_count": 8,
   "outputs": [],
   "source": [
    "list_clusters = [20, 50, 100, 500, 1000, 5000]"
   ],
   "metadata": {
    "collapsed": false,
    "ExecuteTime": {
     "start_time": "2023-08-07T14:24:18.900570Z",
     "end_time": "2023-08-07T14:24:18.904563Z"
    }
   }
  },
  {
   "cell_type": "code",
   "execution_count": 2,
   "metadata": {
    "ExecuteTime": {
     "start_time": "2023-08-08T17:40:54.082135Z",
     "end_time": "2023-08-08T17:40:54.935723Z"
    }
   },
   "outputs": [
    {
     "name": "stdout",
     "output_type": "stream",
     "text": [
      "0.015215600469558726\n",
      "0.002594490853473138\n",
      "[{'name': 'PCAToKMeansCompression', 'table_path': '../data/sample_dataset_big.csv', 'isLossLess': False, 'isLearning': False, 'compression_rate': 0.04676208605611196, 'preprocess_and_compress_time': 289.7838044166565, 'loss_rate': 0.015215600469558726, 'decompress_and_postprocess_time': 19.239156484603882, 'test_time': 309.0229609012604}, {'name': 'KMeansLinearCCompression', 'table_path': '../data/sample_dataset_big.csv', 'isLossLess': False, 'isLearning': False, 'compression_rate': 0.031056535622980424, 'preprocess_and_compress_time': 344.98079013824463, 'loss_rate': 0.002594490853473138, 'decompress_and_postprocess_time': 18.13789391517639, 'test_time': 363.118684053421}]\n"

     ]
    },
    {
     "data": {
      "text/plain": "<Figure size 640x480 with 1 Axes>",

      "image/png": "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"

     },
     "metadata": {},
     "output_type": "display_data"
    }
   ],
   "source": [
    "from plot import plot_benchmarks\n",
    "\n",
    "plot_benchmarks(benchmarks, \"loss_rate\")\n",
    "for i in benchmarks:\n",
    "    print(i[\"loss_rate\"])\n",
    "print(benchmarks)"
   ]
  },
  {
   "cell_type": "code",
   "execution_count": 3,
   "metadata": {
    "ExecuteTime": {
     "start_time": "2023-08-08T17:40:56.999108Z",
     "end_time": "2023-08-08T17:40:57.109138Z"
    }
   },
   "outputs": [
    {
     "data": {
      "text/plain": "<Figure size 640x480 with 1 Axes>",
      "image/png": "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"
     },
     "metadata": {},
     "output_type": "display_data"
    }
   ],
   "source": [
    "plot_benchmarks(benchmarks, \"compression_rate\")"
   ]
  },
  {
   "cell_type": "code",
   "execution_count": 2,
   "outputs": [],
   "source": [
    "import pickle\n",
    "with open(\"../src/results_timeshifted\", 'rb') as f:\n",
    "    results = pickle.load(f)\n"
   ],
   "metadata": {
    "collapsed": false,
    "ExecuteTime": {
     "start_time": "2023-08-07T10:22:57.963638Z",
     "end_time": "2023-08-07T10:22:58.128752Z"
    }
   }
  },
  {
   "cell_type": "code",
   "execution_count": 11,
   "outputs": [],
   "source": [
    "list_rmses = [1, 0.5, 0.1, 0.05, 0.01, 0.01]"
   ],
   "metadata": {
    "collapsed": false,
    "ExecuteTime": {
     "start_time": "2023-08-08T13:35:58.251030Z",
     "end_time": "2023-08-08T13:35:58.256019Z"
    }
   }
  },
  {
   "cell_type": "code",
   "execution_count": 8,
   "outputs": [
    {
     "data": {
      "text/plain": "[{'name': 'PCAToKMeansCompression',\n  'table_path': '../data/sample_dataset_big.csv',\n  'isLossLess': False,\n  'isLearning': False,\n  'compression_rate': 0.06797525351971463,\n  'preprocess_and_compress_time': 327.07526111602783,\n  'loss_rate': 0.0034163945863687497,\n  'decompress_and_postprocess_time': 18.8767032623291,\n  'test_time': 345.95196437835693},\n {'name': 'KMeansLinearCCompression',\n  'table_path': '../data/sample_dataset_big.csv',\n  'isLossLess': False,\n  'isLearning': False,\n  'compression_rate': 0.031056535622980424,\n  'preprocess_and_compress_time': 344.5821192264557,\n  'loss_rate': 0.002594490853473138,\n  'decompress_and_postprocess_time': 18.87466597557068,\n  'test_time': 363.45678520202637}]"
     },
     "execution_count": 8,
     "metadata": {},
     "output_type": "execute_result"
    }
   ],
   "source": [
    "benchmarks"
   ],
   "metadata": {
    "collapsed": false,
    "ExecuteTime": {

     "start_time": "2023-08-08T17:11:26.603704Z",
     "end_time": "2023-08-08T17:11:26.624191Z"

    }
   }
  },
  {
   "cell_type": "code",

   "execution_count": 6,
   "outputs": [
    {
     "data": {
      "text/plain": "<Figure size 640x480 with 1 Axes>",
      "image/png": "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"

     },
     "execution_count": 130,
     "metadata": {},
     "output_type": "execute_result"
    }
   ],
   "source": [
    "from matplotlib import pyplot as plt\n",
    "xs = [result['compression_rate'] for result in benchmarks]\n",
    "ys = [result['loss_rate'] for result in benchmarks]\n",
    "plt.scatter(xs, ys)\n",
    "plt.xlabel('compression rate')\n",
    "plt.ylabel('rmse')\n",
    "plt.show()"

   ],
   "metadata": {
    "collapsed": false,
    "ExecuteTime": {
     "start_time": "2023-08-08T17:11:00.475948Z",
     "end_time": "2023-08-08T17:11:00.582801Z"
    }
   }
  },
  {
   "cell_type": "code",
   "execution_count": 13,
   "outputs": [
    {
     "data": {
      "text/plain": "<Figure size 640x480 with 1 Axes>",
      "image/png": "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"

     },
     "execution_count": 127,
     "metadata": {},
     "output_type": "execute_result"
    }
   ],
   "source": [

    "xs = [result['loss_rate'] for result in results]\n",
    "ys = [result['preprocess_and_compress_time'] for result in results]\n",
    "plt.scatter(xs, ys)\n",
    "plt.xlabel('loss rate')\n",
    "plt.ylabel('compression time')\n",
    "plt.show()"

   ],
   "metadata": {
    "collapsed": false,
    "ExecuteTime": {

     "start_time": "2023-08-07T11:23:58.878830Z",
     "end_time": "2023-08-07T11:23:59.009412Z"

    }
   }
  },
  {
   "cell_type": "code",

   "execution_count": 35,
   "outputs": [
    {
     "data": {
      "text/plain": "<Figure size 640x480 with 1 Axes>",
      "image/png": "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"

     },
     "execution_count": 203,
     "metadata": {},
     "output_type": "execute_result"
    }
   ],
   "source": [

    "ys = [result['preprocess_and_compress_time'] for result in results]\n",
    "plt.scatter(list_rmses, ys)\n",
    "plt.xlabel('target rmse')\n",
    "plt.ylabel('compression time (s)')\n",
    "plt.show()"

   ],
   "metadata": {
    "collapsed": false,
    "ExecuteTime": {

     "start_time": "2023-08-07T10:47:22.260706Z",
     "end_time": "2023-08-07T10:47:22.397583Z"

    }
   }
  },
  {
   "cell_type": "code",

   "execution_count": 19,
   "outputs": [
    {
     "data": {
      "text/plain": "<Figure size 640x480 with 1 Axes>",
      "image/png": "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"
     },

     "metadata": {},
     "output_type": "display_data"
    }
   ],
   "source": [

    "ys = [result['preprocess_and_compress_time'] for result in results]\n",
    "xs = [result['compression_rate'] for result in results]\n",
    "plt.scatter(xs, ys)\n",
    "plt.xlabel('compression rate')\n",
    "plt.ylabel('compression time')\n",
    "plt.show()"

   ],
   "metadata": {
    "collapsed": false,
    "ExecuteTime": {

     "start_time": "2023-08-07T11:26:29.122257Z",
     "end_time": "2023-08-07T11:26:29.232203Z"

    }
   }
  },
  {
   "cell_type": "code",
   "execution_count": 12,
   "metadata": {
    "ExecuteTime": {
     "start_time": "2023-08-07T10:24:55.857983Z",
     "end_time": "2023-08-07T10:24:56.013018Z"
    }
   },
   "outputs": [
    {
     "data": {
      "text/plain": "<Figure size 640x480 with 1 Axes>",
      "image/png": "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"
     },
     "metadata": {},
     "output_type": "display_data"
    }
   ],
   "source": [
    "from plot import plot_scatter\n",
    "\n",
    "plot_scatter(results, \"test_time\")"
   ]
  },
  {
   "cell_type": "code",
   "execution_count": null,
   "metadata": {
    "ExecuteTime": {
     "end_time": "2023-07-10T12:36:06.291234Z",
     "start_time": "2023-07-10T12:36:06.058621Z"
    }
   },
   "outputs": [],
   "source": [
    "from plot import plot_hist\n",
    "\n",
    "plot_hist(benchmarks, \"test_time\")"
   ]
  },
  {
   "cell_type": "code",
   "execution_count": null,
   "metadata": {
    "ExecuteTime": {
     "end_time": "2023-07-10T15:21:50.845954Z",
     "start_time": "2023-07-10T15:21:50.758561Z"
    }
   },
   "outputs": [],
   "source": [
    "from generator.normal_multivariate import NormalMultivariateDistributionGenerator\n",
    "gen = NormalMultivariateDistributionGenerator()\n",
    "gen.gen([0,0], [[1, 0], [0, 1]], (2,))"
   ]
  },
  {
   "cell_type": "code",
   "execution_count": 123,
   "metadata": {
    "ExecuteTime": {
     "end_time": "2023-07-25T11:14:11.425330Z",
     "start_time": "2023-07-25T11:14:11.402469Z"
    }
   },
   "outputs": [],
   "source": [
    "import numpy as np\n",
    "import pandas as pd\n",
    "df = pd.read_csv(\"../data/smoke_detection_iot.csv\").iloc[:5, [0, 2, 3, 6, 7, 8, 14]]\n",
    "np_table = df.to_numpy()"
   ]
  },
  {
   "cell_type": "code",
   "execution_count": 123,
   "metadata": {
    "ExecuteTime": {
     "end_time": "2023-07-25T11:14:11.721813Z",
     "start_time": "2023-07-25T11:14:11.719815Z"
    }
   },
   "outputs": [],
   "source": [
    "df"
   ]
  },
  {
   "cell_type": "code",
   "execution_count": 130,
   "metadata": {
    "ExecuteTime": {
     "end_time": "2023-07-25T11:14:39.940466Z",
     "start_time": "2023-07-25T11:14:39.924822Z"
    }
   },
   "outputs": [
    {
     "data": {
      "text/plain": [
       "array([[-1.4, -0.5, -1. ],\n",
       "       [-0.7, -1.3, -0.9],\n",
       "       [ 0. , -0.6, -0.4],\n",
       "       [ 0.7,  1.1,  0.9],\n",
       "       [ 1.4,  1.3,  1.5]])"
      ]
     },
     "execution_count": 130,
     "metadata": {},
     "output_type": "execute_result"
    }
   ],
   "source": [
    "np_table = (np_table - vecT(np.mean(np_table, axis=0)).T) / vecT(np.std(np_table, axis=0)).T"
   ]
  },
  {
   "cell_type": "code",
   "execution_count": 125,
   "metadata": {
    "ExecuteTime": {
     "end_time": "2023-07-25T11:14:12.598515Z",
     "start_time": "2023-07-25T11:14:12.596517Z"
    }
   },
   "outputs": [],
   "source": [
    "def vecT(vec):\n",
    "    return np.array(vec)[np.newaxis].T"
   ]
  },
  {
   "cell_type": "code",
   "execution_count": 126,
   "metadata": {
    "ExecuteTime": {
     "end_time": "2023-07-25T11:14:13.045895Z",
     "start_time": "2023-07-25T11:14:13.015463Z"
    }
   },
   "outputs": [],
   "source": [
    "np_table = np_table.T"
   ]
  },
  {
   "cell_type": "code",
   "execution_count": 126,
   "metadata": {
    "ExecuteTime": {
     "end_time": "2023-07-25T11:14:13.393275Z",
     "start_time": "2023-07-25T11:14:13.391277Z"
    }
   },
   "outputs": [],
   "source": [
    "np_table"
   ]
  },
  {
   "cell_type": "code",
   "execution_count": 127,
   "metadata": {
    "ExecuteTime": {
     "end_time": "2023-07-25T11:14:13.636634Z",
     "start_time": "2023-07-25T11:14:13.622659Z"
    }
   },
   "outputs": [
    {
     "data": {
      "text/plain": [
       "array([[-1.4, -0.7,  0. ,  0.7,  1.4],\n",
       "       [-0.5, -1.3, -0.6,  1.1,  1.3],\n",
       "       [-1. , -0.9, -0.4,  0.9,  1.5]])"
      ]
     },
     "execution_count": 127,
     "metadata": {},
     "output_type": "execute_result"
    }
   ],
   "source": [
    "covy = np_table.T @ np_table / np_table.shape[0]"
   ]
  },
  {
   "cell_type": "code",
   "execution_count": 202,
   "metadata": {
    "ExecuteTime": {
     "end_time": "2023-07-25T14:14:47.636334Z",
     "start_time": "2023-07-25T14:14:47.621305Z"
    }
   },
   "outputs": [],
   "source": [
    "covy"
   ]
  },
  {
   "cell_type": "code",
   "execution_count": 203,
   "metadata": {
    "ExecuteTime": {
     "end_time": "2023-07-25T14:14:48.011456Z",
     "start_time": "2023-07-25T14:14:47.986727Z"
    }
   },
   "outputs": [
    {
     "data": {
      "text/plain": [
       "array([[1. , 0.8, 1. ],\n",
       "       [0.8, 1. , 1. ],\n",
       "       [1. , 1. , 1. ]])"
      ]
     },
     "execution_count": 203,
     "metadata": {},
     "output_type": "execute_result"
    }
   ],
   "source": [
    "eigvals, eigvecs = np.linalg.eig(covy)"
   ]
  },
  {
   "cell_type": "code",
   "execution_count": 201,
   "metadata": {
    "ExecuteTime": {
     "end_time": "2023-07-25T14:14:27.551150Z",
     "start_time": "2023-07-25T14:14:27.532197Z"
    }
   },
   "outputs": [],
   "source": [
    "eigvecs = eigvecs[:, :3]"
   ]
  },
  {
   "cell_type": "code",
   "execution_count": 191,
   "metadata": {
    "ExecuteTime": {
     "end_time": "2023-07-25T14:10:58.699389Z",
     "start_time": "2023-07-25T14:10:58.669355Z"
    }
   },
   "outputs": [
    {
     "data": {
      "text/plain": [
       "array([[ 0.70137266, -0.56980625],\n",
       "       [-0.71272483, -0.56903704],\n",
       "       [ 0.00998552, -0.59288927]])"
      ]
     },
     "execution_count": 191,
     "metadata": {},
     "output_type": "execute_result"
    }
   ],
   "source": [
    "eigvals = eigvals[:3]"
   ]
  },
  {
   "cell_type": "code",
   "execution_count": 188,
   "metadata": {
    "ExecuteTime": {
     "end_time": "2023-07-25T14:10:50.736798Z",
     "start_time": "2023-07-25T14:10:50.723771Z"
    }
   },
   "outputs": [],
   "source": [
    "eigvecs"
   ]
  },
  {
   "cell_type": "code",
   "execution_count": 189,
   "metadata": {
    "ExecuteTime": {
     "end_time": "2023-07-25T14:10:51.228874Z",
     "start_time": "2023-07-25T14:10:51.214909Z"
    }
   },
   "outputs": [],
   "source": [
    "vecT(eigvals).T"
   ]
  },
  {
   "cell_type": "code",
   "execution_count": 190,
   "metadata": {
    "ExecuteTime": {
     "end_time": "2023-07-25T14:10:51.973681Z",
     "start_time": "2023-07-25T14:10:51.960067Z"
    }
   },
   "outputs": [
    {
     "data": {
      "text/plain": [
       "array([[ 0.7, -0.6],\n",
       "       [-0.7, -0.6],\n",
       "       [ 0. , -0.6]])"
      ]
     },
     "execution_count": 190,
     "metadata": {},
     "output_type": "execute_result"
    }
   ],
   "source": [
    "np_table"
   ]
  },
  {
   "cell_type": "code",
   "execution_count": 192,
   "metadata": {
    "ExecuteTime": {
     "end_time": "2023-07-25T14:11:15.933941Z",
     "start_time": "2023-07-25T14:11:15.915579Z"
    }
   },
   "outputs": [
    {
     "data": {
      "text/plain": [
       "array([[0.2, 2.8]])"
      ]
     },
     "execution_count": 192,
     "metadata": {},
     "output_type": "execute_result"
    }
   ],
   "source": [
    "compressed = np_table @ eigvecs"
   ]
  },
  {
   "cell_type": "code",
   "execution_count": 153,
   "metadata": {
    "ExecuteTime": {
     "end_time": "2023-07-25T11:38:19.315398Z",
     "start_time": "2023-07-25T11:38:19.313400Z"
    }
   },
   "outputs": [],
   "source": [
    "compressed"
   ]
  },
  {
   "cell_type": "code",
   "execution_count": 197,
   "metadata": {
    "ExecuteTime": {
     "end_time": "2023-07-25T14:14:05.305245Z",
     "start_time": "2023-07-25T14:14:05.284191Z"
    }
   },
   "outputs": [],
   "source": [
    "eigvecs.T"
   ]
  },
  {
   "cell_type": "code",
   "execution_count": 198,
   "metadata": {
    "ExecuteTime": {
     "end_time": "2023-07-25T14:14:06.374463Z",
     "start_time": "2023-07-25T14:14:06.372294Z"
    }
   },
   "outputs": [
    {
     "data": {
      "text/plain": [
       "array([[-0.6283503 ,  0.40632888,  0.38897577, -0.27750802,  0.11055367],\n",
       "       [ 1.69893069,  1.67759817,  0.56927194, -1.54783845, -2.39796236]])"
      ]
     },
     "execution_count": 198,
     "metadata": {},
     "output_type": "execute_result"
    }
   ],
   "source": [
    "compressed.T @ compressed"
   ]
  },
  {
   "cell_type": "code",
   "execution_count": 169,
   "metadata": {
    "ExecuteTime": {
     "end_time": "2023-07-25T13:52:25.291596Z",
     "start_time": "2023-07-25T13:52:25.277587Z"
    }
   },
   "outputs": [
    {
     "data": {
      "text/plain": [
       "array([[ 3.54269976e+00, -6.17412708e-18,  2.18893506e-16],\n",
       "       [-6.17412708e-18,  2.00115553e-01,  3.80474967e-17],\n",
       "       [ 2.18893506e-16,  3.80474967e-17,  7.18468923e-03]])"
      ]
     },
     "execution_count": 169,
     "metadata": {},
     "output_type": "execute_result"
    }
   ],
   "source": [
    "decompressed = compressed @ eigvecs.T"
   ]
  },
  {
   "cell_type": "code",
   "execution_count": 155,
   "metadata": {
    "ExecuteTime": {
     "end_time": "2023-07-25T11:38:50.648012Z",
     "start_time": "2023-07-25T11:38:50.646013Z"
    }
   },
   "outputs": [],
   "source": [
    "eigvecs.T"
   ]
  },
  {
   "cell_type": "code",
   "execution_count": 144,
   "metadata": {
    "ExecuteTime": {
     "end_time": "2023-07-25T11:33:55.548002Z",
     "start_time": "2023-07-25T11:33:55.546004Z"
    }
   },
   "outputs": [
    {
     "data": {
      "text/plain": [
       "array([[-0.56980625, -0.56903704, -0.59288927]])"
      ]
     },
     "execution_count": 144,
     "metadata": {},
     "output_type": "execute_result"
    }
   ],
   "source": [
    "np_table"
   ]
  },
  {
   "cell_type": "code",
   "execution_count": 145,
   "metadata": {
    "ExecuteTime": {
     "end_time": "2023-07-25T11:33:59.182668Z",
     "start_time": "2023-07-25T11:33:59.165943Z"
    }
   },
   "outputs": [
    {
     "data": {
      "text/plain": [
       "array([[-1.41421356, -0.52412801, -1.00331504],\n",
       "       [-0.70710678, -1.27887526, -0.92252794],\n",
       "       [ 0.        , -0.55179117, -0.43057336],\n",
       "       [ 0.70710678,  1.09750364,  0.87774292],\n",
       "       [ 1.41421356,  1.2572908 ,  1.47867342]])"
      ]
     },
     "execution_count": 145,
     "metadata": {},
     "output_type": "execute_result"
    }
   ],
   "source": [
    "np.linalg.pinv(eigvecs)"
   ]
  },
  {
   "cell_type": "code",
   "execution_count": 70,
   "metadata": {
    "ExecuteTime": {
     "end_time": "2023-07-25T10:58:01.597492Z",
     "start_time": "2023-07-25T10:58:01.537689Z"
    }
   },
   "outputs": [
    {
     "data": {
      "text/plain": [
       "array([[-0.57451639,  0.58177401,  0.57573425]])"
      ]
     },
     "execution_count": 70,
     "metadata": {},
     "output_type": "execute_result"
    }
   ],
   "source": [
    "denormalized = decompressed * vecT(np.std(np_table, axis=0)).T + vecT(np.mean(np_table, axis=0)).T"
   ]
  },
  {
   "cell_type": "code",
   "execution_count": 71,
   "metadata": {
    "ExecuteTime": {
     "end_time": "2023-07-25T10:58:02.388637Z",
     "start_time": "2023-07-25T10:58:02.386640Z"
    }
   },
   "outputs": [],
   "source": [
    "denormalized"
   ]
  },
  {
   "cell_type": "code",
   "execution_count": 156,
   "metadata": {
    "ExecuteTime": {
     "end_time": "2023-07-25T11:38:54.379354Z",
     "start_time": "2023-07-25T11:38:54.367528Z"
    }
   },
   "outputs": [
    {
     "data": {
      "text/plain": [
       "array([[-1.4, -0.5, -1. ],\n",
       "       [-0.7, -1.2, -1. ],\n",
       "       [-0.1, -0.6, -0.3],\n",
       "       [ 0.7,  1.1,  0.9],\n",
       "       [ 1.4,  1.3,  1.4]])"
      ]
     },
     "execution_count": 156,
     "metadata": {},
     "output_type": "execute_result"
    }
   ],
   "source": []

  }
 ],
 "metadata": {
  "kernelspec": {
   "display_name": "Python 3 (ipykernel)",
   "language": "python",
   "name": "python3"
  },
  "language_info": {
   "codemirror_mode": {
    "name": "ipython",
    "version": 3
   },
   "file_extension": ".py",
   "mimetype": "text/x-python",
   "name": "python",
   "nbconvert_exporter": "python",
   "pygments_lexer": "ipython3",
   "version": "3.11.4"
  }
 },
 "nbformat": 4,
 "nbformat_minor": 1
}
