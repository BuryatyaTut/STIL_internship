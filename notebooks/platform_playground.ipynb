{
 "cells": [
  {
   "cell_type": "code",
   "execution_count": 1,
   "outputs": [],
   "source": [
    "%load_ext autoreload\n",
    "%autoreload 2\n"
   ],
   "metadata": {
    "collapsed": false,
    "ExecuteTime": {
     "start_time": "2023-08-03T11:31:45.694035Z",
     "end_time": "2023-08-03T11:31:45.767166Z"
    }
   }
  },
  {
   "cell_type": "code",
   "execution_count": 2,
   "outputs": [
    {
     "name": "stdout",
     "output_type": "stream",
     "text": [
      "       end_epoch  start_epoch   value_1   value_2   value_3   value_4  \\\n",
      "0      -1.093613    -1.093653 -0.148909 -0.045718  0.405035  0.739331   \n",
      "1      -1.093613    -1.093653  0.036448  0.180207  0.476041  0.442334   \n",
      "2      -1.093613    -1.093653  0.221805  0.072797  0.250056  0.337667   \n",
      "3      -1.093613    -1.093653 -0.043766 -0.034602  0.331034  0.418943   \n",
      "4      -1.093613    -1.093653 -0.327570 -0.142001  0.412012  0.399642   \n",
      "...          ...          ...       ...       ...       ...       ...   \n",
      "29995   1.368312     1.368280  1.119352  0.926096 -0.171305 -0.018718   \n",
      "29996   1.368312     1.368280  0.654209  0.545036  0.164505  0.187604   \n",
      "29997   1.368312     1.368280 -0.315080 -0.050339  0.083778  0.257397   \n",
      "29998   1.368312     1.368280 -0.740307 -0.835399  0.247991  0.473119   \n",
      "29999   1.368312     1.368280 -0.599457 -0.510052  0.026275  0.244954   \n",
      "\n",
      "        value_5   value_6   value_7   value_8  ...  value_17  value_18  \\\n",
      "0      0.374292  0.393161  1.178961  1.176022  ...  0.890055  0.872235   \n",
      "1      0.374727  0.396080  1.179552  1.173793  ...  0.889592  0.872252   \n",
      "2      0.375160  0.398998  1.180143  1.171564  ...  0.889134  0.872268   \n",
      "3      0.375595  0.401920  1.180735  1.169334  ...  0.888675  0.872276   \n",
      "4      0.376027  0.404838  1.181325  1.167106  ...  0.888212  0.872293   \n",
      "...         ...       ...       ...       ...  ...       ...       ...   \n",
      "29995  0.237712  0.231573 -1.257246 -1.577724  ... -0.801946 -1.234886   \n",
      "29996  0.183797  0.176610 -1.257256 -1.577929  ... -0.802168 -1.234991   \n",
      "29997  0.129882  0.138075 -1.257266 -1.578135  ... -0.802390 -1.235089   \n",
      "29998  0.133043  0.144674 -1.257276 -1.578341  ... -0.802612 -1.235187   \n",
      "29999  0.144984  0.151274 -1.257285 -1.578546  ... -0.802833 -1.235293   \n",
      "\n",
      "       value_19  value_20  value_21  value_22  value_23  value_24  value_25  \\\n",
      "0      0.450429 -2.404967  0.430294  0.151448 -0.457697 -0.592428  1.214723   \n",
      "1      0.450429 -2.405775  0.397412  0.198701 -0.460018 -0.593758  1.215082   \n",
      "2      0.450429 -2.406584  0.709392  0.245960 -0.462339 -0.595088  1.215442   \n",
      "3      0.450429 -2.407393  0.460743  0.293213 -0.464660 -0.596444  1.215801   \n",
      "4      0.450429 -2.408201  0.672677  0.340466 -0.466981 -0.597774  1.216162   \n",
      "...         ...       ...       ...       ...       ...       ...       ...   \n",
      "29995 -0.614189  1.633016 -0.374348 -0.344256 -0.063378  1.005384 -1.327289   \n",
      "29996 -0.629447  1.633016 -0.554630 -0.403804 -0.097373  1.005802 -1.327510   \n",
      "29997 -0.644705  1.633016 -0.642443 -0.463351 -0.131367  1.006245 -1.327733   \n",
      "29998  0.822509  1.633016 -0.906085 -0.522892 -0.165362  1.006688 -1.327954   \n",
      "29999  0.990415  1.633016 -0.938916 -0.582439 -0.199356  1.007106 -1.328176   \n",
      "\n",
      "       value_26  \n",
      "0      1.258074  \n",
      "1      1.257726  \n",
      "2      1.257380  \n",
      "3      1.257034  \n",
      "4      1.256688  \n",
      "...         ...  \n",
      "29995 -1.393105  \n",
      "29996 -1.393955  \n",
      "29997 -1.394805  \n",
      "29998 -1.395655  \n",
      "29999 -1.396504  \n",
      "\n",
      "[29999 rows x 26 columns]\n",
      "filled 1\n",
      "filled 2\n",
      "filled 3\n",
      "filled 4\n",
      "filled 5\n",
      "filled 1\n",
      "filled 2\n",
      "filled 3\n",
      "filled 4\n",
      "filled 5\n"
     ]
    },
    {
     "name": "stderr",
     "output_type": "stream",
     "text": [
      "C:\\Users\\Admin\\STIL_internship\\src\\algo\\codec\\kmeans_1d.py:24: UserWarning: source array is unsorted, consider sorting it or we will do it ourselves\n",
      "  warnings.warn('source array is unsorted, consider sorting it or we will do it ourselves')\n"
     ]
    },
    {
     "name": "stdout",
     "output_type": "stream",
     "text": [
      "filled 1\n",
      "filled 2\n",
      "filled 3\n",
      "filled 4\n",
      "filled 5\n",
      "filled 6\n",
      "filled 7\n",
      "filled 8\n",
      "filled 9\n",
      "filled 10\n",
      "filled 11\n",
      "filled 12\n",
      "filled 13\n",
      "filled 14\n",
      "filled 15\n",
      "filled 16\n",
      "filled 17\n",
      "filled 18\n",
      "filled 19\n",
      "filled 20\n",
      "filled 21\n",
      "filled 22\n",
      "filled 23\n",
      "filled 24\n",
      "filled 25\n",
      "filled 26\n",
      "filled 27\n",
      "filled 28\n",
      "filled 29\n",
      "filled 30\n",
      "filled 31\n",
      "filled 32\n",
      "filled 33\n",
      "filled 34\n",
      "filled 35\n",
      "filled 36\n",
      "filled 37\n",
      "filled 38\n",
      "filled 39\n",
      "filled 40\n",
      "filled 41\n",
      "filled 42\n",
      "filled 43\n",
      "filled 44\n",
      "filled 45\n",
      "filled 46\n",
      "filled 47\n",
      "filled 48\n",
      "filled 49\n",
      "filled 50\n",
      "filled 51\n",
      "filled 52\n",
      "filled 53\n",
      "filled 54\n",
      "filled 55\n",
      "filled 56\n",
      "filled 57\n",
      "filled 58\n",
      "filled 59\n",
      "filled 60\n",
      "filled 61\n",
      "filled 62\n",
      "filled 63\n",
      "filled 64\n",
      "filled 65\n",
      "filled 66\n",
      "filled 67\n",
      "filled 68\n",
      "filled 69\n",
      "filled 70\n",
      "filled 71\n",
      "filled 72\n",
      "filled 73\n",
      "filled 74\n",
      "filled 75\n",
      "filled 76\n",
      "filled 77\n",
      "filled 78\n",
      "filled 79\n",
      "filled 80\n",
      "filled 81\n",
      "filled 82\n",
      "filled 83\n",
      "filled 84\n",
      "filled 85\n",
      "filled 86\n",
      "filled 87\n",
      "filled 88\n",
      "filled 89\n",
      "filled 90\n",
      "filled 91\n",
      "filled 92\n",
      "filled 93\n",
      "filled 94\n",
      "filled 95\n",
      "filled 96\n",
      "filled 97\n",
      "filled 98\n",
      "filled 99\n",
      "filled 100\n",
      "filled 101\n",
      "filled 102\n",
      "filled 103\n",
      "filled 104\n",
      "filled 105\n",
      "filled 106\n",
      "filled 107\n",
      "filled 108\n",
      "filled 109\n",
      "filled 110\n",
      "filled 111\n",
      "filled 112\n",
      "filled 113\n",
      "filled 114\n",
      "filled 115\n",
      "filled 116\n",
      "filled 117\n",
      "filled 118\n",
      "filled 119\n",
      "filled 120\n",
      "filled 121\n",
      "filled 122\n",
      "filled 123\n",
      "filled 124\n",
      "filled 125\n",
      "filled 126\n",
      "filled 127\n",
      "filled 128\n",
      "filled 129\n",
      "filled 130\n",
      "filled 131\n",
      "filled 132\n",
      "filled 133\n",
      "filled 134\n",
      "filled 135\n",
      "filled 136\n",
      "filled 137\n",
      "filled 138\n",
      "filled 139\n",
      "filled 140\n",
      "filled 141\n",
      "filled 142\n",
      "filled 143\n",
      "filled 144\n",
      "filled 145\n",
      "filled 146\n",
      "filled 147\n",
      "filled 148\n",
      "filled 149\n",
      "filled 150\n",
      "filled 151\n",
      "filled 152\n",
      "filled 153\n",
      "filled 154\n",
      "filled 155\n",
      "filled 156\n",
      "filled 157\n",
      "filled 158\n",
      "filled 159\n",
      "filled 160\n",
      "filled 161\n",
      "filled 162\n",
      "filled 163\n",
      "filled 164\n",
      "filled 165\n",
      "filled 166\n",
      "filled 167\n",
      "filled 168\n",
      "filled 169\n",
      "filled 170\n",
      "filled 171\n",
      "filled 172\n",
      "filled 173\n",
      "filled 174\n",
      "filled 175\n",
      "filled 176\n",
      "filled 177\n",
      "filled 178\n",
      "filled 179\n",
      "179 is good enough, se = 2.9803013738757422\n",
      "filled 1\n",
      "filled 2\n",
      "filled 3\n",
      "filled 4\n",
      "filled 5\n",
      "filled 6\n",
      "filled 7\n",
      "filled 8\n",
      "filled 9\n",
      "filled 10\n",
      "filled 11\n",
      "filled 12\n",
      "filled 13\n",
      "filled 14\n",
      "filled 15\n",
      "filled 16\n",
      "filled 17\n",
      "filled 18\n",
      "filled 19\n",
      "filled 20\n",
      "filled 21\n",
      "filled 22\n",
      "filled 23\n",
      "filled 24\n",
      "filled 25\n",
      "filled 26\n",
      "filled 27\n",
      "filled 28\n",
      "filled 29\n",
      "filled 30\n",
      "filled 31\n",
      "filled 32\n",
      "filled 33\n",
      "filled 34\n",
      "filled 35\n",
      "filled 36\n",
      "filled 37\n",
      "filled 38\n",
      "filled 39\n",
      "filled 40\n",
      "filled 41\n",
      "filled 42\n",
      "filled 43\n",
      "filled 44\n",
      "filled 45\n",
      "filled 46\n",
      "filled 47\n",
      "filled 48\n",
      "filled 49\n",
      "filled 50\n",
      "filled 51\n",
      "filled 52\n",
      "filled 53\n",
      "filled 54\n",
      "filled 55\n",
      "filled 56\n",
      "filled 57\n",
      "filled 58\n",
      "filled 59\n",
      "filled 60\n",
      "filled 61\n",
      "filled 62\n",
      "filled 63\n",
      "filled 64\n",
      "filled 65\n",
      "filled 66\n",
      "filled 67\n",
      "filled 68\n",
      "filled 69\n",
      "filled 70\n",
      "filled 71\n",
      "filled 72\n",
      "filled 73\n",
      "filled 74\n",
      "filled 75\n",
      "filled 76\n",
      "filled 77\n",
      "filled 78\n",
      "filled 79\n",
      "filled 80\n",
      "filled 81\n",
      "filled 82\n",
      "filled 83\n",
      "filled 84\n",
      "filled 85\n",
      "filled 86\n",
      "filled 87\n",
      "filled 88\n",
      "filled 89\n",
      "filled 90\n",
      "filled 91\n",
      "filled 92\n",
      "filled 93\n",
      "filled 94\n",
      "filled 95\n",
      "filled 96\n",
      "filled 97\n",
      "filled 98\n",
      "filled 99\n",
      "filled 100\n",
      "filled 101\n",
      "filled 102\n",
      "filled 103\n",
      "filled 104\n",
      "filled 105\n",
      "filled 106\n",
      "filled 107\n",
      "filled 108\n",
      "filled 109\n",
      "filled 110\n",
      "filled 111\n",
      "filled 112\n",
      "filled 113\n",
      "filled 114\n",
      "filled 115\n",
      "filled 116\n",
      "filled 117\n",
      "filled 118\n",
      "filled 119\n",
      "filled 120\n",
      "filled 121\n",
      "filled 122\n",
      "filled 123\n",
      "filled 124\n",
      "filled 125\n",
      "filled 126\n",
      "filled 127\n",
      "filled 128\n",
      "filled 129\n",
      "filled 130\n",
      "filled 131\n",
      "filled 132\n",
      "filled 133\n",
      "filled 134\n",
      "filled 135\n",
      "filled 136\n",
      "filled 137\n",
      "filled 138\n",
      "filled 139\n",
      "filled 140\n",
      "filled 141\n",
      "filled 142\n",
      "filled 143\n",
      "filled 144\n",
      "filled 145\n",
      "filled 146\n",
      "filled 147\n",
      "filled 148\n",
      "filled 149\n",
      "filled 150\n",
      "filled 151\n",
      "filled 152\n",
      "filled 153\n",
      "filled 154\n",
      "filled 155\n",
      "filled 156\n",
      "filled 157\n",
      "filled 158\n",
      "filled 159\n",
      "filled 160\n",
      "filled 161\n",
      "filled 162\n",
      "filled 163\n",
      "filled 164\n",
      "filled 165\n",
      "filled 166\n",
      "filled 167\n",
      "filled 168\n",
      "filled 169\n",
      "filled 170\n",
      "filled 171\n",
      "filled 172\n",
      "filled 173\n",
      "filled 174\n",
      "filled 175\n",
      "filled 176\n",
      "filled 177\n",
      "filled 178\n",
      "filled 179\n",
      "filled 180\n",
      "180 is good enough, se = 2.9924669853345423\n",
      "filled 1\n",
      "filled 2\n",
      "filled 3\n",
      "filled 4\n",
      "filled 5\n",
      "filled 6\n",
      "filled 7\n",
      "filled 8\n",
      "filled 9\n",
      "filled 10\n",
      "filled 11\n",
      "filled 12\n",
      "filled 13\n",
      "filled 14\n",
      "filled 15\n",
      "filled 16\n",
      "filled 17\n",
      "filled 18\n",
      "filled 19\n",
      "filled 20\n",
      "filled 21\n",
      "filled 22\n",
      "filled 23\n",
      "filled 24\n",
      "filled 25\n",
      "filled 26\n",
      "filled 27\n",
      "filled 28\n",
      "filled 29\n",
      "filled 30\n",
      "filled 31\n",
      "filled 32\n",
      "filled 33\n",
      "filled 34\n",
      "filled 35\n",
      "filled 36\n",
      "filled 37\n",
      "filled 38\n",
      "filled 39\n",
      "filled 40\n",
      "filled 41\n",
      "filled 42\n",
      "filled 43\n",
      "filled 44\n",
      "filled 45\n",
      "filled 46\n",
      "filled 47\n",
      "filled 48\n",
      "filled 49\n",
      "filled 50\n",
      "filled 51\n",
      "filled 52\n",
      "filled 53\n",
      "filled 54\n",
      "filled 55\n",
      "filled 56\n",
      "filled 57\n",
      "filled 58\n",
      "filled 59\n",
      "filled 60\n",
      "filled 61\n",
      "filled 62\n",
      "filled 63\n",
      "filled 64\n",
      "filled 65\n",
      "filled 66\n",
      "filled 67\n",
      "filled 68\n",
      "filled 69\n",
      "filled 70\n",
      "filled 71\n",
      "filled 72\n",
      "filled 73\n",
      "filled 74\n",
      "filled 75\n",
      "filled 76\n",
      "filled 77\n",
      "filled 78\n",
      "filled 79\n",
      "filled 80\n",
      "filled 81\n",
      "filled 82\n",
      "filled 83\n",
      "filled 84\n",
      "filled 85\n",
      "filled 86\n",
      "filled 87\n",
      "filled 88\n",
      "filled 89\n",
      "filled 90\n",
      "filled 91\n",
      "filled 92\n",
      "filled 93\n",
      "filled 94\n",
      "filled 95\n",
      "filled 96\n",
      "filled 97\n",
      "filled 98\n",
      "filled 99\n",
      "filled 100\n",
      "filled 101\n",
      "filled 102\n",
      "filled 103\n",
      "filled 104\n",
      "filled 105\n",
      "filled 106\n",
      "filled 107\n",
      "filled 108\n",
      "filled 109\n",
      "filled 110\n",
      "filled 111\n",
      "filled 112\n",
      "filled 113\n",
      "filled 114\n",
      "filled 115\n",
      "filled 116\n",
      "filled 117\n",
      "filled 118\n",
      "filled 119\n",
      "filled 120\n",
      "filled 121\n",
      "filled 122\n",
      "filled 123\n",
      "filled 124\n",
      "filled 125\n",
      "filled 126\n",
      "filled 127\n",
      "filled 128\n",
      "filled 129\n",
      "filled 130\n",
      "filled 131\n",
      "filled 132\n",
      "filled 133\n",
      "filled 134\n",
      "filled 135\n",
      "filled 136\n",
      "filled 137\n",
      "filled 138\n",
      "filled 139\n",
      "filled 140\n",
      "filled 141\n",
      "filled 142\n",
      "filled 143\n",
      "filled 144\n",
      "filled 145\n",
      "145 is good enough, se = 2.9574716521468645\n",
      "filled 1\n",
      "filled 2\n",
      "filled 3\n",
      "filled 4\n",
      "filled 5\n",
      "filled 6\n",
      "filled 7\n",
      "filled 8\n",
      "filled 9\n",
      "filled 10\n",
      "filled 11\n",
      "filled 12\n",
      "filled 13\n",
      "filled 14\n",
      "filled 15\n",
      "filled 16\n",
      "filled 17\n",
      "filled 18\n",
      "filled 19\n",
      "filled 20\n",
      "filled 21\n",
      "filled 22\n",
      "filled 23\n",
      "filled 24\n",
      "filled 25\n",
      "filled 26\n",
      "filled 27\n",
      "filled 28\n",
      "filled 29\n",
      "filled 30\n",
      "filled 31\n",
      "filled 32\n",
      "filled 33\n",
      "filled 34\n",
      "filled 35\n",
      "filled 36\n",
      "filled 37\n",
      "filled 38\n",
      "filled 39\n",
      "filled 40\n",
      "filled 41\n",
      "filled 42\n",
      "filled 43\n",
      "filled 44\n",
      "filled 45\n",
      "filled 46\n",
      "filled 47\n",
      "filled 48\n",
      "filled 49\n",
      "filled 50\n",
      "filled 51\n",
      "filled 52\n",
      "filled 53\n",
      "filled 54\n",
      "filled 55\n",
      "filled 56\n",
      "filled 57\n",
      "filled 58\n",
      "filled 59\n",
      "filled 60\n",
      "filled 61\n",
      "filled 62\n",
      "filled 63\n",
      "filled 64\n",
      "filled 65\n",
      "filled 66\n",
      "filled 67\n",
      "filled 68\n",
      "filled 69\n",
      "filled 70\n",
      "filled 71\n",
      "filled 72\n",
      "filled 73\n",
      "filled 74\n",
      "filled 75\n",
      "filled 76\n",
      "filled 77\n",
      "filled 78\n",
      "filled 79\n",
      "filled 80\n",
      "filled 81\n",
      "filled 82\n",
      "filled 83\n",
      "filled 84\n",
      "filled 85\n",
      "filled 86\n",
      "filled 87\n",
      "filled 88\n",
      "filled 89\n",
      "filled 90\n",
      "filled 91\n",
      "filled 92\n",
      "filled 93\n",
      "filled 94\n",
      "filled 95\n",
      "filled 96\n",
      "filled 97\n",
      "filled 98\n",
      "filled 99\n",
      "filled 100\n",
      "filled 101\n",
      "filled 102\n",
      "filled 103\n",
      "filled 104\n",
      "filled 105\n",
      "filled 106\n",
      "filled 107\n",
      "filled 108\n",
      "filled 109\n",
      "filled 110\n",
      "filled 111\n",
      "filled 112\n",
      "filled 113\n",
      "filled 114\n",
      "filled 115\n",
      "filled 116\n",
      "filled 117\n",
      "filled 118\n",
      "filled 119\n",
      "filled 120\n",
      "filled 121\n",
      "filled 122\n",
      "filled 123\n",
      "filled 124\n",
      "filled 125\n",
      "filled 126\n",
      "filled 127\n",
      "filled 128\n",
      "filled 129\n",
      "filled 130\n",
      "filled 131\n",
      "131 is good enough, se = 2.9659148933487596\n",
      "filled 1\n",
      "filled 2\n",
      "filled 3\n",
      "filled 4\n",
      "filled 5\n",
      "filled 6\n",
      "filled 7\n",
      "filled 8\n",
      "filled 9\n",
      "filled 10\n",
      "filled 11\n",
      "filled 12\n",
      "filled 13\n",
      "filled 14\n",
      "filled 15\n",
      "filled 16\n",
      "filled 17\n",
      "filled 18\n",
      "filled 19\n",
      "filled 20\n",
      "filled 21\n",
      "filled 22\n",
      "filled 23\n",
      "filled 24\n",
      "filled 25\n",
      "filled 26\n",
      "filled 27\n",
      "filled 28\n",
      "filled 29\n",
      "filled 30\n",
      "filled 31\n",
      "filled 32\n",
      "filled 33\n",
      "filled 34\n",
      "filled 35\n",
      "filled 36\n",
      "filled 37\n",
      "filled 38\n",
      "filled 39\n",
      "filled 40\n",
      "filled 41\n",
      "filled 42\n",
      "filled 43\n",
      "filled 44\n",
      "filled 45\n",
      "filled 46\n",
      "filled 47\n",
      "filled 48\n",
      "filled 49\n",
      "filled 50\n",
      "filled 51\n",
      "filled 52\n",
      "filled 53\n",
      "filled 54\n",
      "filled 55\n",
      "filled 56\n",
      "filled 57\n",
      "filled 58\n",
      "filled 59\n",
      "filled 60\n",
      "filled 61\n",
      "filled 62\n",
      "filled 63\n",
      "filled 64\n",
      "filled 65\n",
      "filled 66\n",
      "filled 67\n",
      "filled 68\n",
      "filled 69\n",
      "filled 70\n",
      "filled 71\n",
      "filled 72\n",
      "filled 73\n",
      "filled 74\n",
      "filled 75\n",
      "filled 76\n",
      "filled 77\n",
      "filled 78\n",
      "filled 79\n",
      "filled 80\n",
      "filled 81\n",
      "filled 82\n",
      "filled 83\n",
      "filled 84\n",
      "filled 85\n",
      "filled 86\n",
      "filled 87\n",
      "filled 88\n",
      "filled 89\n",
      "filled 90\n",
      "filled 91\n",
      "filled 92\n",
      "filled 93\n",
      "filled 94\n",
      "filled 95\n",
      "filled 96\n",
      "filled 97\n",
      "filled 98\n",
      "filled 99\n",
      "filled 100\n",
      "filled 101\n",
      "filled 102\n",
      "filled 103\n",
      "filled 104\n",
      "filled 105\n",
      "filled 106\n",
      "filled 107\n",
      "filled 108\n",
      "filled 109\n",
      "filled 110\n",
      "filled 111\n",
      "filled 112\n",
      "filled 113\n",
      "filled 114\n",
      "filled 115\n",
      "filled 116\n",
      "filled 117\n",
      "filled 118\n",
      "filled 119\n",
      "filled 120\n",
      "filled 121\n",
      "filled 122\n",
      "filled 123\n",
      "filled 124\n",
      "filled 125\n",
      "filled 126\n",
      "filled 127\n",
      "127 is good enough, se = 2.9839904668502255\n",
      "filled 1\n",
      "filled 2\n",
      "filled 3\n",
      "filled 4\n",
      "filled 5\n",
      "filled 6\n",
      "filled 7\n",
      "filled 8\n",
      "filled 9\n",
      "filled 10\n",
      "filled 11\n",
      "filled 12\n",
      "filled 13\n",
      "filled 14\n",
      "filled 15\n",
      "filled 16\n",
      "filled 17\n",
      "filled 18\n",
      "filled 19\n",
      "filled 20\n",
      "filled 21\n",
      "filled 22\n",
      "filled 23\n",
      "filled 24\n",
      "filled 25\n",
      "filled 26\n",
      "filled 27\n",
      "filled 28\n",
      "filled 29\n",
      "filled 30\n",
      "filled 31\n",
      "filled 32\n",
      "filled 33\n",
      "filled 34\n",
      "filled 35\n",
      "filled 36\n",
      "filled 37\n",
      "filled 38\n",
      "filled 39\n",
      "filled 40\n",
      "filled 41\n",
      "filled 42\n",
      "filled 43\n",
      "filled 44\n",
      "filled 45\n",
      "filled 46\n",
      "filled 47\n",
      "filled 48\n",
      "filled 49\n",
      "filled 50\n",
      "filled 51\n",
      "filled 52\n",
      "filled 53\n",
      "filled 54\n",
      "filled 55\n",
      "filled 56\n",
      "filled 57\n",
      "filled 58\n",
      "filled 59\n",
      "filled 60\n",
      "filled 61\n",
      "filled 62\n",
      "filled 63\n",
      "filled 64\n",
      "filled 65\n",
      "filled 66\n",
      "filled 67\n",
      "filled 68\n",
      "filled 69\n",
      "filled 70\n",
      "filled 71\n",
      "filled 72\n",
      "filled 73\n",
      "filled 74\n",
      "filled 75\n",
      "filled 76\n",
      "filled 77\n",
      "filled 78\n",
      "filled 79\n",
      "filled 80\n",
      "filled 81\n",
      "filled 82\n",
      "filled 83\n",
      "filled 84\n",
      "filled 85\n",
      "filled 86\n",
      "filled 87\n",
      "filled 88\n",
      "filled 89\n",
      "filled 90\n",
      "filled 91\n",
      "filled 92\n",
      "filled 93\n",
      "filled 94\n",
      "filled 95\n",
      "filled 96\n",
      "filled 97\n",
      "filled 98\n",
      "filled 99\n",
      "filled 100\n",
      "filled 101\n",
      "filled 102\n",
      "filled 103\n",
      "filled 104\n",
      "filled 105\n",
      "filled 106\n",
      "filled 107\n",
      "filled 108\n",
      "filled 109\n",
      "filled 110\n",
      "filled 111\n",
      "filled 112\n",
      "filled 113\n",
      "filled 114\n",
      "filled 115\n",
      "filled 116\n",
      "filled 117\n",
      "filled 118\n",
      "filled 119\n",
      "filled 120\n",
      "filled 121\n",
      "filled 122\n",
      "filled 123\n",
      "filled 124\n",
      "filled 125\n",
      "filled 126\n",
      "filled 127\n",
      "127 is good enough, se = 2.961448571861412\n",
      "filled 1\n",
      "filled 2\n",
      "filled 3\n",
      "filled 4\n",
      "filled 5\n",
      "filled 6\n",
      "filled 7\n",
      "filled 8\n",
      "filled 9\n",
      "filled 10\n",
      "filled 11\n",
      "filled 12\n",
      "filled 13\n",
      "filled 14\n",
      "filled 15\n",
      "filled 16\n",
      "filled 17\n",
      "filled 18\n",
      "filled 19\n",
      "filled 20\n",
      "filled 21\n",
      "filled 22\n",
      "filled 23\n",
      "filled 24\n",
      "filled 25\n",
      "filled 26\n",
      "filled 27\n",
      "filled 28\n",
      "filled 29\n",
      "filled 30\n",
      "filled 31\n",
      "filled 32\n",
      "filled 33\n",
      "filled 34\n",
      "filled 35\n",
      "filled 36\n",
      "filled 37\n",
      "filled 38\n",
      "filled 39\n",
      "filled 40\n",
      "filled 41\n",
      "filled 42\n",
      "filled 43\n",
      "filled 44\n",
      "filled 45\n",
      "filled 46\n",
      "filled 47\n",
      "filled 48\n",
      "filled 49\n",
      "filled 50\n",
      "filled 51\n",
      "filled 52\n",
      "filled 53\n"
     ]
    },
    {
     "ename": "KeyboardInterrupt",
     "evalue": "",
     "output_type": "error",
     "traceback": [
      "\u001B[1;31m---------------------------------------------------------------------------\u001B[0m",
      "\u001B[1;31mKeyboardInterrupt\u001B[0m                         Traceback (most recent call last)",
      "Cell \u001B[1;32mIn[2], line 13\u001B[0m\n\u001B[0;32m     11\u001B[0m \u001B[38;5;28;01mfor\u001B[39;00m proc \u001B[38;5;129;01min\u001B[39;00m Processes:\n\u001B[0;32m     12\u001B[0m     a \u001B[38;5;241m=\u001B[39m Scaffold(algo, proc, \u001B[38;5;124m\"\u001B[39m\u001B[38;5;124m../data/sample_dataset.csv\u001B[39m\u001B[38;5;124m\"\u001B[39m)\n\u001B[1;32m---> 13\u001B[0m     \u001B[43ma\u001B[49m\u001B[38;5;241;43m.\u001B[39;49m\u001B[43mstart\u001B[49m\u001B[43m(\u001B[49m\u001B[38;5;124;43m\"\u001B[39;49m\u001B[38;5;124;43mcompress\u001B[39;49m\u001B[38;5;124;43m\"\u001B[39;49m\u001B[43m,\u001B[49m\u001B[43m \u001B[49m\u001B[43mlogs\u001B[49m\u001B[38;5;241;43m=\u001B[39;49m\u001B[38;5;28;43;01mTrue\u001B[39;49;00m\u001B[43m)\u001B[49m\n\u001B[0;32m     14\u001B[0m     \u001B[38;5;28mprint\u001B[39m(a\u001B[38;5;241m.\u001B[39mbenchmark)\n\u001B[0;32m     15\u001B[0m     benchmarks\u001B[38;5;241m.\u001B[39mappend(a\u001B[38;5;241m.\u001B[39mbenchmark)\n",
      "File \u001B[1;32m~\\STIL_internship\\src\\scaffold\\__init__.py:52\u001B[0m, in \u001B[0;36mScaffold.start\u001B[1;34m(self, run_type, logs)\u001B[0m\n\u001B[0;32m     50\u001B[0m     \u001B[38;5;28mself\u001B[39m\u001B[38;5;241m.\u001B[39mtest()\n\u001B[0;32m     51\u001B[0m \u001B[38;5;28;01melif\u001B[39;00m run_type \u001B[38;5;241m==\u001B[39m \u001B[38;5;124m'\u001B[39m\u001B[38;5;124mcompress\u001B[39m\u001B[38;5;124m'\u001B[39m:\n\u001B[1;32m---> 52\u001B[0m     \u001B[38;5;28;43mself\u001B[39;49m\u001B[38;5;241;43m.\u001B[39;49m\u001B[43mpreprocess_and_compress\u001B[49m\u001B[43m(\u001B[49m\u001B[43m)\u001B[49m\n\u001B[0;32m     53\u001B[0m \u001B[38;5;28;01melif\u001B[39;00m run_type \u001B[38;5;241m==\u001B[39m \u001B[38;5;124m'\u001B[39m\u001B[38;5;124mdecompress\u001B[39m\u001B[38;5;124m'\u001B[39m:\n\u001B[0;32m     54\u001B[0m     \u001B[38;5;28mself\u001B[39m\u001B[38;5;241m.\u001B[39mdecompress_and_postprocess()\n",
      "File \u001B[1;32m~\\STIL_internship\\src\\scaffold\\__init__.py:60\u001B[0m, in \u001B[0;36mScaffold.measure_time.<locals>.decorator.<locals>.wrapper\u001B[1;34m(self, *args, **kwargs)\u001B[0m\n\u001B[0;32m     58\u001B[0m \u001B[38;5;28;01mdef\u001B[39;00m \u001B[38;5;21mwrapper\u001B[39m(\u001B[38;5;28mself\u001B[39m, \u001B[38;5;241m*\u001B[39margs, \u001B[38;5;241m*\u001B[39m\u001B[38;5;241m*\u001B[39mkwargs):\n\u001B[0;32m     59\u001B[0m     start_time \u001B[38;5;241m=\u001B[39m time\u001B[38;5;241m.\u001B[39mtime()\n\u001B[1;32m---> 60\u001B[0m     result \u001B[38;5;241m=\u001B[39m \u001B[43mfunc\u001B[49m\u001B[43m(\u001B[49m\u001B[38;5;28;43mself\u001B[39;49m\u001B[43m,\u001B[49m\u001B[43m \u001B[49m\u001B[38;5;241;43m*\u001B[39;49m\u001B[43margs\u001B[49m\u001B[43m,\u001B[49m\u001B[43m \u001B[49m\u001B[38;5;241;43m*\u001B[39;49m\u001B[38;5;241;43m*\u001B[39;49m\u001B[43mkwargs\u001B[49m\u001B[43m)\u001B[49m\n\u001B[0;32m     61\u001B[0m     end_time \u001B[38;5;241m=\u001B[39m time\u001B[38;5;241m.\u001B[39mtime()\n\u001B[0;32m     63\u001B[0m     \u001B[38;5;28;01mif\u001B[39;00m \u001B[38;5;28mgetattr\u001B[39m(\u001B[38;5;28mself\u001B[39m, flag):\n",
      "File \u001B[1;32m~\\STIL_internship\\src\\scaffold\\__init__.py:84\u001B[0m, in \u001B[0;36mScaffold.preprocess_and_compress\u001B[1;34m(self)\u001B[0m\n\u001B[0;32m     81\u001B[0m filenames \u001B[38;5;241m=\u001B[39m \u001B[38;5;28mself\u001B[39m\u001B[38;5;241m.\u001B[39mget_file_names()\n\u001B[0;32m     83\u001B[0m \u001B[38;5;28mself\u001B[39m\u001B[38;5;241m.\u001B[39mprocessing\u001B[38;5;241m.\u001B[39mdo_preprocess(\u001B[38;5;28mself\u001B[39m\u001B[38;5;241m.\u001B[39mtable_path, filenames[\u001B[38;5;124m'\u001B[39m\u001B[38;5;124mpreprocessed\u001B[39m\u001B[38;5;124m'\u001B[39m])\n\u001B[1;32m---> 84\u001B[0m \u001B[38;5;28;43mself\u001B[39;49m\u001B[38;5;241;43m.\u001B[39;49m\u001B[43malgorithm\u001B[49m\u001B[38;5;241;43m.\u001B[39;49m\u001B[43mcompress\u001B[49m\u001B[43m(\u001B[49m\u001B[43mfilenames\u001B[49m\u001B[43m[\u001B[49m\u001B[38;5;124;43m\"\u001B[39;49m\u001B[38;5;124;43mpreprocessed\u001B[39;49m\u001B[38;5;124;43m\"\u001B[39;49m\u001B[43m]\u001B[49m\u001B[43m,\u001B[49m\u001B[43m \u001B[49m\u001B[43mfilenames\u001B[49m\u001B[43m[\u001B[49m\u001B[38;5;124;43m\"\u001B[39;49m\u001B[38;5;124;43mcompressed\u001B[39;49m\u001B[38;5;124;43m\"\u001B[39;49m\u001B[43m]\u001B[49m\u001B[43m)\u001B[49m\n\u001B[0;32m     86\u001B[0m \u001B[38;5;28;01mif\u001B[39;00m \u001B[38;5;28mself\u001B[39m\u001B[38;5;241m.\u001B[39mlogs:\n\u001B[0;32m     87\u001B[0m     compression_rate \u001B[38;5;241m=\u001B[39m get_compression_rate_2(\u001B[38;5;28mself\u001B[39m\u001B[38;5;241m.\u001B[39mtable_path, filenames[\u001B[38;5;124m\"\u001B[39m\u001B[38;5;124mcompressed\u001B[39m\u001B[38;5;124m\"\u001B[39m])\n",
      "File \u001B[1;32m~\\STIL_internship\\src\\algo\\codec\\kmeans_1d.py:288\u001B[0m, in \u001B[0;36mKMeansLinearCompression.compress\u001B[1;34m(self, table_file_path, compressed_file_path)\u001B[0m\n\u001B[0;32m    285\u001B[0m \u001B[38;5;28;01mfor\u001B[39;00m column \u001B[38;5;129;01min\u001B[39;00m numeric\u001B[38;5;241m.\u001B[39mto_numpy()\u001B[38;5;241m.\u001B[39mT:\n\u001B[0;32m    286\u001B[0m     kmeans \u001B[38;5;241m=\u001B[39m KMeansLinear(column, np\u001B[38;5;241m.\u001B[39mceil(column\u001B[38;5;241m.\u001B[39msize \u001B[38;5;241m/\u001B[39m \u001B[38;5;28mself\u001B[39m\u001B[38;5;241m.\u001B[39mraw_compression_ratio), \u001B[38;5;28mself\u001B[39m\u001B[38;5;241m.\u001B[39mmax_rmse)\n\u001B[1;32m--> 288\u001B[0m     result \u001B[38;5;241m=\u001B[39m \u001B[43mkmeans\u001B[49m\u001B[38;5;241;43m.\u001B[39;49m\u001B[43mrun\u001B[49m\u001B[43m(\u001B[49m\u001B[43m)\u001B[49m\n\u001B[0;32m    289\u001B[0m     \u001B[38;5;28;01mdel\u001B[39;00m kmeans\u001B[38;5;241m.\u001B[39mS\n\u001B[0;32m    290\u001B[0m     \u001B[38;5;28;01mdel\u001B[39;00m kmeans\u001B[38;5;241m.\u001B[39mJ\n",
      "File \u001B[1;32m~\\STIL_internship\\src\\algo\\codec\\kmeans_1d.py:253\u001B[0m, in \u001B[0;36mKMeansLinear.run\u001B[1;34m(self)\u001B[0m\n\u001B[0;32m    250\u001B[0m \u001B[38;5;28;01mdef\u001B[39;00m \u001B[38;5;21mrun\u001B[39m(\u001B[38;5;28mself\u001B[39m) \u001B[38;5;241m-\u001B[39m\u001B[38;5;241m>\u001B[39m \u001B[38;5;28mdict\u001B[39m:\n\u001B[0;32m    252\u001B[0m     \u001B[38;5;28;01mif\u001B[39;00m \u001B[38;5;28mself\u001B[39m\u001B[38;5;241m.\u001B[39mnUnique \u001B[38;5;241m>\u001B[39m \u001B[38;5;241m1\u001B[39m:\n\u001B[1;32m--> 253\u001B[0m         \u001B[38;5;28;43mself\u001B[39;49m\u001B[38;5;241;43m.\u001B[39;49m\u001B[43mfill_dp_matrix\u001B[49m\u001B[43m(\u001B[49m\u001B[43m)\u001B[49m\n\u001B[0;32m    254\u001B[0m         result \u001B[38;5;241m=\u001B[39m \u001B[38;5;28mself\u001B[39m\u001B[38;5;241m.\u001B[39mbacktrack()\n\u001B[0;32m    255\u001B[0m         \u001B[38;5;66;03m# result[\"centers\"] += self.median\u001B[39;00m\n\u001B[0;32m    256\u001B[0m     \u001B[38;5;28;01melse\u001B[39;00m:\n",
      "File \u001B[1;32m~\\STIL_internship\\src\\algo\\codec\\kmeans_1d.py:219\u001B[0m, in \u001B[0;36mKMeansLinear.fill_dp_matrix\u001B[1;34m(self)\u001B[0m\n\u001B[0;32m    216\u001B[0m \u001B[38;5;28;01melse\u001B[39;00m:\n\u001B[0;32m    217\u001B[0m     imin \u001B[38;5;241m=\u001B[39m N \u001B[38;5;241m-\u001B[39m \u001B[38;5;241m1\u001B[39m  \u001B[38;5;66;03m# OG: No need to compute S[K-1][0] ... S[K-1][N-2]\u001B[39;00m\n\u001B[1;32m--> 219\u001B[0m \u001B[38;5;28;43mself\u001B[39;49m\u001B[38;5;241;43m.\u001B[39;49m\u001B[43mfill_row_q\u001B[49m\u001B[43m(\u001B[49m\u001B[43mimin\u001B[49m\u001B[43m,\u001B[49m\u001B[43m \u001B[49m\u001B[43mN\u001B[49m\u001B[43m \u001B[49m\u001B[38;5;241;43m-\u001B[39;49m\u001B[43m \u001B[49m\u001B[38;5;241;43m1\u001B[39;49m\u001B[43m,\u001B[49m\u001B[43m \u001B[49m\u001B[43mq\u001B[49m\u001B[43m)\u001B[49m\n\u001B[0;32m    220\u001B[0m \u001B[38;5;28mprint\u001B[39m(\u001B[38;5;124m\"\u001B[39m\u001B[38;5;124mfilled\u001B[39m\u001B[38;5;124m\"\u001B[39m, q)\n\u001B[0;32m    221\u001B[0m \u001B[38;5;28;01mif\u001B[39;00m max_se \u001B[38;5;241m>\u001B[39m\u001B[38;5;241m=\u001B[39m \u001B[38;5;28mself\u001B[39m\u001B[38;5;241m.\u001B[39mS[q \u001B[38;5;241m-\u001B[39m \u001B[38;5;241m1\u001B[39m, \u001B[38;5;241m-\u001B[39m\u001B[38;5;241m1\u001B[39m]:  \u001B[38;5;66;03m# early exit for when we found out q clusters is enough\u001B[39;00m\n",
      "File \u001B[1;32m~\\STIL_internship\\src\\algo\\codec\\kmeans_1d.py:192\u001B[0m, in \u001B[0;36mKMeansLinear.fill_row_q\u001B[1;34m(self, imin, imax, q)\u001B[0m\n\u001B[0;32m    190\u001B[0m \u001B[38;5;28;01mdef\u001B[39;00m \u001B[38;5;21mfill_row_q\u001B[39m(\u001B[38;5;28mself\u001B[39m, imin: \u001B[38;5;28mint\u001B[39m, imax: \u001B[38;5;28mint\u001B[39m, q: \u001B[38;5;28mint\u001B[39m):\n\u001B[0;32m    191\u001B[0m     js \u001B[38;5;241m=\u001B[39m np\u001B[38;5;241m.\u001B[39marange(q, imax \u001B[38;5;241m+\u001B[39m \u001B[38;5;241m1\u001B[39m)\n\u001B[1;32m--> 192\u001B[0m     \u001B[38;5;28;43mself\u001B[39;49m\u001B[38;5;241;43m.\u001B[39;49m\u001B[43mSMAWK\u001B[49m\u001B[43m(\u001B[49m\u001B[43mimin\u001B[49m\u001B[43m,\u001B[49m\u001B[43m \u001B[49m\u001B[43mimax\u001B[49m\u001B[43m,\u001B[49m\u001B[43m \u001B[49m\u001B[38;5;241;43m1\u001B[39;49m\u001B[43m,\u001B[49m\u001B[43m \u001B[49m\u001B[43mq\u001B[49m\u001B[43m,\u001B[49m\u001B[43m \u001B[49m\u001B[43mjs\u001B[49m\u001B[43m)\u001B[49m\n",
      "File \u001B[1;32m~\\STIL_internship\\src\\algo\\codec\\kmeans_1d.py:188\u001B[0m, in \u001B[0;36mKMeansLinear.SMAWK\u001B[1;34m(self, imin, imax, istep, q, js)\u001B[0m\n\u001B[0;32m    186\u001B[0m imax_odd \u001B[38;5;241m=\u001B[39m imin_odd \u001B[38;5;241m+\u001B[39m ((imax \u001B[38;5;241m-\u001B[39m imin_odd) \u001B[38;5;241m/\u001B[39m\u001B[38;5;241m/\u001B[39m istepx2) \u001B[38;5;241m*\u001B[39m istepx2\n\u001B[0;32m    187\u001B[0m \u001B[38;5;28mself\u001B[39m\u001B[38;5;241m.\u001B[39mSMAWK(imin_odd, imax_odd, istepx2, q, js_odd)\n\u001B[1;32m--> 188\u001B[0m \u001B[38;5;28;43mself\u001B[39;49m\u001B[38;5;241;43m.\u001B[39;49m\u001B[43mfill_even_positions\u001B[49m\u001B[43m(\u001B[49m\u001B[43mimin\u001B[49m\u001B[43m,\u001B[49m\u001B[43m \u001B[49m\u001B[43mimax\u001B[49m\u001B[43m,\u001B[49m\u001B[43m \u001B[49m\u001B[43mistep\u001B[49m\u001B[43m,\u001B[49m\u001B[43m \u001B[49m\u001B[43mq\u001B[49m\u001B[43m,\u001B[49m\u001B[43m \u001B[49m\u001B[43mjs\u001B[49m\u001B[43m)\u001B[49m\n",
      "File \u001B[1;32m~\\STIL_internship\\src\\algo\\codec\\kmeans_1d.py:166\u001B[0m, in \u001B[0;36mKMeansLinear.fill_even_positions\u001B[1;34m(self, imin, imax, istep, q, js)\u001B[0m\n\u001B[0;32m    163\u001B[0m     r \u001B[38;5;241m+\u001B[39m\u001B[38;5;241m=\u001B[39m \u001B[38;5;241m1\u001B[39m\n\u001B[0;32m    164\u001B[0m     \u001B[38;5;28;01mcontinue\u001B[39;00m\n\u001B[1;32m--> 166\u001B[0m s \u001B[38;5;241m=\u001B[39m \u001B[38;5;28;43mself\u001B[39;49m\u001B[38;5;241;43m.\u001B[39;49m\u001B[43mssq\u001B[49m\u001B[43m(\u001B[49m\u001B[43mjabs\u001B[49m\u001B[43m,\u001B[49m\u001B[43m \u001B[49m\u001B[43mi\u001B[49m\u001B[43m)\u001B[49m\n\u001B[0;32m    167\u001B[0m Sj \u001B[38;5;241m=\u001B[39m \u001B[38;5;28mself\u001B[39m\u001B[38;5;241m.\u001B[39mS[q \u001B[38;5;241m-\u001B[39m \u001B[38;5;241m1\u001B[39m, jabs \u001B[38;5;241m-\u001B[39m \u001B[38;5;241m1\u001B[39m] \u001B[38;5;241m+\u001B[39m s\n\u001B[0;32m    169\u001B[0m \u001B[38;5;28;01mif\u001B[39;00m Sj \u001B[38;5;241m<\u001B[39m\u001B[38;5;241m=\u001B[39m \u001B[38;5;28mself\u001B[39m\u001B[38;5;241m.\u001B[39mS[q, i]:\n",
      "File \u001B[1;32m~\\STIL_internship\\src\\algo\\codec\\kmeans_1d.py:50\u001B[0m, in \u001B[0;36mKMeansLinear.ssq\u001B[1;34m(self, j, i)\u001B[0m\n\u001B[0;32m     47\u001B[0m \u001B[38;5;28;01mdef\u001B[39;00m \u001B[38;5;21mis_sorted\u001B[39m(\u001B[38;5;28mself\u001B[39m):\n\u001B[0;32m     48\u001B[0m     \u001B[38;5;28;01mreturn\u001B[39;00m np\u001B[38;5;241m.\u001B[39mall(\u001B[38;5;28mself\u001B[39m\u001B[38;5;241m.\u001B[39mx[:\u001B[38;5;241m-\u001B[39m\u001B[38;5;241m1\u001B[39m] \u001B[38;5;241m<\u001B[39m\u001B[38;5;241m=\u001B[39m \u001B[38;5;28mself\u001B[39m\u001B[38;5;241m.\u001B[39mx[\u001B[38;5;241m1\u001B[39m:])\n\u001B[1;32m---> 50\u001B[0m \u001B[38;5;28;01mdef\u001B[39;00m \u001B[38;5;21mssq\u001B[39m(\u001B[38;5;28mself\u001B[39m, j: \u001B[38;5;28mint\u001B[39m, i: \u001B[38;5;28mint\u001B[39m) \u001B[38;5;241m-\u001B[39m\u001B[38;5;241m>\u001B[39m \u001B[38;5;28mfloat\u001B[39m:\n\u001B[0;32m     51\u001B[0m     \u001B[38;5;66;03m# print(\"i, j\", i, j)\u001B[39;00m\n\u001B[0;32m     52\u001B[0m     \u001B[38;5;28;01mif\u001B[39;00m j \u001B[38;5;241m>\u001B[39m\u001B[38;5;241m=\u001B[39m i:\n\u001B[0;32m     53\u001B[0m         \u001B[38;5;28;01mreturn\u001B[39;00m \u001B[38;5;241m0\u001B[39m\n",
      "\u001B[1;31mKeyboardInterrupt\u001B[0m: "
     ]
    }
   ],
   "source": [
    "\n",
    "from algo.codec.kmeans_1d import KMeansLinearCompression\n",
    "from algo.process.normalize import NormalizeProcessing\n",
    "from scaffold import Scaffold\n",
    "import numpy as np\n",
    "np.seterr(all='warn')\n",
    "#np.seterr(all='raise') # something breaks on the large dataset\n",
    "benchmarks = []\n",
    "Algos = [KMeansLinearCompression(max_rmse=0.01)]\n",
    "Processes = [NormalizeProcessing()]\n",
    "for algo in Algos:\n",
    "    for proc in Processes:\n",
    "        a = Scaffold(algo, proc, \"../data/sample_dataset.csv\")\n",
    "        a.start(\"compress\", logs=True)\n",
    "        print(a.benchmark)\n",
    "        benchmarks.append(a.benchmark)\n",
    "        print(\"---------------------\")"
   ],
   "metadata": {
    "collapsed": false,
    "ExecuteTime": {
     "start_time": "2023-07-20T17:48:06.047355Z",
     "end_time": "2023-07-20T18:16:50.712016Z"
    }
   }
  },
  {
   "cell_type": "code",
   "execution_count": null,
   "outputs": [],
   "source": [
    "from scaffold.json import json_scaffold\n",
    "json_scaffold(\"plug_config.json\")"
   ],
   "metadata": {
    "collapsed": false
   }
  },
  {
   "cell_type": "code",
   "execution_count": null,
   "outputs": [],
   "source": [],
   "metadata": {
    "collapsed": false
   }
  },
  {
   "cell_type": "code",
   "execution_count": null,
   "outputs": [],
   "source": [
    "from plot import plot_benchmarks\n",
    "\n",
    "plot_benchmarks(benchmarks, \"loss_rate\")\n",
    "for i in benchmarks:\n",
    "    print(i[\"loss_rate\"])\n",
    "print(benchmarks)"
   ],
   "metadata": {
    "collapsed": false,
    "ExecuteTime": {
     "start_time": "2023-07-20T18:28:06.749156Z",
     "end_time": "2023-07-20T18:28:06.924524Z"
    }
   }
  },
  {
   "cell_type": "code",
   "execution_count": null,
   "outputs": [],
   "source": [
    "plot_benchmarks(benchmarks, \"compression_rate\")"
   ],
   "metadata": {
    "collapsed": false,
    "ExecuteTime": {
     "start_time": "2023-07-20T18:28:16.070506Z",
     "end_time": "2023-07-20T18:28:16.444401Z"
    }
   }
  },
  {
   "cell_type": "code",
   "execution_count": null,
   "outputs": [],
   "source": [
    "from plot import plot_scatter\n",
    "\n",
    "plot_scatter(benchmarks, \"test_time\")"
   ],
   "metadata": {
    "collapsed": false,
    "ExecuteTime": {
     "start_time": "2023-07-10T12:33:19.323900Z",
     "end_time": "2023-07-10T12:33:19.581559Z"
    }
   }
  },
  {
   "cell_type": "code",
   "execution_count": null,
   "outputs": [],
   "source": [
    "from plot import plot_hist\n",
    "\n",
    "plot_hist(benchmarks, \"test_time\")"
   ],
   "metadata": {
    "collapsed": false,
    "ExecuteTime": {
     "start_time": "2023-07-10T12:36:06.058621Z",
     "end_time": "2023-07-10T12:36:06.291234Z"
    }
   }
  },
  {
   "cell_type": "code",
   "execution_count": null,
   "outputs": [],
   "source": [
    "from generator.normal_multivariate import NormalMultivariateDistributionGenerator\n",
    "gen = NormalMultivariateDistributionGenerator()\n",
    "gen.gen([0,0], [[1, 0], [0, 1]], (2,))"
   ],
   "metadata": {
    "collapsed": false,
    "ExecuteTime": {
     "start_time": "2023-07-10T15:21:50.758561Z",
     "end_time": "2023-07-10T15:21:50.845954Z"
    }
   }
  },
  {
   "cell_type": "code",
   "execution_count": 123,
   "outputs": [],
   "source": [
    "import numpy as np\n",
    "import pandas as pd\n",
    "df = pd.read_csv(\"../data/smoke_detection_iot.csv\").iloc[:5, [0, 2, 3, 6, 7, 8, 14]]\n",
    "np_table = df.to_numpy()"
   ],
   "metadata": {
    "collapsed": false,
    "ExecuteTime": {
     "start_time": "2023-07-25T11:14:11.402469Z",
     "end_time": "2023-07-25T11:14:11.425330Z"
    }
   }
  },
  {
   "cell_type": "code",
   "execution_count": 123,
   "outputs": [],
   "source": [
    "df"
   ],
   "metadata": {
    "collapsed": false,
    "ExecuteTime": {
     "start_time": "2023-07-25T11:14:11.719815Z",
     "end_time": "2023-07-25T11:14:11.721813Z"
    }
   }
  },
  {
   "cell_type": "code",
   "execution_count": 130,
   "outputs": [
    {
     "data": {
      "text/plain": "array([[-1.4, -0.5, -1. ],\n       [-0.7, -1.3, -0.9],\n       [ 0. , -0.6, -0.4],\n       [ 0.7,  1.1,  0.9],\n       [ 1.4,  1.3,  1.5]])"
     },
     "execution_count": 130,
     "metadata": {},
     "output_type": "execute_result"
    }
   ],
   "source": [
    "np_table = (np_table - vecT(np.mean(np_table, axis=0)).T) / vecT(np.std(np_table, axis=0)).T"
   ],
   "metadata": {
    "collapsed": false,
    "ExecuteTime": {
     "start_time": "2023-07-25T11:14:39.924822Z",
     "end_time": "2023-07-25T11:14:39.940466Z"
    }
   }
  },
  {
   "cell_type": "code",
   "execution_count": 125,
   "outputs": [],
   "source": [
    "def vecT(vec):\n",
    "    return np.array(vec)[np.newaxis].T"
   ],
   "metadata": {
    "collapsed": false,
    "ExecuteTime": {
     "start_time": "2023-07-25T11:14:12.596517Z",
     "end_time": "2023-07-25T11:14:12.598515Z"
    }
   }
  },
  {
   "cell_type": "code",
   "execution_count": 126,
   "outputs": [],
   "source": [
    "np_table = np_table.T"
   ],
   "metadata": {
    "collapsed": false,
    "ExecuteTime": {
     "start_time": "2023-07-25T11:14:13.015463Z",
     "end_time": "2023-07-25T11:14:13.045895Z"
    }
   }
  },
  {
   "cell_type": "code",
   "execution_count": 126,
   "outputs": [],
   "source": [
    "np_table"
   ],
   "metadata": {
    "collapsed": false,
    "ExecuteTime": {
     "start_time": "2023-07-25T11:14:13.391277Z",
     "end_time": "2023-07-25T11:14:13.393275Z"
    }
   }
  },
  {
   "cell_type": "code",
   "execution_count": 127,
   "outputs": [
    {
     "data": {
      "text/plain": "array([[-1.4, -0.7,  0. ,  0.7,  1.4],\n       [-0.5, -1.3, -0.6,  1.1,  1.3],\n       [-1. , -0.9, -0.4,  0.9,  1.5]])"
     },
     "execution_count": 127,
     "metadata": {},
     "output_type": "execute_result"
    }
   ],
   "source": [
    "covy = np_table.T @ np_table / np_table.shape[0]"
   ],
   "metadata": {
    "collapsed": false,
    "ExecuteTime": {
     "start_time": "2023-07-25T11:14:13.622659Z",
     "end_time": "2023-07-25T11:14:13.636634Z"
    }
   }
  },
  {
   "cell_type": "code",
   "execution_count": 202,
   "outputs": [],
   "source": [
    "covy"
   ],
   "metadata": {
    "collapsed": false,
    "ExecuteTime": {
     "start_time": "2023-07-25T14:14:47.621305Z",
     "end_time": "2023-07-25T14:14:47.636334Z"
    }
   }
  },
  {
   "cell_type": "code",
   "execution_count": 203,
   "outputs": [
    {
     "data": {
      "text/plain": "array([[1. , 0.8, 1. ],\n       [0.8, 1. , 1. ],\n       [1. , 1. , 1. ]])"
     },
     "execution_count": 203,
     "metadata": {},
     "output_type": "execute_result"
    }
   ],
   "source": [
    "eigvals, eigvecs = np.linalg.eig(covy)"
   ],
   "metadata": {
    "collapsed": false,
    "ExecuteTime": {
     "start_time": "2023-07-25T14:14:47.986727Z",
     "end_time": "2023-07-25T14:14:48.011456Z"
    }
   }
  },
  {
   "cell_type": "code",
   "execution_count": 201,
   "outputs": [],
   "source": [
    "eigvecs = eigvecs[:, :3]"
   ],
   "metadata": {
    "collapsed": false,
    "ExecuteTime": {
     "start_time": "2023-07-25T14:14:27.532197Z",
     "end_time": "2023-07-25T14:14:27.551150Z"
    }
   }
  },
  {
   "cell_type": "code",
   "execution_count": 191,
   "outputs": [
    {
     "data": {
      "text/plain": "array([[ 0.70137266, -0.56980625],\n       [-0.71272483, -0.56903704],\n       [ 0.00998552, -0.59288927]])"
     },
     "execution_count": 191,
     "metadata": {},
     "output_type": "execute_result"
    }
   ],
   "source": [
    "eigvals = eigvals[:3]"
   ],
   "metadata": {
    "collapsed": false,
    "ExecuteTime": {
     "start_time": "2023-07-25T14:10:58.669355Z",
     "end_time": "2023-07-25T14:10:58.699389Z"
    }
   }
  },
  {
   "cell_type": "code",
   "execution_count": 188,
   "outputs": [],
   "source": [
    "eigvecs"
   ],
   "metadata": {
    "collapsed": false,
    "ExecuteTime": {
     "start_time": "2023-07-25T14:10:50.723771Z",
     "end_time": "2023-07-25T14:10:50.736798Z"
    }
   }
  },
  {
   "cell_type": "code",
   "execution_count": 189,
   "outputs": [],
   "source": [
    "vecT(eigvals).T"
   ],
   "metadata": {
    "collapsed": false,
    "ExecuteTime": {
     "start_time": "2023-07-25T14:10:51.214909Z",
     "end_time": "2023-07-25T14:10:51.228874Z"
    }
   }
  },
  {
   "cell_type": "code",
   "execution_count": 190,
   "outputs": [
    {
     "data": {
      "text/plain": "array([[ 0.7, -0.6],\n       [-0.7, -0.6],\n       [ 0. , -0.6]])"
     },
     "execution_count": 190,
     "metadata": {},
     "output_type": "execute_result"
    }
   ],
   "source": [
    "np_table"
   ],
   "metadata": {
    "collapsed": false,
    "ExecuteTime": {
     "start_time": "2023-07-25T14:10:51.960067Z",
     "end_time": "2023-07-25T14:10:51.973681Z"
    }
   }
  },
  {
   "cell_type": "code",
   "execution_count": 192,
   "outputs": [
    {
     "data": {
      "text/plain": "array([[0.2, 2.8]])"
     },
     "execution_count": 192,
     "metadata": {},
     "output_type": "execute_result"
    }
   ],
   "source": [
    "compressed = np_table @ eigvecs"
   ],
   "metadata": {
    "collapsed": false,
    "ExecuteTime": {
     "start_time": "2023-07-25T14:11:15.915579Z",
     "end_time": "2023-07-25T14:11:15.933941Z"
    }
   }
  },
  {
   "cell_type": "code",
   "execution_count": 153,
   "outputs": [],
   "source": [
    "compressed"
   ],
   "metadata": {
    "collapsed": false,
    "ExecuteTime": {
     "start_time": "2023-07-25T11:38:19.313400Z",
     "end_time": "2023-07-25T11:38:19.315398Z"
    }
   }
  },
  {
   "cell_type": "code",
   "execution_count": 197,
   "outputs": [],
   "source": [
    "eigvecs.T"
   ],
   "metadata": {
    "collapsed": false,
    "ExecuteTime": {
     "start_time": "2023-07-25T14:14:05.284191Z",
     "end_time": "2023-07-25T14:14:05.305245Z"
    }
   }
  },
  {
   "cell_type": "code",
   "execution_count": 198,
   "outputs": [
    {
     "data": {
      "text/plain": "array([[-0.6283503 ,  0.40632888,  0.38897577, -0.27750802,  0.11055367],\n       [ 1.69893069,  1.67759817,  0.56927194, -1.54783845, -2.39796236]])"
     },
     "execution_count": 198,
     "metadata": {},
     "output_type": "execute_result"
    }
   ],
   "source": [
    "compressed.T @ compressed"
   ],
   "metadata": {
    "collapsed": false,
    "ExecuteTime": {
     "start_time": "2023-07-25T14:14:06.372294Z",
     "end_time": "2023-07-25T14:14:06.374463Z"
    }
   }
  },
  {
   "cell_type": "code",
   "execution_count": 169,
   "outputs": [
    {
     "data": {
      "text/plain": "array([[ 3.54269976e+00, -6.17412708e-18,  2.18893506e-16],\n       [-6.17412708e-18,  2.00115553e-01,  3.80474967e-17],\n       [ 2.18893506e-16,  3.80474967e-17,  7.18468923e-03]])"
     },
     "execution_count": 169,
     "metadata": {},
     "output_type": "execute_result"
    }
   ],
   "source": [
    "decompressed = compressed @ eigvecs.T"
   ],
   "metadata": {
    "collapsed": false,
    "ExecuteTime": {
     "start_time": "2023-07-25T13:52:25.277587Z",
     "end_time": "2023-07-25T13:52:25.291596Z"
    }
   }
  },
  {
   "cell_type": "code",
   "execution_count": 155,
   "outputs": [],
   "source": [
    "eigvecs.T"
   ],
   "metadata": {
    "collapsed": false,
    "ExecuteTime": {
     "start_time": "2023-07-25T11:38:50.646013Z",
     "end_time": "2023-07-25T11:38:50.648012Z"
    }
   }
  },
  {
   "cell_type": "code",
   "execution_count": 144,
   "outputs": [
    {
     "data": {
      "text/plain": "array([[-0.56980625, -0.56903704, -0.59288927]])"
     },
     "execution_count": 144,
     "metadata": {},
     "output_type": "execute_result"
    }
   ],
   "source": [
    "np_table"
   ],
   "metadata": {
    "collapsed": false,
    "ExecuteTime": {
     "start_time": "2023-07-25T11:33:55.546004Z",
     "end_time": "2023-07-25T11:33:55.548002Z"
    }
   }
  },
  {
   "cell_type": "code",
   "execution_count": 145,
   "outputs": [
    {
     "data": {
      "text/plain": "array([[-1.41421356, -0.52412801, -1.00331504],\n       [-0.70710678, -1.27887526, -0.92252794],\n       [ 0.        , -0.55179117, -0.43057336],\n       [ 0.70710678,  1.09750364,  0.87774292],\n       [ 1.41421356,  1.2572908 ,  1.47867342]])"
     },
     "execution_count": 145,
     "metadata": {},
     "output_type": "execute_result"
    }
   ],
   "source": [
    "np.linalg.pinv(eigvecs)"
   ],
   "metadata": {
    "collapsed": false,
    "ExecuteTime": {
     "start_time": "2023-07-25T11:33:59.165943Z",
     "end_time": "2023-07-25T11:33:59.182668Z"
    }
   }
  },
  {
   "cell_type": "code",
   "execution_count": 70,
   "outputs": [
    {
     "data": {
      "text/plain": "array([[-0.57451639,  0.58177401,  0.57573425]])"
     },
     "execution_count": 70,
     "metadata": {},
     "output_type": "execute_result"
    }
   ],
   "source": [
    "denormalized = decompressed * vecT(np.std(np_table, axis=0)).T + vecT(np.mean(np_table, axis=0)).T"
   ],
   "metadata": {
    "collapsed": false,
    "ExecuteTime": {
     "start_time": "2023-07-25T10:58:01.537689Z",
     "end_time": "2023-07-25T10:58:01.597492Z"
    }
   }
  },
  {
   "cell_type": "code",
   "execution_count": 71,
   "outputs": [],
   "source": [
    "denormalized"
   ],
   "metadata": {
    "collapsed": false,
    "ExecuteTime": {
     "start_time": "2023-07-25T10:58:02.386640Z",
     "end_time": "2023-07-25T10:58:02.388637Z"
    }
   }
  },
  {
   "cell_type": "code",
   "execution_count": 156,
   "outputs": [
    {
     "data": {
      "text/plain": "array([[-1.4, -0.5, -1. ],\n       [-0.7, -1.2, -1. ],\n       [-0.1, -0.6, -0.3],\n       [ 0.7,  1.1,  0.9],\n       [ 1.4,  1.3,  1.4]])"
     },
     "execution_count": 156,
     "metadata": {},
     "output_type": "execute_result"
    }
   ],
   "source": [],
   "metadata": {
    "collapsed": false,
    "ExecuteTime": {
     "start_time": "2023-07-25T11:38:54.367528Z",
     "end_time": "2023-07-25T11:38:54.379354Z"
    }
   }
  }
 ],
 "metadata": {
  "kernelspec": {
   "display_name": "Python 3",
   "language": "python",
   "name": "python3"
  },
  "language_info": {
   "codemirror_mode": {
    "name": "ipython",
    "version": 2
   },
   "file_extension": ".py",
   "mimetype": "text/x-python",
   "name": "python",
   "nbconvert_exporter": "python",
   "pygments_lexer": "ipython2",
   "version": "2.7.6"
  }
 },
 "nbformat": 4,
 "nbformat_minor": 0
}
