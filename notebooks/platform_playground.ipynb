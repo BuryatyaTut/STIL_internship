{
 "cells": [
  {
   "cell_type": "code",
   "execution_count": 1,
   "metadata": {
    "ExecuteTime": {
     "end_time": "2023-08-03T18:59:02.831118Z",
     "start_time": "2023-08-03T18:59:02.753479Z"
    }
   },
   "outputs": [],
   "source": [
    "%load_ext autoreload\n",
    "%autoreload 2"
   ]
  },
  {
   "cell_type": "code",
   "execution_count": null,
   "outputs": [],
   "source": [
    "%reset"
   ],
   "metadata": {
    "collapsed": false
   }
  },
  {
   "cell_type": "code",
   "execution_count": 1,
   "metadata": {
    "ExecuteTime": {
     "start_time": "2023-08-07T11:38:09.664657Z",
     "end_time": "2023-08-07T11:38:09.669647Z"
    }
   },
   "outputs": [],
   "source": []
  },
  {
   "cell_type": "code",
   "execution_count": 1,
   "metadata": {
    "ExecuteTime": {
     "start_time": "2023-08-07T13:03:11.310104Z",
     "end_time": "2023-08-07T13:03:11.715976Z"
    }
   },
   "outputs": [],
   "source": [
    "import numpy as np\n",
    "import pandas as pd"
   ]
  },
  {
   "cell_type": "code",
   "execution_count": 8,
   "metadata": {
    "ExecuteTime": {
     "end_time": "2023-08-04T12:05:03.156590Z",
     "start_time": "2023-08-04T12:05:01.937742Z"
    }
   },
   "outputs": [],
   "source": [
    "array = pd.Series(np.random.default_rng().uniform(-10000, 10000, (500000,)))\n",
    "array.to_csv(\"../data/uniform_distribution.csv\")"
   ]
  },
  {
   "cell_type": "code",
   "execution_count": 1,
   "outputs": [],
   "source": [
    "cutoff_list = [1000, 5000, 10000, 20000, 50000, 100000]"
   ],
   "metadata": {
    "collapsed": false,
    "ExecuteTime": {
     "start_time": "2023-08-07T13:31:15.012627Z",
     "end_time": "2023-08-07T13:31:15.014729Z"
    }
   }
  },
  {
   "cell_type": "code",
   "execution_count": 11,
   "outputs": [
    {
     "data": {
      "text/plain": "False"
     },
     "execution_count": 11,
     "metadata": {},
     "output_type": "execute_result"
    }
   ],
   "source": [
    "df = pd.read_csv('../data/sample_dataset_big.csv')\n",
    "for cutoff in cutoff_list:\n",
    "    df.iloc[:cutoff].to_csv(f'../data/sample_dataset_{cutoff}.csv')"
   ],
   "metadata": {
    "collapsed": false,
    "ExecuteTime": {
     "start_time": "2023-08-07T12:06:27.953050Z",
     "end_time": "2023-08-07T12:06:30.254162Z"
    }
   }
  },
  {
   "cell_type": "code",
   "execution_count": 2,
   "metadata": {
    "ExecuteTime": {
     "end_time": "2023-08-04T12:36:52.944427Z",
     "start_time": "2023-08-04T12:07:40.009446Z"
    }
   },
   "outputs": [
    {
     "name": "stdout",
     "output_type": "stream",
     "text": [
      "     Unnamed: 0  end_epoch  start_epoch   value_1   value_2   value_3  \\\n",
      "0     -1.729454        0.0          0.0 -0.153040 -0.011557  0.770365   \n",
      "1     -1.725992        0.0          0.0  0.071861  0.266374  0.978824   \n",
      "2     -1.722530        0.0          0.0  0.296762  0.134240  0.315383   \n",
      "3     -1.719067        0.0          0.0 -0.025465  0.002118  0.553116   \n",
      "4     -1.715605        0.0          0.0 -0.369816 -0.130004  0.790849   \n",
      "..          ...        ...          ...       ...       ...       ...   \n",
      "995    1.715605        0.0          0.0  0.085118 -0.015165 -0.769284   \n",
      "996    1.719067        0.0          0.0  0.203182  0.054739 -1.037361   \n",
      "997    1.722530        0.0          0.0 -0.812186 -0.343020 -1.176113   \n",
      "998    1.725992        0.0          0.0 -0.993082 -0.977510 -0.024313   \n",
      "999    1.729454        0.0          0.0 -0.707647 -0.748857 -0.093358   \n",
      "\n",
      "      value_4   value_5   value_6   value_7  ...  value_17  value_18  \\\n",
      "0    1.932744 -0.571688 -0.526256  0.329461  ...  1.605266 -1.730368   \n",
      "1    1.088102 -0.569597 -0.512196  0.332790  ...  1.602259 -1.725958   \n",
      "2    0.790437 -0.567520 -0.498136  0.336120  ...  1.599284 -1.721562   \n",
      "3    1.021581 -0.565429 -0.484061  0.339455  ...  1.596308 -1.719372   \n",
      "4    0.966688 -0.563353 -0.470001  0.342784  ...  1.593301 -1.714962   \n",
      "..        ...       ...       ...       ...  ...       ...       ...   \n",
      "995 -1.120294  0.824907  0.849341 -2.156089  ... -1.846499  1.715551   \n",
      "996 -1.087080  0.833499  0.843981 -2.159742  ... -1.850539  1.719946   \n",
      "997 -1.689878  0.842091  0.838621 -2.163402  ... -1.854548  1.722137   \n",
      "998 -0.386218  0.850682  0.833262 -2.167055  ... -1.858588  1.726547   \n",
      "999 -0.787037  0.859274  0.827902 -2.170709  ... -1.862629  1.728737   \n",
      "\n",
      "     value_19  value_20  value_21  value_22  value_23  value_24  value_25  \\\n",
      "0    0.203938  1.728731  0.229427 -0.066655  0.132380 -0.691506  0.720046   \n",
      "1    0.203938  1.725519  0.155881  0.040520  0.120483 -0.713725  0.722007   \n",
      "2    0.203938  1.722300  0.853678  0.147709  0.108586 -0.735944  0.723968   \n",
      "3    0.203938  1.719088  0.297532  0.254883  0.096689 -0.758596  0.725929   \n",
      "4    0.203938  1.715875  0.771559  0.362057  0.084792 -0.780815  0.727899   \n",
      "..        ...       ...       ...       ...       ...       ...       ...   \n",
      "995  0.471801 -1.715144 -0.087054 -0.096603 -0.897378  2.880067 -2.459413   \n",
      "996  0.443113 -1.718356 -0.058115 -0.092116 -0.901976  2.891830 -2.467002   \n",
      "997  0.414420 -1.723174 -0.029189 -0.087614 -0.906576  2.903591 -2.474592   \n",
      "998  0.385732 -1.726393 -0.000251 -0.083127 -0.913137  2.914920 -2.482189   \n",
      "999  0.357039 -1.729605  0.028688 -0.078625 -0.925153  2.926683 -2.489779   \n",
      "\n",
      "     value_26  \n",
      "0    1.141413  \n",
      "1    1.139350  \n",
      "2    1.137294  \n",
      "3    1.135238  \n",
      "4    1.133183  \n",
      "..        ...  \n",
      "995 -2.312457  \n",
      "996 -2.320634  \n",
      "997 -2.328811  \n",
      "998 -2.336989  \n",
      "999 -2.345166  \n",
      "\n",
      "[1000 rows x 27 columns]\n",
      "1000\n",
      "filled 1\n",
      "filled 2\n",
      "filled 3\n",
      "filled 4\n",
      "filled 5\n",
      "filled 6\n",
      "filled 7\n",
      "filled 8\n",
      "filled 9\n",
      "filled 10\n",
      "filled 11\n",
      "filled 12\n",
      "filled 13\n",
      "filled 14\n",
      "filled 15\n",
      "filled 16\n",
      "filled 17\n",
      "filled 18\n",
      "filled 19\n",
      "filled 20\n",
      "filled 21\n",
      "filled 22\n",
      "filled 23\n",
      "filled 24\n",
      "filled 25\n",
      "filled 26\n",
      "filled 27\n",
      "filled 28\n",
      "filled 29\n",
      "filled 30\n",
      "filled 31\n",
      "filled 32\n",
      "filled 33\n",
      "filled 34\n",
      "filled 35\n",
      "filled 36\n",
      "filled 37\n",
      "filled 38\n",
      "filled 39\n",
      "filled 40\n",
      "filled 41\n",
      "filled 42\n",
      "filled 43\n",
      "filled 44\n",
      "filled 45\n",
      "filled 46\n",
      "filled 47\n",
      "filled 48\n",
      "filled 49\n",
      "filled 50\n",
      "filled 51\n",
      "filled 52\n",
      "filled 53\n",
      "filled 54\n",
      "filled 55\n",
      "filled 56\n",
      "filled 57\n",
      "filled 58\n",
      "filled 59\n",
      "filled 60\n",
      "filled 61\n",
      "filled 62\n",
      "filled 63\n",
      "filled 64\n",
      "filled 65\n",
      "filled 66\n",
      "filled 67\n",
      "filled 68\n",
      "filled 69\n",
      "filled 70\n",
      "filled 71\n",
      "filled 72\n",
      "filled 73\n",
      "filled 74\n",
      "filled 75\n",
      "filled 76\n",
      "filled 77\n",
      "filled 78\n",
      "filled 79\n",
      "filled 80\n",
      "filled 81\n",
      "filled 82\n",
      "filled 83\n",
      "filled 84\n",
      "filled 85\n",
      "filled 86\n",
      "filled 87\n",
      "filled 88\n",
      "filled 89\n",
      "filled 90\n",
      "filled 91\n",
      "filled 92\n",
      "filled 93\n",
      "filled 94\n",
      "filled 95\n",
      "filled 96\n",
      "filled 97\n",
      "filled 98\n",
      "filled 99\n",
      "filled 100\n",
      "filled 101\n",
      "filled 102\n",
      "filled 103\n",
      "filled 104\n",
      "filled 105\n",
      "filled 106\n",
      "filled 107\n",
      "filled 108\n",
      "filled 109\n",
      "filled 110\n",
      "filled 111\n",
      "filled 112\n",
      "filled 113\n",
      "filled 114\n",
      "filled 115\n",
      "filled 116\n",
      "filled 117\n",
      "filled 118\n",
      "filled 119\n",
      "filled 120\n",
      "filled 121\n",
      "filled 122\n",
      "filled 123\n",
      "filled 124\n",
      "filled 125\n",
      "filled 126\n",
      "filled 127\n",
      "filled 128\n",
      "filled 129\n",
      "filled 130\n",
      "filled 131\n",
      "filled 132\n",
      "filled 133\n",
      "filled 134\n",
      "filled 135\n",
      "filled 136\n",
      "filled 137\n",
      "filled 138\n",
      "filled 139\n",
      "filled 140\n",
      "filled 141\n",
      "filled 142\n",
      "filled 143\n",
      "filled 144\n",
      "filled 145\n",
      "filled 146\n",
      "filled 147\n",
      "filled 148\n",
      "filled 149\n",
      "filled 150\n",
      "filled 151\n",
      "filled 152\n",
      "filled 153\n",
      "filled 154\n",
      "filled 155\n",
      "filled 156\n",
      "filled 157\n",
      "filled 158\n",
      "filled 159\n",
      "filled 160\n",
      "filled 161\n",
      "filled 162\n",
      "filled 163\n",
      "filled 164\n",
      "filled 165\n",
      "filled 166\n",
      "filled 167\n",
      "filled 168\n",
      "filled 169\n",
      "filled 170\n",
      "filled 171\n",
      "filled 172\n",
      "filled 173\n",
      "filled 174\n",
      "filled 175\n",
      "filled 176\n",
      "filled 177\n",
      "filled 178\n",
      "filled 179\n",
      "filled 180\n",
      "filled 181\n",
      "filled 182\n",
      "filled 183\n",
      "filled 184\n",
      "filled 185\n",
      "filled 186\n",
      "filled 187\n",
      "filled 188\n",
      "filled 189\n",
      "filled 190\n",
      "filled 191\n",
      "filled 192\n",
      "filled 193\n",
      "filled 194\n",
      "filled 195\n",
      "filled 196\n",
      "filled 197\n",
      "filled 198\n",
      "filled 199\n",
      "filled 200\n",
      "filled 201\n",
      "filled 202\n",
      "filled 203\n",
      "filled 204\n",
      "filled 205\n",
      "filled 206\n",
      "filled 207\n",
      "filled 208\n",
      "filled 209\n",
      "filled 210\n",
      "filled 211\n",
      "filled 212\n",
      "filled 213\n",
      "filled 214\n",
      "filled 215\n",
      "filled 216\n",
      "filled 217\n",
      "filled 218\n",
      "filled 219\n",
      "filled 220\n"
     ]
    },
    {
     "ename": "KeyboardInterrupt",
     "evalue": "",
     "output_type": "error",
     "traceback": [
      "\u001B[1;31m---------------------------------------------------------------------------\u001B[0m",
      "\u001B[1;31mKeyboardInterrupt\u001B[0m                         Traceback (most recent call last)",
      "Cell \u001B[1;32mIn[2], line 13\u001B[0m\n\u001B[0;32m     11\u001B[0m \u001B[38;5;28;01mfor\u001B[39;00m proc \u001B[38;5;129;01min\u001B[39;00m Processes:\n\u001B[0;32m     12\u001B[0m     a \u001B[38;5;241m=\u001B[39m Scaffold(algo, proc, \u001B[38;5;124m\"\u001B[39m\u001B[38;5;124m../data/sample_dataset_1000.csv\u001B[39m\u001B[38;5;124m\"\u001B[39m)\n\u001B[1;32m---> 13\u001B[0m     \u001B[43ma\u001B[49m\u001B[38;5;241;43m.\u001B[39;49m\u001B[43mstart\u001B[49m\u001B[43m(\u001B[49m\u001B[38;5;124;43m\"\u001B[39;49m\u001B[38;5;124;43mtest\u001B[39;49m\u001B[38;5;124;43m\"\u001B[39;49m\u001B[43m,\u001B[49m\u001B[43m \u001B[49m\u001B[43mlogs\u001B[49m\u001B[38;5;241;43m=\u001B[39;49m\u001B[38;5;28;43;01mTrue\u001B[39;49;00m\u001B[43m)\u001B[49m\n\u001B[0;32m     14\u001B[0m     \u001B[38;5;28mprint\u001B[39m(a\u001B[38;5;241m.\u001B[39mbenchmark)\n\u001B[0;32m     15\u001B[0m     benchmarks\u001B[38;5;241m.\u001B[39mappend(a\u001B[38;5;241m.\u001B[39mbenchmark)\n",
      "File \u001B[1;32m~\\STIL_internship\\src\\scaffold\\__init__.py:50\u001B[0m, in \u001B[0;36mScaffold.start\u001B[1;34m(self, run_type, logs)\u001B[0m\n\u001B[0;32m     47\u001B[0m         \u001B[38;5;28mself\u001B[39m\u001B[38;5;241m.\u001B[39mbenchmark[\u001B[38;5;124m\"\u001B[39m\u001B[38;5;124misLearning\u001B[39m\u001B[38;5;124m\"\u001B[39m] \u001B[38;5;241m=\u001B[39m \u001B[38;5;28;01mFalse\u001B[39;00m\n\u001B[0;32m     49\u001B[0m \u001B[38;5;28;01mif\u001B[39;00m run_type \u001B[38;5;241m==\u001B[39m \u001B[38;5;124m'\u001B[39m\u001B[38;5;124mtest\u001B[39m\u001B[38;5;124m'\u001B[39m:\n\u001B[1;32m---> 50\u001B[0m     \u001B[38;5;28;43mself\u001B[39;49m\u001B[38;5;241;43m.\u001B[39;49m\u001B[43mtest\u001B[49m\u001B[43m(\u001B[49m\u001B[43m)\u001B[49m\n\u001B[0;32m     51\u001B[0m \u001B[38;5;28;01melif\u001B[39;00m run_type \u001B[38;5;241m==\u001B[39m \u001B[38;5;124m'\u001B[39m\u001B[38;5;124mcompress\u001B[39m\u001B[38;5;124m'\u001B[39m:\n\u001B[0;32m     52\u001B[0m     \u001B[38;5;28mself\u001B[39m\u001B[38;5;241m.\u001B[39mpreprocess_and_compress()\n",
      "File \u001B[1;32m~\\STIL_internship\\src\\scaffold\\__init__.py:60\u001B[0m, in \u001B[0;36mScaffold.measure_time.<locals>.decorator.<locals>.wrapper\u001B[1;34m(self, *args, **kwargs)\u001B[0m\n\u001B[0;32m     58\u001B[0m \u001B[38;5;28;01mdef\u001B[39;00m \u001B[38;5;21mwrapper\u001B[39m(\u001B[38;5;28mself\u001B[39m, \u001B[38;5;241m*\u001B[39margs, \u001B[38;5;241m*\u001B[39m\u001B[38;5;241m*\u001B[39mkwargs):\n\u001B[0;32m     59\u001B[0m     start_time \u001B[38;5;241m=\u001B[39m time\u001B[38;5;241m.\u001B[39mtime()\n\u001B[1;32m---> 60\u001B[0m     result \u001B[38;5;241m=\u001B[39m \u001B[43mfunc\u001B[49m\u001B[43m(\u001B[49m\u001B[38;5;28;43mself\u001B[39;49m\u001B[43m,\u001B[49m\u001B[43m \u001B[49m\u001B[38;5;241;43m*\u001B[39;49m\u001B[43margs\u001B[49m\u001B[43m,\u001B[49m\u001B[43m \u001B[49m\u001B[38;5;241;43m*\u001B[39;49m\u001B[38;5;241;43m*\u001B[39;49m\u001B[43mkwargs\u001B[49m\u001B[43m)\u001B[49m\n\u001B[0;32m     61\u001B[0m     end_time \u001B[38;5;241m=\u001B[39m time\u001B[38;5;241m.\u001B[39mtime()\n\u001B[0;32m     63\u001B[0m     \u001B[38;5;28;01mif\u001B[39;00m \u001B[38;5;28mgetattr\u001B[39m(\u001B[38;5;28mself\u001B[39m, flag):\n",
      "File \u001B[1;32m~\\STIL_internship\\src\\scaffold\\__init__.py:108\u001B[0m, in \u001B[0;36mScaffold.test\u001B[1;34m(self)\u001B[0m\n\u001B[0;32m    106\u001B[0m \u001B[38;5;129m@measure_time\u001B[39m(\u001B[38;5;124m\"\u001B[39m\u001B[38;5;124mlogs\u001B[39m\u001B[38;5;124m\"\u001B[39m)\n\u001B[0;32m    107\u001B[0m \u001B[38;5;28;01mdef\u001B[39;00m \u001B[38;5;21mtest\u001B[39m(\u001B[38;5;28mself\u001B[39m):\n\u001B[1;32m--> 108\u001B[0m     \u001B[38;5;28;43mself\u001B[39;49m\u001B[38;5;241;43m.\u001B[39;49m\u001B[43mpreprocess_and_compress\u001B[49m\u001B[43m(\u001B[49m\u001B[43m)\u001B[49m\n\u001B[0;32m    109\u001B[0m     \u001B[38;5;28mself\u001B[39m\u001B[38;5;241m.\u001B[39mdecompress_and_postprocess()\n\u001B[0;32m    110\u001B[0m     \u001B[38;5;28;01mreturn\u001B[39;00m \u001B[38;5;241m0\u001B[39m\n",
      "File \u001B[1;32m~\\STIL_internship\\src\\scaffold\\__init__.py:60\u001B[0m, in \u001B[0;36mScaffold.measure_time.<locals>.decorator.<locals>.wrapper\u001B[1;34m(self, *args, **kwargs)\u001B[0m\n\u001B[0;32m     58\u001B[0m \u001B[38;5;28;01mdef\u001B[39;00m \u001B[38;5;21mwrapper\u001B[39m(\u001B[38;5;28mself\u001B[39m, \u001B[38;5;241m*\u001B[39margs, \u001B[38;5;241m*\u001B[39m\u001B[38;5;241m*\u001B[39mkwargs):\n\u001B[0;32m     59\u001B[0m     start_time \u001B[38;5;241m=\u001B[39m time\u001B[38;5;241m.\u001B[39mtime()\n\u001B[1;32m---> 60\u001B[0m     result \u001B[38;5;241m=\u001B[39m \u001B[43mfunc\u001B[49m\u001B[43m(\u001B[49m\u001B[38;5;28;43mself\u001B[39;49m\u001B[43m,\u001B[49m\u001B[43m \u001B[49m\u001B[38;5;241;43m*\u001B[39;49m\u001B[43margs\u001B[49m\u001B[43m,\u001B[49m\u001B[43m \u001B[49m\u001B[38;5;241;43m*\u001B[39;49m\u001B[38;5;241;43m*\u001B[39;49m\u001B[43mkwargs\u001B[49m\u001B[43m)\u001B[49m\n\u001B[0;32m     61\u001B[0m     end_time \u001B[38;5;241m=\u001B[39m time\u001B[38;5;241m.\u001B[39mtime()\n\u001B[0;32m     63\u001B[0m     \u001B[38;5;28;01mif\u001B[39;00m \u001B[38;5;28mgetattr\u001B[39m(\u001B[38;5;28mself\u001B[39m, flag):\n",
      "File \u001B[1;32m~\\STIL_internship\\src\\scaffold\\__init__.py:84\u001B[0m, in \u001B[0;36mScaffold.preprocess_and_compress\u001B[1;34m(self)\u001B[0m\n\u001B[0;32m     81\u001B[0m filenames \u001B[38;5;241m=\u001B[39m \u001B[38;5;28mself\u001B[39m\u001B[38;5;241m.\u001B[39mget_file_names()\n\u001B[0;32m     83\u001B[0m \u001B[38;5;28mself\u001B[39m\u001B[38;5;241m.\u001B[39mprocessing\u001B[38;5;241m.\u001B[39mdo_preprocess(\u001B[38;5;28mself\u001B[39m\u001B[38;5;241m.\u001B[39mtable_path, filenames[\u001B[38;5;124m'\u001B[39m\u001B[38;5;124mpreprocessed\u001B[39m\u001B[38;5;124m'\u001B[39m])\n\u001B[1;32m---> 84\u001B[0m \u001B[38;5;28;43mself\u001B[39;49m\u001B[38;5;241;43m.\u001B[39;49m\u001B[43malgorithm\u001B[49m\u001B[38;5;241;43m.\u001B[39;49m\u001B[43mcompress\u001B[49m\u001B[43m(\u001B[49m\u001B[43mfilenames\u001B[49m\u001B[43m[\u001B[49m\u001B[38;5;124;43m\"\u001B[39;49m\u001B[38;5;124;43mpreprocessed\u001B[39;49m\u001B[38;5;124;43m\"\u001B[39;49m\u001B[43m]\u001B[49m\u001B[43m,\u001B[49m\u001B[43m \u001B[49m\u001B[43mfilenames\u001B[49m\u001B[43m[\u001B[49m\u001B[38;5;124;43m\"\u001B[39;49m\u001B[38;5;124;43mcompressed\u001B[39;49m\u001B[38;5;124;43m\"\u001B[39;49m\u001B[43m]\u001B[49m\u001B[43m)\u001B[49m\n\u001B[0;32m     86\u001B[0m \u001B[38;5;28;01mif\u001B[39;00m \u001B[38;5;28mself\u001B[39m\u001B[38;5;241m.\u001B[39mlogs:\n\u001B[0;32m     87\u001B[0m     compression_rate \u001B[38;5;241m=\u001B[39m get_compression_rate_2(\u001B[38;5;28mself\u001B[39m\u001B[38;5;241m.\u001B[39mtable_path, filenames[\u001B[38;5;124m\"\u001B[39m\u001B[38;5;124mcompressed\u001B[39m\u001B[38;5;124m\"\u001B[39m])\n",
      "File \u001B[1;32m~\\STIL_internship\\src\\algo\\codec\\kmeans_1d.py:407\u001B[0m, in \u001B[0;36mKMeansLinearCompression.compress\u001B[1;34m(self, table_file_path, compressed_file_path)\u001B[0m\n\u001B[0;32m    404\u001B[0m \u001B[38;5;28;01melse\u001B[39;00m:\n\u001B[0;32m    405\u001B[0m     kmeans \u001B[38;5;241m=\u001B[39m KMeansLinear(column, np\u001B[38;5;241m.\u001B[39mint64(np\u001B[38;5;241m.\u001B[39mceil(column\u001B[38;5;241m.\u001B[39msize \u001B[38;5;241m*\u001B[39m \u001B[38;5;28mself\u001B[39m\u001B[38;5;241m.\u001B[39mmax_compression_ratio)),\n\u001B[0;32m    406\u001B[0m                           \u001B[38;5;28mself\u001B[39m\u001B[38;5;241m.\u001B[39mmax_rmse)\n\u001B[1;32m--> 407\u001B[0m result \u001B[38;5;241m=\u001B[39m \u001B[43mkmeans\u001B[49m\u001B[38;5;241;43m.\u001B[39;49m\u001B[43mrun\u001B[49m\u001B[43m(\u001B[49m\u001B[43m)\u001B[49m\n\u001B[0;32m    409\u001B[0m \u001B[38;5;28;01mdel\u001B[39;00m kmeans\u001B[38;5;241m.\u001B[39mS\n\u001B[0;32m    410\u001B[0m \u001B[38;5;28;01mdel\u001B[39;00m kmeans\u001B[38;5;241m.\u001B[39mJ\n",
      "File \u001B[1;32m~\\STIL_internship\\src\\algo\\codec\\kmeans_1d.py:352\u001B[0m, in \u001B[0;36mKMeansLinear.run\u001B[1;34m(self)\u001B[0m\n\u001B[0;32m    349\u001B[0m \u001B[38;5;28;01mdef\u001B[39;00m \u001B[38;5;21mrun\u001B[39m(\u001B[38;5;28mself\u001B[39m) \u001B[38;5;241m-\u001B[39m\u001B[38;5;241m>\u001B[39m \u001B[38;5;28mdict\u001B[39m:\n\u001B[0;32m    351\u001B[0m     \u001B[38;5;28;01mif\u001B[39;00m \u001B[38;5;28mself\u001B[39m\u001B[38;5;241m.\u001B[39mnUnique \u001B[38;5;241m>\u001B[39m \u001B[38;5;241m1\u001B[39m:\n\u001B[1;32m--> 352\u001B[0m         \u001B[38;5;28;43mself\u001B[39;49m\u001B[38;5;241;43m.\u001B[39;49m\u001B[43mfill_dp_matrix\u001B[49m\u001B[43m(\u001B[49m\u001B[43m)\u001B[49m\n\u001B[0;32m    353\u001B[0m         result \u001B[38;5;241m=\u001B[39m \u001B[38;5;28mself\u001B[39m\u001B[38;5;241m.\u001B[39mbacktrack()\n\u001B[0;32m    354\u001B[0m         \u001B[38;5;66;03m# result[\"centers\"] += self.median\u001B[39;00m\n\u001B[0;32m    355\u001B[0m     \u001B[38;5;28;01melse\u001B[39;00m:\n",
      "File \u001B[1;32m~\\STIL_internship\\src\\algo\\codec\\kmeans_1d.py:318\u001B[0m, in \u001B[0;36mKMeansLinear.fill_dp_matrix\u001B[1;34m(self)\u001B[0m\n\u001B[0;32m    315\u001B[0m \u001B[38;5;28;01melse\u001B[39;00m:\n\u001B[0;32m    316\u001B[0m     imin \u001B[38;5;241m=\u001B[39m N \u001B[38;5;241m-\u001B[39m \u001B[38;5;241m1\u001B[39m  \u001B[38;5;66;03m# OG: No need to compute S[K-1][0] ... S[K-1][N-2]\u001B[39;00m\n\u001B[1;32m--> 318\u001B[0m \u001B[38;5;28;43mself\u001B[39;49m\u001B[38;5;241;43m.\u001B[39;49m\u001B[43mfill_row_q\u001B[49m\u001B[43m(\u001B[49m\u001B[43mimin\u001B[49m\u001B[43m,\u001B[49m\u001B[43m \u001B[49m\u001B[43mN\u001B[49m\u001B[43m \u001B[49m\u001B[38;5;241;43m-\u001B[39;49m\u001B[43m \u001B[49m\u001B[38;5;241;43m1\u001B[39;49m\u001B[43m,\u001B[49m\u001B[43m \u001B[49m\u001B[43mq\u001B[49m\u001B[43m)\u001B[49m\n\u001B[0;32m    319\u001B[0m \u001B[38;5;28mprint\u001B[39m(\u001B[38;5;124m\"\u001B[39m\u001B[38;5;124mfilled\u001B[39m\u001B[38;5;124m\"\u001B[39m, q)\n\u001B[0;32m    320\u001B[0m \u001B[38;5;66;03m#if max_se >= self.S[q - 1, -1]:  # early exit for when we found out q clusters is enough\u001B[39;00m\n\u001B[0;32m    321\u001B[0m \u001B[38;5;66;03m#    print(q, \"is good enough, se =\", self.S[q - 1, -1])\u001B[39;00m\n\u001B[0;32m    322\u001B[0m \u001B[38;5;66;03m#    self.S = self.S[:q]\u001B[39;00m\n\u001B[1;32m   (...)\u001B[0m\n\u001B[0;32m    325\u001B[0m \u001B[38;5;66;03m# print(\"S: \",S)\u001B[39;00m\n\u001B[0;32m    326\u001B[0m \u001B[38;5;66;03m# print(\"J: \",J)\u001B[39;00m\n",
      "File \u001B[1;32m~\\STIL_internship\\src\\algo\\codec\\kmeans_1d.py:284\u001B[0m, in \u001B[0;36mKMeansLinear.fill_row_q\u001B[1;34m(self, imin, imax, q)\u001B[0m\n\u001B[0;32m    282\u001B[0m \u001B[38;5;28;01mdef\u001B[39;00m \u001B[38;5;21mfill_row_q\u001B[39m(\u001B[38;5;28mself\u001B[39m, imin: \u001B[38;5;28mint\u001B[39m, imax: \u001B[38;5;28mint\u001B[39m, q: \u001B[38;5;28mint\u001B[39m):\n\u001B[0;32m    283\u001B[0m     js \u001B[38;5;241m=\u001B[39m np\u001B[38;5;241m.\u001B[39marange(q, imax \u001B[38;5;241m+\u001B[39m \u001B[38;5;241m1\u001B[39m)\n\u001B[1;32m--> 284\u001B[0m     \u001B[38;5;28;43mself\u001B[39;49m\u001B[38;5;241;43m.\u001B[39;49m\u001B[43mSMAWK\u001B[49m\u001B[43m(\u001B[49m\u001B[43mimin\u001B[49m\u001B[43m,\u001B[49m\u001B[43m \u001B[49m\u001B[43mimax\u001B[49m\u001B[43m,\u001B[49m\u001B[43m \u001B[49m\u001B[38;5;241;43m1\u001B[39;49m\u001B[43m,\u001B[49m\u001B[43m \u001B[49m\u001B[43mq\u001B[49m\u001B[43m,\u001B[49m\u001B[43m \u001B[49m\u001B[43mjs\u001B[49m\u001B[43m)\u001B[49m\n",
      "File \u001B[1;32m~\\STIL_internship\\src\\algo\\codec\\kmeans_1d.py:279\u001B[0m, in \u001B[0;36mKMeansLinear.SMAWK\u001B[1;34m(self, imin, imax, istep, q, js)\u001B[0m\n\u001B[0;32m    277\u001B[0m imin_odd \u001B[38;5;241m=\u001B[39m imin \u001B[38;5;241m+\u001B[39m istep\n\u001B[0;32m    278\u001B[0m imax_odd \u001B[38;5;241m=\u001B[39m imin_odd \u001B[38;5;241m+\u001B[39m ((imax \u001B[38;5;241m-\u001B[39m imin_odd) \u001B[38;5;241m/\u001B[39m\u001B[38;5;241m/\u001B[39m istepx2) \u001B[38;5;241m*\u001B[39m istepx2\n\u001B[1;32m--> 279\u001B[0m \u001B[38;5;28;43mself\u001B[39;49m\u001B[38;5;241;43m.\u001B[39;49m\u001B[43mSMAWK\u001B[49m\u001B[43m(\u001B[49m\u001B[43mimin_odd\u001B[49m\u001B[43m,\u001B[49m\u001B[43m \u001B[49m\u001B[43mimax_odd\u001B[49m\u001B[43m,\u001B[49m\u001B[43m \u001B[49m\u001B[43mistepx2\u001B[49m\u001B[43m,\u001B[49m\u001B[43m \u001B[49m\u001B[43mq\u001B[49m\u001B[43m,\u001B[49m\u001B[43m \u001B[49m\u001B[43mjs_odd\u001B[49m\u001B[43m)\u001B[49m\n\u001B[0;32m    280\u001B[0m \u001B[38;5;28mself\u001B[39m\u001B[38;5;241m.\u001B[39mfill_even_positions(imin, imax, istep, q, js)\n",
      "File \u001B[1;32m~\\STIL_internship\\src\\algo\\codec\\kmeans_1d.py:275\u001B[0m, in \u001B[0;36mKMeansLinear.SMAWK\u001B[1;34m(self, imin, imax, istep, q, js)\u001B[0m\n\u001B[0;32m    273\u001B[0m     \u001B[38;5;28mself\u001B[39m\u001B[38;5;241m.\u001B[39mfind_min_from_candidates(imin, imax, istep, q, js)\n\u001B[0;32m    274\u001B[0m \u001B[38;5;28;01melse\u001B[39;00m:  \u001B[38;5;66;03m# OG: REDUCE\u001B[39;00m\n\u001B[1;32m--> 275\u001B[0m     js_odd \u001B[38;5;241m=\u001B[39m \u001B[38;5;28;43mself\u001B[39;49m\u001B[38;5;241;43m.\u001B[39;49m\u001B[43mreduce_in_place\u001B[49m\u001B[43m(\u001B[49m\u001B[43mimin\u001B[49m\u001B[43m,\u001B[49m\u001B[43m \u001B[49m\u001B[43mimax\u001B[49m\u001B[43m,\u001B[49m\u001B[43m \u001B[49m\u001B[43mistep\u001B[49m\u001B[43m,\u001B[49m\u001B[43m \u001B[49m\u001B[43mq\u001B[49m\u001B[43m,\u001B[49m\u001B[43m \u001B[49m\u001B[43mjs\u001B[49m\u001B[43m)\u001B[49m\n\u001B[0;32m    276\u001B[0m     istepx2 \u001B[38;5;241m=\u001B[39m istep \u001B[38;5;241m*\u001B[39m \u001B[38;5;241m2\u001B[39m\n\u001B[0;32m    277\u001B[0m     imin_odd \u001B[38;5;241m=\u001B[39m imin \u001B[38;5;241m+\u001B[39m istep\n",
      "File \u001B[1;32m~\\STIL_internship\\src\\algo\\codec\\kmeans_1d.py:120\u001B[0m, in \u001B[0;36mKMeansLinear.reduce_in_place\u001B[1;34m(self, imin, imax, istep, q, js)\u001B[0m\n\u001B[0;32m    116\u001B[0m right \u001B[38;5;241m=\u001B[39m \u001B[38;5;241m0\u001B[39m  \u001B[38;5;66;03m# OG: points to current position / column\u001B[39;00m\n\u001B[0;32m    118\u001B[0m m \u001B[38;5;241m=\u001B[39m js_red\u001B[38;5;241m.\u001B[39msize\n\u001B[1;32m--> 120\u001B[0m \u001B[38;5;28;01mwhile\u001B[39;00m m \u001B[38;5;241m>\u001B[39m N:  \u001B[38;5;66;03m# OG: js_reduced has more than N positions / columns\u001B[39;00m\n\u001B[0;32m    122\u001B[0m     p \u001B[38;5;241m=\u001B[39m left \u001B[38;5;241m+\u001B[39m \u001B[38;5;241m1\u001B[39m\n\u001B[0;32m    124\u001B[0m     i \u001B[38;5;241m=\u001B[39m imin \u001B[38;5;241m+\u001B[39m p \u001B[38;5;241m*\u001B[39m istep\n",
      "\u001B[1;31mKeyboardInterrupt\u001B[0m: "
     ]
    }
   ],
   "source": [
    "\n",
    "\n",
    "\n",
    "from algo.codec.kmeans_1d import KMeansLinearCompression\n",
    "from algo.process.normalize import NormalizeProcessing\n",
    "from scaffold import Scaffold\n",
    "import numpy as np\n",
    "np.seterr(all='warn')\n",
    "#np.seterr(all='raise') # something breaks on the large dataset\n",
    "benchmarks = []\n",
    "Algos = [KMeansLinearCompression(max_rmse=0.8)]\n",
    "Processes = [NormalizeProcessing()]\n",
    "for algo in Algos:\n",
    "    for proc in Processes:\n",
    "        a = Scaffold(algo, proc, \"../data/sample_dataset_1000.csv\")\n",
    "        a.start(\"test\", logs=True)\n",
    "        print(a.benchmark)\n",
    "        benchmarks.append(a.benchmark)\n",
    "        print(\"---------------------\")"
   ]
  },
  {
   "cell_type": "code",
   "execution_count": null,
   "metadata": {},
   "outputs": [],
   "source": [
    "from scaffold.json import json_scaffold\n",
    "json_scaffold(\"plug_config.json\")"
   ]
  },
  {
   "cell_type": "code",
   "execution_count": 7,
   "metadata": {
    "ExecuteTime": {
     "start_time": "2023-08-08T17:55:54.634616Z",
     "end_time": "2023-08-08T17:56:30.067904Z"
    }
   },
   "outputs": [
    {
     "name": "stdout",
     "output_type": "stream",
     "text": [
      "transformed head: [ 0.65040108  0.57452984  0.51751902 ... -0.11277564 -0.09560309\n",
      " -0.0786032 ]\n",
      "pca loadings:  [[ 0.08479153 -0.36097636 -0.02171956 -0.53248528  0.23437811  0.03169398\n",
      "  -0.57172709 -0.40301118  0.14597371 -0.09325796]\n",
      " [ 0.0436297  -0.12836543 -0.1976      0.81741032  0.04260268  0.00924868\n",
      "  -0.40513723 -0.31584409  0.06699049 -0.0465635 ]\n",
      " [-0.16469873  0.3808655   0.302744   -0.03732775 -0.25223197  0.41251749\n",
      "  -0.3759213  -0.02374221 -0.20597275 -0.06119397]\n",
      " [ 0.29413452 -0.01953548 -0.32599341 -0.11156446 -0.27414964 -0.43394907\n",
      "   0.02363519  0.00959997 -0.00294359 -0.35078134]\n",
      " [ 0.31028069 -0.00561681 -0.1868702  -0.03848491 -0.1289523   0.46920968\n",
      "   0.32610299 -0.28596212  0.51759738  0.3458115 ]\n",
      " [-0.27431542 -0.0338316   0.35102713  0.05999918  0.19467749 -0.48758734\n",
      "   0.27078619 -0.44199159  0.10228511  0.16357565]\n",
      " [-0.22520287 -0.35777681  0.37848747  0.05001496  0.08557524  0.19779233\n",
      "   0.11377923 -0.04615638 -0.08951438  0.06649811]\n",
      " [-0.15739406  0.3561841   0.1797162  -0.07017736 -0.55692171 -0.25144749\n",
      "  -0.16661861 -0.25779003  0.33772759  0.0698411 ]\n",
      " [ 0.37670264  0.06844842  0.17868811  0.01326355 -0.00228541 -0.03405938\n",
      "   0.0220324  -0.15039311 -0.25038566  0.0883349 ]\n",
      " [ 0.35718084  0.07827906  0.29505681  0.05561436  0.10401969 -0.05428212\n",
      "  -0.04663619  0.0681702   0.06602874 -0.02631189]\n",
      " [ 0.3575996   0.04940457  0.02338582 -0.03750852 -0.1257785  -0.00673676\n",
      "   0.09952087 -0.38811666 -0.59091241  0.21198333]\n",
      " [ 0.35462243  0.0787134   0.30228755  0.05841715  0.11117271 -0.05552872\n",
      "  -0.05132471  0.08335873  0.08812527 -0.03431023]\n",
      " [ 0.31674639  0.08124269  0.3727031   0.08736162  0.18610663 -0.06757297\n",
      "  -0.1010462   0.24676008  0.32677492 -0.12062741]\n",
      " [-0.04115315  0.44540366 -0.26455133 -0.07447989  0.4366658  -0.17997966\n",
      "  -0.24840761  0.11799699 -0.01559366  0.56345421]\n",
      " [-0.07151469  0.47675626 -0.09517372 -0.02616919  0.41005166  0.18970106\n",
      "   0.24418242 -0.363028    0.01752561 -0.56573763]]\n",
      "pca scores:  -12.416665894791699 [-55.84630864 -49.1907889  -44.01107677 ... -27.06382439 -26.79831255\n",
      " -26.34170035]\n",
      "src  UTC              -0.533944\n",
      "Temperature[C]    0.280619\n",
      "Humidity[%]       0.994939\n",
      "TVOC[ppb]        -0.248612\n",
      "eCO2[ppm]        -0.141677\n",
      "Raw H2           -2.335917\n",
      "Raw Ethanol      -2.024990\n",
      "Pressure[hPa]     0.831754\n",
      "PM1.0            -0.109042\n",
      "PM2.5            -0.093340\n",
      "NC0.5            -0.115214\n",
      "NC1.0            -0.091923\n",
      "NC2.5            -0.073888\n",
      "CNT              -1.383465\n",
      "Fire Alarm       -1.582444\n",
      "Name: 0, dtype: float64\n",
      "../data/smoke_detection_iot.csv_compressed 5834376 376522\n",
      "Function preprocess_and_compress took 17.47666049003601 seconds to execute.\n",
      "[[ 0.62771847  0.22844645 -0.66324393 ...  1.478004   -0.06109311\n",
      "  -0.35058685]\n",
      " [ 0.57774172  0.13586733 -0.5520402  ...  1.42421987 -0.04914632\n",
      "  -0.30635691]\n",
      " [ 0.51842745  0.01872618 -0.47536171 ...  1.37617204 -0.03783174\n",
      "  -0.27471663]\n",
      " ...\n",
      " [-0.11845829 -4.71597578  0.33504508 ... -1.60340713  0.86429617\n",
      "   0.91861231]\n",
      " [-0.09417029 -4.6803834   0.31479595 ... -1.570493    0.86429617\n",
      "   0.90469643]\n",
      " [-0.07959831 -4.63693563  0.29223027 ... -1.570493    0.84543207\n",
      "   0.88953166]]\n",
      "Index(['UTC', 'Temperature[C]', 'Humidity[%]', 'TVOC[ppb]', 'eCO2[ppm]',\n",
      "       'Raw H2', 'Raw Ethanol', 'Pressure[hPa]', 'PM1.0', 'PM2.5', 'NC0.5',\n",
      "       'NC1.0', 'NC2.5', 'CNT', 'Fire Alarm'],\n",
      "      dtype='object')\n",
      "Function decompress_and_postprocess took 1.245344638824463 seconds to execute.\n",
      "Function test took 18.722005128860474 seconds to execute.\n",
      "{'name': 'PCAToKMeansCompression', 'table_path': '../data/smoke_detection_iot.csv', 'isLossLess': False, 'isLearning': False, 'compression_rate': 0.06453509338445106, 'preprocess_and_compress_time': 17.47666049003601, 'loss_rate': 0.11551975001534094, 'decompress_and_postprocess_time': 1.245344638824463, 'test_time': 18.722005128860474}\n",
      "---------------------\n",
      "            UTC  Temperature[C]  Humidity[%]  TVOC[ppb]  eCO2[ppm]    Raw H2  \\\n",
      "0     -0.533944        0.280619     0.994939  -0.248612  -0.141677 -2.335917   \n",
      "1     -0.533935        0.281664     0.917108  -0.248612  -0.141677 -2.192779   \n",
      "2     -0.533926        0.282639     0.837021  -0.248612  -0.141677 -2.086343   \n",
      "3     -0.533917        0.283684     0.760318  -0.248612  -0.141677 -2.027619   \n",
      "4     -0.533908        0.284728     0.693767  -0.248612  -0.141677 -1.979907   \n",
      "...         ...             ...          ...        ...        ...       ...   \n",
      "62625  3.072483        0.171842    -3.694094  -0.168603  -0.141677  2.864764   \n",
      "62626  3.072492        0.186814    -3.685070  -0.170267  -0.141677  2.894126   \n",
      "62627  3.072502        0.201717    -3.688454  -0.168347  -0.141677  2.872105   \n",
      "62628  3.072511        0.216760    -3.665894  -0.166939  -0.141677  2.824392   \n",
      "62629  3.072520        0.231802    -3.611751  -0.166299  -0.141677  2.765669   \n",
      "\n",
      "       Raw Ethanol  Pressure[hPa]     PM1.0     PM2.5     NC0.5     NC1.0  \\\n",
      "0        -2.024990       0.831754 -0.109042 -0.093340 -0.115214 -0.091923   \n",
      "1        -1.810064       0.838514 -0.109042 -0.093340 -0.115214 -0.091923   \n",
      "2        -1.624670       0.834008 -0.109042 -0.093340 -0.115214 -0.091923   \n",
      "3        -1.485215       0.832505 -0.109042 -0.093340 -0.115214 -0.091923   \n",
      "4        -1.367088       0.838514 -0.109042 -0.093340 -0.115214 -0.091923   \n",
      "...            ...            ...       ...       ...       ...       ...   \n",
      "62625     1.336710      -1.470431 -0.108360 -0.093011 -0.114201 -0.091620   \n",
      "62626     1.367882      -1.464422 -0.108381 -0.093021 -0.114234 -0.091629   \n",
      "62627     1.358038      -1.457662 -0.108425 -0.093036 -0.114288 -0.091645   \n",
      "62628     1.331788      -1.462920 -0.108425 -0.093041 -0.114295 -0.091648   \n",
      "62629     1.294053      -1.465925 -0.108425 -0.093041 -0.114300 -0.091649   \n",
      "\n",
      "          NC2.5       CNT  Fire Alarm  \n",
      "0     -0.073888 -1.383465   -1.582444  \n",
      "1     -0.073888 -1.383333   -1.582444  \n",
      "2     -0.073888 -1.383201   -1.582444  \n",
      "3     -0.073888 -1.383070   -1.582444  \n",
      "4     -0.073888 -1.382938   -1.582444  \n",
      "...         ...       ...         ...  \n",
      "62625 -0.073874 -0.628122   -1.582444  \n",
      "62626 -0.073874 -0.627990   -1.582444  \n",
      "62627 -0.073875 -0.627858   -1.582444  \n",
      "62628 -0.073875 -0.627727   -1.582444  \n",
      "62629 -0.073875 -0.627595   -1.582444  \n",
      "\n",
      "[62630 rows x 15 columns]\n",
      "../data/smoke_detection_iot.csv_compressed 5834376 271007\n",
      "Function preprocess_and_compress took 15.528558731079102 seconds to execute.\n",
      "        UTC  Temperature[C]  Humidity[%]  TVOC[ppb]  eCO2[ppm]    Raw H2  \\\n",
      "0 -0.530503        0.281847     0.992831  -0.248541  -0.141648 -2.362342   \n",
      "1 -0.530503        0.281847     0.922472  -0.248541  -0.141648 -2.208294   \n",
      "2 -0.530503        0.281847     0.832588  -0.248541  -0.141648 -2.093683   \n",
      "3 -0.530503        0.281847     0.757391  -0.248541  -0.141648 -2.044970   \n",
      "4 -0.530503        0.281847     0.691804  -0.248541  -0.141648 -1.970811   \n",
      "\n",
      "   Raw Ethanol  Pressure[hPa]     PM1.0     PM2.5     NC0.5     NC1.0  \\\n",
      "0    -2.012117       0.831507 -0.108668 -0.093041 -0.114671 -0.091648   \n",
      "1    -1.800668       0.840095 -0.108668 -0.093041 -0.114671 -0.091648   \n",
      "2    -1.619065       0.835845 -0.108668 -0.093041 -0.114671 -0.091648   \n",
      "3    -1.475097       0.831507 -0.108668 -0.093041 -0.114671 -0.091648   \n",
      "4    -1.360853       0.840095 -0.108668 -0.093041 -0.114671 -0.091648   \n",
      "\n",
      "      NC2.5       CNT  Fire Alarm  \n",
      "0 -0.073849 -1.379516   -1.582444  \n",
      "1 -0.073849 -1.379516   -1.582444  \n",
      "2 -0.073849 -1.379516   -1.582444  \n",
      "3 -0.073849 -1.379516   -1.582444  \n",
      "4 -0.073849 -1.379516   -1.582444  \n",
      "Index(['UTC', 'Temperature[C]', 'Humidity[%]', 'TVOC[ppb]', 'eCO2[ppm]',\n",
      "       'Raw H2', 'Raw Ethanol', 'Pressure[hPa]', 'PM1.0', 'PM2.5', 'NC0.5',\n",
      "       'NC1.0', 'NC2.5', 'CNT', 'Fire Alarm'],\n",
      "      dtype='object')\n",
      "Function decompress_and_postprocess took 1.1799037456512451 seconds to execute.\n",
      "Function test took 16.708462476730347 seconds to execute.\n",
      "{'name': 'KMeansLinearCCompression', 'table_path': '../data/smoke_detection_iot.csv', 'isLossLess': False, 'isLearning': False, 'compression_rate': 0.0464500402442352, 'preprocess_and_compress_time': 15.528558731079102, 'loss_rate': 0.002375224021288738, 'decompress_and_postprocess_time': 1.1799037456512451, 'test_time': 16.708462476730347}\n",
      "---------------------\n"
     ]
    }
   ],
   "source": [
    "from algo.codec.pca_to_kmeans_1d_c import PCAToKMeansCompression\n",
    "from algo.codec.zstd import ZstdLibraryCompressionAlgorithm\n",
    "from algo.codec.kmeans_1d_c import KMeansLinearCCompression\n",
    "from algo.process.normalize import NormalizeProcessing\n",
    "from scaffold import Scaffold\n",
    "import numpy as np\n",
    "np.seterr(all='warn')\n",
    "benchmarks = []\n",
    "#np.seterr(all='raise') # something breaks on the large dataset\n",
    "#datasets = [f'../data/sample_dataset_{cutoff}.csv' for cutoff in cutoff_list]\n",
    "Algos = [PCAToKMeansCompression(n_pca_components=10, kmeans_component_ratio=200), KMeansLinearCCompression(raw_compression_ratio=200, max_rmse=0)]\n",
    "Processes = [NormalizeProcessing()]\n",
    "for algo in Algos:\n",
    "    for proc in Processes:\n",
    "        a = Scaffold(algo, proc, \"../data/smoke_detection_iot.csv\")\n",
    "        a.start(\"test\", logs=True)\n",
    "        print(a.benchmark)\n",
    "        benchmarks.append(a.benchmark)\n",
    "        print(\"---------------------\")"
   ]
  },
  {
   "cell_type": "code",
   "execution_count": 16,
   "metadata": {
    "ExecuteTime": {
     "end_time": "2023-08-04T12:40:10.464484Z",
     "start_time": "2023-08-04T12:40:10.459494Z"
    }
   },
   "outputs": [],
   "source": [
    "benchmarks_all = benchmarks.copy()"
   ]
  },
  {
   "cell_type": "code",
   "execution_count": 1,
   "outputs": [],
   "source": [
    "import pickle"
   ],
   "metadata": {
    "collapsed": false,
    "ExecuteTime": {
     "start_time": "2023-08-07T11:21:41.310523Z",
     "end_time": "2023-08-07T11:21:41.315502Z"
    }
   }
  },
  {
   "cell_type": "code",
   "execution_count": 8,
   "outputs": [],
   "source": [
    "list_clusters = [20, 50, 100, 500, 1000, 5000]"
   ],
   "metadata": {
    "collapsed": false,
    "ExecuteTime": {
     "start_time": "2023-08-07T14:24:18.900570Z",
     "end_time": "2023-08-07T14:24:18.904563Z"
    }
   }
  },
  {
   "cell_type": "code",
   "execution_count": 8,
   "metadata": {
    "ExecuteTime": {
     "start_time": "2023-08-08T17:56:33.458246Z",
     "end_time": "2023-08-08T17:56:33.572775Z"
    }
   },
   "outputs": [
    {
     "name": "stdout",
     "output_type": "stream",
     "text": [
      "0.11551975001534094\n",
      "0.002375224021288738\n",
      "[{'name': 'PCAToKMeansCompression', 'table_path': '../data/smoke_detection_iot.csv', 'isLossLess': False, 'isLearning': False, 'compression_rate': 0.06453509338445106, 'preprocess_and_compress_time': 17.47666049003601, 'loss_rate': 0.11551975001534094, 'decompress_and_postprocess_time': 1.245344638824463, 'test_time': 18.722005128860474}, {'name': 'KMeansLinearCCompression', 'table_path': '../data/smoke_detection_iot.csv', 'isLossLess': False, 'isLearning': False, 'compression_rate': 0.0464500402442352, 'preprocess_and_compress_time': 15.528558731079102, 'loss_rate': 0.002375224021288738, 'decompress_and_postprocess_time': 1.1799037456512451, 'test_time': 16.708462476730347}]\n"
     ]
    },
    {
     "data": {
      "text/plain": "<Figure size 640x480 with 1 Axes>",
      "image/png": "[encoded data removed]"
     },
     "metadata": {},
     "output_type": "display_data"
    }
   ],
   "source": [
    "from plot import plot_benchmarks\n",
    "\n",
    "plot_benchmarks(benchmarks, \"loss_rate\")\n",
    "for i in benchmarks:\n",
    "    print(i[\"loss_rate\"])\n",
    "print(benchmarks)"
   ]
  },
  {
   "cell_type": "code",
   "execution_count": 9,
   "metadata": {
    "ExecuteTime": {
     "start_time": "2023-08-08T17:56:36.896970Z",
     "end_time": "2023-08-08T17:56:37.009400Z"
    }
   },
   "outputs": [
    {
     "data": {
      "text/plain": "<Figure size 640x480 with 1 Axes>",
      "image/png": "[encoded data removed]"
     },
     "metadata": {},
     "output_type": "display_data"
    }
   ],
   "source": [
    "plot_benchmarks(benchmarks, \"compression_rate\")"
   ]
  },
  {
   "cell_type": "code",
   "execution_count": 2,
   "outputs": [],
   "source": [
    "import pickle\n",
    "with open(\"../src/results_timeshifted\", 'rb') as f:\n",
    "    results = pickle.load(f)\n"
   ],
   "metadata": {
    "collapsed": false,
    "ExecuteTime": {
     "start_time": "2023-08-07T10:22:57.963638Z",
     "end_time": "2023-08-07T10:22:58.128752Z"
    }
   }
  },
  {
   "cell_type": "code",
   "execution_count": 11,
   "outputs": [],
   "source": [
    "list_rmses = [1, 0.5, 0.1, 0.05, 0.01, 0.01]"
   ],
   "metadata": {
    "collapsed": false,
    "ExecuteTime": {
     "start_time": "2023-08-08T13:35:58.251030Z",
     "end_time": "2023-08-08T13:35:58.256019Z"
    }
   }
  },
  {
   "cell_type": "code",
   "execution_count": 8,
   "outputs": [
    {
     "data": {
      "text/plain": "[{'name': 'PCAToKMeansCompression',\n  'table_path': '../data/sample_dataset_big.csv',\n  'isLossLess': False,\n  'isLearning': False,\n  'compression_rate': 0.06797525351971463,\n  'preprocess_and_compress_time': 327.07526111602783,\n  'loss_rate': 0.0034163945863687497,\n  'decompress_and_postprocess_time': 18.8767032623291,\n  'test_time': 345.95196437835693},\n {'name': 'KMeansLinearCCompression',\n  'table_path': '../data/sample_dataset_big.csv',\n  'isLossLess': False,\n  'isLearning': False,\n  'compression_rate': 0.031056535622980424,\n  'preprocess_and_compress_time': 344.5821192264557,\n  'loss_rate': 0.002594490853473138,\n  'decompress_and_postprocess_time': 18.87466597557068,\n  'test_time': 363.45678520202637}]"
     },
     "execution_count": 8,
     "metadata": {},
     "output_type": "execute_result"
    }
   ],
   "source": [
    "benchmarks"
   ],
   "metadata": {
    "collapsed": false,
    "ExecuteTime": {
     "start_time": "2023-08-08T17:11:26.603704Z",
     "end_time": "2023-08-08T17:11:26.624191Z"
    }
   }
  },
  {
   "cell_type": "code",
   "execution_count": 6,
   "outputs": [
    {
     "data": {
      "text/plain": "<Figure size 640x480 with 1 Axes>",
      "image/png": "[encoded data removed]"
     },
     "metadata": {},
     "output_type": "display_data"
    }
   ],
   "source": [
    "from matplotlib import pyplot as plt\n",
    "xs = [result['compression_rate'] for result in benchmarks]\n",
    "ys = [result['loss_rate'] for result in benchmarks]\n",
    "plt.scatter(xs, ys)\n",
    "plt.xlabel('compression rate')\n",
    "plt.ylabel('rmse')\n",
    "plt.show()"
   ],
   "metadata": {
    "collapsed": false,
    "ExecuteTime": {
     "start_time": "2023-08-08T17:11:00.475948Z",
     "end_time": "2023-08-08T17:11:00.582801Z"
    }
   }
  },
  {
   "cell_type": "code",
   "execution_count": 13,
   "outputs": [
    {
     "data": {
      "text/plain": "<Figure size 640x480 with 1 Axes>",
      "image/png": "[encoded data removed]"
     },
     "metadata": {},
     "output_type": "display_data"
    }
   ],
   "source": [
    "xs = [result['loss_rate'] for result in results]\n",
    "ys = [result['preprocess_and_compress_time'] for result in results]\n",
    "plt.scatter(xs, ys)\n",
    "plt.xlabel('loss rate')\n",
    "plt.ylabel('compression time')\n",
    "plt.show()"
   ],
   "metadata": {
    "collapsed": false,
    "ExecuteTime": {
     "start_time": "2023-08-07T11:23:58.878830Z",
     "end_time": "2023-08-07T11:23:59.009412Z"
    }
   }
  },
  {
   "cell_type": "code",
   "execution_count": 35,
   "outputs": [
    {
     "data": {
      "text/plain": "<Figure size 640x480 with 1 Axes>",
      "image/png": "[encoded data removed]"
     },
     "metadata": {},
     "output_type": "display_data"
    }
   ],
   "source": [
    "ys = [result['preprocess_and_compress_time'] for result in results]\n",
    "plt.scatter(list_rmses, ys)\n",
    "plt.xlabel('target rmse')\n",
    "plt.ylabel('compression time (s)')\n",
    "plt.show()"
   ],
   "metadata": {
    "collapsed": false,
    "ExecuteTime": {
     "start_time": "2023-08-07T10:47:22.260706Z",
     "end_time": "2023-08-07T10:47:22.397583Z"
    }
   }
  },
  {
   "cell_type": "code",
   "execution_count": 19,
   "outputs": [
    {
     "data": {
      "text/plain": "<Figure size 640x480 with 1 Axes>",
      "image/png": "[encoded data removed]"
     },
     "metadata": {},
     "output_type": "display_data"
    }
   ],
   "source": [
    "ys = [result['preprocess_and_compress_time'] for result in results]\n",
    "xs = [result['compression_rate'] for result in results]\n",
    "plt.scatter(xs, ys)\n",
    "plt.xlabel('compression rate')\n",
    "plt.ylabel('compression time')\n",
    "plt.show()"
   ],
   "metadata": {
    "collapsed": false,
    "ExecuteTime": {
     "start_time": "2023-08-07T11:26:29.122257Z",
     "end_time": "2023-08-07T11:26:29.232203Z"
    }
   }
  },
  {
   "cell_type": "code",
   "execution_count": 12,
   "metadata": {
    "ExecuteTime": {
     "start_time": "2023-08-07T10:24:55.857983Z",
     "end_time": "2023-08-07T10:24:56.013018Z"
    }
   },
   "outputs": [
    {
     "data": {
      "text/plain": "<Figure size 640x480 with 1 Axes>",
      "image/png": "[encoded data removed]"
     },
     "metadata": {},
     "output_type": "display_data"
    }
   ],
   "source": [
    "from plot import plot_scatter\n",
    "\n",
    "plot_scatter(results, \"test_time\")"
   ]
  },
  {
   "cell_type": "code",
   "execution_count": null,
   "metadata": {
    "ExecuteTime": {
     "end_time": "2023-07-10T12:36:06.291234Z",
     "start_time": "2023-07-10T12:36:06.058621Z"
    }
   },
   "outputs": [],
   "source": [
    "from plot import plot_hist\n",
    "\n",
    "plot_hist(benchmarks, \"test_time\")"
   ]
  },
  {
   "cell_type": "code",
   "execution_count": null,
   "metadata": {
    "ExecuteTime": {
     "end_time": "2023-07-10T15:21:50.845954Z",
     "start_time": "2023-07-10T15:21:50.758561Z"
    }
   },
   "outputs": [],
   "source": [
    "from generator.normal_multivariate import NormalMultivariateDistributionGenerator\n",
    "gen = NormalMultivariateDistributionGenerator()\n",
    "gen.gen([0,0], [[1, 0], [0, 1]], (2,))"
   ]
  },
  {
   "cell_type": "code",
   "execution_count": 123,
   "metadata": {
    "ExecuteTime": {
     "end_time": "2023-07-25T11:14:11.425330Z",
     "start_time": "2023-07-25T11:14:11.402469Z"
    }
   },
   "outputs": [],
   "source": [
    "import numpy as np\n",
    "import pandas as pd\n",
    "df = pd.read_csv(\"../data/smoke_detection_iot.csv\").iloc[:5, [0, 2, 3, 6, 7, 8, 14]]\n",
    "np_table = df.to_numpy()"
   ]
  },
  {
   "cell_type": "code",
   "execution_count": 123,
   "metadata": {
    "ExecuteTime": {
     "end_time": "2023-07-25T11:14:11.721813Z",
     "start_time": "2023-07-25T11:14:11.719815Z"
    }
   },
   "outputs": [],
   "source": [
    "df"
   ]
  },
  {
   "cell_type": "code",
   "execution_count": 130,
   "metadata": {
    "ExecuteTime": {
     "end_time": "2023-07-25T11:14:39.940466Z",
     "start_time": "2023-07-25T11:14:39.924822Z"
    }
   },
   "outputs": [
    {
     "data": {
      "text/plain": [
       "array([[-1.4, -0.5, -1. ],\n",
       "       [-0.7, -1.3, -0.9],\n",
       "       [ 0. , -0.6, -0.4],\n",
       "       [ 0.7,  1.1,  0.9],\n",
       "       [ 1.4,  1.3,  1.5]])"
      ]
     },
     "execution_count": 130,
     "metadata": {},
     "output_type": "execute_result"
    }
   ],
   "source": [
    "np_table = (np_table - vecT(np.mean(np_table, axis=0)).T) / vecT(np.std(np_table, axis=0)).T"
   ]
  },
  {
   "cell_type": "code",
   "execution_count": 125,
   "metadata": {
    "ExecuteTime": {
     "end_time": "2023-07-25T11:14:12.598515Z",
     "start_time": "2023-07-25T11:14:12.596517Z"
    }
   },
   "outputs": [],
   "source": [
    "def vecT(vec):\n",
    "    return np.array(vec)[np.newaxis].T"
   ]
  },
  {
   "cell_type": "code",
   "execution_count": 126,
   "metadata": {
    "ExecuteTime": {
     "end_time": "2023-07-25T11:14:13.045895Z",
     "start_time": "2023-07-25T11:14:13.015463Z"
    }
   },
   "outputs": [],
   "source": [
    "np_table = np_table.T"
   ]
  },
  {
   "cell_type": "code",
   "execution_count": 126,
   "metadata": {
    "ExecuteTime": {
     "end_time": "2023-07-25T11:14:13.393275Z",
     "start_time": "2023-07-25T11:14:13.391277Z"
    }
   },
   "outputs": [],
   "source": [
    "np_table"
   ]
  },
  {
   "cell_type": "code",
   "execution_count": 127,
   "metadata": {
    "ExecuteTime": {
     "end_time": "2023-07-25T11:14:13.636634Z",
     "start_time": "2023-07-25T11:14:13.622659Z"
    }
   },
   "outputs": [
    {
     "data": {
      "text/plain": [
       "array([[-1.4, -0.7,  0. ,  0.7,  1.4],\n",
       "       [-0.5, -1.3, -0.6,  1.1,  1.3],\n",
       "       [-1. , -0.9, -0.4,  0.9,  1.5]])"
      ]
     },
     "execution_count": 127,
     "metadata": {},
     "output_type": "execute_result"
    }
   ],
   "source": [
    "covy = np_table.T @ np_table / np_table.shape[0]"
   ]
  },
  {
   "cell_type": "code",
   "execution_count": 202,
   "metadata": {
    "ExecuteTime": {
     "end_time": "2023-07-25T14:14:47.636334Z",
     "start_time": "2023-07-25T14:14:47.621305Z"
    }
   },
   "outputs": [],
   "source": [
    "covy"
   ]
  },
  {
   "cell_type": "code",
   "execution_count": 203,
   "metadata": {
    "ExecuteTime": {
     "end_time": "2023-07-25T14:14:48.011456Z",
     "start_time": "2023-07-25T14:14:47.986727Z"
    }
   },
   "outputs": [
    {
     "data": {
      "text/plain": [
       "array([[1. , 0.8, 1. ],\n",
       "       [0.8, 1. , 1. ],\n",
       "       [1. , 1. , 1. ]])"
      ]
     },
     "execution_count": 203,
     "metadata": {},
     "output_type": "execute_result"
    }
   ],
   "source": [
    "eigvals, eigvecs = np.linalg.eig(covy)"
   ]
  },
  {
   "cell_type": "code",
   "execution_count": 201,
   "metadata": {
    "ExecuteTime": {
     "end_time": "2023-07-25T14:14:27.551150Z",
     "start_time": "2023-07-25T14:14:27.532197Z"
    }
   },
   "outputs": [],
   "source": [
    "eigvecs = eigvecs[:, :3]"
   ]
  },
  {
   "cell_type": "code",
   "execution_count": 191,
   "metadata": {
    "ExecuteTime": {
     "end_time": "2023-07-25T14:10:58.699389Z",
     "start_time": "2023-07-25T14:10:58.669355Z"
    }
   },
   "outputs": [
    {
     "data": {
      "text/plain": [
       "array([[ 0.70137266, -0.56980625],\n",
       "       [-0.71272483, -0.56903704],\n",
       "       [ 0.00998552, -0.59288927]])"
      ]
     },
     "execution_count": 191,
     "metadata": {},
     "output_type": "execute_result"
    }
   ],
   "source": [
    "eigvals = eigvals[:3]"
   ]
  },
  {
   "cell_type": "code",
   "execution_count": 188,
   "metadata": {
    "ExecuteTime": {
     "end_time": "2023-07-25T14:10:50.736798Z",
     "start_time": "2023-07-25T14:10:50.723771Z"
    }
   },
   "outputs": [],
   "source": [
    "eigvecs"
   ]
  },
  {
   "cell_type": "code",
   "execution_count": 189,
   "metadata": {
    "ExecuteTime": {
     "end_time": "2023-07-25T14:10:51.228874Z",
     "start_time": "2023-07-25T14:10:51.214909Z"
    }
   },
   "outputs": [],
   "source": [
    "vecT(eigvals).T"
   ]
  },
  {
   "cell_type": "code",
   "execution_count": 190,
   "metadata": {
    "ExecuteTime": {
     "end_time": "2023-07-25T14:10:51.973681Z",
     "start_time": "2023-07-25T14:10:51.960067Z"
    }
   },
   "outputs": [
    {
     "data": {
      "text/plain": [
       "array([[ 0.7, -0.6],\n",
       "       [-0.7, -0.6],\n",
       "       [ 0. , -0.6]])"
      ]
     },
     "execution_count": 190,
     "metadata": {},
     "output_type": "execute_result"
    }
   ],
   "source": [
    "np_table"
   ]
  },
  {
   "cell_type": "code",
   "execution_count": 192,
   "metadata": {
    "ExecuteTime": {
     "end_time": "2023-07-25T14:11:15.933941Z",
     "start_time": "2023-07-25T14:11:15.915579Z"
    }
   },
   "outputs": [
    {
     "data": {
      "text/plain": [
       "array([[0.2, 2.8]])"
      ]
     },
     "execution_count": 192,
     "metadata": {},
     "output_type": "execute_result"
    }
   ],
   "source": [
    "compressed = np_table @ eigvecs"
   ]
  },
  {
   "cell_type": "code",
   "execution_count": 153,
   "metadata": {
    "ExecuteTime": {
     "end_time": "2023-07-25T11:38:19.315398Z",
     "start_time": "2023-07-25T11:38:19.313400Z"
    }
   },
   "outputs": [],
   "source": [
    "compressed"
   ]
  },
  {
   "cell_type": "code",
   "execution_count": 197,
   "metadata": {
    "ExecuteTime": {
     "end_time": "2023-07-25T14:14:05.305245Z",
     "start_time": "2023-07-25T14:14:05.284191Z"
    }
   },
   "outputs": [],
   "source": [
    "eigvecs.T"
   ]
  },
  {
   "cell_type": "code",
   "execution_count": 198,
   "metadata": {
    "ExecuteTime": {
     "end_time": "2023-07-25T14:14:06.374463Z",
     "start_time": "2023-07-25T14:14:06.372294Z"
    }
   },
   "outputs": [
    {
     "data": {
      "text/plain": [
       "array([[-0.6283503 ,  0.40632888,  0.38897577, -0.27750802,  0.11055367],\n",
       "       [ 1.69893069,  1.67759817,  0.56927194, -1.54783845, -2.39796236]])"
      ]
     },
     "execution_count": 198,
     "metadata": {},
     "output_type": "execute_result"
    }
   ],
   "source": [
    "compressed.T @ compressed"
   ]
  },
  {
   "cell_type": "code",
   "execution_count": 169,
   "metadata": {
    "ExecuteTime": {
     "end_time": "2023-07-25T13:52:25.291596Z",
     "start_time": "2023-07-25T13:52:25.277587Z"
    }
   },
   "outputs": [
    {
     "data": {
      "text/plain": [
       "array([[ 3.54269976e+00, -6.17412708e-18,  2.18893506e-16],\n",
       "       [-6.17412708e-18,  2.00115553e-01,  3.80474967e-17],\n",
       "       [ 2.18893506e-16,  3.80474967e-17,  7.18468923e-03]])"
      ]
     },
     "execution_count": 169,
     "metadata": {},
     "output_type": "execute_result"
    }
   ],
   "source": [
    "decompressed = compressed @ eigvecs.T"
   ]
  },
  {
   "cell_type": "code",
   "execution_count": 155,
   "metadata": {
    "ExecuteTime": {
     "end_time": "2023-07-25T11:38:50.648012Z",
     "start_time": "2023-07-25T11:38:50.646013Z"
    }
   },
   "outputs": [],
   "source": [
    "eigvecs.T"
   ]
  },
  {
   "cell_type": "code",
   "execution_count": 144,
   "metadata": {
    "ExecuteTime": {
     "end_time": "2023-07-25T11:33:55.548002Z",
     "start_time": "2023-07-25T11:33:55.546004Z"
    }
   },
   "outputs": [
    {
     "data": {
      "text/plain": [
       "array([[-0.56980625, -0.56903704, -0.59288927]])"
      ]
     },
     "execution_count": 144,
     "metadata": {},
     "output_type": "execute_result"
    }
   ],
   "source": [
    "np_table"
   ]
  },
  {
   "cell_type": "code",
   "execution_count": 145,
   "metadata": {
    "ExecuteTime": {
     "end_time": "2023-07-25T11:33:59.182668Z",
     "start_time": "2023-07-25T11:33:59.165943Z"
    }
   },
   "outputs": [
    {
     "data": {
      "text/plain": [
       "array([[-1.41421356, -0.52412801, -1.00331504],\n",
       "       [-0.70710678, -1.27887526, -0.92252794],\n",
       "       [ 0.        , -0.55179117, -0.43057336],\n",
       "       [ 0.70710678,  1.09750364,  0.87774292],\n",
       "       [ 1.41421356,  1.2572908 ,  1.47867342]])"
      ]
     },
     "execution_count": 145,
     "metadata": {},
     "output_type": "execute_result"
    }
   ],
   "source": [
    "np.linalg.pinv(eigvecs)"
   ]
  },
  {
   "cell_type": "code",
   "execution_count": 70,
   "metadata": {
    "ExecuteTime": {
     "end_time": "2023-07-25T10:58:01.597492Z",
     "start_time": "2023-07-25T10:58:01.537689Z"
    }
   },
   "outputs": [
    {
     "data": {
      "text/plain": [
       "array([[-0.57451639,  0.58177401,  0.57573425]])"
      ]
     },
     "execution_count": 70,
     "metadata": {},
     "output_type": "execute_result"
    }
   ],
   "source": [
    "denormalized = decompressed * vecT(np.std(np_table, axis=0)).T + vecT(np.mean(np_table, axis=0)).T"
   ]
  },
  {
   "cell_type": "code",
   "execution_count": 71,
   "metadata": {
    "ExecuteTime": {
     "end_time": "2023-07-25T10:58:02.388637Z",
     "start_time": "2023-07-25T10:58:02.386640Z"
    }
   },
   "outputs": [],
   "source": [
    "denormalized"
   ]
  },
  {
   "cell_type": "code",
   "execution_count": 156,
   "metadata": {
    "ExecuteTime": {
     "end_time": "2023-07-25T11:38:54.379354Z",
     "start_time": "2023-07-25T11:38:54.367528Z"
    }
   },
   "outputs": [
    {
     "data": {
      "text/plain": [
       "array([[-1.4, -0.5, -1. ],\n",
       "       [-0.7, -1.2, -1. ],\n",
       "       [-0.1, -0.6, -0.3],\n",
       "       [ 0.7,  1.1,  0.9],\n",
       "       [ 1.4,  1.3,  1.4]])"
      ]
     },
     "execution_count": 156,
     "metadata": {},
     "output_type": "execute_result"
    }
   ],
   "source": []
  }
 ],
 "metadata": {
  "kernelspec": {
   "display_name": "Python 3 (ipykernel)",
   "language": "python",
   "name": "python3"
  },
  "language_info": {
   "codemirror_mode": {
    "name": "ipython",
    "version": 3
   },
   "file_extension": ".py",
   "mimetype": "text/x-python",
   "name": "python",
   "nbconvert_exporter": "python",
   "pygments_lexer": "ipython3",
   "version": "3.11.4"
  }
 },
 "nbformat": 4,
 "nbformat_minor": 1
}
