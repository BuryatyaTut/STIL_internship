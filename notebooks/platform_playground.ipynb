{
 "cells": [
  {
   "cell_type": "code",
   "execution_count": null,
   "outputs": [],
   "source": [
    "%load_ext autoreload\n",
    "%autoreload 2"
   ],
   "metadata": {
    "collapsed": false,
    "ExecuteTime": {
     "start_time": "2023-07-10T12:07:11.222195Z",
     "end_time": "2023-07-10T12:07:11.273543Z"
    }
   }
  },
  {
   "cell_type": "code",
   "execution_count": null,
   "outputs": [],
   "source": [
    "\n",
    "from algo.codec.brotli_algo import BrotliLibraryCompressionAlgorithm\n",
    "from algo.codec.pca import PCACompression\n",
    "from algo.codec.zstd import ZstdLibraryCompressionAlgorithm\n",
    "from scaffold import Scaffold\n",
    "from algo.process.tobinary import ConvertToBinaryProcessing\n",
    "from algo.codec.zlib import ZlibCompression\n",
    "from algo.codec.dummy import DummyCompressionAlgorithm\n",
    "\n",
    "benchmarks = []\n",
    "Algos = [PCACompression(7), BrotliLibraryCompressionAlgorithm(), ZstdLibraryCompressionAlgorithm(), ZlibCompression(), DummyCompressionAlgorithm()]\n",
    "Processes = [ConvertToBinaryProcessing()]\n",
    "for algo in Algos:\n",
    "    for proc in Processes:\n",
    "        a = Scaffold(algo, proc, \"../data/sample_dataset.csv\")\n",
    "        a.start(\"test\", logs=True)\n",
    "        print(a.benchmark)\n",
    "        benchmarks.append(a.benchmark)\n",
    "        print(\"---------------------\")"
   ],
   "metadata": {
    "collapsed": false,
    "ExecuteTime": {
     "start_time": "2023-07-10T12:18:18.783994Z",
     "end_time": "2023-07-10T12:31:06.639285Z"
    }
   }
  },
  {
   "cell_type": "code",
   "execution_count": null,
   "outputs": [],
   "source": [
    "from scaffold.json import json_scaffold\n",
    "json_scaffold(\"plug_config.json\")"
   ],
   "metadata": {
    "collapsed": false
   }
  },
  {
   "cell_type": "code",
   "execution_count": 27,
   "outputs": [
    {
     "data": {
      "text/plain": "array([[[4.15103299, 3.39142483, 2.41703906, 2.10987388, 2.23718397],\n        [3.18087005, 3.49121103, 3.38238775, 2.88462903, 2.28445788],\n        [3.31614799, 3.96482007, 4.00656845, 4.01766555, 2.91231793],\n        [1.70541318, 2.37713906, 0.90337928, 3.61545204, 3.15752728],\n        [2.46014596, 3.48116198, 2.59968266, 2.19152949, 3.05267329]],\n\n       [[4.03660409, 2.48688367, 2.47792379, 5.6911144 , 1.78713152],\n        [2.62367668, 2.11634242, 1.78823066, 3.36007797, 1.81469907],\n        [3.12482859, 2.09577744, 2.90239893, 3.69747186, 4.44676167],\n        [1.87860587, 2.04948678, 3.22210117, 2.8345518 , 3.96947629],\n        [3.46192394, 4.99964209, 1.77623138, 4.63734183, 1.62735789]],\n\n       [[3.59194739, 3.61425178, 1.8432702 , 1.60064373, 3.55750638],\n        [2.46566978, 1.91472464, 2.51198901, 3.69814286, 1.22014785],\n        [3.5879186 , 3.56796724, 3.25925903, 4.2050326 , 3.3335578 ],\n        [3.61354422, 2.02898406, 3.09247219, 2.1018309 , 3.2324314 ],\n        [3.34030634, 3.19522626, 4.53841182, 4.09541866, 3.70263493]],\n\n       [[2.99641589, 3.15766337, 2.45507079, 3.02771924, 5.4694106 ],\n        [3.91474009, 2.11090508, 4.44087723, 4.87338238, 3.38506509],\n        [2.92771402, 1.99977548, 3.44602586, 0.64153174, 4.69875794],\n        [2.02785849, 3.43138254, 2.45447165, 4.48979429, 3.13230674],\n        [3.33313077, 4.52990565, 3.30358283, 4.06470261, 0.6741484 ]],\n\n       [[1.92886135, 3.77055149, 2.1984395 , 3.44063458, 1.69292949],\n        [1.61571631, 2.59776621, 1.9551429 , 2.80522813, 3.37363307],\n        [3.32743078, 2.96319884, 2.38637189, 2.35302751, 1.55715284],\n        [3.53068494, 1.86082096, 5.17474283, 5.24307833, 2.97814048],\n        [1.97402189, 2.43177449, 2.29929006, 1.94975918, 2.7090719 ]]])"
     },
     "execution_count": 27,
     "metadata": {},
     "output_type": "execute_result"
    }
   ],
   "source": [
    "from generator.normal import NormalDistributionGenerator\n",
    "normal = NormalDistributionGenerator()\n",
    "normal.gen(mean=3, dev=1, output_shape=(5,5, 5))"
   ],
   "metadata": {
    "collapsed": false,
    "ExecuteTime": {
     "start_time": "2023-07-10T13:13:38.645499Z",
     "end_time": "2023-07-10T13:13:38.733363Z"
    }
   }
  },
  {
   "cell_type": "code",
   "execution_count": null,
   "outputs": [],
   "source": [
    "from plot import plot_benchmarks\n",
    "\n",
    "plot_benchmarks(benchmarks, \"compression_rate\")\n",
    "for i in benchmarks:\n",
    "    print(i[\"compression_rate\"])\n",
    "print(benchmarks)"
   ],
   "metadata": {
    "collapsed": false,
    "ExecuteTime": {
     "start_time": "2023-07-10T12:31:16.395336Z",
     "end_time": "2023-07-10T12:31:17.346774Z"
    }
   }
  },
  {
   "cell_type": "code",
   "execution_count": null,
   "outputs": [],
   "source": [
    "from plot import plot_scatter\n",
    "\n",
    "plot_scatter(benchmarks, \"test_time\")"
   ],
   "metadata": {
    "collapsed": false,
    "ExecuteTime": {
     "start_time": "2023-07-10T12:33:19.323900Z",
     "end_time": "2023-07-10T12:33:19.581559Z"
    }
   }
  },
  {
   "cell_type": "code",
   "execution_count": null,
   "outputs": [],
   "source": [
    "from plot import plot_hist\n",
    "\n",
    "plot_hist(benchmarks, \"test_time\")"
   ],
   "metadata": {
    "collapsed": false,
    "ExecuteTime": {
     "start_time": "2023-07-10T12:36:06.058621Z",
     "end_time": "2023-07-10T12:36:06.291234Z"
    }
   }
  },
  {
   "cell_type": "code",
   "execution_count": 21,
   "outputs": [
    {
     "name": "stdout",
     "output_type": "stream",
     "text": [
      "                           _ii:  595.0 B\n",
      "                          _iii:  595.0 B\n",
      "                          _i21:  595.0 B\n",
      "                           _ih:  248.0 B\n",
      "                            In:  248.0 B\n",
      "                          open:  152.0 B\n",
      " remove_imported_pydev_package:  152.0 B\n",
      "                    sizeof_fmt:  152.0 B\n",
      "                   __builtin__:   72.0 B\n",
      "                  __builtins__:   72.0 B\n"
     ]
    }
   ],
   "source": [],
   "metadata": {
    "collapsed": false,
    "ExecuteTime": {
     "start_time": "2023-07-10T13:07:42.432826Z",
     "end_time": "2023-07-10T13:07:42.522242Z"
    }
   }
  },
  {
   "cell_type": "code",
   "execution_count": 24,
   "outputs": [],
   "source": [
    "%reset"
   ],
   "metadata": {
    "collapsed": false,
    "ExecuteTime": {
     "start_time": "2023-07-10T13:10:52.130361Z",
     "end_time": "2023-07-10T13:10:54.271003Z"
    }
   }
  },
  {
   "cell_type": "code",
   "execution_count": null,
   "outputs": [],
   "source": [],
   "metadata": {
    "collapsed": false
   }
  }
 ],
 "metadata": {
  "kernelspec": {
   "display_name": "Python 3",
   "language": "python",
   "name": "python3"
  },
  "language_info": {
   "codemirror_mode": {
    "name": "ipython",
    "version": 2
   },
   "file_extension": ".py",
   "mimetype": "text/x-python",
   "name": "python",
   "nbconvert_exporter": "python",
   "pygments_lexer": "ipython2",
   "version": "2.7.6"
  }
 },
 "nbformat": 4,
 "nbformat_minor": 0
}
