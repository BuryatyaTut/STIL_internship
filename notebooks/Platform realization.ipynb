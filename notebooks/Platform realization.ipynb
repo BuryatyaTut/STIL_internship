{
 "cells": [
  {
   "cell_type": "code",
   "execution_count": 74,
   "outputs": [],
   "source": [
    "import json\n",
    "import time\n",
    "import numpy as np\n",
    "from functools import wraps\n",
    "\n",
    "class Platform:\n",
    "    def __init__(self, config_json):\n",
    "        with open(config_json, 'r') as f:\n",
    "            config = json.load(f)\n",
    "        self.raw_table = np.array([1,2,3]) # read_table(config[\"table\"])\n",
    "        self.algorithm = globals()[config[\"Algorithm\"]]() # getattr(mymodule, class_name)() if class in different module\n",
    "        self.processing = globals()[config[\"Processing\"]]()\n",
    "        self.run_type = config[\"runType\"]\n",
    "        self.logs = config[\"logs\"]\n",
    "\n",
    "        self.benchmark = {\"name\": self.algorithm.__name__}\n",
    "\n",
    "        if self.run_type == 'test':\n",
    "            self.test()\n",
    "        elif self.run_type == 'compress':\n",
    "            self.compress()\n",
    "        elif self.run_type == 'decompress':\n",
    "            self.decompress()\n",
    "\n",
    "    def measure_time(flag):\n",
    "        def decorator(func):\n",
    "            def wrapper(self, *args, **kwargs):\n",
    "                start_time = time.time()\n",
    "                result = func(self, *args, **kwargs)\n",
    "                end_time = time.time()\n",
    "\n",
    "                if getattr(self, flag):\n",
    "                    print(f\"Function {func.__name__} took {end_time - start_time} seconds to execute.\")\n",
    "                    self.benchmark[func.__name__ + \"_time\"] = end_time - start_time\n",
    "\n",
    "                return result\n",
    "            return wrapper\n",
    "        return decorator\n",
    "\n",
    "    @measure_time(\"logs\")\n",
    "    def compress(self):\n",
    "        preprocessed_table = self.processing.preprocess(self.raw_table)\n",
    "        compressed_table = self.algorithm.compress(np.array(preprocessed_table))\n",
    "        if self.logs:\n",
    "            compression_rate = 1000 # get_compression_rate(compressed_data, self.raw_table)\n",
    "            self.benchmark[\"compression_rate\"] = compression_rate\n",
    "        return compressed_table\n",
    "\n",
    "    @measure_time(\"logs\")\n",
    "    def decompress(self, compressed_table):\n",
    "        decompressed_table = self.algorithm.decompression(compressed_table)\n",
    "        table = self.processing.postprocess(decompressed_table)\n",
    "\n",
    "        if self.logs:\n",
    "            loss_rate = 0.0  # get_loss_rate(self.table, table)\n",
    "            self.benchmark[\"loss_rate\"] = loss_rate\n",
    "\n",
    "        return table\n",
    "\n",
    "    @measure_time(\"logs\")\n",
    "    def test(self):\n",
    "        compressed_data = self.compress()\n",
    "        decompressed_data = self.decompress(compressed_data)"
   ],
   "metadata": {
    "collapsed": false,
    "pycharm": {
     "name": "#%%\n"
    }
   }
  },
  {
   "cell_type": "code",
   "execution_count": 56,
   "outputs": [],
   "source": [],
   "metadata": {
    "collapsed": false,
    "pycharm": {
     "name": "#%%\n"
    }
   }
  },
  {
   "cell_type": "code",
   "execution_count": 72,
   "outputs": [
    {
     "name": "stdout",
     "output_type": "stream",
     "text": [
      "DummyCompressionAlgorithm\n",
      "<__main__.DummyCompressionAlgorithm object at 0x00000274046EE260>\n",
      "I am dummy compression\n"
     ]
    },
    {
     "data": {
      "text/plain": "[1, 1]"
     },
     "execution_count": 72,
     "metadata": {},
     "output_type": "execute_result"
    }
   ],
   "source": [
    "plug_test = Platform(\"plug_config.json\")"
   ],
   "metadata": {
    "collapsed": false,
    "pycharm": {
     "name": "#%%\n"
    }
   }
  },
  {
   "cell_type": "code",
   "execution_count": null,
   "outputs": [],
   "source": [],
   "metadata": {
    "collapsed": false,
    "pycharm": {
     "name": "#%%\n"
    }
   }
  },
  {
   "cell_type": "code",
   "execution_count": null,
   "outputs": [],
   "source": [],
   "metadata": {
    "collapsed": false,
    "pycharm": {
     "name": "#%%\n"
    }
   }
  },
  {
   "cell_type": "code",
   "execution_count": 64,
   "outputs": [],
   "source": [
    "import abc\n",
    "\n",
    "class CompressionAlgorithm(abc.ABC):\n",
    "    def __init__(self):\n",
    "        ...\n",
    "    @property\n",
    "    @abc.abstractmethod\n",
    "    def name(self):\n",
    "        ...\n",
    "\n",
    "    @abc.abstractmethod\n",
    "    def compression(self, table):\n",
    "        ...\n",
    "\n",
    "    @abc.abstractmethod\n",
    "    def decompression(self, compressed_data):\n",
    "        ...\n",
    "\n",
    "class LearningCompressionAlgorithm(CompressionAlgorithm):\n",
    "\n",
    "    @abc.abstractmethod\n",
    "    def fit(self, training_data):\n",
    "        ...\n",
    "\n",
    "class NonLearningCompressionAlgorithm(CompressionAlgorithm):\n",
    "    ...\n",
    "\n",
    "class LosslessCompressionAlgorithm(CompressionAlgorithm):\n",
    "    ...\n",
    "\n",
    "class LossyCompressionAlgorithm(CompressionAlgorithm):\n",
    "    ..."
   ],
   "metadata": {
    "collapsed": false,
    "pycharm": {
     "name": "#%%\n"
    }
   }
  },
  {
   "cell_type": "code",
   "execution_count": 69,
   "outputs": [],
   "source": [
    "class DummyCompressionAlgorithm(LosslessCompressionAlgorithm):\n",
    "    name = 'Dummy Compression Algorithm'\n",
    "    def compression(self, table):\n",
    "        time.sleep(2)\n",
    "        print(\"I am dummy compression\")\n",
    "        return table\n",
    "    def decompression(self, compressed_data):\n",
    "        time.sleep(1)\n",
    "        print(\"I am dummy decompression\")\n",
    "        return compressed_data"
   ],
   "metadata": {
    "collapsed": false,
    "pycharm": {
     "name": "#%%\n"
    }
   }
  },
  {
   "cell_type": "code",
   "execution_count": 66,
   "outputs": [],
   "source": [
    "class Processing(abc.ABC):\n",
    "    def __init__(self):\n",
    "        ...\n",
    "    @property\n",
    "    @abc.abstractmethod\n",
    "    def name(self):\n",
    "        ...\n",
    "\n",
    "    @abc.abstractmethod\n",
    "    def preprocess(self, raw_table):\n",
    "        ...\n",
    "\n",
    "    @abc.abstractmethod\n",
    "    def postprocess(self, processed_table):\n",
    "        ..."
   ],
   "metadata": {
    "collapsed": false,
    "pycharm": {
     "name": "#%%\n"
    }
   }
  },
  {
   "cell_type": "code",
   "execution_count": 67,
   "outputs": [],
   "source": [
    "class DummyProcessing(Processing):\n",
    "    name = \"Dummy Pre/Post-Processing\"\n",
    "    def preprocess(self, raw_table):\n",
    "        return raw_table\n",
    "    def postprocess(self, processed_table):\n",
    "        return processed_table\n"
   ],
   "metadata": {
    "collapsed": false,
    "pycharm": {
     "name": "#%%\n"
    }
   }
  },
  {
   "cell_type": "code",
   "execution_count": null,
   "outputs": [],
   "source": [
    "import numpy as np\n",
    "platform = Platform([DummyCompressionAlgorithm()], [np.array([1,2,3])])\n",
    "platform.compress_table()\n",
    "platform.results"
   ],
   "metadata": {
    "collapsed": false,
    "pycharm": {
     "name": "#%%\n"
    }
   }
  }
 ],
 "metadata": {
  "kernelspec": {
   "display_name": "Python 3",
   "language": "python",
   "name": "python3"
  },
  "language_info": {
   "codemirror_mode": {
    "name": "ipython",
    "version": 2
   },
   "file_extension": ".py",
   "mimetype": "text/x-python",
   "name": "python",
   "nbconvert_exporter": "python",
   "pygments_lexer": "ipython2",
   "version": "2.7.6"
  }
 },
 "nbformat": 4,
 "nbformat_minor": 0
}