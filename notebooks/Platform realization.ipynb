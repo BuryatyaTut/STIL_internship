{
 "cells": [
  {
   "cell_type": "code",
   "execution_count": 20,
   "outputs": [],
   "source": [
    "import inspect\n",
    "import json\n",
    "import os\n",
    "import time\n",
    "import numpy as np\n",
    "from functools import wraps\n",
    "import pandas as pd\n",
    "import seaborn as sns\n",
    "import random\n",
    "import tempfile\n",
    "import pathlib\n",
    "import zstandard as zstd\n",
    "import abc"
   ],
   "metadata": {
    "collapsed": false,
    "ExecuteTime": {
     "start_time": "2023-07-06T13:17:48.079066Z",
     "end_time": "2023-07-06T13:17:48.246414Z"
    }
   }
  },
  {
   "cell_type": "markdown",
   "source": [
    "Platform class"
   ],
   "metadata": {
    "collapsed": false
   }
  },
  {
   "cell_type": "code",
   "execution_count": 32,
   "outputs": [],
   "source": [
    "\n",
    "\n",
    "class Platform:\n",
    "    def __init__(self, algorithm, processing, table_path):\n",
    "        self.algorithm = algorithm\n",
    "        self.processing = processing\n",
    "        self.table_path = table_path\n",
    "        self.logs = False\n",
    "\n",
    "\n",
    "        self.benchmark = {\"name\" : type(self.algorithm).__name__, \"table_path\": table_path}\n",
    "\n",
    "    def start(self, run_type=\"test\", logs=False):\n",
    "        self.logs = logs\n",
    "\n",
    "        if self.logs:\n",
    "            if isinstance(self.algorithm, LosslessCompressionAlgorithm):\n",
    "                self.benchmark[\"isLossLess\"] = True\n",
    "            else:\n",
    "                self.benchmark[\"isLossLess\"] = False\n",
    "\n",
    "            if isinstance(self.algorithm, LearningCompressionAlgorithm):\n",
    "                self.benchmark[\"isLearning\"] = True\n",
    "            else:\n",
    "                self.benchmark[\"isLearning\"] = False\n",
    "\n",
    "        if run_type == 'test':\n",
    "            self.test()\n",
    "        elif run_type == 'compress':\n",
    "            self.preprocess_and_compress()\n",
    "        elif run_type == 'decompress':\n",
    "            self.decompress_and_postprocess()\n",
    "\n",
    "    def measure_time(flag):\n",
    "        def decorator(func):\n",
    "            def wrapper(self, *args, **kwargs):\n",
    "                start_time = time.time()\n",
    "                result = func(self, *args, **kwargs)\n",
    "                end_time = time.time()\n",
    "\n",
    "                if getattr(self, flag):\n",
    "                    print(f\"Function {func.__name__} took {end_time - start_time} seconds to execute.\")\n",
    "                    self.benchmark[func.__name__ + \"_time\"] = end_time - start_time\n",
    "\n",
    "                return result\n",
    "            return wrapper\n",
    "        return decorator\n",
    "\n",
    "    def get_names(self):\n",
    "        return {\"compressed\": self.table_path + \"_compressed\",\n",
    "                 \"decompressed\": self.table_path + \"_decompressed\",\n",
    "                 \"preprocessed\": self.table_path + \"_preprocessed\"}\n",
    "\n",
    "\n",
    "    @measure_time(\"logs\")\n",
    "    def preprocess_and_compress(self):\n",
    "        names = self.get_names()\n",
    "\n",
    "        table_file = open(self.table_path, 'rb')\n",
    "        preprocessed_file = open(names[\"preprocessed\"], 'w+b')\n",
    "        self.processing.do_preprocess(table_file, preprocessed_file)\n",
    "        table_file.close()\n",
    "\n",
    "        compressed_file = open(names[\"compressed\"], 'wb')\n",
    "        self.algorithm.compress(preprocessed_file, compressed_file)\n",
    "        preprocessed_file.close()\n",
    "\n",
    "        if self.logs:\n",
    "\n",
    "            table_file = open(self.table_path, 'rb')\n",
    "\n",
    "            compression_rate = self.get_compression_rate(table_file, compressed_file)\n",
    "\n",
    "            compressed_file.close()\n",
    "            table_file.close()\n",
    "\n",
    "\n",
    "            self.benchmark[\"compression_rate\"] = compression_rate\n",
    "        return 0\n",
    "\n",
    "    @measure_time(\"logs\")\n",
    "    def decompress_and_postprocess(self):\n",
    "        names = self.get_names()\n",
    "\n",
    "        compressed_file = open(names[\"compressed\"], 'a+b')\n",
    "        decompressed_file = open(names['decompressed'], 'wb')\n",
    "\n",
    "        self.algorithm.decompress(compressed_file, decompressed_file)\n",
    "        compressed_file.close()\n",
    "\n",
    "        self.processing.do_postprocess(decompressed_file)\n",
    "\n",
    "        if self.logs:\n",
    "            profile_file = open(self.table_path, 'rb')\n",
    "            loss_rate = self.get_loss_rate(profile_file, decompressed_file)\n",
    "            profile_file.close()\n",
    "            self.benchmark[\"loss_rate\"] = loss_rate\n",
    "\n",
    "        return 0\n",
    "\n",
    "    @measure_time(\"logs\")\n",
    "    def test(self):\n",
    "        self.preprocess_and_compress()\n",
    "        self.decompress_and_postprocess()\n",
    "        return 0 #TODO: result codes\n",
    "\n",
    "    def get_compression_rate(self, input_file, compressed_file): #I'm assuming compressed_table is actually bytes-like\n",
    "\n",
    "        print(compressed_file.name)\n",
    "        input_file.seek(0, os.SEEK_END)\n",
    "        compressed_file.seek(0, os.SEEK_END)\n",
    "        print(input_file.tell())\n",
    "        print(compressed_file.tell())\n",
    "        return compressed_file.tell() / input_file.tell()\n",
    "\n",
    "    def get_loss_rate(self, input_file, decompressed_file):\n",
    "        print(\"I am dummy: \", inspect.currentframe().f_code.co_name)\n",
    "        return random.randint(0, 20)\n",
    "\n"
   ],
   "metadata": {
    "collapsed": false,
    "ExecuteTime": {
     "start_time": "2023-07-06T13:23:17.021334Z",
     "end_time": "2023-07-06T13:23:17.206840Z"
    }
   }
  },
  {
   "cell_type": "code",
   "execution_count": 33,
   "outputs": [
    {
     "name": "stdout",
     "output_type": "stream",
     "text": [
      "b''\n",
      "I am dummy compression\n",
      "flush.txt_compressed\n",
      "12\n",
      "12\n",
      "Function preprocess_and_compress took 0.001995086669921875 seconds to execute.\n",
      "I am dummy decompression\n",
      "I am dummy:  get_loss_rate\n",
      "Function decompress_and_postprocess took 1.005162000656128 seconds to execute.\n",
      "Function test took 1.0071570873260498 seconds to execute.\n"
     ]
    }
   ],
   "source": [
    "def json_platform(config_path):\n",
    "    with open(config_path, 'r') as f:\n",
    "        config = json.load(f)\n",
    "\n",
    "    platform = Platform(globals()[config[\"Algorithm\"]](), globals()[config[\"Processing\"]](), config[\"table_path\"])\n",
    "    platform.start(config[\"run_type\"], config[\"logs\"])\n",
    "\n",
    "json_platform(\"plug_config.json\")"
   ],
   "metadata": {
    "collapsed": false,
    "ExecuteTime": {
     "start_time": "2023-07-06T13:23:17.377130Z",
     "end_time": "2023-07-06T13:23:18.545453Z"
    }
   }
  },
  {
   "cell_type": "markdown",
   "source": [
    "Compression Algorithm Classes"
   ],
   "metadata": {
    "collapsed": false
   }
  },
  {
   "cell_type": "code",
   "execution_count": 34,
   "outputs": [],
   "source": [
    "import abc\n",
    "\n",
    "class CompressionAlgorithm(abc.ABC):\n",
    "    def __init__(self):\n",
    "        ...\n",
    "    @property\n",
    "    @abc.abstractmethod\n",
    "    def name(self):\n",
    "        ...\n",
    "\n",
    "    @abc.abstractmethod\n",
    "    def compress(self, table_file, compressed_file):\n",
    "        ...\n",
    "\n",
    "    @abc.abstractmethod\n",
    "    def decompress(self, compressed_file, decompressed_file):\n",
    "        ...\n",
    "\n",
    "class LearningCompressionAlgorithm(CompressionAlgorithm):\n",
    "\n",
    "    @abc.abstractmethod\n",
    "    def fit(self, training_data):\n",
    "        ...\n",
    "\n",
    "class NonLearningCompressionAlgorithm(CompressionAlgorithm):\n",
    "    ...\n",
    "\n",
    "class LosslessCompressionAlgorithm(CompressionAlgorithm):\n",
    "    ...\n",
    "\n",
    "class LossyCompressionAlgorithm(CompressionAlgorithm):\n",
    "    ..."
   ],
   "metadata": {
    "collapsed": false,
    "ExecuteTime": {
     "start_time": "2023-07-06T13:23:18.684512Z",
     "end_time": "2023-07-06T13:23:18.840718Z"
    }
   }
  },
  {
   "cell_type": "code",
   "execution_count": 35,
   "outputs": [],
   "source": [
    "class DummyCompressionAlgorithm(LosslessCompressionAlgorithm, NonLearningCompressionAlgorithm):\n",
    "    name = 'Dummy Compression Algorithm'\n",
    "    def compress(self, table_file, compressed_file):\n",
    "        table_file.seek(0)\n",
    "        compressed_file.seek(0)\n",
    "        compressed_file.write(table_file.read())\n",
    "        print(table_file.read())\n",
    "        print(\"I am dummy compression\")\n",
    "        return 0 # TODO: status codes\n",
    "    def decompress(self, compressed_file, decompressed_file):\n",
    "        compressed_file.seek(0)\n",
    "        decompressed_file.seek(0)\n",
    "        decompressed_file.write(compressed_file.read())\n",
    "        time.sleep(1)\n",
    "        print(\"I am dummy decompression\")\n",
    "        return 0 # TODO: status codes"
   ],
   "metadata": {
    "collapsed": false,
    "ExecuteTime": {
     "start_time": "2023-07-06T13:23:18.858704Z",
     "end_time": "2023-07-06T13:23:18.995102Z"
    }
   }
  },
  {
   "cell_type": "code",
   "execution_count": 36,
   "outputs": [],
   "source": [
    "class ZstdLibraryCompressionAlgorithm(LosslessCompressionAlgorithm, NonLearningCompressionAlgorithm):\n",
    "    name = 'zstd library'\n",
    "    def compress(self, table_file, compressed_file):\n",
    "        compressor = zstd.ZstdCompressor(level=22)\n",
    "        compressor.copy_stream(table_file, compressed_file)\n",
    "        return 0\n",
    "    def decompress(self, compressed_file, decompressed_file):\n",
    "        decompressor = zstd.ZstdDecompressor()\n",
    "        decompressor.copy_stream(compressed_file,decompressed_file)\n",
    "        return 0"
   ],
   "metadata": {
    "collapsed": false,
    "ExecuteTime": {
     "start_time": "2023-07-06T13:23:19.150934Z",
     "end_time": "2023-07-06T13:23:19.307964Z"
    }
   }
  },
  {
   "cell_type": "markdown",
   "source": [
    "Processing Classes"
   ],
   "metadata": {
    "collapsed": false
   }
  },
  {
   "cell_type": "code",
   "execution_count": 37,
   "outputs": [],
   "source": [
    "class Processing(abc.ABC):\n",
    "    def __init__(self):\n",
    "        ...\n",
    "    @property\n",
    "    @abc.abstractmethod\n",
    "    def name(self):\n",
    "        ...\n",
    "\n",
    "    @abc.abstractmethod\n",
    "    def do_preprocess(self, raw_file, processed_file):\n",
    "        ...\n",
    "\n",
    "    @abc.abstractmethod\n",
    "    def do_postprocess(self, processed_file):\n",
    "        ..."
   ],
   "metadata": {
    "collapsed": false,
    "ExecuteTime": {
     "start_time": "2023-07-06T13:23:19.869818Z",
     "end_time": "2023-07-06T13:23:19.996553Z"
    }
   }
  },
  {
   "cell_type": "code",
   "execution_count": 38,
   "outputs": [],
   "source": [
    "class DummyProcessing(Processing):\n",
    "    name = \"Dummy Pre/Post-Processing\"\n",
    "    def do_preprocess(self, raw_file, processed_file):\n",
    "        raw_file.seek(0)\n",
    "        processed_file.seek(0)\n",
    "        processed_file.write(raw_file.read())\n",
    "        return 0 # TODO: replace with enum / status codes\n",
    "    def do_postprocess(self, processed_file):\n",
    "        return 0 # TODO: replace with enum/status codes\n"
   ],
   "metadata": {
    "collapsed": false,
    "ExecuteTime": {
     "start_time": "2023-07-06T13:23:20.292949Z",
     "end_time": "2023-07-06T13:23:20.414910Z"
    }
   }
  },
  {
   "cell_type": "markdown",
   "source": [
    "Testing"
   ],
   "metadata": {
    "collapsed": false
   }
  },
  {
   "cell_type": "code",
   "execution_count": 39,
   "outputs": [
    {
     "name": "stdout",
     "output_type": "stream",
     "text": [
      "b''\n",
      "I am dummy compression\n",
      "flush.txt_compressed\n",
      "12\n",
      "12\n",
      "Function preprocess_and_compress took 0.014960050582885742 seconds to execute.\n",
      "I am dummy decompression\n",
      "I am dummy:  get_loss_rate\n",
      "Function decompress_and_postprocess took 1.017477035522461 seconds to execute.\n",
      "Function test took 1.0324370861053467 seconds to execute.\n",
      "{'name': 'DummyCompressionAlgorithm', 'table_path': 'flush.txt', 'isLossLess': True, 'isLearning': False, 'compression_rate': 1.0, 'preprocess_and_compress_time': 0.014960050582885742, 'loss_rate': 16, 'decompress_and_postprocess_time': 1.017477035522461, 'test_time': 1.0324370861053467}\n",
      "---------------------\n",
      "flush.txt_compressed\n",
      "12\n",
      "9\n",
      "Function preprocess_and_compress took 0.000993967056274414 seconds to execute.\n",
      "I am dummy:  get_loss_rate\n",
      "Function decompress_and_postprocess took 0.0009970664978027344 seconds to execute.\n",
      "Function test took 0.002989053726196289 seconds to execute.\n",
      "{'name': 'ZstdLibraryCompressionAlgorithm', 'table_path': 'flush.txt', 'isLossLess': True, 'isLearning': False, 'compression_rate': 0.75, 'preprocess_and_compress_time': 0.000993967056274414, 'loss_rate': 0, 'decompress_and_postprocess_time': 0.0009970664978027344, 'test_time': 0.002989053726196289}\n",
      "---------------------\n"
     ]
    }
   ],
   "source": [
    "benchmarks = []\n",
    "Algos = [DummyCompressionAlgorithm(), ZstdLibraryCompressionAlgorithm()]\n",
    "Processes = [DummyProcessing()]\n",
    "for algo in Algos:\n",
    "    for proc in Processes:\n",
    "        a = Platform(algo, proc, \"flush.txt\")\n",
    "        a.start(\"test\", logs=True)\n",
    "        print(a.benchmark)\n",
    "        benchmarks.append(a.benchmark)\n",
    "        print(\"---------------------\")"
   ],
   "metadata": {
    "collapsed": false,
    "ExecuteTime": {
     "start_time": "2023-07-06T13:23:20.916999Z",
     "end_time": "2023-07-06T13:23:22.108862Z"
    }
   }
  },
  {
   "cell_type": "code",
   "execution_count": 31,
   "outputs": [],
   "source": [
    "#1. replace json with arguments of the class | DONE\n",
    "#2. do not keep table in class instance | DONE\n",
    "#3. change names of the Platform to more relevant | DONE\n",
    "#4. rename compression to compress | DONE\n",
    "#5. add ability to not compress tables every time Platform being created | I can just pass already preprocessed table to Platform\n",
    "#and also pass the flush preprocessing class which do nothing"
   ],
   "metadata": {
    "collapsed": false,
    "ExecuteTime": {
     "start_time": "2023-07-06T13:22:48.388756Z",
     "end_time": "2023-07-06T13:22:48.520889Z"
    }
   }
  },
  {
   "cell_type": "code",
   "execution_count": 15,
   "outputs": [],
   "source": [
    "import matplotlib.pyplot as plt\n",
    "\n",
    "def plot_graphics(n_values):\n",
    "    plt.bar(range(len(n_values)), n_values)\n",
    "    plt.title('Comparison of n Values')\n",
    "    plt.xlabel('Index')\n",
    "    plt.ylabel('Value')\n",
    "    plt.show()\n"
   ],
   "metadata": {
    "collapsed": false,
    "ExecuteTime": {
     "start_time": "2023-07-06T13:17:03.267039Z",
     "end_time": "2023-07-06T13:17:03.438380Z"
    }
   }
  },
  {
   "cell_type": "code",
   "execution_count": 16,
   "outputs": [],
   "source": [
    "def plot_benchmarks(benchmarks, column_name):\n",
    "    df = pd.DataFrame(benchmarks)\n",
    "    df = df.reset_index()\n",
    "    sns.barplot(x='index', y=column_name, data=df)\n",
    "\n",
    "def plot_scatter(benchmarks, column_name):\n",
    "    df = pd.DataFrame(benchmarks)\n",
    "    df = df.reset_index()\n",
    "    sns.scatterplot(x='index', y=column_name, data=df)\n",
    "\n",
    "def plot_hist(benchmarks, column_name):\n",
    "    df = pd.DataFrame(benchmarks)\n",
    "    df = df.reset_index()\n",
    "    sns.histplot(x='index', y=column_name, data=df)\n",
    "\n"
   ],
   "metadata": {
    "collapsed": false,
    "ExecuteTime": {
     "start_time": "2023-07-06T13:17:03.468985Z",
     "end_time": "2023-07-06T13:17:03.660143Z"
    }
   }
  },
  {
   "cell_type": "code",
   "execution_count": 17,
   "outputs": [
    {
     "name": "stdout",
     "output_type": "stream",
     "text": [
      "9\n",
      "7\n",
      "12\n",
      "7\n",
      "13\n",
      "12\n"
     ]
    },
    {
     "data": {
      "text/plain": "<Figure size 640x480 with 1 Axes>",
      "image/png": "[encoded data removed]"
     },
     "metadata": {},
     "output_type": "display_data"
    }
   ],
   "source": [
    "plot_benchmarks(benchmarks, \"loss_rate\")\n",
    "for i in benchmarks:\n",
    "    print(i[\"loss_rate\"])"
   ],
   "metadata": {
    "collapsed": false,
    "ExecuteTime": {
     "start_time": "2023-07-06T13:17:15.129736Z",
     "end_time": "2023-07-06T13:17:17.418215Z"
    }
   }
  },
  {
   "cell_type": "code",
   "execution_count": 18,
   "outputs": [
    {
     "data": {
      "text/plain": "<Figure size 640x480 with 1 Axes>",
      "image/png": "[encoded data removed]"
     },
     "metadata": {},
     "output_type": "display_data"
    }
   ],
   "source": [
    "plot_scatter(benchmarks, \"test_time\")"
   ],
   "metadata": {
    "collapsed": false,
    "ExecuteTime": {
     "start_time": "2023-07-06T13:17:17.444655Z",
     "end_time": "2023-07-06T13:17:19.055132Z"
    }
   }
  },
  {
   "cell_type": "code",
   "execution_count": 19,
   "outputs": [
    {
     "data": {
      "text/plain": "<Figure size 640x480 with 1 Axes>",
      "image/png": "[encoded data removed]"
     },
     "metadata": {},
     "output_type": "display_data"
    }
   ],
   "source": [
    "plot_hist(benchmarks, \"test_time\")"
   ],
   "metadata": {
    "collapsed": false,
    "ExecuteTime": {
     "start_time": "2023-07-06T13:17:19.063111Z",
     "end_time": "2023-07-06T13:17:20.538004Z"
    }
   }
  },
  {
   "cell_type": "code",
   "execution_count": null,
   "outputs": [],
   "source": [],
   "metadata": {
    "collapsed": false
   }
  }
 ],
 "metadata": {
  "kernelspec": {
   "display_name": "Python 3",
   "language": "python",
   "name": "python3"
  },
  "language_info": {
   "codemirror_mode": {
    "name": "ipython",
    "version": 2
   },
   "file_extension": ".py",
   "mimetype": "text/x-python",
   "name": "python",
   "nbconvert_exporter": "python",
   "pygments_lexer": "ipython2",
   "version": "2.7.6"
  }
 },
 "nbformat": 4,
 "nbformat_minor": 0
}
