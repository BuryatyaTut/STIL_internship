{
 "cells": [
  {
   "cell_type": "code",
   "execution_count": 284,
   "outputs": [],
   "source": [
    "import inspect\n",
    "import json\n",
    "import os\n",
    "import time\n",
    "import numpy as np\n",
    "from functools import wraps\n",
    "import pandas as pd\n",
    "import seaborn as sns\n",
    "import random\n",
    "import tempfile\n",
    "import pathlib"
   ],
   "metadata": {
    "collapsed": false,
    "ExecuteTime": {
     "start_time": "2023-07-06T11:23:24.128331Z",
     "end_time": "2023-07-06T11:23:24.132827Z"
    }
   }
  },
  {
   "cell_type": "markdown",
   "source": [
    "Platform class"
   ],
   "metadata": {
    "collapsed": false,
    "pycharm": {
     "name": "#%% md\n"
    }
   }
  },
  {
   "cell_type": "code",
   "execution_count": 297,
   "outputs": [],
   "source": [
    "\n",
    "\n",
    "class Platform:\n",
    "    def __init__(self, algorithm, processing, table_path, compressed_path = None, decompressed_path = None, preprocessed_path = None, postprocessed_path = None, preprocess_inplace = True, postprocess_inplace = True):\n",
    "        self.algorithm = algorithm\n",
    "        self.processing = processing\n",
    "        self.table_path = table_path\n",
    "        self.compressed_path = compressed_path\n",
    "        self.decompressed_path = decompressed_path\n",
    "        self.preprocessed_path = preprocessed_path\n",
    "        self.postprocessed_path = postprocessed_path\n",
    "        self.preprocess_inplace = preprocess_inplace\n",
    "        self.postprocess_inplace = postprocess_inplace\n",
    "        self.logs = False\n",
    "\n",
    "\n",
    "        self.benchmark = {\"name\" : type(self.algorithm).__name__, \"table_path\": table_path}\n",
    "\n",
    "    def start(self, run_type=\"test\", logs=False):\n",
    "        self.logs = logs\n",
    "\n",
    "        if self.logs:\n",
    "            if isinstance(self.algorithm, LosslessCompressionAlgorithm):\n",
    "                self.benchmark[\"isLossLess\"] = True\n",
    "            else:\n",
    "                self.benchmark[\"isLossLess\"] = False\n",
    "\n",
    "            if isinstance(self.algorithm, LearningCompressionAlgorithm):\n",
    "                self.benchmark[\"isLearning\"] = True\n",
    "            else:\n",
    "                self.benchmark[\"isLearning\"] = False\n",
    "\n",
    "        with tempfile.TemporaryDirectory() as tmp:\n",
    "            if self.compressed_path is None:\n",
    "                self.compressed_path = pathlib.Path(tmp, 'compressed')\n",
    "            if self.decompressed_path is None:\n",
    "                self.decompressed_path = pathlib.Path(tmp, 'decompressed')\n",
    "            if self.preprocessed_path is None:\n",
    "                self.preprocessed_path = pathlib.Path(tmp, 'preprocessed')\n",
    "            if self.postprocessed_path is None:\n",
    "                self.postprocessed_path = pathlib.Path(tmp, 'postprocessed')\n",
    "            if run_type == 'test':\n",
    "                self.test()\n",
    "            elif run_type == 'compress':\n",
    "                self.preprocess_and_compress()\n",
    "            elif run_type == 'decompress':\n",
    "                self.decompress_and_postprocess()\n",
    "\n",
    "    def measure_time(flag):\n",
    "        def decorator(func):\n",
    "            def wrapper(self, *args, **kwargs):\n",
    "                start_time = time.time()\n",
    "                result = func(self, *args, **kwargs)\n",
    "                end_time = time.time()\n",
    "\n",
    "                if getattr(self, flag):\n",
    "                    print(f\"Function {func.__name__} took {end_time - start_time} seconds to execute.\")\n",
    "                    self.benchmark[func.__name__ + \"_time\"] = end_time - start_time\n",
    "\n",
    "                return result\n",
    "            return wrapper\n",
    "        return decorator\n",
    "\n",
    "    @measure_time(\"logs\")\n",
    "    def preprocess_and_compress(self):\n",
    "        with open(self.table_path, 'a+b') as table_file, open(self.compressed_path, 'wb') as compressed_file, open(self.preprocessed_path, 'wb') as preprocessed_file:\n",
    "            if self.preprocess_inplace:\n",
    "                self.processing.do_preprocess(table_file, inplace=self.preprocess_inplace)\n",
    "                self.algorithm.compress(table_file, compressed_file)\n",
    "            else:\n",
    "                self.processing.do_preprocess(table_file, preprocessed_file, inplace=self.preprocess_inplace)\n",
    "                self.algorithm.compress(preprocessed_file, compressed_file)\n",
    "            if self.logs:\n",
    "                compression_rate = self.get_compression_rate(table_file, compressed_file)\n",
    "                self.benchmark[\"compression_rate\"] = compression_rate\n",
    "        return 0\n",
    "\n",
    "    @measure_time(\"logs\")\n",
    "    def decompress_and_postprocess(self):\n",
    "        with open(self.compressed_path, 'a+b') as compressed_file, open(self.decompressed_path, 'wb') as decompressed_file, open(self.postprocessed_path,'wb') as post_processed_file, open(self.table_path, 'rb') as profile_file:\n",
    "            self.algorithm.decompress(compressed_file, decompressed_file)\n",
    "            if self.postprocess_inplace:\n",
    "                self.processing.do_postprocess(decompressed_file, inplace=self.postprocess_inplace)\n",
    "            else:\n",
    "                self.processing.do_postprocess(decompressed_file, post_processed_file, inplace=self.postprocess_inplace)\n",
    "\n",
    "            if self.logs and profile_file is not None:\n",
    "                loss_rate = self.get_loss_rate(profile_file, decompressed_file)\n",
    "                self.benchmark[\"loss_rate\"] = loss_rate\n",
    "\n",
    "        return 0\n",
    "\n",
    "    @measure_time(\"logs\")\n",
    "    def test(self):\n",
    "        self.preprocess_and_compress()\n",
    "        self.decompress_and_postprocess()\n",
    "        return 0 #TODO: result codes\n",
    "\n",
    "    def get_compression_rate(self, input_file, compressed_file): #I'm assuming compressed_table is actually bytes-like\n",
    "\n",
    "        print(compressed_file.name)\n",
    "        input_file.seek(0, os.SEEK_END)\n",
    "        compressed_file.seek(0, os.SEEK_END)\n",
    "        print(input_file.tell())\n",
    "        print(compressed_file.tell())\n",
    "        return input_file.tell() / compressed_file.tell()\n",
    "\n",
    "    def get_loss_rate(self, input_file, decompressed_file):\n",
    "        print(\"I am dummy: \", inspect.currentframe().f_code.co_name)\n",
    "        return random.randint(0, 20)\n",
    "\n"
   ],
   "metadata": {
    "collapsed": false,
    "ExecuteTime": {
     "start_time": "2023-07-06T11:25:26.698660Z",
     "end_time": "2023-07-06T11:25:26.702358Z"
    }
   }
  },
  {
   "cell_type": "code",
   "execution_count": 298,
   "outputs": [
    {
     "name": "stdout",
     "output_type": "stream",
     "text": [
      "b''\n",
      "I am dummy compression\n",
      "C:\\Users\\Admin\\AppData\\Local\\Temp\\tmpo3bwtn7u\\compressed\n",
      "168\n",
      "168\n",
      "Function preprocess_and_compress took 0.0009975433349609375 seconds to execute.\n",
      "I am dummy decompression\n",
      "I am dummy:  get_loss_rate\n",
      "Function decompress_and_postprocess took 1.0042304992675781 seconds to execute.\n",
      "Function test took 1.005228042602539 seconds to execute.\n"
     ]
    }
   ],
   "source": [
    "def json_platform(config_path):\n",
    "    with open(config_path, 'r') as f:\n",
    "        config = json.load(f)\n",
    "\n",
    "    platform = Platform(globals()[config[\"Algorithm\"]](), globals()[config[\"Processing\"]](), config[\"table_path\"])\n",
    "    platform.start(config[\"run_type\"], config[\"logs\"])\n",
    "\n",
    "json_platform(\"plug_config.json\")"
   ],
   "metadata": {
    "collapsed": false,
    "ExecuteTime": {
     "start_time": "2023-07-06T11:25:27.062499Z",
     "end_time": "2023-07-06T11:25:28.081415Z"
    }
   }
  },
  {
   "cell_type": "markdown",
   "source": [
    "Compression Algorithm Classes"
   ],
   "metadata": {
    "collapsed": false,
    "pycharm": {
     "name": "#%% md\n"
    }
   }
  },
  {
   "cell_type": "code",
   "execution_count": 299,
   "outputs": [],
   "source": [
    "import abc\n",
    "\n",
    "class CompressionAlgorithm(abc.ABC):\n",
    "    def __init__(self):\n",
    "        ...\n",
    "    @property\n",
    "    @abc.abstractmethod\n",
    "    def name(self):\n",
    "        ...\n",
    "\n",
    "    @abc.abstractmethod\n",
    "    def compress(self, table_file, compressed_file):\n",
    "        ...\n",
    "\n",
    "    @abc.abstractmethod\n",
    "    def decompress(self, compressed_file, decompressed_file):\n",
    "        ...\n",
    "\n",
    "class LearningCompressionAlgorithm(CompressionAlgorithm):\n",
    "\n",
    "    @abc.abstractmethod\n",
    "    def fit(self, training_data):\n",
    "        ...\n",
    "\n",
    "class NonLearningCompressionAlgorithm(CompressionAlgorithm):\n",
    "    ...\n",
    "\n",
    "class LosslessCompressionAlgorithm(CompressionAlgorithm):\n",
    "    ...\n",
    "\n",
    "class LossyCompressionAlgorithm(CompressionAlgorithm):\n",
    "    ..."
   ],
   "metadata": {
    "collapsed": false,
    "ExecuteTime": {
     "start_time": "2023-07-06T11:25:40.550125Z",
     "end_time": "2023-07-06T11:25:40.555146Z"
    }
   }
  },
  {
   "cell_type": "code",
   "execution_count": 300,
   "outputs": [],
   "source": [
    "class DummyCompressionAlgorithm(LosslessCompressionAlgorithm, NonLearningCompressionAlgorithm):\n",
    "    name = 'Dummy Compression Algorithm'\n",
    "    def compress(self, table_file, compressed_file):\n",
    "        table_file.seek(0)\n",
    "        compressed_file.seek(0)\n",
    "        compressed_file.write(table_file.read())\n",
    "        print(table_file.read())\n",
    "        print(\"I am dummy compression\")\n",
    "        return 0 # TODO: status codes\n",
    "    def decompress(self, compressed_file, decompressed_file):\n",
    "        compressed_file.seek(0)\n",
    "        decompressed_file.seek(0)\n",
    "        decompressed_file.write(compressed_file.read())\n",
    "        time.sleep(1)\n",
    "        print(\"I am dummy decompression\")\n",
    "        return 0 # TODO: status codes"
   ],
   "metadata": {
    "collapsed": false,
    "ExecuteTime": {
     "start_time": "2023-07-06T11:25:40.983451Z",
     "end_time": "2023-07-06T11:25:40.992431Z"
    }
   }
  },
  {
   "cell_type": "markdown",
   "source": [
    "Processing Classes"
   ],
   "metadata": {
    "collapsed": false,
    "pycharm": {
     "name": "#%% md\n"
    }
   }
  },
  {
   "cell_type": "code",
   "execution_count": 301,
   "outputs": [],
   "source": [
    "class Processing(abc.ABC):\n",
    "    def __init__(self):\n",
    "        ...\n",
    "    @property\n",
    "    @abc.abstractmethod\n",
    "    def name(self):\n",
    "        ...\n",
    "\n",
    "    @abc.abstractmethod\n",
    "    def do_preprocess(self, raw_file, processed_file, inplace):\n",
    "        ...\n",
    "\n",
    "    @abc.abstractmethod\n",
    "    def do_postprocess(self, processed_file, restored_file, inplace):\n",
    "        ..."
   ],
   "metadata": {
    "collapsed": false,
    "ExecuteTime": {
     "start_time": "2023-07-06T11:25:41.669453Z",
     "end_time": "2023-07-06T11:25:41.670459Z"
    }
   }
  },
  {
   "cell_type": "code",
   "execution_count": 302,
   "outputs": [],
   "source": [
    "class DummyProcessing(Processing):\n",
    "    name = \"Dummy Pre/Post-Processing\"\n",
    "    def do_preprocess(self, raw_file, processed_file=None, inplace=True):\n",
    "        if inplace:\n",
    "            return 0\n",
    "        raw_file.seek(0)\n",
    "        processed_file.seek(0)\n",
    "        processed_file.write(raw_file.read())\n",
    "        return 0 # TODO: replace with enum / status codes\n",
    "    def do_postprocess(self, processed_file, restored_file=None, inplace=True):\n",
    "        if restored_file is None and not inplace: #raise exception?\n",
    "            return 1\n",
    "        if inplace:\n",
    "            return 0\n",
    "        restored_file.seek(0)\n",
    "        restored_file.write(processed_file.read())\n",
    "        return 0 # TODO: replace with enum/status codes\n"
   ],
   "metadata": {
    "collapsed": false,
    "ExecuteTime": {
     "start_time": "2023-07-06T11:25:42.062651Z",
     "end_time": "2023-07-06T11:25:42.071220Z"
    }
   }
  },
  {
   "cell_type": "markdown",
   "source": [
    "Testing"
   ],
   "metadata": {
    "collapsed": false,
    "pycharm": {
     "name": "#%% md\n"
    }
   }
  },
  {
   "cell_type": "code",
   "execution_count": 304,
   "outputs": [
    {
     "name": "stdout",
     "output_type": "stream",
     "text": [
      "b''\n",
      "I am dummy compression\n",
      "C:\\Users\\Admin\\AppData\\Local\\Temp\\tmp_jbidjxb\\compressed\n",
      "12\n",
      "12\n",
      "Function preprocess_and_compress took 0.0 seconds to execute.\n",
      "I am dummy decompression\n",
      "I am dummy:  get_loss_rate\n",
      "Function decompress_and_postprocess took 1.002495288848877 seconds to execute.\n",
      "Function test took 1.0034923553466797 seconds to execute.\n",
      "{'name': 'DummyCompressionAlgorithm', 'table_path': 'flush.txt', 'isLossLess': True, 'isLearning': False, 'compression_rate': 1.0, 'preprocess_and_compress_time': 0.0, 'loss_rate': 0, 'decompress_and_postprocess_time': 1.002495288848877, 'test_time': 1.0034923553466797}\n",
      "---------------------\n",
      "b''\n",
      "I am dummy compression\n",
      "C:\\Users\\Admin\\AppData\\Local\\Temp\\tmpfqcnwxcv\\compressed\n",
      "12\n",
      "12\n",
      "Function preprocess_and_compress took 0.000978708267211914 seconds to execute.\n",
      "I am dummy decompression\n",
      "I am dummy:  get_loss_rate\n",
      "Function decompress_and_postprocess took 1.0023903846740723 seconds to execute.\n",
      "Function test took 1.0033690929412842 seconds to execute.\n",
      "{'name': 'DummyCompressionAlgorithm', 'table_path': 'flush.txt', 'isLossLess': True, 'isLearning': False, 'compression_rate': 1.0, 'preprocess_and_compress_time': 0.000978708267211914, 'loss_rate': 13, 'decompress_and_postprocess_time': 1.0023903846740723, 'test_time': 1.0033690929412842}\n",
      "---------------------\n",
      "b''\n",
      "I am dummy compression\n",
      "C:\\Users\\Admin\\AppData\\Local\\Temp\\tmpf007en6a\\compressed\n",
      "12\n",
      "12\n",
      "Function preprocess_and_compress took 0.0009980201721191406 seconds to execute.\n",
      "I am dummy decompression\n",
      "I am dummy:  get_loss_rate\n",
      "Function decompress_and_postprocess took 1.0027811527252197 seconds to execute.\n",
      "Function test took 1.0037791728973389 seconds to execute.\n",
      "{'name': 'DummyCompressionAlgorithm', 'table_path': 'flush.txt', 'isLossLess': True, 'isLearning': False, 'compression_rate': 1.0, 'preprocess_and_compress_time': 0.0009980201721191406, 'loss_rate': 16, 'decompress_and_postprocess_time': 1.0027811527252197, 'test_time': 1.0037791728973389}\n",
      "---------------------\n",
      "b''\n",
      "I am dummy compression\n",
      "C:\\Users\\Admin\\AppData\\Local\\Temp\\tmpichkuye2\\compressed\n",
      "12\n",
      "12\n",
      "Function preprocess_and_compress took 0.0009963512420654297 seconds to execute.\n",
      "I am dummy decompression\n",
      "I am dummy:  get_loss_rate\n",
      "Function decompress_and_postprocess took 1.002495288848877 seconds to execute.\n",
      "Function test took 1.0034916400909424 seconds to execute.\n",
      "{'name': 'DummyCompressionAlgorithm', 'table_path': 'flush.txt', 'isLossLess': True, 'isLearning': False, 'compression_rate': 1.0, 'preprocess_and_compress_time': 0.0009963512420654297, 'loss_rate': 8, 'decompress_and_postprocess_time': 1.002495288848877, 'test_time': 1.0034916400909424}\n",
      "---------------------\n",
      "b''\n",
      "I am dummy compression\n",
      "C:\\Users\\Admin\\AppData\\Local\\Temp\\tmp8e4n03dr\\compressed\n",
      "12\n",
      "12\n",
      "Function preprocess_and_compress took 0.0009839534759521484 seconds to execute.\n",
      "I am dummy decompression\n",
      "I am dummy:  get_loss_rate\n",
      "Function decompress_and_postprocess took 1.0011775493621826 seconds to execute.\n",
      "Function test took 1.0021615028381348 seconds to execute.\n",
      "{'name': 'DummyCompressionAlgorithm', 'table_path': 'flush.txt', 'isLossLess': True, 'isLearning': False, 'compression_rate': 1.0, 'preprocess_and_compress_time': 0.0009839534759521484, 'loss_rate': 4, 'decompress_and_postprocess_time': 1.0011775493621826, 'test_time': 1.0021615028381348}\n",
      "---------------------\n",
      "b''\n",
      "I am dummy compression\n",
      "C:\\Users\\Admin\\AppData\\Local\\Temp\\tmpbewxf07g\\compressed\n",
      "12\n",
      "12\n",
      "Function preprocess_and_compress took 0.0009768009185791016 seconds to execute.\n",
      "I am dummy decompression\n",
      "I am dummy:  get_loss_rate\n",
      "Function decompress_and_postprocess took 1.0023527145385742 seconds to execute.\n",
      "Function test took 1.0033295154571533 seconds to execute.\n",
      "{'name': 'DummyCompressionAlgorithm', 'table_path': 'flush.txt', 'isLossLess': True, 'isLearning': False, 'compression_rate': 1.0, 'preprocess_and_compress_time': 0.0009768009185791016, 'loss_rate': 20, 'decompress_and_postprocess_time': 1.0023527145385742, 'test_time': 1.0033295154571533}\n",
      "---------------------\n"
     ]
    }
   ],
   "source": [
    "benchmarks = []\n",
    "Algos = [DummyCompressionAlgorithm(), DummyCompressionAlgorithm(), DummyCompressionAlgorithm()]\n",
    "Processes = [DummyProcessing(), DummyProcessing()]\n",
    "for algo in Algos:\n",
    "    for proc in Processes:\n",
    "        a = Platform(algo, proc, \"flush.txt\")\n",
    "        a.start(\"test\", logs=True)\n",
    "        print(a.benchmark)\n",
    "        benchmarks.append(a.benchmark)\n",
    "        print(\"---------------------\")"
   ],
   "metadata": {
    "collapsed": false,
    "ExecuteTime": {
     "start_time": "2023-07-06T11:25:53.636409Z",
     "end_time": "2023-07-06T11:25:59.664048Z"
    }
   }
  },
  {
   "cell_type": "code",
   "execution_count": null,
   "outputs": [],
   "source": [
    "#1. replace json with arguments of the class | DONE\n",
    "#2. do not keep table in class instance | DONE\n",
    "#3. change names of the Platform to more relevant | DONE\n",
    "#4. rename compression to compress | DONE\n",
    "#5. add ability to not compress tables every time Platform being created | I can just pass already preprocessed table to Platform\n",
    "#and also pass the flush preprocessing class which do nothing"
   ],
   "metadata": {
    "collapsed": false,
    "pycharm": {
     "name": "#%%\n"
    },
    "ExecuteTime": {
     "start_time": "2023-07-05T20:45:59.111686Z",
     "end_time": "2023-07-05T20:45:59.114707Z"
    }
   }
  },
  {
   "cell_type": "code",
   "execution_count": null,
   "outputs": [],
   "source": [
    "import matplotlib.pyplot as plt\n",
    "\n",
    "def plot_graphics(n_values):\n",
    "    plt.bar(range(len(n_values)), n_values)\n",
    "    plt.title('Comparison of n Values')\n",
    "    plt.xlabel('Index')\n",
    "    plt.ylabel('Value')\n",
    "    plt.show()\n"
   ],
   "metadata": {
    "collapsed": false,
    "pycharm": {
     "name": "#%%\n"
    },
    "ExecuteTime": {
     "start_time": "2023-07-05T20:45:59.117698Z",
     "end_time": "2023-07-05T20:45:59.121953Z"
    }
   }
  },
  {
   "cell_type": "code",
   "execution_count": null,
   "outputs": [],
   "source": [
    "def plot_benchmarks(benchmarks, column_name):\n",
    "    df = pd.DataFrame(benchmarks)\n",
    "    df = df.reset_index()\n",
    "    sns.barplot(x='index', y=column_name, data=df)\n",
    "\n",
    "def plot_scatter(benchmarks, column_name):\n",
    "    df = pd.DataFrame(benchmarks)\n",
    "    df = df.reset_index()\n",
    "    sns.scatterplot(x='index', y=column_name, data=df)\n",
    "\n",
    "def plot_hist(benchmarks, column_name):\n",
    "    df = pd.DataFrame(benchmarks)\n",
    "    df = df.reset_index()\n",
    "    sns.histplot(x='index', y=column_name, data=df)\n",
    "\n"
   ],
   "metadata": {
    "collapsed": false,
    "ExecuteTime": {
     "start_time": "2023-07-05T20:45:59.125942Z",
     "end_time": "2023-07-05T20:45:59.127912Z"
    }
   }
  },
  {
   "cell_type": "code",
   "execution_count": null,
   "outputs": [],
   "source": [
    "plot_benchmarks(benchmarks, \"loss_rate\")\n",
    "for i in benchmarks:\n",
    "    print(i[\"loss_rate\"])"
   ],
   "metadata": {
    "collapsed": false,
    "pycharm": {
     "name": "#%%\n"
    },
    "ExecuteTime": {
     "start_time": "2023-07-05T20:45:59.129907Z",
     "end_time": "2023-07-05T20:45:59.259271Z"
    }
   }
  },
  {
   "cell_type": "code",
   "execution_count": null,
   "outputs": [],
   "source": [
    "plot_scatter(benchmarks, \"test_time\")"
   ],
   "metadata": {
    "collapsed": false,
    "pycharm": {
     "name": "#%%\n"
    },
    "ExecuteTime": {
     "start_time": "2023-07-05T20:45:59.261269Z",
     "end_time": "2023-07-05T20:45:59.419255Z"
    }
   }
  },
  {
   "cell_type": "code",
   "execution_count": null,
   "outputs": [],
   "source": [
    "plot_hist(benchmarks, \"test_time\")"
   ],
   "metadata": {
    "collapsed": false,
    "pycharm": {
     "name": "#%%\n"
    },
    "ExecuteTime": {
     "start_time": "2023-07-05T20:45:59.420251Z",
     "end_time": "2023-07-05T20:45:59.586424Z"
    }
   }
  },
  {
   "cell_type": "code",
   "execution_count": null,
   "outputs": [],
   "source": [],
   "metadata": {
    "collapsed": false,
    "pycharm": {
     "name": "#%%\n"
    }
   }
  },
  {
   "cell_type": "code",
   "execution_count": null,
   "outputs": [],
   "source": [],
   "metadata": {
    "collapsed": false,
    "ExecuteTime": {
     "start_time": "2023-07-05T16:56:41.661712Z",
     "end_time": "2023-07-05T16:56:41.685259Z"
    }
   }
  },
  {
   "cell_type": "code",
   "execution_count": null,
   "outputs": [],
   "source": [],
   "metadata": {
    "collapsed": false,
    "ExecuteTime": {
     "start_time": "2023-07-05T16:56:41.809240Z",
     "end_time": "2023-07-05T16:56:41.846162Z"
    }
   }
  },
  {
   "cell_type": "code",
   "execution_count": null,
   "outputs": [],
   "source": [],
   "metadata": {
    "collapsed": false
   }
  },
  {
   "cell_type": "code",
   "execution_count": null,
   "outputs": [],
   "source": [],
   "metadata": {
    "collapsed": false
   }
  },
  {
   "cell_type": "code",
   "execution_count": null,
   "outputs": [],
   "source": [],
   "metadata": {
    "collapsed": false
   }
  },
  {
   "cell_type": "code",
   "execution_count": null,
   "outputs": [],
   "source": [],
   "metadata": {
    "collapsed": false
   }
  },
  {
   "cell_type": "code",
   "execution_count": null,
   "outputs": [],
   "source": [],
   "metadata": {
    "collapsed": false
   }
  },
  {
   "cell_type": "code",
   "execution_count": null,
   "outputs": [],
   "source": [],
   "metadata": {
    "collapsed": false
   }
  },
  {
   "cell_type": "code",
   "execution_count": 291,
   "outputs": [],
   "source": [],
   "metadata": {
    "collapsed": false
   }
  },
  {
   "cell_type": "code",
   "execution_count": 291,
   "outputs": [],
   "source": [],
   "metadata": {
    "collapsed": false
   }
  },
  {
   "cell_type": "code",
   "execution_count": 291,
   "outputs": [],
   "source": [],
   "metadata": {
    "collapsed": false
   }
  },
  {
   "cell_type": "code",
   "execution_count": 291,
   "outputs": [],
   "source": [],
   "metadata": {
    "collapsed": false
   }
  },
  {
   "cell_type": "code",
   "execution_count": 291,
   "outputs": [],
   "source": [],
   "metadata": {
    "collapsed": false
   }
  },
  {
   "cell_type": "code",
   "execution_count": 291,
   "outputs": [],
   "source": [],
   "metadata": {
    "collapsed": false
   }
  },
  {
   "cell_type": "code",
   "execution_count": 291,
   "outputs": [],
   "source": [],
   "metadata": {
    "collapsed": false
   }
  },
  {
   "cell_type": "code",
   "execution_count": 291,
   "outputs": [],
   "source": [],
   "metadata": {
    "collapsed": false
   }
  },
  {
   "cell_type": "code",
   "execution_count": 291,
   "outputs": [],
   "source": [],
   "metadata": {
    "collapsed": false
   }
  },
  {
   "cell_type": "code",
   "execution_count": null,
   "outputs": [],
   "source": [],
   "metadata": {
    "collapsed": false
   }
  }
 ],
 "metadata": {
  "kernelspec": {
   "display_name": "Python 3",
   "language": "python",
   "name": "python3"
  },
  "language_info": {
   "codemirror_mode": {
    "name": "ipython",
    "version": 2
   },
   "file_extension": ".py",
   "mimetype": "text/x-python",
   "name": "python",
   "nbconvert_exporter": "python",
   "pygments_lexer": "ipython2",
   "version": "2.7.6"
  }
 },
 "nbformat": 4,
 "nbformat_minor": 0
}
