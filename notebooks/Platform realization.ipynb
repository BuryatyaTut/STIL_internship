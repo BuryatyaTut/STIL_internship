{
 "cells": [
  {
   "cell_type": "code",
   "execution_count": null,
   "outputs": [],
   "source": [
    "import inspect\n",
    "import json\n",
    "import time\n",
    "import numpy as np\n",
    "from functools import wraps"
   ],
   "metadata": {
    "collapsed": false,
    "pycharm": {
     "name": "#%%\n"
    }
   }
  },
  {
   "cell_type": "markdown",
   "source": [
    "Platform class"
   ],
   "metadata": {
    "collapsed": false,
    "pycharm": {
     "name": "#%% md\n"
    }
   }
  },
  {
   "cell_type": "code",
   "execution_count": 56,
   "outputs": [],
   "source": [
    "class Platform:\n",
    "    def __init__(self, algorithm, processing, table_path):\n",
    "        self.algorithm = algorithm\n",
    "        self.processing = processing\n",
    "        self.table_path = table_path\n",
    "        self.logs = False\n",
    "\n",
    "        self.benchmark = {\"name\" : type(self.algorithm).__name__}\n",
    "        self.benchmark = {\"table_path\": table_path}\n",
    "\n",
    "    def start(self, run_type=\"test\", logs=False):\n",
    "        self.logs = logs\n",
    "\n",
    "        if self.logs:\n",
    "            if isinstance(self.algorithm, LosslessCompressionAlgorithm):\n",
    "                self.benchmark[\"isLossLess\"] = True\n",
    "            else:\n",
    "                self.benchmark[\"isLossLess\"] = False\n",
    "\n",
    "            if isinstance(self.algorithm, LearningCompressionAlgorithm):\n",
    "                self.benchmark[\"isLearning\"] = True\n",
    "            else:\n",
    "                self.benchmark[\"isLearning\"] = False\n",
    "\n",
    "\n",
    "        if run_type == 'test':\n",
    "            self.test()\n",
    "        elif run_type == 'compress':\n",
    "            self.preprocess_and_compress()\n",
    "        elif run_type == 'decompress':\n",
    "            self.decompress_and_postprocess()\n",
    "\n",
    "    def measure_time(flag):\n",
    "        def decorator(func):\n",
    "            def wrapper(self, *args, **kwargs):\n",
    "                start_time = time.time()\n",
    "                result = func(self, *args, **kwargs)\n",
    "                end_time = time.time()\n",
    "\n",
    "                if getattr(self, flag):\n",
    "                    print(f\"Function {func.__name__} took {end_time - start_time} seconds to execute.\")\n",
    "                    self.benchmark[func.__name__ + \"_time\"] = end_time - start_time\n",
    "\n",
    "                return result\n",
    "            return wrapper\n",
    "        return decorator\n",
    "\n",
    "    @measure_time(\"logs\")\n",
    "    def preprocess_and_compress(self):\n",
    "        preprocessed_table = self.processing.do_preprocess(self.table_path)\n",
    "        compressed_table = self.algorithm.compress(preprocessed_table)\n",
    "        if self.logs:\n",
    "            compression_rate = self.get_compression_rate(compressed_table)\n",
    "            self.benchmark[\"compression_rate\"] = compression_rate\n",
    "        return compressed_table\n",
    "\n",
    "    @measure_time(\"logs\")\n",
    "    def decompress_and_postprocess(self, compressed_table):\n",
    "        decompressed_table = self.algorithm.decompress(compressed_table)\n",
    "        table = self.processing.do_postprocess(decompressed_table)\n",
    "\n",
    "        if self.logs:\n",
    "            loss_rate = self.get_loss_rate(table)\n",
    "            self.benchmark[\"loss_rate\"] = loss_rate\n",
    "\n",
    "        return table\n",
    "\n",
    "    @measure_time(\"logs\")\n",
    "    def test(self):\n",
    "        compressed_data = self.preprocess_and_compress()\n",
    "        decompressed_data = self.decompress_and_postprocess(compressed_data)\n",
    "\n",
    "    def get_compression_rate(self, compressed_table):\n",
    "        print(\"I am dummy: \", inspect.currentframe().f_code.co_name)\n",
    "        return 100\n",
    "\n",
    "    def get_loss_rate(self, table):\n",
    "        print(\"I am dummy: \", inspect.currentframe().f_code.co_name)\n",
    "        return 0.0\n",
    "\n"
   ],
   "metadata": {
    "collapsed": false,
    "pycharm": {
     "name": "#%%\n"
    }
   }
  },
  {
   "cell_type": "code",
   "execution_count": 50,
   "outputs": [
    {
     "name": "stdout",
     "output_type": "stream",
     "text": [
      "I am dummy compression\n",
      "I am dummy:  get_compression_rate\n",
      "Function preprocess_and_compress took 2.012575387954712 seconds to execute.\n",
      "I am dummy decompression\n",
      "I am dummy:  get_loss_rate\n",
      "Function decompress_and_postprocess took 1.0002024173736572 seconds to execute.\n",
      "Function test took 3.012777805328369 seconds to execute.\n"
     ]
    }
   ],
   "source": [
    "def json_platform(config_path):\n",
    "    with open(config_path, 'r') as f:\n",
    "        config = json.load(f)\n",
    "\n",
    "    platform = Platform(globals()[config[\"Algorithm\"]](), globals()[config[\"Processing\"]](), config[\"table_path\"])\n",
    "    platform.start(config[\"run_type\"], config[\"logs\"])\n",
    "\n",
    "json_platform(\"plug_config.json\")"
   ],
   "metadata": {
    "collapsed": false,
    "pycharm": {
     "name": "#%%\n"
    }
   }
  },
  {
   "cell_type": "markdown",
   "source": [
    "Compression Algorithm Classes"
   ],
   "metadata": {
    "collapsed": false,
    "pycharm": {
     "name": "#%% md\n"
    }
   }
  },
  {
   "cell_type": "code",
   "execution_count": 34,
   "outputs": [],
   "source": [
    "import abc\n",
    "\n",
    "class CompressionAlgorithm(abc.ABC):\n",
    "    def __init__(self):\n",
    "        ...\n",
    "    @property\n",
    "    @abc.abstractmethod\n",
    "    def name(self):\n",
    "        ...\n",
    "\n",
    "    @abc.abstractmethod\n",
    "    def compress(self, table):\n",
    "        ...\n",
    "\n",
    "    @abc.abstractmethod\n",
    "    def decompress(self, compressed_data):\n",
    "        ...\n",
    "\n",
    "class LearningCompressionAlgorithm(CompressionAlgorithm):\n",
    "\n",
    "    @abc.abstractmethod\n",
    "    def fit(self, training_data):\n",
    "        ...\n",
    "\n",
    "class NonLearningCompressionAlgorithm(CompressionAlgorithm):\n",
    "    ...\n",
    "\n",
    "class LosslessCompressionAlgorithm(CompressionAlgorithm):\n",
    "    ...\n",
    "\n",
    "class LossyCompressionAlgorithm(CompressionAlgorithm):\n",
    "    ..."
   ],
   "metadata": {
    "collapsed": false,
    "pycharm": {
     "name": "#%%\n"
    }
   }
  },
  {
   "cell_type": "code",
   "execution_count": 54,
   "outputs": [],
   "source": [
    "class DummyCompressionAlgorithm(LosslessCompressionAlgorithm, LearningCompressionAlgorithm):\n",
    "    name = 'Dummy Compression Algorithm'\n",
    "    def compress(self, table):\n",
    "        time.sleep(2)\n",
    "        print(\"I am dummy compression\")\n",
    "        return table\n",
    "    def decompress(self, compressed_data):\n",
    "        time.sleep(1)\n",
    "        print(\"I am dummy decompression\")\n",
    "        return compressed_data\n",
    "\n",
    "    def fit(self, training_data):\n",
    "        return 0"
   ],
   "metadata": {
    "collapsed": false,
    "pycharm": {
     "name": "#%%\n"
    }
   }
  },
  {
   "cell_type": "markdown",
   "source": [
    "Processing Classes"
   ],
   "metadata": {
    "collapsed": false,
    "pycharm": {
     "name": "#%% md\n"
    }
   }
  },
  {
   "cell_type": "code",
   "execution_count": 36,
   "outputs": [],
   "source": [
    "class Processing(abc.ABC):\n",
    "    def __init__(self):\n",
    "        ...\n",
    "    @property\n",
    "    @abc.abstractmethod\n",
    "    def name(self):\n",
    "        ...\n",
    "\n",
    "    @abc.abstractmethod\n",
    "    def do_preprocess(self, raw_table):\n",
    "        ...\n",
    "\n",
    "    @abc.abstractmethod\n",
    "    def do_postprocess(self, processed_table):\n",
    "        ..."
   ],
   "metadata": {
    "collapsed": false,
    "pycharm": {
     "name": "#%%\n"
    }
   }
  },
  {
   "cell_type": "code",
   "execution_count": 37,
   "outputs": [],
   "source": [
    "class DummyProcessing(Processing):\n",
    "    name = \"Dummy Pre/Post-Processing\"\n",
    "    def do_preprocess(self, raw_table):\n",
    "        return raw_table\n",
    "    def do_postprocess(self, processed_table):\n",
    "        return processed_table\n"
   ],
   "metadata": {
    "collapsed": false,
    "pycharm": {
     "name": "#%%\n"
    }
   }
  },
  {
   "cell_type": "markdown",
   "source": [
    "Testing"
   ],
   "metadata": {
    "collapsed": false,
    "pycharm": {
     "name": "#%% md\n"
    }
   }
  },
  {
   "cell_type": "code",
   "execution_count": 57,
   "outputs": [
    {
     "name": "stdout",
     "output_type": "stream",
     "text": [
      "I am dummy compression\n",
      "I am dummy:  get_compression_rate\n",
      "Function preprocess_and_compress took 2.004486083984375 seconds to execute.\n",
      "I am dummy decompression\n",
      "I am dummy:  get_loss_rate\n",
      "Function decompress_and_postprocess took 1.0054113864898682 seconds to execute.\n",
      "Function test took 3.009897470474243 seconds to execute.\n",
      "{'table_path': 'asad/acap/asa.csv', 'isLossLess': True, 'isLearning': True, 'compression_rate': 100, 'preprocess_and_compress_time': 2.004486083984375, 'loss_rate': 0.0, 'decompress_and_postprocess_time': 1.0054113864898682, 'test_time': 3.009897470474243}\n",
      "---------------------\n",
      "I am dummy compression\n",
      "I am dummy:  get_compression_rate\n",
      "Function preprocess_and_compress took 2.0152575969696045 seconds to execute.\n",
      "I am dummy decompression\n",
      "I am dummy:  get_loss_rate\n",
      "Function decompress_and_postprocess took 1.0094718933105469 seconds to execute.\n",
      "Function test took 3.0247294902801514 seconds to execute.\n",
      "{'table_path': 'asad/acap/asa.csv', 'isLossLess': True, 'isLearning': True, 'compression_rate': 100, 'preprocess_and_compress_time': 2.0152575969696045, 'loss_rate': 0.0, 'decompress_and_postprocess_time': 1.0094718933105469, 'test_time': 3.0247294902801514}\n",
      "---------------------\n"
     ]
    }
   ],
   "source": [
    "Algos = [DummyCompressionAlgorithm()]\n",
    "Processes = [DummyProcessing(), DummyProcessing()]\n",
    "for algo in Algos:\n",
    "    for proc in Processes:\n",
    "        a = Platform(algo, proc, \"asad/acap/asa.csv\")\n",
    "        a.start(\"test\", logs=True)\n",
    "        print(a.benchmark)\n",
    "        print(\"---------------------\")"
   ],
   "metadata": {
    "collapsed": false,
    "pycharm": {
     "name": "#%%\n"
    }
   }
  },
  {
   "cell_type": "code",
   "execution_count": null,
   "outputs": [],
   "source": [
    "#1. replace json with arguments of the class | DONE\n",
    "#2. do not keep table in class instance | DONE\n",
    "#3. change names of the Platform to more relevant | DONE\n",
    "#4. rename compression to compress | DONE\n",
    "#5. add ability to not compress tables every time Platform being created | I can just pass already preprocessed table to Platform\n",
    "#and also pass the flush preprocessing class which do nothing"
   ],
   "metadata": {
    "collapsed": false,
    "pycharm": {
     "name": "#%%\n"
    }
   }
  },
  {
   "cell_type": "code",
   "execution_count": 13,
   "outputs": [],
   "source": [],
   "metadata": {
    "collapsed": false,
    "pycharm": {
     "name": "#%%\n"
    }
   }
  },
  {
   "cell_type": "code",
   "execution_count": 104,
   "outputs": [],
   "source": [],
   "metadata": {
    "collapsed": false,
    "pycharm": {
     "name": "#%%\n"
    }
   }
  },
  {
   "cell_type": "code",
   "execution_count": null,
   "outputs": [],
   "source": [],
   "metadata": {
    "collapsed": false,
    "pycharm": {
     "name": "#%%\n"
    }
   }
  }
 ],
 "metadata": {
  "kernelspec": {
   "display_name": "Python 3",
   "language": "python",
   "name": "python3"
  },
  "language_info": {
   "codemirror_mode": {
    "name": "ipython",
    "version": 2
   },
   "file_extension": ".py",
   "mimetype": "text/x-python",
   "name": "python",
   "nbconvert_exporter": "python",
   "pygments_lexer": "ipython2",
   "version": "2.7.6"
  }
 },
 "nbformat": 4,
 "nbformat_minor": 0
}