{
 "cells": [
  {
   "cell_type": "code",
   "execution_count": 93,
   "outputs": [],
   "source": [
    "import inspect\n",
    "import json\n",
    "import time\n",
    "import numpy as np\n",
    "from functools import wraps\n",
    "\n",
    "class Platform:\n",
    "    def __init__(self, config_json):\n",
    "        with open(config_json, 'r') as f:\n",
    "            config = json.load(f)\n",
    "        self.raw_table = self.read_table(config[\"table\"])\n",
    "        self.algorithm = globals()[config[\"Algorithm\"]]() # getattr(mymodule, class_name)() if class in different module\n",
    "        self.processing = globals()[config[\"Processing\"]]()\n",
    "        self.run_type = config[\"run_type\"]\n",
    "        self.logs = config[\"logs\"]\n",
    "\n",
    "        self.benchmark = {\"name\": type(self.algorithm).__name__}\n",
    "\n",
    "        if self.run_type == 'test':\n",
    "            self.test()\n",
    "        elif self.run_type == 'compress':\n",
    "            self.compress()\n",
    "        elif self.run_type == 'decompress':\n",
    "            self.decompress()\n",
    "\n",
    "    def measure_time(flag):\n",
    "        def decorator(func):\n",
    "            def wrapper(self, *args, **kwargs):\n",
    "                start_time = time.time()\n",
    "                result = func(self, *args, **kwargs)\n",
    "                end_time = time.time()\n",
    "\n",
    "                if getattr(self, flag):\n",
    "                    print(f\"Function {func.__name__} took {end_time - start_time} seconds to execute.\")\n",
    "                    self.benchmark[func.__name__ + \"_time\"] = end_time - start_time\n",
    "\n",
    "                return result\n",
    "            return wrapper\n",
    "        return decorator\n",
    "\n",
    "    @measure_time(\"logs\")\n",
    "    def compress(self):\n",
    "        preprocessed_table = self.processing.preprocess(self.raw_table)\n",
    "        compressed_table = self.algorithm.compression(np.array(preprocessed_table))\n",
    "        if self.logs:\n",
    "            compression_rate = self.get_compression_rate(compressed_table)\n",
    "            self.benchmark[\"compression_rate\"] = compression_rate\n",
    "        return compressed_table\n",
    "\n",
    "    @measure_time(\"logs\")\n",
    "    def decompress(self, compressed_table):\n",
    "        decompressed_table = self.algorithm.decompression(compressed_table)\n",
    "        table = self.processing.postprocess(decompressed_table)\n",
    "\n",
    "        if self.logs:\n",
    "            loss_rate = self.get_loss_rate(table)\n",
    "            self.benchmark[\"loss_rate\"] = loss_rate\n",
    "\n",
    "        return table\n",
    "\n",
    "    @measure_time(\"logs\")\n",
    "    def test(self):\n",
    "        compressed_data = self.compress()\n",
    "        decompressed_data = self.decompress(compressed_data)\n",
    "\n",
    "    def get_compression_rate(self, compressed_table):\n",
    "        print(\"I am dummy: \", inspect.currentframe().f_code.co_name)\n",
    "        return 100\n",
    "\n",
    "    def get_loss_rate(self, table):\n",
    "        print(\"I am dummy: \", inspect.currentframe().f_code.co_name)\n",
    "        return 0.0\n",
    "\n",
    "    def read_table(self, path):\n",
    "        print(\"I am dummy: \", inspect.currentframe().f_code.co_name)\n",
    "        return np.array([1, 2, 3])\n",
    "\n"
   ],
   "metadata": {
    "collapsed": false,
    "pycharm": {
     "name": "#%%\n"
    }
   }
  },
  {
   "cell_type": "code",
   "execution_count": 93,
   "outputs": [],
   "source": [],
   "metadata": {
    "collapsed": false,
    "pycharm": {
     "name": "#%%\n"
    }
   }
  },
  {
   "cell_type": "code",
   "execution_count": 94,
   "outputs": [
    {
     "name": "stdout",
     "output_type": "stream",
     "text": [
      "I am dummy:  read_table\n",
      "I am dummy compression\n",
      "I am dummy:  get_compression_rate\n",
      "Function compress took 2.01364803314209 seconds to execute.\n",
      "I am dummy decompression\n",
      "I am dummy:  get_loss_rate\n",
      "Function decompress took 1.0072696208953857 seconds to execute.\n",
      "Function test took 3.0209176540374756 seconds to execute.\n"
     ]
    }
   ],
   "source": [
    "plug_test = Platform(\"notebooks/plug_config.json\")"
   ],
   "metadata": {
    "collapsed": false,
    "pycharm": {
     "name": "#%%\n"
    }
   }
  },
  {
   "cell_type": "code",
   "execution_count": null,
   "outputs": [],
   "source": [],
   "metadata": {
    "collapsed": false,
    "pycharm": {
     "name": "#%%\n"
    }
   }
  },
  {
   "cell_type": "code",
   "execution_count": null,
   "outputs": [],
   "source": [],
   "metadata": {
    "collapsed": false,
    "pycharm": {
     "name": "#%%\n"
    }
   }
  },
  {
   "cell_type": "code",
   "execution_count": 64,
   "outputs": [],
   "source": [
    "import abc\n",
    "\n",
    "class CompressionAlgorithm(abc.ABC):\n",
    "    def __init__(self):\n",
    "        ...\n",
    "    @property\n",
    "    @abc.abstractmethod\n",
    "    def name(self):\n",
    "        ...\n",
    "\n",
    "    @abc.abstractmethod\n",
    "    def compression(self, table):\n",
    "        ...\n",
    "\n",
    "    @abc.abstractmethod\n",
    "    def decompression(self, compressed_data):\n",
    "        ...\n",
    "\n",
    "class LearningCompressionAlgorithm(CompressionAlgorithm):\n",
    "\n",
    "    @abc.abstractmethod\n",
    "    def fit(self, training_data):\n",
    "        ...\n",
    "\n",
    "class NonLearningCompressionAlgorithm(CompressionAlgorithm):\n",
    "    ...\n",
    "\n",
    "class LosslessCompressionAlgorithm(CompressionAlgorithm):\n",
    "    ...\n",
    "\n",
    "class LossyCompressionAlgorithm(CompressionAlgorithm):\n",
    "    ..."
   ],
   "metadata": {
    "collapsed": false,
    "pycharm": {
     "name": "#%%\n"
    }
   }
  },
  {
   "cell_type": "code",
   "execution_count": 85,
   "outputs": [],
   "source": [
    "class DummyCompressionAlgorithm(LosslessCompressionAlgorithm):\n",
    "    name = 'Dummy Compression Algorithm'\n",
    "    def compression(self, table):\n",
    "        time.sleep(2)\n",
    "        print(\"I am dummy compression\")\n",
    "        return table\n",
    "    def decompression(self, compressed_data):\n",
    "        time.sleep(1)\n",
    "        print(\"I am dummy decompression\")\n",
    "        return compressed_data"
   ],
   "metadata": {
    "collapsed": false,
    "pycharm": {
     "name": "#%%\n"
    }
   }
  },
  {
   "cell_type": "code",
   "execution_count": 86,
   "outputs": [],
   "source": [
    "class Processing(abc.ABC):\n",
    "    def __init__(self):\n",
    "        ...\n",
    "    @property\n",
    "    @abc.abstractmethod\n",
    "    def name(self):\n",
    "        ...\n",
    "\n",
    "    @abc.abstractmethod\n",
    "    def preprocess(self, raw_table):\n",
    "        ...\n",
    "\n",
    "    @abc.abstractmethod\n",
    "    def postprocess(self, processed_table):\n",
    "        ..."
   ],
   "metadata": {
    "collapsed": false,
    "pycharm": {
     "name": "#%%\n"
    }
   }
  },
  {
   "cell_type": "code",
   "execution_count": 87,
   "outputs": [],
   "source": [
    "class DummyProcessing(Processing):\n",
    "    name = \"Dummy Pre/Post-Processing\"\n",
    "    def preprocess(self, raw_table):\n",
    "        return raw_table\n",
    "    def postprocess(self, processed_table):\n",
    "        return processed_table\n"
   ],
   "metadata": {
    "collapsed": false,
    "pycharm": {
     "name": "#%%\n"
    }
   }
  },
  {
   "cell_type": "code",
   "execution_count": null,
   "outputs": [],
   "source": [],
   "metadata": {
    "collapsed": false,
    "pycharm": {
     "name": "#%%\n"
    }
   }
  }
 ],
 "metadata": {
  "kernelspec": {
   "display_name": "Python 3",
   "language": "python",
   "name": "python3"
  },
  "language_info": {
   "codemirror_mode": {
    "name": "ipython",
    "version": 2
   },
   "file_extension": ".py",
   "mimetype": "text/x-python",
   "name": "python",
   "nbconvert_exporter": "python",
   "pygments_lexer": "ipython2",
   "version": "2.7.6"
  }
 },
 "nbformat": 4,
 "nbformat_minor": 0
}