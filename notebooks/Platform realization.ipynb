{
 "cells": [
  {
   "cell_type": "code",
   "execution_count": 254,
   "outputs": [],
   "source": [
    "import inspect\n",
    "import json\n",
    "import os\n",
    "import time\n",
    "import numpy as np\n",
    "from functools import wraps\n",
    "import pandas as pd\n",
    "import seaborn as sns\n",
    "import random\n",
    "import tempfile\n",
    "import pathlib"
   ],
   "metadata": {
    "collapsed": false,
    "ExecuteTime": {
     "start_time": "2023-07-05T20:44:57.685774Z",
     "end_time": "2023-07-05T20:44:57.690270Z"
    }
   }
  },
  {
   "cell_type": "markdown",
   "source": [
    "Platform class"
   ],
   "metadata": {
    "collapsed": false,
    "pycharm": {
     "name": "#%% md\n"
    }
   }
  },
  {
   "cell_type": "code",
   "execution_count": 276,
   "outputs": [
    {
     "ename": "IndentationError",
     "evalue": "expected an indented block after 'if' statement on line 49 (1712612185.py, line 50)",
     "output_type": "error",
     "traceback": [
      "\u001B[1;36m  Cell \u001B[1;32mIn[276], line 50\u001B[1;36m\u001B[0m\n\u001B[1;33m    self.processing.do_preprocess(input_file, inplace=preprocess_inplace)\u001B[0m\n\u001B[1;37m    ^\u001B[0m\n\u001B[1;31mIndentationError\u001B[0m\u001B[1;31m:\u001B[0m expected an indented block after 'if' statement on line 49\n"
     ]
    }
   ],
   "source": [
    "\n",
    "\n",
    "class Platform:\n",
    "    def __init__(self, algorithm, processing, table_path, compressed_path = None, decompressed_path = None, preprocessed_path = None, postprocessed_path = None, preprocess_inplace = True, postprocess_inplace = True):\n",
    "        self.algorithm = algorithm\n",
    "        self.processing = processing\n",
    "        self.table_path = table_path\n",
    "        self.compressed_path = compressed_path\n",
    "        self.decompressed_path = decompressed_path\n",
    "        self.preprocessed_path = preprocessed_path\n",
    "        self.postprocessed_path = postprocessed_path\n",
    "        self.preprocess_inplace = preprocess_inplace\n",
    "        self.postprocess_inplace = postprocess_inplace\n",
    "        self.logs = False\n",
    "\n",
    "\n",
    "        self.benchmark = {\"name\" : type(self.algorithm).__name__, \"table_path\": table_path}\n",
    "\n",
    "    def start(self, run_type=\"test\", logs=False):\n",
    "        self.logs = logs\n",
    "\n",
    "        if self.logs:\n",
    "            if isinstance(self.algorithm, LosslessCompressionAlgorithm):\n",
    "                self.benchmark[\"isLossLess\"] = True\n",
    "            else:\n",
    "                self.benchmark[\"isLossLess\"] = False\n",
    "\n",
    "            if isinstance(self.algorithm, LearningCompressionAlgorithm):\n",
    "                self.benchmark[\"isLearning\"] = True\n",
    "            else:\n",
    "                self.benchmark[\"isLearning\"] = False\n",
    "\n",
    "        with tempfile.TemporaryDirectory() as tmp:\n",
    "            if self.compressed_path is None:\n",
    "                self.compressed_path = pathlib.Path(tmp, 'compressed')\n",
    "            if self.decompressed_path is None:\n",
    "                self.decompressed_path = pathlib.Path(tmp, 'decompressed')\n",
    "            if self.preprocessed_path is None and not self.preprocess_inplace:\n",
    "                self.preprocessed_path = pathlib.Path(tmp, 'preprocessed')\n",
    "            if self.postprocessed_path is None and not self.postprocess_inplace:\n",
    "                self.postprocessed_path = pathlib.Path(tmp, 'postprocessed')\n",
    "            if run_type == 'test':\n",
    "                self.test()\n",
    "            elif run_type == 'compress':\n",
    "                self.preprocess_and_compress()\n",
    "            elif run_type == 'decompress':\n",
    "                self.decompress_and_postprocess()\n",
    "\n",
    "    def measure_time(flag):\n",
    "        def decorator(func):\n",
    "            def wrapper(self, *args, **kwargs):\n",
    "                start_time = time.time()\n",
    "                result = func(self, *args, **kwargs)\n",
    "                end_time = time.time()\n",
    "\n",
    "                if getattr(self, flag):\n",
    "                    print(f\"Function {func.__name__} took {end_time - start_time} seconds to execute.\")\n",
    "                    self.benchmark[func.__name__ + \"_time\"] = end_time - start_time\n",
    "\n",
    "                return result\n",
    "            return wrapper\n",
    "        return decorator\n",
    "\n",
    "    @measure_time(\"logs\")\n",
    "    def preprocess_and_compress(self):\n",
    "        with open(self.table_path, 'wb') as table_file, open(self.compressed_path, 'wb') as compressed_file, open(self.preprocessed_path, 'wb') as preprocessed_file:\n",
    "            if self.preprocess_inplace:\n",
    "                self.processing.do_preprocess(table_file, inplace=self.preprocess_inplace)\n",
    "                self.algorithm.compress(table_file, compressed_file)\n",
    "            else:\n",
    "                self.processing.do_preprocess(table_file, preprocessed_file, inplace=self.preprocess_inplace)\n",
    "                self.algorithm.compress(preprocessed_file, compressed_file)\n",
    "            if self.logs:\n",
    "                compression_rate = self.get_compression_rate(table_file, compressed_file)\n",
    "                self.benchmark[\"compression_rate\"] = compression_rate\n",
    "        return 0\n",
    "\n",
    "    @measure_time(\"logs\")\n",
    "    def decompress_and_postprocess(self):\n",
    "        with open(self.compressed_path, 'wb') as compressed_file, open(self.decompressed_path, 'wb') as decompressed_file, open(self.postprocessed_path,'wb') as post_processed_file, open(self.table_path, 'rb') as profile_file:\n",
    "            self.algorithm.decompress(compressed_file, decompressed_file)\n",
    "            if self.postprocess_inplace:\n",
    "                self.processing.do_postprocess(decompressed_file, inplace=self.postprocess_inplace)\n",
    "            else:\n",
    "                self.processing.do_postprocess(decompressed_file, post_processed_file, inplace=self.postprocess_inplace)\n",
    "\n",
    "            if self.logs and profile_file is not None:\n",
    "                loss_rate = self.get_loss_rate(profile_file, decompressed_file)\n",
    "                self.benchmark[\"loss_rate\"] = loss_rate\n",
    "\n",
    "        return 0\n",
    "\n",
    "    @measure_time(\"logs\")\n",
    "    def test(self):\n",
    "        self.preprocess_and_compress()\n",
    "        self.decompress_and_postprocess()\n",
    "        return 0 #TODO: result codes\n",
    "\n",
    "    def get_compression_rate(self, input_file, compressed_file): #I'm assuming compressed_table is actually bytes-like\n",
    "\n",
    "        print(compressed_file.name)\n",
    "        input_file.seek(0, os.SEEK_END)\n",
    "        compressed_file.seek(0, os.SEEK_END)\n",
    "        print(input_file.tell())\n",
    "        print(compressed_file.tell())\n",
    "        return input_file.tell() / compressed_file.tell()\n",
    "\n",
    "    def get_loss_rate(self, input_file, decompressed_file):\n",
    "        print(\"I am dummy: \", inspect.currentframe().f_code.co_name)\n",
    "        return random.randint(0, 20)\n",
    "\n"
   ],
   "metadata": {
    "collapsed": false,
    "ExecuteTime": {
     "start_time": "2023-07-05T20:45:51.569556Z",
     "end_time": "2023-07-05T20:45:51.577347Z"
    }
   }
  },
  {
   "cell_type": "code",
   "execution_count": 270,
   "outputs": [
    {
     "name": "stdout",
     "output_type": "stream",
     "text": [
      "b''\n",
      "I am dummy compression\n",
      "C:\\Users\\Admin\\AppData\\Local\\Temp\\tmp654cho4z\n",
      "168\n",
      "168\n",
      "Function preprocess_and_compress took 0.0009984970092773438 seconds to execute.\n",
      "I am dummy decompression\n",
      "I am dummy:  get_loss_rate\n",
      "Function decompress_and_postprocess took 1.0007929801940918 seconds to execute.\n",
      "Function test took 1.003786325454712 seconds to execute.\n"
     ]
    }
   ],
   "source": [
    "def json_platform(config_path):\n",
    "    with open(config_path, 'r') as f:\n",
    "        config = json.load(f)\n",
    "\n",
    "    platform = Platform(globals()[config[\"Algorithm\"]](), globals()[config[\"Processing\"]](), config[\"table_path\"])\n",
    "    platform.start(config[\"run_type\"], config[\"logs\"])\n",
    "\n",
    "json_platform(\"plug_config.json\")"
   ],
   "metadata": {
    "collapsed": false,
    "ExecuteTime": {
     "start_time": "2023-07-05T20:45:59.585426Z",
     "end_time": "2023-07-05T20:46:00.572450Z"
    }
   }
  },
  {
   "cell_type": "markdown",
   "source": [
    "Compression Algorithm Classes"
   ],
   "metadata": {
    "collapsed": false,
    "pycharm": {
     "name": "#%% md\n"
    }
   }
  },
  {
   "cell_type": "code",
   "execution_count": 259,
   "outputs": [],
   "source": [
    "import abc\n",
    "\n",
    "class CompressionAlgorithm(abc.ABC):\n",
    "    def __init__(self):\n",
    "        ...\n",
    "    @property\n",
    "    @abc.abstractmethod\n",
    "    def name(self):\n",
    "        ...\n",
    "\n",
    "    @abc.abstractmethod\n",
    "    def compress(self, input_file, compressed_file):\n",
    "        ...\n",
    "\n",
    "    @abc.abstractmethod\n",
    "    def decompress(self, compressed_file, output_file):\n",
    "        ...\n",
    "\n",
    "class LearningCompressionAlgorithm(CompressionAlgorithm):\n",
    "\n",
    "    @abc.abstractmethod\n",
    "    def fit(self, training_data):\n",
    "        ...\n",
    "\n",
    "class NonLearningCompressionAlgorithm(CompressionAlgorithm):\n",
    "    ...\n",
    "\n",
    "class LosslessCompressionAlgorithm(CompressionAlgorithm):\n",
    "    ...\n",
    "\n",
    "class LossyCompressionAlgorithm(CompressionAlgorithm):\n",
    "    ..."
   ],
   "metadata": {
    "collapsed": false,
    "ExecuteTime": {
     "start_time": "2023-07-05T20:45:52.136178Z",
     "end_time": "2023-07-05T20:45:52.137183Z"
    }
   }
  },
  {
   "cell_type": "code",
   "execution_count": 272,
   "outputs": [],
   "source": [
    "class DummyCompressionAlgorithm(LosslessCompressionAlgorithm, NonLearningCompressionAlgorithm):\n",
    "    name = 'Dummy Compression Algorithm'\n",
    "    def compress(self, input_file, compressed_file):\n",
    "        input_file.seek(0)\n",
    "        compressed_file.write(input_file.read())\n",
    "        print(input_file.read())\n",
    "        print(\"I am dummy compression\")\n",
    "        return 0 # TODO: status codes\n",
    "    def decompress(self, compressed_file, output_file):\n",
    "        compressed_file.seek(0)\n",
    "        output_file.write(compressed_file.read())\n",
    "        time.sleep(1)\n",
    "        print(\"I am dummy decompression\")\n",
    "        return 0 # TODO: status codes"
   ],
   "metadata": {
    "collapsed": false,
    "ExecuteTime": {
     "start_time": "2023-07-05T20:47:05.682819Z",
     "end_time": "2023-07-05T20:47:05.686318Z"
    }
   }
  },
  {
   "cell_type": "markdown",
   "source": [
    "Processing Classes"
   ],
   "metadata": {
    "collapsed": false,
    "pycharm": {
     "name": "#%% md\n"
    }
   }
  },
  {
   "cell_type": "code",
   "execution_count": 273,
   "outputs": [],
   "source": [
    "class Processing(abc.ABC):\n",
    "    def __init__(self):\n",
    "        ...\n",
    "    @property\n",
    "    @abc.abstractmethod\n",
    "    def name(self):\n",
    "        ...\n",
    "\n",
    "    @abc.abstractmethod\n",
    "    def do_preprocess(self, raw_file, output_file, inplace):\n",
    "        ...\n",
    "\n",
    "    @abc.abstractmethod\n",
    "    def do_postprocess(self, processed_file, output_file, inplace):\n",
    "        ..."
   ],
   "metadata": {
    "collapsed": false,
    "ExecuteTime": {
     "start_time": "2023-07-05T20:47:07.101008Z",
     "end_time": "2023-07-05T20:47:07.107470Z"
    }
   }
  },
  {
   "cell_type": "code",
   "execution_count": 274,
   "outputs": [],
   "source": [
    "class DummyProcessing(Processing):\n",
    "    name = \"Dummy Pre/Post-Processing\"\n",
    "    def do_preprocess(self, raw_file, output_file=None, inplace=True):\n",
    "        if inplace:\n",
    "            return 0\n",
    "        raw_file.seek(0)\n",
    "        output_file.write(raw_file.read())\n",
    "        return 0 # TODO: replace with enum / status codes\n",
    "    def do_postprocess(self, processed_file, output_file=None, inplace=True):\n",
    "        if output_file is None and not inplace: #raise exception?\n",
    "            return 1\n",
    "        if inplace:\n",
    "            return 0\n",
    "        output_file.write(processed_file.read())\n",
    "        return 0 # TODO: replace with enum/status codes\n"
   ],
   "metadata": {
    "collapsed": false,
    "ExecuteTime": {
     "start_time": "2023-07-05T20:47:07.488624Z",
     "end_time": "2023-07-05T20:47:07.493441Z"
    }
   }
  },
  {
   "cell_type": "markdown",
   "source": [
    "Testing"
   ],
   "metadata": {
    "collapsed": false,
    "pycharm": {
     "name": "#%% md\n"
    }
   }
  },
  {
   "cell_type": "code",
   "execution_count": 275,
   "outputs": [
    {
     "name": "stdout",
     "output_type": "stream",
     "text": [
      "b''\n",
      "I am dummy compression\n",
      "C:\\Users\\Admin\\AppData\\Local\\Temp\\tmpj9n2mil5\n",
      "19\n",
      "19\n",
      "Function preprocess_and_compress took 0.0009984970092773438 seconds to execute.\n",
      "I am dummy decompression\n",
      "I am dummy:  get_loss_rate\n",
      "Function decompress_and_postprocess took 1.000805377960205 seconds to execute.\n",
      "Function test took 1.0028076171875 seconds to execute.\n",
      "{'name': 'DummyCompressionAlgorithm', 'table_path': 'flush.txt', 'isLossLess': True, 'isLearning': False, 'compression_rate': 1.0, 'preprocess_and_compress_time': 0.0009984970092773438, 'loss_rate': 6, 'decompress_and_postprocess_time': 1.000805377960205, 'test_time': 1.0028076171875}\n",
      "---------------------\n",
      "b''\n",
      "I am dummy compression\n",
      "C:\\Users\\Admin\\AppData\\Local\\Temp\\tmpltijcb8s\n",
      "19\n",
      "19\n",
      "Function preprocess_and_compress took 0.0009946823120117188 seconds to execute.\n",
      "I am dummy decompression\n",
      "I am dummy:  get_loss_rate\n",
      "Function decompress_and_postprocess took 1.0003223419189453 seconds to execute.\n",
      "Function test took 1.001317024230957 seconds to execute.\n",
      "{'name': 'DummyCompressionAlgorithm', 'table_path': 'flush.txt', 'isLossLess': True, 'isLearning': False, 'compression_rate': 1.0, 'preprocess_and_compress_time': 0.0009946823120117188, 'loss_rate': 6, 'decompress_and_postprocess_time': 1.0003223419189453, 'test_time': 1.001317024230957}\n",
      "---------------------\n",
      "b''\n",
      "I am dummy compression\n",
      "C:\\Users\\Admin\\AppData\\Local\\Temp\\tmpgkh4hkhq\n",
      "19\n",
      "19\n",
      "Function preprocess_and_compress took 0.0 seconds to execute.\n",
      "I am dummy decompression\n",
      "I am dummy:  get_loss_rate\n",
      "Function decompress_and_postprocess took 1.0009396076202393 seconds to execute.\n",
      "Function test took 1.002107858657837 seconds to execute.\n",
      "{'name': 'DummyCompressionAlgorithm', 'table_path': 'flush.txt', 'isLossLess': True, 'isLearning': False, 'compression_rate': 1.0, 'preprocess_and_compress_time': 0.0, 'loss_rate': 12, 'decompress_and_postprocess_time': 1.0009396076202393, 'test_time': 1.002107858657837}\n",
      "---------------------\n",
      "b''\n",
      "I am dummy compression\n",
      "C:\\Users\\Admin\\AppData\\Local\\Temp\\tmpagvcb_o3\n",
      "19\n",
      "19\n",
      "Function preprocess_and_compress took 0.0 seconds to execute.\n",
      "I am dummy decompression\n",
      "I am dummy:  get_loss_rate\n",
      "Function decompress_and_postprocess took 1.0014052391052246 seconds to execute.\n",
      "Function test took 1.0024914741516113 seconds to execute.\n",
      "{'name': 'DummyCompressionAlgorithm', 'table_path': 'flush.txt', 'isLossLess': True, 'isLearning': False, 'compression_rate': 1.0, 'preprocess_and_compress_time': 0.0, 'loss_rate': 9, 'decompress_and_postprocess_time': 1.0014052391052246, 'test_time': 1.0024914741516113}\n",
      "---------------------\n",
      "b''\n",
      "I am dummy compression\n",
      "C:\\Users\\Admin\\AppData\\Local\\Temp\\tmpn9ps2ptz\n",
      "19\n",
      "19\n",
      "Function preprocess_and_compress took 0.0 seconds to execute.\n",
      "I am dummy decompression\n",
      "I am dummy:  get_loss_rate\n",
      "Function decompress_and_postprocess took 1.0013587474822998 seconds to execute.\n",
      "Function test took 1.0023629665374756 seconds to execute.\n",
      "{'name': 'DummyCompressionAlgorithm', 'table_path': 'flush.txt', 'isLossLess': True, 'isLearning': False, 'compression_rate': 1.0, 'preprocess_and_compress_time': 0.0, 'loss_rate': 16, 'decompress_and_postprocess_time': 1.0013587474822998, 'test_time': 1.0023629665374756}\n",
      "---------------------\n",
      "b''\n",
      "I am dummy compression\n",
      "C:\\Users\\Admin\\AppData\\Local\\Temp\\tmpm_0y2v9a\n",
      "19\n",
      "19\n",
      "Function preprocess_and_compress took 0.0 seconds to execute.\n",
      "I am dummy decompression\n",
      "I am dummy:  get_loss_rate\n",
      "Function decompress_and_postprocess took 1.0009891986846924 seconds to execute.\n",
      "Function test took 1.0023629665374756 seconds to execute.\n",
      "{'name': 'DummyCompressionAlgorithm', 'table_path': 'flush.txt', 'isLossLess': True, 'isLearning': False, 'compression_rate': 1.0, 'preprocess_and_compress_time': 0.0, 'loss_rate': 14, 'decompress_and_postprocess_time': 1.0009891986846924, 'test_time': 1.0023629665374756}\n",
      "---------------------\n"
     ]
    }
   ],
   "source": [
    "benchmarks = []\n",
    "Algos = [DummyCompressionAlgorithm(), DummyCompressionAlgorithm(), DummyCompressionAlgorithm()]\n",
    "Processes = [DummyProcessing(), DummyProcessing()]\n",
    "for algo in Algos:\n",
    "    for proc in Processes:\n",
    "        a = Platform(algo, proc, \"flush.txt\")\n",
    "        a.start(\"test\", logs=True)\n",
    "        print(a.benchmark)\n",
    "        benchmarks.append(a.benchmark)\n",
    "        print(\"---------------------\")"
   ],
   "metadata": {
    "collapsed": false,
    "ExecuteTime": {
     "start_time": "2023-07-05T20:47:08.283022Z",
     "end_time": "2023-07-05T20:47:14.301722Z"
    }
   }
  },
  {
   "cell_type": "code",
   "execution_count": 264,
   "outputs": [],
   "source": [
    "#1. replace json with arguments of the class | DONE\n",
    "#2. do not keep table in class instance | DONE\n",
    "#3. change names of the Platform to more relevant | DONE\n",
    "#4. rename compression to compress | DONE\n",
    "#5. add ability to not compress tables every time Platform being created | I can just pass already preprocessed table to Platform\n",
    "#and also pass the flush preprocessing class which do nothing"
   ],
   "metadata": {
    "collapsed": false,
    "pycharm": {
     "name": "#%%\n"
    },
    "ExecuteTime": {
     "start_time": "2023-07-05T20:45:59.111686Z",
     "end_time": "2023-07-05T20:45:59.114707Z"
    }
   }
  },
  {
   "cell_type": "code",
   "execution_count": 265,
   "outputs": [],
   "source": [
    "import matplotlib.pyplot as plt\n",
    "\n",
    "def plot_graphics(n_values):\n",
    "    plt.bar(range(len(n_values)), n_values)\n",
    "    plt.title('Comparison of n Values')\n",
    "    plt.xlabel('Index')\n",
    "    plt.ylabel('Value')\n",
    "    plt.show()\n"
   ],
   "metadata": {
    "collapsed": false,
    "pycharm": {
     "name": "#%%\n"
    },
    "ExecuteTime": {
     "start_time": "2023-07-05T20:45:59.117698Z",
     "end_time": "2023-07-05T20:45:59.121953Z"
    }
   }
  },
  {
   "cell_type": "code",
   "execution_count": 266,
   "outputs": [],
   "source": [
    "def plot_benchmarks(benchmarks, column_name):\n",
    "    df = pd.DataFrame(benchmarks)\n",
    "    df = df.reset_index()\n",
    "    sns.barplot(x='index', y=column_name, data=df)\n",
    "\n",
    "def plot_scatter(benchmarks, column_name):\n",
    "    df = pd.DataFrame(benchmarks)\n",
    "    df = df.reset_index()\n",
    "    sns.scatterplot(x='index', y=column_name, data=df)\n",
    "\n",
    "def plot_hist(benchmarks, column_name):\n",
    "    df = pd.DataFrame(benchmarks)\n",
    "    df = df.reset_index()\n",
    "    sns.histplot(x='index', y=column_name, data=df)\n",
    "\n"
   ],
   "metadata": {
    "collapsed": false,
    "ExecuteTime": {
     "start_time": "2023-07-05T20:45:59.125942Z",
     "end_time": "2023-07-05T20:45:59.127912Z"
    }
   }
  },
  {
   "cell_type": "code",
   "execution_count": 267,
   "outputs": [
    {
     "name": "stdout",
     "output_type": "stream",
     "text": [
      "19\n",
      "15\n",
      "4\n",
      "11\n",
      "2\n",
      "5\n"
     ]
    },
    {
     "data": {
      "text/plain": "<Figure size 640x480 with 1 Axes>",
      "image/png": "[encoded data removed]"
     },
     "metadata": {},
     "output_type": "display_data"
    }
   ],
   "source": [
    "plot_benchmarks(benchmarks, \"loss_rate\")\n",
    "for i in benchmarks:\n",
    "    print(i[\"loss_rate\"])"
   ],
   "metadata": {
    "collapsed": false,
    "pycharm": {
     "name": "#%%\n"
    },
    "ExecuteTime": {
     "start_time": "2023-07-05T20:45:59.129907Z",
     "end_time": "2023-07-05T20:45:59.259271Z"
    }
   }
  },
  {
   "cell_type": "code",
   "execution_count": 268,
   "outputs": [
    {
     "data": {
      "text/plain": "<Figure size 640x480 with 1 Axes>",
      "image/png": "[encoded data removed]"
     },
     "metadata": {},
     "output_type": "display_data"
    }
   ],
   "source": [
    "plot_scatter(benchmarks, \"test_time\")"
   ],
   "metadata": {
    "collapsed": false,
    "pycharm": {
     "name": "#%%\n"
    },
    "ExecuteTime": {
     "start_time": "2023-07-05T20:45:59.261269Z",
     "end_time": "2023-07-05T20:45:59.419255Z"
    }
   }
  },
  {
   "cell_type": "code",
   "execution_count": 269,
   "outputs": [
    {
     "data": {
      "text/plain": "<Figure size 640x480 with 1 Axes>",
      "image/png": "[encoded data removed]"
     },
     "metadata": {},
     "output_type": "display_data"
    }
   ],
   "source": [
    "plot_hist(benchmarks, \"test_time\")"
   ],
   "metadata": {
    "collapsed": false,
    "pycharm": {
     "name": "#%%\n"
    },
    "ExecuteTime": {
     "start_time": "2023-07-05T20:45:59.420251Z",
     "end_time": "2023-07-05T20:45:59.586424Z"
    }
   }
  },
  {
   "cell_type": "code",
   "execution_count": null,
   "outputs": [],
   "source": [],
   "metadata": {
    "collapsed": false,
    "pycharm": {
     "name": "#%%\n"
    }
   }
  },
  {
   "cell_type": "code",
   "execution_count": 189,
   "outputs": [],
   "source": [],
   "metadata": {
    "collapsed": false,
    "ExecuteTime": {
     "start_time": "2023-07-05T16:56:41.661712Z",
     "end_time": "2023-07-05T16:56:41.685259Z"
    }
   }
  },
  {
   "cell_type": "code",
   "execution_count": 189,
   "outputs": [],
   "source": [],
   "metadata": {
    "collapsed": false,
    "ExecuteTime": {
     "start_time": "2023-07-05T16:56:41.809240Z",
     "end_time": "2023-07-05T16:56:41.846162Z"
    }
   }
  },
  {
   "cell_type": "code",
   "execution_count": null,
   "outputs": [],
   "source": [],
   "metadata": {
    "collapsed": false
   }
  }
 ],
 "metadata": {
  "kernelspec": {
   "display_name": "Python 3",
   "language": "python",
   "name": "python3"
  },
  "language_info": {
   "codemirror_mode": {
    "name": "ipython",
    "version": 2
   },
   "file_extension": ".py",
   "mimetype": "text/x-python",
   "name": "python",
   "nbconvert_exporter": "python",
   "pygments_lexer": "ipython2",
   "version": "2.7.6"
  }
 },
 "nbformat": 4,
 "nbformat_minor": 0
}
