{
 "cells": [
  {
   "cell_type": "code",
   "execution_count": 72,
   "outputs": [],
   "source": [
    "import inspect\n",
    "import json\n",
    "import os\n",
    "import time\n",
    "import numpy as np\n",
    "from functools import wraps\n",
    "import pandas as pd\n",
    "import seaborn as sns\n",
    "import random"
   ],
   "metadata": {
    "collapsed": false
   }
  },
  {
   "cell_type": "markdown",
   "source": [
    "Platform class"
   ],
   "metadata": {
    "collapsed": false,
    "pycharm": {
     "name": "#%% md\n"
    }
   }
  },
  {
   "cell_type": "code",
   "execution_count": 56,
   "outputs": [],
   "source": [
    "class Platform:\n",
    "    def __init__(self, algorithm, processing, table_path):\n",
    "        self.algorithm = algorithm\n",
    "        self.processing = processing\n",
    "        self.table_path = table_path\n",
    "        self.logs = False\n",
    "\n",
    "        self.benchmark = {\"name\" : type(self.algorithm).__name__}\n",
    "        self.benchmark = {\"table_path\": table_path}\n",
    "\n",
    "    def start(self, run_type=\"test\", logs=False):\n",
    "        self.logs = logs\n",
    "\n",
    "        if self.logs:\n",
    "            if isinstance(self.algorithm, LosslessCompressionAlgorithm):\n",
    "                self.benchmark[\"isLossLess\"] = True\n",
    "            else:\n",
    "                self.benchmark[\"isLossLess\"] = False\n",
    "\n",
    "            if isinstance(self.algorithm, LearningCompressionAlgorithm):\n",
    "                self.benchmark[\"isLearning\"] = True\n",
    "            else:\n",
    "                self.benchmark[\"isLearning\"] = False\n",
    "\n",
    "\n",
    "        if run_type == 'test':\n",
    "            self.test()\n",
    "        elif run_type == 'compress':\n",
    "            self.preprocess_and_compress()\n",
    "        elif run_type == 'decompress':\n",
    "            self.decompress_and_postprocess()\n",
    "\n",
    "    def measure_time(flag):\n",
    "        def decorator(func):\n",
    "            def wrapper(self, *args, **kwargs):\n",
    "                start_time = time.time()\n",
    "                result = func(self, *args, **kwargs)\n",
    "                end_time = time.time()\n",
    "\n",
    "                if getattr(self, flag):\n",
    "                    print(f\"Function {func.__name__} took {end_time - start_time} seconds to execute.\")\n",
    "                    self.benchmark[func.__name__ + \"_time\"] = end_time - start_time\n",
    "\n",
    "                return result\n",
    "            return wrapper\n",
    "        return decorator\n",
    "\n",
    "    @measure_time(\"logs\")\n",
    "    def preprocess_and_compress(self):\n",
    "        preprocessed_table = self.processing.do_preprocess(self.table_path)\n",
    "        compressed_table = self.algorithm.compress(preprocessed_table)\n",
    "        if self.logs:\n",
    "            compression_rate = self.get_compression_rate(compressed_table)\n",
    "            self.benchmark[\"compression_rate\"] = compression_rate\n",
    "        return compressed_table\n",
    "\n",
    "    @measure_time(\"logs\")\n",
    "    def decompress_and_postprocess(self, compressed_table):\n",
    "        decompressed_table = self.algorithm.decompress(compressed_table)\n",
    "        table = self.processing.do_postprocess(decompressed_table)\n",
    "\n",
    "        if self.logs:\n",
    "            loss_rate = self.get_loss_rate(table)\n",
    "            self.benchmark[\"loss_rate\"] = loss_rate\n",
    "\n",
    "        return table\n",
    "\n",
    "    @measure_time(\"logs\")\n",
    "    def test(self):\n",
    "        compressed_data = self.preprocess_and_compress()\n",
    "        decompressed_data = self.decompress_and_postprocess(compressed_data)\n",
    "\n",
    "    def get_compression_rate(self, compressed_table): #I'm assuming compressed_table is actually bytes-like\n",
    "        with open(self.table_path) as f:\n",
    "            f.seek(0, os.SEEK_END)\n",
    "            return f.tell() / len(compressed_table)\n",
    "\n",
    "    def get_loss_rate(self, table):\n",
    "        print(\"I am dummy: \", inspect.currentframe().f_code.co_name)\n",
    "        return random.randint(0, 20)\n",
    "\n"
   ],
   "metadata": {
    "collapsed": false
   }
  },
  {
   "cell_type": "code",
   "execution_count": 76,
   "outputs": [
    {
     "name": "stdout",
     "output_type": "stream",
     "text": [
      "I am dummy compression\n",
      "I am dummy:  get_compression_rate\n",
      "Function preprocess_and_compress took 2.0002260208129883 seconds to execute.\n",
      "I am dummy decompression\n",
      "I am dummy:  get_loss_rate\n",
      "Function decompress_and_postprocess took 1.0121607780456543 seconds to execute.\n",
      "Function test took 3.0123867988586426 seconds to execute.\n"
     ]
    }
   ],
   "source": [
    "def json_platform(config_path):\n",
    "    with open(config_path, 'r') as f:\n",
    "        config = json.load(f)\n",
    "\n",
    "    platform = Platform(globals()[config[\"Algorithm\"]](), globals()[config[\"Processing\"]](), config[\"table_path\"])\n",
    "    platform.start(config[\"run_type\"], config[\"logs\"])\n",
    "\n",
    "json_platform(\"plug_config.json\")"
   ],
   "metadata": {
    "collapsed": false,
    "pycharm": {
     "name": "#%%\n"
    }
   }
  },
  {
   "cell_type": "markdown",
   "source": [
    "Compression Algorithm Classes"
   ],
   "metadata": {
    "collapsed": false,
    "pycharm": {
     "name": "#%% md\n"
    }
   }
  },
  {
   "cell_type": "code",
   "execution_count": 34,
   "outputs": [],
   "source": [
    "import abc\n",
    "\n",
    "class CompressionAlgorithm(abc.ABC):\n",
    "    def __init__(self):\n",
    "        ...\n",
    "    @property\n",
    "    @abc.abstractmethod\n",
    "    def name(self):\n",
    "        ...\n",
    "\n",
    "    @abc.abstractmethod\n",
    "    def compress(self, table):\n",
    "        ...\n",
    "\n",
    "    @abc.abstractmethod\n",
    "    def decompress(self, compressed_data):\n",
    "        ...\n",
    "\n",
    "class LearningCompressionAlgorithm(CompressionAlgorithm):\n",
    "\n",
    "    @abc.abstractmethod\n",
    "    def fit(self, training_data):\n",
    "        ...\n",
    "\n",
    "class NonLearningCompressionAlgorithm(CompressionAlgorithm):\n",
    "    ...\n",
    "\n",
    "class LosslessCompressionAlgorithm(CompressionAlgorithm):\n",
    "    ...\n",
    "\n",
    "class LossyCompressionAlgorithm(CompressionAlgorithm):\n",
    "    ..."
   ],
   "metadata": {
    "collapsed": false,
    "pycharm": {
     "name": "#%%\n"
    }
   }
  },
  {
   "cell_type": "code",
   "execution_count": 54,
   "outputs": [],
   "source": [
    "class DummyCompressionAlgorithm(LosslessCompressionAlgorithm, LearningCompressionAlgorithm):\n",
    "    name = 'Dummy Compression Algorithm'\n",
    "    def compress(self, table):\n",
    "        time.sleep(2)\n",
    "        print(\"I am dummy compression\")\n",
    "        return table\n",
    "    def decompress(self, compressed_data):\n",
    "        time.sleep(1)\n",
    "        print(\"I am dummy decompression\")\n",
    "        return compressed_data\n",
    "\n",
    "    def fit(self, training_data):\n",
    "        return 0"
   ],
   "metadata": {
    "collapsed": false,
    "pycharm": {
     "name": "#%%\n"
    }
   }
  },
  {
   "cell_type": "markdown",
   "source": [
    "Processing Classes"
   ],
   "metadata": {
    "collapsed": false,
    "pycharm": {
     "name": "#%% md\n"
    }
   }
  },
  {
   "cell_type": "code",
   "execution_count": 36,
   "outputs": [],
   "source": [
    "class Processing(abc.ABC):\n",
    "    def __init__(self):\n",
    "        ...\n",
    "    @property\n",
    "    @abc.abstractmethod\n",
    "    def name(self):\n",
    "        ...\n",
    "\n",
    "    @abc.abstractmethod\n",
    "    def do_preprocess(self, raw_table):\n",
    "        ...\n",
    "\n",
    "    @abc.abstractmethod\n",
    "    def do_postprocess(self, processed_table):\n",
    "        ..."
   ],
   "metadata": {
    "collapsed": false,
    "pycharm": {
     "name": "#%%\n"
    }
   }
  },
  {
   "cell_type": "code",
   "execution_count": 37,
   "outputs": [],
   "source": [
    "class DummyProcessing(Processing):\n",
    "    name = \"Dummy Pre/Post-Processing\"\n",
    "    def do_preprocess(self, raw_table):\n",
    "        return raw_table\n",
    "    def do_postprocess(self, processed_table):\n",
    "        return processed_table\n"
   ],
   "metadata": {
    "collapsed": false,
    "pycharm": {
     "name": "#%%\n"
    }
   }
  },
  {
   "cell_type": "markdown",
   "source": [
    "Testing"
   ],
   "metadata": {
    "collapsed": false,
    "pycharm": {
     "name": "#%% md\n"
    }
   }
  },
  {
   "cell_type": "code",
   "execution_count": 57,
   "outputs": [
    {
     "name": "stdout",
     "output_type": "stream",
     "text": [
      "I am dummy compression\n",
      "I am dummy:  get_compression_rate\n",
      "Function preprocess_and_compress took 2.0092406272888184 seconds to execute.\n",
      "I am dummy decompression\n",
      "I am dummy:  get_loss_rate\n",
      "Function decompress_and_postprocess took 1.0151996612548828 seconds to execute.\n",
      "Function test took 3.024440288543701 seconds to execute.\n",
      "{'table_path': 'asad/acap/asa.csv', 'isLossLess': True, 'isLearning': True, 'compression_rate': 30, 'preprocess_and_compress_time': 2.0092406272888184, 'loss_rate': 19, 'decompress_and_postprocess_time': 1.0151996612548828, 'test_time': 3.024440288543701}\n",
      "---------------------\n",
      "I am dummy compression\n",
      "I am dummy:  get_compression_rate\n",
      "Function preprocess_and_compress took 2.0153441429138184 seconds to execute.\n",
      "I am dummy decompression\n",
      "I am dummy:  get_loss_rate\n",
      "Function decompress_and_postprocess took 1.0102825164794922 seconds to execute.\n",
      "Function test took 3.0256266593933105 seconds to execute.\n",
      "{'table_path': 'asad/acap/asa.csv', 'isLossLess': True, 'isLearning': True, 'compression_rate': 2, 'preprocess_and_compress_time': 2.0153441429138184, 'loss_rate': 3, 'decompress_and_postprocess_time': 1.0102825164794922, 'test_time': 3.0256266593933105}\n",
      "---------------------\n",
      "I am dummy compression\n",
      "I am dummy:  get_compression_rate\n",
      "Function preprocess_and_compress took 2.0009024143218994 seconds to execute.\n",
      "I am dummy decompression\n",
      "I am dummy:  get_loss_rate\n",
      "Function decompress_and_postprocess took 1.0112824440002441 seconds to execute.\n",
      "Function test took 3.0121848583221436 seconds to execute.\n",
      "{'table_path': 'asad/acap/asa.csv', 'isLossLess': True, 'isLearning': True, 'compression_rate': 60, 'preprocess_and_compress_time': 2.0009024143218994, 'loss_rate': 12, 'decompress_and_postprocess_time': 1.0112824440002441, 'test_time': 3.0121848583221436}\n",
      "---------------------\n",
      "I am dummy compression\n",
      "I am dummy:  get_compression_rate\n",
      "Function preprocess_and_compress took 2.004798650741577 seconds to execute.\n",
      "I am dummy decompression\n",
      "I am dummy:  get_loss_rate\n",
      "Function decompress_and_postprocess took 1.0150949954986572 seconds to execute.\n",
      "Function test took 3.0198936462402344 seconds to execute.\n",
      "{'table_path': 'asad/acap/asa.csv', 'isLossLess': True, 'isLearning': True, 'compression_rate': 53, 'preprocess_and_compress_time': 2.004798650741577, 'loss_rate': 19, 'decompress_and_postprocess_time': 1.0150949954986572, 'test_time': 3.0198936462402344}\n",
      "---------------------\n",
      "I am dummy compression\n",
      "I am dummy:  get_compression_rate\n",
      "Function preprocess_and_compress took 2.0098471641540527 seconds to execute.\n",
      "I am dummy decompression\n",
      "I am dummy:  get_loss_rate\n",
      "Function decompress_and_postprocess took 1.0114686489105225 seconds to execute.\n",
      "Function test took 3.021315813064575 seconds to execute.\n",
      "{'table_path': 'asad/acap/asa.csv', 'isLossLess': True, 'isLearning': True, 'compression_rate': 15, 'preprocess_and_compress_time': 2.0098471641540527, 'loss_rate': 6, 'decompress_and_postprocess_time': 1.0114686489105225, 'test_time': 3.021315813064575}\n",
      "---------------------\n",
      "I am dummy compression\n",
      "I am dummy:  get_compression_rate\n",
      "Function preprocess_and_compress took 2.003680944442749 seconds to execute.\n",
      "I am dummy decompression\n",
      "I am dummy:  get_loss_rate\n",
      "Function decompress_and_postprocess took 1.014172077178955 seconds to execute.\n",
      "Function test took 3.017853021621704 seconds to execute.\n",
      "{'table_path': 'asad/acap/asa.csv', 'isLossLess': True, 'isLearning': True, 'compression_rate': 10, 'preprocess_and_compress_time': 2.003680944442749, 'loss_rate': 6, 'decompress_and_postprocess_time': 1.014172077178955, 'test_time': 3.017853021621704}\n",
      "---------------------\n"
     ]
    }
   ],
   "source": [
    "benchmarks = []\n",
    "Algos = [DummyCompressionAlgorithm(), DummyCompressionAlgorithm(), DummyCompressionAlgorithm()]\n",
    "Processes = [DummyProcessing(), DummyProcessing()]\n",
    "for algo in Algos:\n",
    "    for proc in Processes:\n",
    "        a = Platform(algo, proc, \"asad/acap/asa.csv\")\n",
    "        a.start(\"test\", logs=True)\n",
    "        print(a.benchmark)\n",
    "        benchmarks.append(a.benchmark)\n",
    "        print(\"---------------------\")"
   ],
   "metadata": {
    "collapsed": false,
    "pycharm": {
     "name": "#%%\n"
    }
   }
  },
  {
   "cell_type": "code",
   "execution_count": null,
   "outputs": [],
   "source": [
    "#1. replace json with arguments of the class | DONE\n",
    "#2. do not keep table in class instance | DONE\n",
    "#3. change names of the Platform to more relevant | DONE\n",
    "#4. rename compression to compress | DONE\n",
    "#5. add ability to not compress tables every time Platform being created | I can just pass already preprocessed table to Platform\n",
    "#and also pass the flush preprocessing class which do nothing"
   ],
   "metadata": {
    "collapsed": false,
    "pycharm": {
     "name": "#%%\n"
    }
   }
  },
  {
   "cell_type": "code",
   "execution_count": 61,
   "outputs": [
    {
     "data": {
      "text/plain": "<Figure size 640x480 with 1 Axes>",
      "image/png": "[encoded data removed]"
     },
     "metadata": {},
     "output_type": "display_data"
    }
   ],
   "source": [
    "import matplotlib.pyplot as plt\n",
    "\n",
    "def plot_graphics(n_values):\n",
    "    plt.bar(range(len(n_values)), n_values)\n",
    "    plt.title('Comparison of n Values')\n",
    "    plt.xlabel('Index')\n",
    "    plt.ylabel('Value')\n",
    "    plt.show()\n"
   ],
   "metadata": {
    "collapsed": false,
    "pycharm": {
     "name": "#%%\n"
    }
   }
  },
  {
   "cell_type": "code",
   "execution_count": 97,
   "outputs": [],
   "source": [
    "import seaborn as sns\n",
    "import pandas as pd\n",
    "\n",
    "def plot_benchmarks(benchmarks, column_name):\n",
    "    df = pd.DataFrame(benchmarks)\n",
    "    df = df.reset_index()\n",
    "    sns.barplot(x='index', y=column_name, data=df)\n",
    "\n",
    "def plot_scatter(benchmarks, column_name):\n",
    "    df = pd.DataFrame(benchmarks)\n",
    "    df = df.reset_index()\n",
    "    sns.scatterplot(x='index', y=column_name, data=df)\n",
    "\n",
    "def plot_hist(benchmarks, column_name):\n",
    "    df = pd.DataFrame(benchmarks)\n",
    "    df = df.reset_index()\n",
    "    sns.histplot(x='index', y=column_name, data=df)\n",
    "\n"
   ],
   "metadata": {
    "collapsed": false,
    "pycharm": {
     "name": "#%%\n"
    }
   }
  },
  {
   "cell_type": "code",
   "execution_count": 102,
   "outputs": [
    {
     "name": "stdout",
     "output_type": "stream",
     "text": [
      "19\n",
      "3\n",
      "12\n",
      "19\n",
      "6\n",
      "6\n"
     ]
    },
    {
     "data": {
      "text/plain": "<Figure size 640x480 with 1 Axes>",
      "image/png": "[encoded data removed]"
     },
     "metadata": {},
     "output_type": "display_data"
    }
   ],
   "source": [
    "plot_benchmarks(benchmarks, \"loss_rate\")\n",
    "for i in benchmarks:\n",
    "    print(i[\"loss_rate\"])"
   ],
   "metadata": {
    "collapsed": false,
    "pycharm": {
     "name": "#%%\n"
    }
   }
  },
  {
   "cell_type": "code",
   "execution_count": 93,
   "outputs": [
    {
     "data": {
      "text/plain": "<Figure size 640x480 with 1 Axes>",
      "image/png": "[encoded data removed]"
     },
     "metadata": {},
     "output_type": "display_data"
    }
   ],
   "source": [
    "plot_scatter(benchmarks, \"test_time\")"
   ],
   "metadata": {
    "collapsed": false,
    "pycharm": {
     "name": "#%%\n"
    }
   }
  },
  {
   "cell_type": "code",
   "execution_count": 98,
   "outputs": [
    {
     "data": {
      "text/plain": "<Figure size 640x480 with 1 Axes>",
      "image/png": "[encoded data removed]"
     },
     "metadata": {},
     "output_type": "display_data"
    }
   ],
   "source": [
    "plot_hist(benchmarks, \"test_time\")"
   ],
   "metadata": {
    "collapsed": false,
    "pycharm": {
     "name": "#%%\n"
    }
   }
  },
  {
   "cell_type": "code",
   "execution_count": null,
   "outputs": [],
   "source": [],
   "metadata": {
    "collapsed": false,
    "pycharm": {
     "name": "#%%\n"
    }
   }
  }
 ],
 "metadata": {
  "kernelspec": {
   "display_name": "Python 3",
   "language": "python",
   "name": "python3"
  },
  "language_info": {
   "codemirror_mode": {
    "name": "ipython",
    "version": 2
   },
   "file_extension": ".py",
   "mimetype": "text/x-python",
   "name": "python",
   "nbconvert_exporter": "python",
   "pygments_lexer": "ipython2",
   "version": "2.7.6"
  }
 },
 "nbformat": 4,
 "nbformat_minor": 0
}
