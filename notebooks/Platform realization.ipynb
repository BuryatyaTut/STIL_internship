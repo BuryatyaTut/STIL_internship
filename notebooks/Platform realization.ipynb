{
 "cells": [
  {
   "cell_type": "code",
   "execution_count": null,
   "metadata": {
    "collapsed": true,
    "pycharm": {
     "name": "#%%\n"
    }
   },
   "outputs": [],
   "source": [
    "import time\n",
    "import numpy as np\n",
    "from functools import wraps\n",
    "\n",
    "class Platform:\n",
    "    def __init__(self, config_name, table_path):\n",
    "        self.table = tables # get table...\n",
    "\n",
    "        config = config.ConfigParser()\n",
    "        config.read(config_name)\n",
    "\n",
    "\n",
    "        self.algo_instance = config.get('plug', 'AlgorithmClass')\n",
    "        self.preprocessing_type = config.get('plug', 'PreprocessingClass')\n",
    "        self.run_type = config.get('plug', 'runType')\n",
    "        self.logs = config.get('plug', 'logs')\n",
    "\n",
    "        match self.run_type:\n",
    "          case 'test':\n",
    "            self.test(algo, table, logs)\n",
    "          case 'compress':\n",
    "            self.compress(algo, table, logs)\n",
    "          case 'decompress':\n",
    "            self.compress(algo, table, logs)\n",
    "\n",
    "    def measure_time(self, log=False):\n",
    "        def decorator(func):\n",
    "            def wrapper(*args, **kwargs):\n",
    "                start_time = time.time()\n",
    "                result = func(*args, **kwargs)\n",
    "                end_time = time.time()\n",
    "                if log:\n",
    "                    print(f\"Function {func.__name__} took {end_time - start_time} seconds to execute.\")\n",
    "                return result\n",
    "            return wrapper\n",
    "        return decorator\n",
    "\n",
    "\n",
    "    @measure_time(log=self.logs)\n",
    "    def compress(self, algo, table):\n",
    "          pass\n",
    "\n",
    "    def decompress(self):\n",
    "          pass\n",
    "\n",
    "    def test(self, algo, table):\n",
    "        start_time = time.time()\n",
    "        compressed_data = algo.compress(np.array(table))\n",
    "        end_time = time.time()\n",
    "        compression_rate = len(compressed_data) / len(table)\n",
    "        decompressed_data = algo.decompression(compressed_data)\n",
    "        loss_rate = (table - decompressed_data) / table\n",
    "        result = {\n",
    "            \"algorithm\": algo.__name__,\n",
    "            \"table\": table,\n",
    "            \"compression_rate\": compression_rate,\n",
    "            \"time_taken_to_compress\": end_time - start_time,\n",
    "            \"loss_rate\": loss_rate\n",
    "        }\n",
    "        self.results.append(result)"
   ]
  },
  {
   "cell_type": "code",
   "execution_count": 1,
   "outputs": [
    {
     "name": "stdout",
     "output_type": "stream",
     "text": [
      "hello, world\n"
     ]
    }
   ],
   "source": [
    "print(\"hello, world\")"
   ],
   "metadata": {
    "collapsed": false,
    "pycharm": {
     "name": "#%%\n"
    }
   }
  },
  {
   "cell_type": "code",
   "execution_count": null,
   "outputs": [],
   "source": [],
   "metadata": {
    "collapsed": false,
    "pycharm": {
     "name": "#%%\n"
    }
   }
  }
 ],
 "metadata": {
  "kernelspec": {
   "display_name": "Python 3",
   "language": "python",
   "name": "python3"
  },
  "language_info": {
   "codemirror_mode": {
    "name": "ipython",
    "version": 2
   },
   "file_extension": ".py",
   "mimetype": "text/x-python",
   "name": "python",
   "nbconvert_exporter": "python",
   "pygments_lexer": "ipython2",
   "version": "2.7.6"
  }
 },
 "nbformat": 4,
 "nbformat_minor": 0
}