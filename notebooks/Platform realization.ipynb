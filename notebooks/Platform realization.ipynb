{
 "cells": [
  {
   "cell_type": "code",
   "execution_count": null,
   "outputs": [],
   "source": [
    "import yaml\n",
    "import time\n",
    "import numpy as np\n",
    "from functools import wraps\n",
    "\n",
    "\n",
    "\n",
    "class Platform:\n",
    "    def __init__(self, config_name, table_path):\n",
    "        self.table = tables # get table...\n",
    "\n",
    "        with open(config_name, \"r\") as f:\n",
    "            config = yaml.load(f, Loader=yaml.FullLoader)\n",
    "\n",
    "        self.algo_instance = config[\"plug\"][\"AlgorithmClass\"]\n",
    "        self.preprocessing_type = config[\"plug\"][\"PreprocessingClass\"]\n",
    "        self.run_type = config[\"plug\"][\"runType\"]\n",
    "        self.logs = config[\"plug\"][\"logs\"]\n",
    "\n",
    "        match self.run_type:\n",
    "          case 'test':\n",
    "            self.test()\n",
    "          case 'compress':\n",
    "            self.compress()\n",
    "          case 'decompress':\n",
    "            self.compress()\n",
    "\n",
    "    def measure_time(self, log=False):\n",
    "        def decorator(func):\n",
    "            def wrapper(*args, **kwargs):\n",
    "                start_time = time.time()\n",
    "                result = func(*args, **kwargs)\n",
    "                end_time = time.time()\n",
    "                if log:\n",
    "                    print(f\"Function {func.__name__} took {end_time - start_time} seconds to execute.\")\n",
    "                return result\n",
    "            return wrapper\n",
    "        return decorator\n",
    "\n",
    "\n",
    "    @measure_time(log=self.logs)\n",
    "    def compress(self):\n",
    "          pass\n",
    "\n",
    "    def decompress(self):\n",
    "          pass\n",
    "\n",
    "    def test(self):\n",
    "        start_time = time.time()\n",
    "        compressed_data = algo.compress(np.array(table))\n",
    "        end_time = time.time()\n",
    "        compression_rate = len(compressed_data) / len(table)\n",
    "        decompressed_data = algo.decompression(compressed_data)\n",
    "        loss_rate = (table - decompressed_data) / table\n",
    "        result = {\n",
    "            \"algorithm\": algo.__name__,\n",
    "            \"table\": table,\n",
    "            \"compression_rate\": compression_rate,\n",
    "            \"time_taken_to_compress\": end_time - start_time,\n",
    "            \"loss_rate\": loss_rate\n",
    "        }\n",
    "        self.results.append(result)"
   ],
   "metadata": {
    "collapsed": false,
    "pycharm": {
     "name": "#%%\n"
    }
   }
  },
  {
   "cell_type": "code",
   "execution_count": null,
   "outputs": [],
   "source": [
    "print(\"hello, world\")"
   ],
   "metadata": {
    "collapsed": false,
    "pycharm": {
     "name": "#%%\n"
    }
   }
  },
  {
   "cell_type": "code",
   "execution_count": null,
   "outputs": [],
   "source": [
    "import abc\n",
    "\n",
    "class CompressionAlgorithm(abc.ABC):\n",
    "    def __init__(self):\n",
    "        ...\n",
    "    @property\n",
    "    @abc.abstractmethod\n",
    "    def name(self):\n",
    "        ...\n",
    "\n",
    "    @abc.abstractmethod\n",
    "    def compression(self, table):\n",
    "        ...\n",
    "\n",
    "    @abc.abstractmethod\n",
    "    def decompression(self, compressed_data):\n",
    "        ...\n",
    "\n",
    "class LearningCompressionAlgorithm(CompressionAlgorithm):\n",
    "\n",
    "    @abc.abstractmethod\n",
    "    def fit(self, training_data):\n",
    "        ...\n",
    "\n",
    "class NonLearningCompressionAlgorithm(CompressionAlgorithm):\n",
    "    ...\n",
    "\n",
    "class LosslessCompressionAlgorithm(CompressionAlgorithm):\n",
    "    ...\n",
    "\n",
    "class LossyCompressionAlgorithm(CompressionAlgorithm):\n",
    "    ..."
   ],
   "metadata": {
    "collapsed": false,
    "pycharm": {
     "name": "#%%\n"
    }
   }
  },
  {
   "cell_type": "code",
   "execution_count": null,
   "outputs": [],
   "source": [
    "class DummyCompressionAlgorithm(LosslessCompressionAlgorithm):\n",
    "    name = 'Dummy Compression Algorithm'\n",
    "    def compression(self, table):\n",
    "        time.sleep(2)\n",
    "        return table\n",
    "    def decompression(self, compressed_data):\n",
    "        time.sleep(1)\n",
    "        return compressed_data"
   ],
   "metadata": {
    "collapsed": false,
    "pycharm": {
     "name": "#%%\n"
    }
   }
  },
  {
   "cell_type": "code",
   "execution_count": null,
   "outputs": [],
   "source": [
    "class Processing(abc.ABC):\n",
    "    def __init__(self):\n",
    "        ...\n",
    "    @property\n",
    "    @abc.abstractmethod\n",
    "    def name(self):\n",
    "        ...\n",
    "\n",
    "    @abc.abstractmethod\n",
    "    def preprocess(self, raw_table):\n",
    "        ...\n",
    "\n",
    "    @abc.abstractmethod\n",
    "    def postprocess(self, processed_table):\n",
    "        ..."
   ],
   "metadata": {
    "collapsed": false,
    "pycharm": {
     "name": "#%%\n"
    }
   }
  },
  {
   "cell_type": "code",
   "execution_count": null,
   "outputs": [],
   "source": [
    "class DummyProcessing(Processing):\n",
    "    name = \"Dummy Pre/Post-Processing\"\n",
    "    def preprocess(self, raw_table):\n",
    "        return raw_table\n",
    "    def postprocess(self, processed_table):\n",
    "        return processed_table\n"
   ],
   "metadata": {
    "collapsed": false,
    "pycharm": {
     "name": "#%%\n"
    }
   }
  },
  {
   "cell_type": "code",
   "execution_count": null,
   "outputs": [],
   "source": [
    "import numpy as np\n",
    "platform = Platform([DummyCompressionAlgorithm()], [np.array([1,2,3])])\n",
    "platform.compress_table()\n",
    "platform.results"
   ],
   "metadata": {
    "collapsed": false,
    "pycharm": {
     "name": "#%%\n"
    }
   }
  }
 ],
 "metadata": {
  "kernelspec": {
   "display_name": "Python 3",
   "language": "python",
   "name": "python3"
  },
  "language_info": {
   "codemirror_mode": {
    "name": "ipython",
    "version": 2
   },
   "file_extension": ".py",
   "mimetype": "text/x-python",
   "name": "python",
   "nbconvert_exporter": "python",
   "pygments_lexer": "ipython2",
   "version": "2.7.6"
  }
 },
 "nbformat": 4,
 "nbformat_minor": 0
}
