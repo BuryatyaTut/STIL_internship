{
 "cells": [
  {
   "cell_type": "code",
   "execution_count": 64,
   "outputs": [],
   "source": [
    "import inspect\n",
    "import json\n",
    "import os\n",
    "import time\n",
    "\n",
    "import numpy as np\n",
    "from functools import wraps\n",
    "import pandas as pd\n",
    "import seaborn as sns\n",
    "import random\n",
    "import tempfile\n",
    "import shutil\n",
    "\n",
    "import pathlib\n",
    "import zstandard as zstd\n",
    "import abc\n",
    "import brotli\n",
    "import zlib"
   ],
   "metadata": {
    "collapsed": false,
    "ExecuteTime": {
     "start_time": "2023-07-06T15:36:03.299403Z",
     "end_time": "2023-07-06T15:36:03.486802Z"
    }
   }
  },
  {
   "cell_type": "markdown",
   "source": [
    "Platform class"
   ],
   "metadata": {
    "collapsed": false,
    "pycharm": {
     "name": "#%% md\n"
    }
   }
  },
  {
   "cell_type": "code",
   "execution_count": 94,
   "outputs": [],
   "source": [
    "\n",
    "\n",
    "class Platform:\n",
    "    def __init__(self, algorithm, processing, table_path):\n",
    "        self.algorithm = algorithm\n",
    "        self.processing = processing\n",
    "        self.table_path = table_path\n",
    "        self.logs = False\n",
    "\n",
    "        self.benchmark = {\"name\": type(self.algorithm).__name__, \"table_path\": table_path}\n",
    "\n",
    "    def start(self, run_type=\"test\", logs=False):\n",
    "        self.logs = logs\n",
    "\n",
    "        if self.logs:\n",
    "            if isinstance(self.algorithm, LosslessCompressionAlgorithm):\n",
    "                self.benchmark[\"isLossLess\"] = True\n",
    "            else:\n",
    "                self.benchmark[\"isLossLess\"] = False\n",
    "\n",
    "            if isinstance(self.algorithm, LearningCompressionAlgorithm):\n",
    "                self.benchmark[\"isLearning\"] = True\n",
    "            else:\n",
    "                self.benchmark[\"isLearning\"] = False\n",
    "\n",
    "        if run_type == 'test':\n",
    "            self.test()\n",
    "        elif run_type == 'compress':\n",
    "            self.preprocess_and_compress()\n",
    "        elif run_type == 'decompress':\n",
    "            self.decompress_and_postprocess()\n",
    "\n",
    "    def measure_time(flag):\n",
    "        def decorator(func):\n",
    "            def wrapper(self, *args, **kwargs):\n",
    "                start_time = time.time()\n",
    "                result = func(self, *args, **kwargs)\n",
    "                end_time = time.time()\n",
    "\n",
    "                if getattr(self, flag):\n",
    "                    print(f\"Function {func.__name__} took {end_time - start_time} seconds to execute.\")\n",
    "                    self.benchmark[func.__name__ + \"_time\"] = end_time - start_time\n",
    "\n",
    "                return result\n",
    "\n",
    "            return wrapper\n",
    "\n",
    "        return decorator\n",
    "\n",
    "    def get_file_names(self):\n",
    "        return {\"compressed\": self.table_path + \"_compressed\",\n",
    "                \"decompressed\": self.table_path + \"_decompressed\",\n",
    "                \"preprocessed\": self.table_path + \"_preprocessed\",\n",
    "                \"postprocessed\": self.table_path + \"_postprocessed\"}\n",
    "\n",
    "    @measure_time(\"logs\")\n",
    "    def preprocess_and_compress(self):\n",
    "        filenames = self.get_file_names()\n",
    "\n",
    "        self.processing.do_preprocess(self.table_path, filenames['preprocessed'])\n",
    "        self.algorithm.compress(filenames[\"preprocessed\"], filenames[\"compressed\"])\n",
    "\n",
    "        if self.logs:\n",
    "            compression_rate = get_compression_rate_2(self.table_path, filenames[\"compressed\"])\n",
    "\n",
    "            self.benchmark[\"compression_rate\"] = compression_rate\n",
    "        return 0\n",
    "\n",
    "    @measure_time(\"logs\")\n",
    "    def decompress_and_postprocess(self):\n",
    "        filenames = self.get_file_names()\n",
    "\n",
    "\n",
    "        self.algorithm.decompress(filenames[\"compressed\"], filenames[\"decompressed\"])\n",
    "\n",
    "        self.processing.do_postprocess(filenames[\"decompressed\"])\n",
    "\n",
    "        if self.logs:\n",
    "            loss_rate = self.get_loss_rate(self.table_path, filenames[\"decompressed\"])\n",
    "            self.benchmark[\"loss_rate\"] = loss_rate\n",
    "\n",
    "        return 0\n",
    "\n",
    "    @measure_time(\"logs\")\n",
    "    def test(self):\n",
    "        self.preprocess_and_compress()\n",
    "        self.decompress_and_postprocess()\n",
    "        return 0  #TODO: result codes\n",
    "\n",
    "    def get_compression_rate(self, input_file, compressed_file):  #I'm assuming compressed_table is actually bytes-like\n",
    "        input_file.seek(0, os.SEEK_END)\n",
    "        compressed_file.seek(0, os.SEEK_END)\n",
    "        print(compressed_file.name, input_file.tell(), compressed_file.tell())\n",
    "        return compressed_file.tell() / input_file.tell()\n",
    "\n",
    "    def get_loss_rate(self, input_file, decompressed_file):\n",
    "        print(\"I am dummy: \", inspect.currentframe().f_code.co_name)\n",
    "        return random.randint(0, 20)\n",
    "\n"
   ],
   "metadata": {
    "collapsed": false,
    "ExecuteTime": {
     "start_time": "2023-07-06T15:49:11.917355Z",
     "end_time": "2023-07-06T15:49:12.165253Z"
    }
   }
  },
  {
   "cell_type": "code",
   "execution_count": 95,
   "outputs": [],
   "source": [
    "def get_compression_rate_2(original_file_path, compressed_file_path):\n",
    "    with open(original_file_path, 'rb') as input_file, open(compressed_file_path, 'rb') as compressed_file:\n",
    "        input_file.seek(0, os.SEEK_END)\n",
    "        compressed_file.seek(0, os.SEEK_END)\n",
    "        print(compressed_file.name, input_file.tell(), compressed_file.tell())\n",
    "        return compressed_file.tell() / input_file.tell()"
   ],
   "metadata": {
    "collapsed": false,
    "ExecuteTime": {
     "start_time": "2023-07-06T15:49:12.649995Z",
     "end_time": "2023-07-06T15:49:12.804691Z"
    }
   }
  },
  {
   "cell_type": "code",
   "execution_count": 96,
   "outputs": [
    {
     "name": "stdout",
     "output_type": "stream",
     "text": [
      "I am dummy compression\n",
      "flush.txt_compressed 12 12\n",
      "Function preprocess_and_compress took 0.0029931068420410156 seconds to execute.\n",
      "I am dummy decompression\n",
      "I am dummy:  get_loss_rate\n",
      "Function decompress_and_postprocess took 0.0010309219360351562 seconds to execute.\n",
      "Function test took 0.004024028778076172 seconds to execute.\n"
     ]
    }
   ],
   "source": [
    "def json_platform(config_path):\n",
    "    with open(config_path, 'r') as f:\n",
    "        config = json.load(f)\n",
    "\n",
    "    platform = Platform(globals()[config[\"Algorithm\"]](), globals()[config[\"Processing\"]](), config[\"table_path\"])\n",
    "    platform.start(config[\"run_type\"], config[\"logs\"])\n",
    "\n",
    "\n",
    "json_platform(\"plug_config.json\")"
   ],
   "metadata": {
    "collapsed": false,
    "pycharm": {
     "name": "#%%\n"
    },
    "ExecuteTime": {
     "start_time": "2023-07-06T15:49:13.012042Z",
     "end_time": "2023-07-06T15:49:13.166126Z"
    }
   }
  },
  {
   "cell_type": "markdown",
   "source": [
    "Compression Algorithm Classes"
   ],
   "metadata": {
    "collapsed": false,
    "pycharm": {
     "name": "#%% md\n"
    }
   }
  },
  {
   "cell_type": "code",
   "execution_count": 97,
   "outputs": [],
   "source": [
    "import abc\n",
    "\n",
    "\n",
    "class CompressionAlgorithm(abc.ABC):\n",
    "    def __init__(self):\n",
    "        ...\n",
    "\n",
    "    @property\n",
    "    @abc.abstractmethod\n",
    "    def name(self):\n",
    "        ...\n",
    "\n",
    "    @abc.abstractmethod\n",
    "    def compress(self, table_file, compressed_file):\n",
    "        ...\n",
    "\n",
    "    @abc.abstractmethod\n",
    "    def decompress(self, compressed_file, decompressed_file):\n",
    "        ...\n",
    "\n",
    "\n",
    "class LearningCompressionAlgorithm(CompressionAlgorithm):\n",
    "\n",
    "    @abc.abstractmethod\n",
    "    def fit(self, training_data):\n",
    "        ...\n",
    "\n",
    "\n",
    "class NonLearningCompressionAlgorithm(CompressionAlgorithm):\n",
    "    ...\n",
    "\n",
    "\n",
    "class LosslessCompressionAlgorithm(CompressionAlgorithm):\n",
    "    ...\n",
    "\n",
    "\n",
    "class LossyCompressionAlgorithm(CompressionAlgorithm):\n",
    "    ..."
   ],
   "metadata": {
    "collapsed": false,
    "pycharm": {
     "name": "#%%\n"
    },
    "ExecuteTime": {
     "start_time": "2023-07-06T15:49:14.447880Z",
     "end_time": "2023-07-06T15:49:14.605581Z"
    }
   }
  },
  {
   "cell_type": "code",
   "execution_count": 98,
   "outputs": [],
   "source": [
    "class DummyCompressionAlgorithm(LosslessCompressionAlgorithm, NonLearningCompressionAlgorithm):\n",
    "    name = 'Dummy Compression Algorithm'\n",
    "\n",
    "    def compress(self, table_file_path, compressed_file_path):\n",
    "        if table_file_path == compressed_file_path:\n",
    "            return 0\n",
    "        shutil.copy2(table_file_path, compressed_file_path)\n",
    "        print(\"I am dummy compression\")\n",
    "        return 0  # TODO: status codes\n",
    "\n",
    "    def decompress(self, compressed_file_path, decompressed_file_path):\n",
    "        if compressed_file_path == decompressed_file_path:\n",
    "            return 0\n",
    "        shutil.copy2(compressed_file_path, decompressed_file_path)\n",
    "        print(\"I am dummy decompression\")\n",
    "        return 0  # TODO: status codes"
   ],
   "metadata": {
    "collapsed": false,
    "ExecuteTime": {
     "start_time": "2023-07-06T15:49:14.774713Z",
     "end_time": "2023-07-06T15:49:14.929759Z"
    }
   }
  },
  {
   "cell_type": "code",
   "execution_count": 99,
   "outputs": [],
   "source": [
    "class ZstdLibraryCompressionAlgorithm(LosslessCompressionAlgorithm, NonLearningCompressionAlgorithm):\n",
    "    name = 'zstd library'\n",
    "\n",
    "    def compress(self, table_file_path, compressed_file_path):\n",
    "        with open(table_file_path, 'rb') as table_file, open(compressed_file_path, 'wb') as compressed_file:\n",
    "            compressor = zstd.ZstdCompressor(level=22)\n",
    "            compressor.copy_stream(table_file, compressed_file)\n",
    "        return 0\n",
    "\n",
    "    def decompress(self, compressed_file_path, decompressed_file_path):\n",
    "        with open(compressed_file_path, 'rb') as compressed_file, open(decompressed_file_path, 'wb') as decompressed_file:\n",
    "            decompressor = zstd.ZstdDecompressor()\n",
    "            decompressor.copy_stream(compressed_file, decompressed_file)\n",
    "        return 0\n"
   ],
   "metadata": {
    "collapsed": false,
    "pycharm": {
     "name": "#%%\n"
    },
    "ExecuteTime": {
     "start_time": "2023-07-06T15:49:15.132642Z",
     "end_time": "2023-07-06T15:49:15.286994Z"
    }
   }
  },
  {
   "cell_type": "code",
   "execution_count": 100,
   "outputs": [],
   "source": [
    "class BrotliLibraryCompressionAlgorithm(LosslessCompressionAlgorithm, NonLearningCompressionAlgorithm):\n",
    "    name = 'brotli library'\n",
    "\n",
    "    def compress(self, table_file_path, compressed_file_path):\n",
    "        with open(table_file_path, 'rb') as table_file, open(compressed_file_path, 'wb') as compressed_file:\n",
    "            compressed_file.write(brotli.compress(table_file.read()))\n",
    "        return 0\n",
    "\n",
    "    def decompress(self, compressed_file_path, decompressed_file_path):\n",
    "        with open(compressed_file_path, 'rb') as compressed_file, open(decompressed_file_path, 'wb') as decompressed_file:\n",
    "            decompressed_file.write(brotli.decompress(compressed_file.read()))\n",
    "        return 0"
   ],
   "metadata": {
    "collapsed": false,
    "pycharm": {
     "name": "#%%\n"
    },
    "ExecuteTime": {
     "start_time": "2023-07-06T15:49:15.320923Z",
     "end_time": "2023-07-06T15:49:15.500478Z"
    }
   }
  },
  {
   "cell_type": "code",
   "execution_count": 101,
   "outputs": [],
   "source": [
    "class ZlibCompression(NonLearningCompressionAlgorithm, LosslessCompressionAlgorithm):\n",
    "    name = 'zlib'\n",
    "\n",
    "    def compress(self, table_file_path, compressed_file_path):\n",
    "        with open(table_file_path, 'rb') as f_in:\n",
    "            with open(compressed_file_path, 'wb') as f_out:\n",
    "                data = f_in.read()\n",
    "                compressed_data = zlib.compress(data)\n",
    "                f_out.write(compressed_data)\n",
    "\n",
    "    def decompress(self, compressed_file_path, decompressed_file_path):\n",
    "        with open(compressed_file_path, 'rb') as f_in:\n",
    "            with open(decompressed_file_path, 'wb') as f_out:\n",
    "                data = f_in.read()\n",
    "                decompressed_data = zlib.decompress(data)\n",
    "                f_out.write(decompressed_data)"
   ],
   "metadata": {
    "collapsed": false,
    "pycharm": {
     "name": "#%%\n"
    },
    "ExecuteTime": {
     "start_time": "2023-07-06T15:49:15.674664Z",
     "end_time": "2023-07-06T15:49:15.874630Z"
    }
   }
  },
  {
   "cell_type": "markdown",
   "source": [
    "Processing Classes"
   ],
   "metadata": {
    "collapsed": false,
    "pycharm": {
     "name": "#%% md\n"
    }
   }
  },
  {
   "cell_type": "code",
   "execution_count": 102,
   "outputs": [],
   "source": [
    "class Processing(abc.ABC):\n",
    "    def __init__(self):\n",
    "        ...\n",
    "\n",
    "    @property\n",
    "    @abc.abstractmethod\n",
    "    def name(self):\n",
    "        ...\n",
    "\n",
    "    @abc.abstractmethod\n",
    "    def do_preprocess(self, raw_file_path, processed_file_path):\n",
    "        ...\n",
    "\n",
    "    @abc.abstractmethod\n",
    "    def do_postprocess(self, decompressed_file_path):\n",
    "        ..."
   ],
   "metadata": {
    "collapsed": false,
    "ExecuteTime": {
     "start_time": "2023-07-06T15:49:16.065676Z",
     "end_time": "2023-07-06T15:49:16.189203Z"
    }
   }
  },
  {
   "cell_type": "code",
   "execution_count": 103,
   "outputs": [],
   "source": [
    "class DummyProcessing(Processing):\n",
    "    name = \"Dummy Pre/Post-Processing\"\n",
    "\n",
    "    def do_preprocess(self, raw_file_path, processed_file_path):\n",
    "        if raw_file_path == processed_file_path:\n",
    "            return 0\n",
    "        shutil.copy2(raw_file_path, processed_file_path)\n",
    "        return 0  # TODO: replace with enum / status codes\n",
    "\n",
    "    def do_postprocess(self, processed_file_path):\n",
    "        return 0  # TODO: replace with enum/status codes\n"
   ],
   "metadata": {
    "collapsed": false,
    "ExecuteTime": {
     "start_time": "2023-07-06T15:49:16.361608Z",
     "end_time": "2023-07-06T15:49:16.501880Z"
    }
   }
  },
  {
   "cell_type": "code",
   "execution_count": 104,
   "outputs": [],
   "source": [
    "import pickle\n",
    "\n",
    "class ConvertToBinaryProcessing(Processing):\n",
    "    name = 'binary'\n",
    "\n",
    "    def do_preprocess(self, raw_file_path, processed_file_path):\n",
    "\n",
    "        df = pd.read_csv(raw_file_path)\n",
    "        with open(processed_file_path, 'wb') as processed_file:\n",
    "            pickle.dump(df, processed_file)\n",
    "\n",
    "    def do_postprocess(self, decompressed_file_path):\n",
    "        with open(decompressed_file_path, 'a+b') as decompressed_file:\n",
    "            decompressed_file.seek(0)\n",
    "            df = pickle.load(decompressed_file)\n",
    "            df.to_csv(decompressed_file)"
   ],
   "metadata": {
    "collapsed": false,
    "ExecuteTime": {
     "start_time": "2023-07-06T15:49:16.799991Z",
     "end_time": "2023-07-06T15:49:16.921305Z"
    }
   }
  },
  {
   "cell_type": "markdown",
   "source": [
    "Testing"
   ],
   "metadata": {
    "collapsed": false,
    "pycharm": {
     "name": "#%% md\n"
    }
   }
  },
  {
   "cell_type": "code",
   "execution_count": 105,
   "outputs": [
    {
     "name": "stdout",
     "output_type": "stream",
     "text": [
      "I am dummy compression\n",
      "../data/sample_dataset.csv_compressed 178773868 120245345\n",
      "Function preprocess_and_compress took 6.4962708950042725 seconds to execute.\n",
      "I am dummy decompression\n",
      "I am dummy:  get_loss_rate\n",
      "Function decompress_and_postprocess took 64.53396201133728 seconds to execute.\n",
      "Function test took 71.03443789482117 seconds to execute.\n",
      "{'name': 'DummyCompressionAlgorithm', 'table_path': '../data/sample_dataset.csv', 'isLossLess': True, 'isLearning': False, 'compression_rate': 0.672611418800873, 'preprocess_and_compress_time': 6.4962708950042725, 'loss_rate': 12, 'decompress_and_postprocess_time': 64.53396201133728, 'test_time': 71.03443789482117}\n",
      "---------------------\n",
      "I am dummy compression\n",
      "../data/sample_dataset.csv_compressed 178773868 178773868\n",
      "Function preprocess_and_compress took 0.5537099838256836 seconds to execute.\n",
      "I am dummy decompression\n",
      "I am dummy:  get_loss_rate\n",
      "Function decompress_and_postprocess took 0.30664992332458496 seconds to execute.\n",
      "Function test took 0.8603599071502686 seconds to execute.\n",
      "{'name': 'DummyCompressionAlgorithm', 'table_path': '../data/sample_dataset.csv', 'isLossLess': True, 'isLearning': False, 'compression_rate': 1.0, 'preprocess_and_compress_time': 0.5537099838256836, 'loss_rate': 19, 'decompress_and_postprocess_time': 0.30664992332458496, 'test_time': 0.8603599071502686}\n",
      "---------------------\n",
      "../data/sample_dataset.csv_compressed 178773868 45811032\n",
      "Function preprocess_and_compress took 12.359734058380127 seconds to execute.\n",
      "I am dummy:  get_loss_rate\n",
      "Function decompress_and_postprocess took 68.15644788742065 seconds to execute.\n",
      "Function test took 80.5301570892334 seconds to execute.\n",
      "{'name': 'ZlibCompression', 'table_path': '../data/sample_dataset.csv', 'isLossLess': True, 'isLearning': False, 'compression_rate': 0.25625127717212004, 'preprocess_and_compress_time': 12.359734058380127, 'loss_rate': 5, 'decompress_and_postprocess_time': 68.15644788742065, 'test_time': 80.5301570892334}\n",
      "---------------------\n",
      "../data/sample_dataset.csv_compressed 178773868 64455677\n",
      "Function preprocess_and_compress took 10.979705810546875 seconds to execute.\n",
      "I am dummy:  get_loss_rate\n",
      "Function decompress_and_postprocess took 1.4138691425323486 seconds to execute.\n",
      "Function test took 12.393574953079224 seconds to execute.\n",
      "{'name': 'ZlibCompression', 'table_path': '../data/sample_dataset.csv', 'isLossLess': True, 'isLearning': False, 'compression_rate': 0.36054305766880873, 'preprocess_and_compress_time': 10.979705810546875, 'loss_rate': 6, 'decompress_and_postprocess_time': 1.4138691425323486, 'test_time': 12.393574953079224}\n",
      "---------------------\n"
     ]
    }
   ],
   "source": [
    "benchmarks = []\n",
    "Algos = [DummyCompressionAlgorithm(), ZlibCompression()]#, ZstdLibraryCompressionAlgorithm(), BrotliLibraryCompressionAlgorithm()]\n",
    "Processes = [ConvertToBinaryProcessing(), DummyProcessing()]\n",
    "for algo in Algos:\n",
    "    for proc in Processes:\n",
    "        a = Platform(algo, proc, \"../data/sample_dataset.csv\")\n",
    "        a.start(\"test\", logs=True)\n",
    "        print(a.benchmark)\n",
    "        benchmarks.append(a.benchmark)\n",
    "        print(\"---------------------\")"
   ],
   "metadata": {
    "collapsed": false,
    "ExecuteTime": {
     "start_time": "2023-07-06T15:49:17.796023Z",
     "end_time": "2023-07-06T15:52:02.773912Z"
    }
   }
  },
  {
   "cell_type": "code",
   "execution_count": null,
   "outputs": [],
   "source": [
    "#1. replace json with arguments of the class | DONE\n",
    "#2. do not keep table in class instance | DONE\n",
    "#3. change names of the Platform to more relevant | DONE\n",
    "#4. rename compression to compress | DONE\n",
    "#5. add ability to not compress tables every time Platform being created | I can just pass already preprocessed table to Platform\n",
    "#and also pass the flush preprocessing class which do nothing"
   ],
   "metadata": {
    "collapsed": false,
    "pycharm": {
     "name": "#%%\n"
    }
   }
  },
  {
   "cell_type": "code",
   "execution_count": 40,
   "outputs": [],
   "source": [
    "import matplotlib.pyplot as plt\n",
    "\n",
    "\n",
    "def plot_graphics(n_values):\n",
    "    plt.bar(range(len(n_values)), n_values)\n",
    "    plt.title('Comparison of n Values')\n",
    "    plt.xlabel('Index')\n",
    "    plt.ylabel('Value')\n",
    "    plt.show()\n"
   ],
   "metadata": {
    "collapsed": false,
    "pycharm": {
     "name": "#%%\n"
    }
   }
  },
  {
   "cell_type": "code",
   "execution_count": 41,
   "outputs": [],
   "source": [
    "def plot_benchmarks(benchmarks, column_name):\n",
    "    df = pd.DataFrame(benchmarks)\n",
    "    df = df.reset_index()\n",
    "    sns.barplot(x='index', y=column_name, data=df)\n",
    "\n",
    "\n",
    "def plot_scatter(benchmarks, column_name):\n",
    "    df = pd.DataFrame(benchmarks)\n",
    "    df = df.reset_index()\n",
    "    sns.scatterplot(x='index', y=column_name, data=df)\n",
    "\n",
    "\n",
    "def plot_hist(benchmarks, column_name):\n",
    "    df = pd.DataFrame(benchmarks)\n",
    "    df = df.reset_index()\n",
    "    sns.histplot(x='index', y=column_name, data=df)\n",
    "\n"
   ],
   "metadata": {
    "collapsed": false,
    "pycharm": {
     "name": "#%%\n"
    }
   }
  },
  {
   "cell_type": "code",
   "execution_count": 106,
   "outputs": [
    {
     "name": "stdout",
     "output_type": "stream",
     "text": [
      "0.672611418800873\n",
      "1.0\n",
      "0.25625127717212004\n",
      "0.36054305766880873\n",
      "[{'name': 'DummyCompressionAlgorithm', 'table_path': '../data/sample_dataset.csv', 'isLossLess': True, 'isLearning': False, 'compression_rate': 0.672611418800873, 'preprocess_and_compress_time': 6.4962708950042725, 'loss_rate': 12, 'decompress_and_postprocess_time': 64.53396201133728, 'test_time': 71.03443789482117}, {'name': 'DummyCompressionAlgorithm', 'table_path': '../data/sample_dataset.csv', 'isLossLess': True, 'isLearning': False, 'compression_rate': 1.0, 'preprocess_and_compress_time': 0.5537099838256836, 'loss_rate': 19, 'decompress_and_postprocess_time': 0.30664992332458496, 'test_time': 0.8603599071502686}, {'name': 'ZlibCompression', 'table_path': '../data/sample_dataset.csv', 'isLossLess': True, 'isLearning': False, 'compression_rate': 0.25625127717212004, 'preprocess_and_compress_time': 12.359734058380127, 'loss_rate': 5, 'decompress_and_postprocess_time': 68.15644788742065, 'test_time': 80.5301570892334}, {'name': 'ZlibCompression', 'table_path': '../data/sample_dataset.csv', 'isLossLess': True, 'isLearning': False, 'compression_rate': 0.36054305766880873, 'preprocess_and_compress_time': 10.979705810546875, 'loss_rate': 6, 'decompress_and_postprocess_time': 1.4138691425323486, 'test_time': 12.393574953079224}]\n"
     ]
    },
    {
     "data": {
      "text/plain": "<Figure size 640x480 with 1 Axes>",
      "image/png": "[encoded data removed]"
     },
     "metadata": {},
     "output_type": "display_data"
    }
   ],
   "source": [
    "plot_benchmarks(benchmarks, \"compression_rate\")\n",
    "for i in benchmarks:\n",
    "    print(i[\"compression_rate\"])\n",
    "print(benchmarks)"
   ],
   "metadata": {
    "collapsed": false,
    "ExecuteTime": {
     "start_time": "2023-07-06T15:52:09.343370Z",
     "end_time": "2023-07-06T15:52:10.768552Z"
    }
   }
  },
  {
   "cell_type": "code",
   "execution_count": 93,
   "outputs": [
    {
     "data": {
      "text/plain": "<Figure size 640x480 with 1 Axes>",
      "image/png": "[encoded data removed]"
     },
     "metadata": {},
     "output_type": "display_data"
    }
   ],
   "source": [
    "plot_scatter(benchmarks, \"test_time\")"
   ],
   "metadata": {
    "collapsed": false,
    "pycharm": {
     "name": "#%%\n"
    },
    "ExecuteTime": {
     "start_time": "2023-07-06T15:48:23.265749Z",
     "end_time": "2023-07-06T15:48:25.400953Z"
    }
   }
  },
  {
   "cell_type": "code",
   "execution_count": 44,
   "outputs": [
    {
     "data": {
      "text/plain": "<Figure size 640x480 with 1 Axes>",
      "image/png": "[encoded data removed]"
     },
     "metadata": {},
     "output_type": "display_data"
    }
   ],
   "source": [
    "plot_hist(benchmarks, \"test_time\")"
   ],
   "metadata": {
    "collapsed": false,
    "pycharm": {
     "name": "#%%\n"
    }
   }
  },
  {
   "cell_type": "code",
   "execution_count": null,
   "outputs": [],
   "source": [],
   "metadata": {
    "collapsed": false,
    "pycharm": {
     "name": "#%%\n"
    }
   }
  }
 ],
 "metadata": {
  "kernelspec": {
   "display_name": "Python 3",
   "language": "python",
   "name": "python3"
  },
  "language_info": {
   "codemirror_mode": {
    "name": "ipython",
    "version": 2
   },
   "file_extension": ".py",
   "mimetype": "text/x-python",
   "name": "python",
   "nbconvert_exporter": "python",
   "pygments_lexer": "ipython2",
   "version": "2.7.6"
  }
 },
 "nbformat": 4,
 "nbformat_minor": 0
}
